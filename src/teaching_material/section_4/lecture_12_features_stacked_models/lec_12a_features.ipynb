{
 "cells": [
  {
   "cell_type": "markdown",
   "id": "ebae58c0-5851-4f66-8db2-fc656fe48145",
   "metadata": {
    "tags": []
   },
   "source": [
    "# Features' and dataset issues to undestand.\n",
    "\n",
    "## Domain knowledge matters. Know your data. Imagination matters more?     \n",
    "The same feature behaves differently in different phenomena.  \n",
    "The same feature may not behave the same across categories within the same phenomenon.  \n",
    "E.g. age and wage, age and strength, age and taste.   \n",
    "\n",
    "\n",
    "## Data size, shape, dimension, obs/features ratio, sparse data.\n",
    "[Curse of dimensionality](https://en.wikipedia.org/wiki/Curse_of_dimensionality)   \n",
    "Sparse data: too few observations in groups of data => no common values in features.   \n",
    "Simple non-scientific rule: at least 10 rows to 1 feature (most of the times). But no less than 100 Obs (for one feature).   \n",
    "There might also be sampling representation bias (Data on weekends not the same as work days).   \n",
    "And there is also data quality, signal-to-noise ratio.  \n",
    "To conclude: as features increase => exponential growth of necessary observations, not linear growth.     \n",
    "\n",
    "\n",
    "\n",
    "## Add, create, engineer new features. From existing features, or from new data.\n",
    "New features might be linear combinations of existing features.   \n",
    "Created features => maybe better representation of the issue in question.   \n",
    "But, linear combinations means that using all of these features might create instead of solving problems.     \n",
    "Understand what linear combination is.    \n",
    "\n",
    "Examples: Square meters in houses, Body Mass Index (ratio of height to weight).   \n",
    "Create new categories, using EDA, Descritive stats and clustering.    \n",
    "\n",
    "## When large variance in the data.   \n",
    "Maybe (MAYBE) there are undocumented categories. Find them and group the data.     \n",
    "Maybe there are important features that are missing that explain the variance.\n",
    "E.g: Expensive areas to buy a house. Geo data may be used the create clusters.  \n",
    "E.g: Areas with imperfect markets (clusters of different pricing). This is a generalization of the above.   \n",
    "\n",
    "\n",
    "## [Impute missing values](https://scikit-learn.org/stable/modules/impute.html#impute) numerical, or categorical.\n",
    "Add numerical values: Interpolate, extrapolate, average, median, or much better TAKE DISTRIBUTION INTO ACCOUNT.   \n",
    "What will happen if too many missing values are replaced by the median?  \n",
    "Add categorical values, by existing features (E.g.: find gender by name, email, BMI and age combination, combine all of these, then  maybe use descriptive stats).\n",
    "But, if there are a lot of missing values are in the features that matter most => better drop the observations totally. E.g. gender and preferences, for customer segmentation.     \n",
    "There is also [imputation as a function of the other features](https://scikit-learn.org/stable/modules/impute.html#multivariate-feature-imputation).\n",
    "\n",
    "## Data augmentation (add rows of observations).\n",
    "Used for images. There are libraries for it. Random data generation is also a thing.   \n",
    "\n",
    "## [Feature selection](https://scikit-learn.org/stable/modules/feature_selection.html), dimensionality reduction, [PCA](https://scikit-learn.org/stable/modules/decomposition.html#pca).\n",
    "Supervised VS [unsupervied dimensionality reduction](https://scikit-learn.org/stable/modules/unsupervised_reduction.html).  \n",
    "\n",
    "## [Data Preproccesing](https://scikit-learn.org/stable/modules/preprocessing.html)\n",
    "\n",
    "[Some definitions, and should I scale?](http://www.faqs.org/faqs/ai-faq/neural-nets/part2/section-16.html)\n",
    "### Scaling   \n",
    "Standardization, Normalize (Unit norm scaling). [Scale to defined range](https://scikit-learn.org/stable/modules/preprocessing.html#scaling-features-to-a-range)\n",
    "\n",
    "### Binning, [Discretization](https://scikit-learn.org/stable/modules/preprocessing.html#discretization)   \n",
    "Discretization: separete continous variable to discrete. Then can be encoded to (ordered) categorical.\n",
    "\n",
    "### Encoding (Numerical to Categorical and vice versa, Ordinal, Label Encoding, One Hot Encoding)   \n",
    "\n"
   ]
  },
  {
   "cell_type": "markdown",
   "id": "9badcdb5-df42-4bbc-bc41-ac1b8ba9bec7",
   "metadata": {},
   "source": [
    "**Train, validate, debug, repeat, repeat, repeat.***   \n",
    "\n",
    "Finally, **test once** in totally \"unknown\" dataset. Reality check.\n"
   ]
  },
  {
   "cell_type": "markdown",
   "id": "6a9b89e9-3ded-40dc-aaef-42f85e83001f",
   "metadata": {},
   "source": [
    "Scoring\n"
   ]
  },
  {
   "cell_type": "markdown",
   "id": "d3d0274b-456b-491c-8a46-5bf29172825a",
   "metadata": {},
   "source": [
    "## Customise existing models\n",
    "https://scikit-lego.netlify.app/"
   ]
  },
  {
   "cell_type": "markdown",
   "id": "bf5fe873-c87a-4941-8d45-247c92ccbda4",
   "metadata": {},
   "source": [
    "## Understand objective functions\n",
    "\n",
    "[Different functions](https://stats.stackexchange.com/questions/179026/objective-function-cost-function-loss-function-are-they-the-same-thing)"
   ]
  },
  {
   "cell_type": "markdown",
   "id": "8957dc6d-701a-4e80-b868-514c092030c9",
   "metadata": {},
   "source": [
    "## Modular development   \n",
    "Functions  \n",
    "Small modular files"
   ]
  },
  {
   "cell_type": "code",
   "execution_count": null,
   "id": "e3bd943c-fa47-4d46-98a8-c8418ed5fe87",
   "metadata": {},
   "outputs": [],
   "source": []
  }
 ],
 "metadata": {
  "kernelspec": {
   "display_name": "Python 3 (ipykernel)",
   "language": "python",
   "name": "python3"
  },
  "language_info": {
   "codemirror_mode": {
    "name": "ipython",
    "version": 3
   },
   "file_extension": ".py",
   "mimetype": "text/x-python",
   "name": "python",
   "nbconvert_exporter": "python",
   "pygments_lexer": "ipython3",
   "version": "3.10.10"
  }
 },
 "nbformat": 4,
 "nbformat_minor": 5
}

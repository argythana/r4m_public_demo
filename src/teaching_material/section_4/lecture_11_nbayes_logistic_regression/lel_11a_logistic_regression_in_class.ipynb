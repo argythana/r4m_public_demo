{
 "cells": [
  {
   "cell_type": "markdown",
   "id": "9a146950-b957-4bbe-8572-9e760db71ab7",
   "metadata": {},
   "source": [
    "# Lecture 11a,  Algo: Logistic Regression\n",
    "\n",
    "## Available libraries and differences   \n",
    "[Scikit learn function and parameters](https://scikit-learn.org/stable/modules/generated/sklearn.linear_model.LogisticRegression.html)  \n",
    "\n",
    "[Scikit learn user guide](https://scikit-learn.org/stable/modules/linear_model.html#logistic-regression)   \n",
    "\n",
    "[Statsmodels](https://www.statsmodels.org/devel/discretemod.html)   \n",
    "[Pingouin](https://pingouin-stats.org/generated/pingouin.logistic_regression.html)  \n",
    "Other: Tensorflow \n",
    "\n",
    "[Different use of statsmodels and scikit-learn: stats or predictions](https://stats.stackexchange.com/a/48578)    \n",
    "[Stats VS Machine Learning: complementarity and differences](https://stats.stackexchange.com/questions/6/the-two-cultures-statistics-vs-machine-learning)\n",
    "\n",
    "## Dataset: wikipedia, program effectiveness, iris flowers,\n",
    "loaded from csv file on your disk, or from a python module. \n",
    "\n",
    "[Program_Effectiveness Data Source and Info](https://www.statsmodels.org/devel/datasets/generated/spector.html)   \n",
    "\n",
    "[Program_Effectiveness Original Source and Info](https://pages.stern.nyu.edu/~wgreene/Text/econometricanalysis.htm)  \n",
    "\n",
    "**Remember**:   \n",
    "Summary about the algo:\n",
    "Logistic Regression is an \"supervised learning\" model.\n",
    "We know the labels. We have a \"y\" target variable. \n",
    "\n",
    "\n",
    "Goal of the algo:  \n",
    "Classify instances (observations)   \n",
    "Variatons:  \n",
    "* binary\n",
    "* multi-class\n",
    "* one VS rest\n",
    "\n",
    "Classes can be:  \n",
    "* unordered (all of equal importance)   \n",
    "* ordered (some classes have \"more\" of what defines a class.) Useful in socio-economic studies: Post Office code.   \n",
    "\n",
    "Important notes: \n",
    "Sigmoid functions properties. Non constant \"returns\".   \n",
    "Sigmoid functions slope.  \n",
    "\n",
    "How much does a factor affect the result?\n",
    "What will the result be?\n",
    "What is the probability of the result?\n"
   ]
  },
  {
   "cell_type": "code",
   "execution_count": 1,
   "id": "1f676bdd-49a5-400b-a95f-39988f3a7762",
   "metadata": {},
   "outputs": [],
   "source": [
    "# use pwd command to see in which folder we are working in.\n",
    "# pwd means present working directory\n",
    "# you may need !pwd in Mac OS"
   ]
  },
  {
   "cell_type": "code",
   "execution_count": 2,
   "id": "a260a08c-b3ca-4339-a232-b00c55f3bc64",
   "metadata": {},
   "outputs": [
    {
     "data": {
      "text/plain": [
       "'C:\\\\Users\\\\tharg\\\\uoa_py_course\\\\lectures\\\\ipynb_files\\\\lecture_11_nbc_logregc\\\\log_res'"
      ]
     },
     "execution_count": 2,
     "metadata": {},
     "output_type": "execute_result"
    }
   ],
   "source": [
    "pwd  "
   ]
  },
  {
   "cell_type": "markdown",
   "id": "bf1b6413-db3f-4add-86fe-ec4906024a28",
   "metadata": {},
   "source": [
    "# A. Import the necessary modules.   \n",
    "You may add libraries here as you go on with your work. But, all imports should be at the first code cell."
   ]
  },
  {
   "cell_type": "code",
   "execution_count": 3,
   "id": "883d265f-6382-4423-a500-ed6737120a43",
   "metadata": {},
   "outputs": [],
   "source": [
    "# data management libraries\n",
    "import pandas as pd\n",
    "import numpy as np\n",
    "\n",
    "# visualization libraries\n",
    "import matplotlib.pyplot as plt\n",
    "import matplotlib.cm as cm\n",
    "import seaborn as sns\n",
    "\n",
    "# scikit learn algo library (google it)\n",
    "from sklearn.linear_model import LogisticRegression\n",
    "# metrics libraries\n",
    "from sklearn import metrics\n",
    "from sklearn.datasets import load_iris\n",
    "\n",
    "# import pingouin stats library\n",
    "import pingouin as pg\n",
    "\n",
    "# import statsmodels stats library\n",
    "import statsmodels.api as sm"
   ]
  },
  {
   "cell_type": "markdown",
   "id": "5ec850b0-263e-47bc-ac89-c259463884dd",
   "metadata": {},
   "source": [
    "# B. Inspect the data and understand its features.   \n",
    "See which are the variables, what is their type, what are the values that the variables take.  \n",
    "At this step, you should think about possible relations that you ought to examine.   \n",
    "Which do you think might be more important?"
   ]
  },
  {
   "cell_type": "markdown",
   "id": "6d499e53-607f-4612-a957-33f3a6558e0c",
   "metadata": {},
   "source": [
    "## The wikipedia example"
   ]
  },
  {
   "cell_type": "code",
   "execution_count": 4,
   "id": "ac35974f-dea4-45e2-bc81-eb106358ec3b",
   "metadata": {},
   "outputs": [],
   "source": [
    "# First, let's create the dataframe\n",
    "Hours = [0.50, 0.75, 1.00, 1.25, 1.50, 1.75, 1.75, 2.00, 2.25, 2.50,\n",
    "         2.75, 3.00, 3.25, 3.50, 4.00, 4.25, 4.50, 4.75, 5.00, 5.50]\n",
    "Pass = [0, 0, 0, 0, 0, 0, 1, 0, 1, 0, 1, 0, 1, 0, 1, 1, 1, 1, 1, 1]\n",
    "df = pd.DataFrame({'HoursStudy': Hours, 'PassExam': Pass})"
   ]
  },
  {
   "cell_type": "code",
   "execution_count": 5,
   "id": "9b08825b-a47b-4792-8fa7-3f7b509c7c45",
   "metadata": {},
   "outputs": [
    {
     "data": {
      "text/html": [
       "<div>\n",
       "<style scoped>\n",
       "    .dataframe tbody tr th:only-of-type {\n",
       "        vertical-align: middle;\n",
       "    }\n",
       "\n",
       "    .dataframe tbody tr th {\n",
       "        vertical-align: top;\n",
       "    }\n",
       "\n",
       "    .dataframe thead th {\n",
       "        text-align: right;\n",
       "    }\n",
       "</style>\n",
       "<table border=\"1\" class=\"dataframe\">\n",
       "  <thead>\n",
       "    <tr style=\"text-align: right;\">\n",
       "      <th></th>\n",
       "      <th>HoursStudy</th>\n",
       "      <th>PassExam</th>\n",
       "    </tr>\n",
       "  </thead>\n",
       "  <tbody>\n",
       "    <tr>\n",
       "      <th>8</th>\n",
       "      <td>2.25</td>\n",
       "      <td>1</td>\n",
       "    </tr>\n",
       "    <tr>\n",
       "      <th>10</th>\n",
       "      <td>2.75</td>\n",
       "      <td>1</td>\n",
       "    </tr>\n",
       "    <tr>\n",
       "      <th>16</th>\n",
       "      <td>4.50</td>\n",
       "      <td>1</td>\n",
       "    </tr>\n",
       "    <tr>\n",
       "      <th>15</th>\n",
       "      <td>4.25</td>\n",
       "      <td>1</td>\n",
       "    </tr>\n",
       "  </tbody>\n",
       "</table>\n",
       "</div>"
      ],
      "text/plain": [
       "    HoursStudy  PassExam\n",
       "8         2.25         1\n",
       "10        2.75         1\n",
       "16        4.50         1\n",
       "15        4.25         1"
      ]
     },
     "execution_count": 5,
     "metadata": {},
     "output_type": "execute_result"
    }
   ],
   "source": [
    "df.sample(4)"
   ]
  }
 ],
 "metadata": {
  "kernelspec": {
   "display_name": "Python 3 (ipykernel)",
   "language": "python",
   "name": "python3"
  },
  "language_info": {
   "codemirror_mode": {
    "name": "ipython",
    "version": 3
   },
   "file_extension": ".py",
   "mimetype": "text/x-python",
   "name": "python",
   "nbconvert_exporter": "python",
   "pygments_lexer": "ipython3",
   "version": "3.10.10"
  }
 },
 "nbformat": 4,
 "nbformat_minor": 5
}

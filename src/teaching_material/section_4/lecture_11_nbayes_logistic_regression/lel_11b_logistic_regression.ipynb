{
 "cells": [
  {
   "cell_type": "markdown",
   "id": "9a146950-b957-4bbe-8572-9e760db71ab7",
   "metadata": {},
   "source": [
    "# Lecture 11b,  Algo: Logistic Regression\n",
    "\n",
    "## Available libraries and differences   \n",
    "[Scikit learn function and parameters](https://scikit-learn.org/stable/modules/generated/sklearn.linear_model.LogisticRegression.html)  \n",
    "\n",
    "[Scikit learn user guide](https://scikit-learn.org/stable/modules/linear_model.html#logistic-regression)   \n",
    "\n",
    "[Statsmodels](https://www.statsmodels.org/devel/discretemod.html)   \n",
    "[Pingouin](https://pingouin-stats.org/generated/pingouin.logistic_regression.html)  \n",
    "Other: Tensorflow \n",
    "\n",
    "[Different use of statsmodels and scikit-learn: stats or predictions](https://stats.stackexchange.com/a/48578)    \n",
    "[Stats VS Machine Learning: complementarity and differences](https://stats.stackexchange.com/questions/6/the-two-cultures-statistics-vs-machine-learning)\n",
    "\n",
    "## Dataset: wikipedia, program effectiveness, iris flowers,\n",
    "loaded from csv file on your disk, or from a python module. \n",
    "\n",
    "[Program_Effectiveness Data Source and Info](https://www.statsmodels.org/devel/datasets/generated/spector.html)   \n",
    "\n",
    "[Program_Effectiveness Original Source and Info](https://pages.stern.nyu.edu/~wgreene/Text/econometricanalysis.htm)  \n",
    "\n",
    "**Remember**:   \n",
    "Summary about the algo:\n",
    "Logistic Regression is an \"supervised learning\" model.\n",
    "We know the labels. We have a \"y\" target variable. \n",
    "\n",
    "\n",
    "Goal of the algo:  \n",
    "Classify instances (observations)   \n",
    "Variatons:  \n",
    "* binary\n",
    "* multi-class\n",
    "* one VS rest\n",
    "\n",
    "Classes can be:  \n",
    "* unordered (all of equal importance)   \n",
    "* ordered (some classes have \"more\" of what defines a class.) Useful in socio-economic studies: Post Office code.   \n",
    "\n",
    "Important notes: \n",
    "Sigmoid functions properties. Non constant \"returns\".   \n",
    "Sigmoid functions slope.  \n",
    "\n",
    "How much does a factor affect the result?\n",
    "What will the result be?\n",
    "What is the probability of the result?\n"
   ]
  },
  {
   "cell_type": "code",
   "execution_count": 2,
   "id": "1f676bdd-49a5-400b-a95f-39988f3a7762",
   "metadata": {},
   "outputs": [],
   "source": [
    "# use pwd command to see in which folder we are working in.\n",
    "# pwd means present working directory\n",
    "# you may need !pwd in Mac OS"
   ]
  },
  {
   "cell_type": "code",
   "execution_count": 3,
   "id": "a260a08c-b3ca-4339-a232-b00c55f3bc64",
   "metadata": {},
   "outputs": [
    {
     "data": {
      "text/plain": [
       "'C:\\\\Users\\\\tharg\\\\uoa_py_course\\\\lectures\\\\ipynb_files\\\\lecture_11_nbc_logregc\\\\log_res'"
      ]
     },
     "execution_count": 3,
     "metadata": {},
     "output_type": "execute_result"
    }
   ],
   "source": [
    "pwd  "
   ]
  },
  {
   "cell_type": "markdown",
   "id": "bf1b6413-db3f-4add-86fe-ec4906024a28",
   "metadata": {},
   "source": [
    "# A. Import the necessary modules.   \n",
    "You may add libraries here as you go on with your work. But, all imports should be at the first code cell."
   ]
  },
  {
   "cell_type": "code",
   "execution_count": 4,
   "id": "883d265f-6382-4423-a500-ed6737120a43",
   "metadata": {},
   "outputs": [],
   "source": [
    "# data management libraries\n",
    "import pandas as pd\n",
    "import numpy as np\n",
    "\n",
    "# visualization libraries\n",
    "import matplotlib.pyplot as plt\n",
    "import matplotlib.cm as cm\n",
    "import seaborn as sns\n",
    "\n",
    "# scikit learn algo library (google it)\n",
    "from sklearn.linear_model import LogisticRegression\n",
    "# metrics libraries\n",
    "from sklearn import metrics\n",
    "from sklearn.datasets import load_iris\n",
    "\n",
    "# import pingouin stats library\n",
    "import pingouin as pg\n",
    "\n",
    "# import statsmodels stats library\n",
    "import statsmodels.api as sm"
   ]
  },
  {
   "cell_type": "markdown",
   "id": "5ec850b0-263e-47bc-ac89-c259463884dd",
   "metadata": {},
   "source": [
    "# B. Inspect the data and understand its features.   \n",
    "See which are the variables, what is their type, what are the values that the variables take.  \n",
    "At this step, you should think about possible relations that you ought to examine.   \n",
    "Which do you think might be more important?"
   ]
  },
  {
   "cell_type": "markdown",
   "id": "6d499e53-607f-4612-a957-33f3a6558e0c",
   "metadata": {},
   "source": [
    "## The wikipedia example"
   ]
  },
  {
   "cell_type": "code",
   "execution_count": 5,
   "id": "ac35974f-dea4-45e2-bc81-eb106358ec3b",
   "metadata": {},
   "outputs": [],
   "source": [
    "# First, let's create the dataframe\n",
    "Hours = [0.50, 0.75, 1.00, 1.25, 1.50, 1.75, 1.75, 2.00, 2.25, 2.50,\n",
    "         2.75, 3.00, 3.25, 3.50, 4.00, 4.25, 4.50, 4.75, 5.00, 5.50]\n",
    "Pass = [0, 0, 0, 0, 0, 0, 1, 0, 1, 0, 1, 0, 1, 0, 1, 1, 1, 1, 1, 1]\n",
    "df = pd.DataFrame({'HoursStudy': Hours, 'PassExam': Pass})"
   ]
  },
  {
   "cell_type": "code",
   "execution_count": 6,
   "id": "9b08825b-a47b-4792-8fa7-3f7b509c7c45",
   "metadata": {},
   "outputs": [
    {
     "data": {
      "text/html": [
       "<div>\n",
       "<style scoped>\n",
       "    .dataframe tbody tr th:only-of-type {\n",
       "        vertical-align: middle;\n",
       "    }\n",
       "\n",
       "    .dataframe tbody tr th {\n",
       "        vertical-align: top;\n",
       "    }\n",
       "\n",
       "    .dataframe thead th {\n",
       "        text-align: right;\n",
       "    }\n",
       "</style>\n",
       "<table border=\"1\" class=\"dataframe\">\n",
       "  <thead>\n",
       "    <tr style=\"text-align: right;\">\n",
       "      <th></th>\n",
       "      <th>HoursStudy</th>\n",
       "      <th>PassExam</th>\n",
       "    </tr>\n",
       "  </thead>\n",
       "  <tbody>\n",
       "    <tr>\n",
       "      <th>19</th>\n",
       "      <td>5.50</td>\n",
       "      <td>1</td>\n",
       "    </tr>\n",
       "    <tr>\n",
       "      <th>14</th>\n",
       "      <td>4.00</td>\n",
       "      <td>1</td>\n",
       "    </tr>\n",
       "    <tr>\n",
       "      <th>3</th>\n",
       "      <td>1.25</td>\n",
       "      <td>0</td>\n",
       "    </tr>\n",
       "    <tr>\n",
       "      <th>12</th>\n",
       "      <td>3.25</td>\n",
       "      <td>1</td>\n",
       "    </tr>\n",
       "  </tbody>\n",
       "</table>\n",
       "</div>"
      ],
      "text/plain": [
       "    HoursStudy  PassExam\n",
       "19        5.50         1\n",
       "14        4.00         1\n",
       "3         1.25         0\n",
       "12        3.25         1"
      ]
     },
     "execution_count": 6,
     "metadata": {},
     "output_type": "execute_result"
    }
   ],
   "source": [
    "df.sample(4)"
   ]
  },
  {
   "cell_type": "code",
   "execution_count": 7,
   "id": "a3cc6051-f411-43c1-b853-1fc063f3a66a",
   "metadata": {},
   "outputs": [],
   "source": [
    "# And then run the logistic regression\n",
    "X = df['HoursStudy']"
   ]
  },
  {
   "cell_type": "code",
   "execution_count": 8,
   "id": "a0497352-0779-42f6-b177-8b1d8561a6d5",
   "metadata": {},
   "outputs": [
    {
     "data": {
      "text/plain": [
       "5     1.75\n",
       "12    3.25\n",
       "Name: HoursStudy, dtype: float64"
      ]
     },
     "execution_count": 8,
     "metadata": {},
     "output_type": "execute_result"
    }
   ],
   "source": [
    "X.sample(2)"
   ]
  },
  {
   "cell_type": "code",
   "execution_count": 9,
   "id": "5db00e43-6b1b-4050-885b-be962d4dd088",
   "metadata": {},
   "outputs": [
    {
     "name": "stderr",
     "output_type": "stream",
     "text": [
      "C:\\Users\\tharg\\uoa_py_course\\course_venv\\lib\\site-packages\\sklearn\\linear_model\\_logistic.py:1173: FutureWarning: `penalty='none'`has been deprecated in 1.2 and will be removed in 1.4. To keep the past behaviour, set `penalty=None`.\n",
      "  warnings.warn(\n"
     ]
    },
    {
     "data": {
      "text/html": [
       "<div>\n",
       "<style scoped>\n",
       "    .dataframe tbody tr th:only-of-type {\n",
       "        vertical-align: middle;\n",
       "    }\n",
       "\n",
       "    .dataframe tbody tr th {\n",
       "        vertical-align: top;\n",
       "    }\n",
       "\n",
       "    .dataframe thead th {\n",
       "        text-align: right;\n",
       "    }\n",
       "</style>\n",
       "<table border=\"1\" class=\"dataframe\">\n",
       "  <thead>\n",
       "    <tr style=\"text-align: right;\">\n",
       "      <th></th>\n",
       "      <th>names</th>\n",
       "      <th>coef</th>\n",
       "      <th>se</th>\n",
       "      <th>z</th>\n",
       "      <th>pval</th>\n",
       "      <th>CI[2.5%]</th>\n",
       "      <th>CI[97.5%]</th>\n",
       "    </tr>\n",
       "  </thead>\n",
       "  <tbody>\n",
       "    <tr>\n",
       "      <th>0</th>\n",
       "      <td>Intercept</td>\n",
       "      <td>-4.078</td>\n",
       "      <td>1.761</td>\n",
       "      <td>-2.316</td>\n",
       "      <td>0.021</td>\n",
       "      <td>-7.529</td>\n",
       "      <td>-0.626</td>\n",
       "    </tr>\n",
       "    <tr>\n",
       "      <th>1</th>\n",
       "      <td>HoursStudy</td>\n",
       "      <td>1.505</td>\n",
       "      <td>0.629</td>\n",
       "      <td>2.393</td>\n",
       "      <td>0.017</td>\n",
       "      <td>0.272</td>\n",
       "      <td>2.737</td>\n",
       "    </tr>\n",
       "  </tbody>\n",
       "</table>\n",
       "</div>"
      ],
      "text/plain": [
       "        names   coef     se      z   pval  CI[2.5%]  CI[97.5%]\n",
       "0   Intercept -4.078  1.761 -2.316  0.021    -7.529     -0.626\n",
       "1  HoursStudy  1.505  0.629  2.393  0.017     0.272      2.737"
      ]
     },
     "execution_count": 9,
     "metadata": {},
     "output_type": "execute_result"
    }
   ],
   "source": [
    "y = df['PassExam']\n",
    "lr = pg.logistic_regression(X, y).round(3)\n",
    "lr"
   ]
  },
  {
   "cell_type": "code",
   "execution_count": 10,
   "id": "8b399fc1-1c6c-486d-a942-9872fad89b19",
   "metadata": {},
   "outputs": [
    {
     "name": "stderr",
     "output_type": "stream",
     "text": [
      "C:\\Users\\tharg\\uoa_py_course\\course_venv\\lib\\site-packages\\sklearn\\linear_model\\_logistic.py:1173: FutureWarning: `penalty='none'`has been deprecated in 1.2 and will be removed in 1.4. To keep the past behaviour, set `penalty=None`.\n",
      "  warnings.warn(\n"
     ]
    },
    {
     "data": {
      "text/plain": [
       "array([-4.07771341,  1.50464542])"
      ]
     },
     "execution_count": 10,
     "metadata": {},
     "output_type": "execute_result"
    }
   ],
   "source": [
    "pg.logistic_regression(X.to_numpy(), y.to_numpy(), coef_only=True)"
   ]
  },
  {
   "cell_type": "markdown",
   "id": "9ebc5244-8656-499e-aa5a-daceef698956",
   "metadata": {},
   "source": [
    "## The program effectiveness data"
   ]
  },
  {
   "cell_type": "code",
   "execution_count": 11,
   "id": "dd2719bd-73d6-4b15-901a-272b505a9303",
   "metadata": {},
   "outputs": [],
   "source": [
    "spector_data = sm.datasets.spector.load()\n",
    "spector_data.exog = sm.add_constant(spector_data.exog, prepend=False)"
   ]
  },
  {
   "cell_type": "code",
   "execution_count": 12,
   "id": "c86e8fb1-82d3-47a0-8667-b98ecc82cf8a",
   "metadata": {},
   "outputs": [
    {
     "data": {
      "text/plain": [
       "<class 'statsmodels.datasets.utils.Dataset'>"
      ]
     },
     "execution_count": 12,
     "metadata": {},
     "output_type": "execute_result"
    }
   ],
   "source": [
    "spector_data"
   ]
  },
  {
   "cell_type": "code",
   "execution_count": 13,
   "id": "6b7b4f8d-9ecf-4966-b2cf-ed615971ee09",
   "metadata": {},
   "outputs": [
    {
     "data": {
      "text/plain": [
       "statsmodels.datasets.utils.Dataset"
      ]
     },
     "execution_count": 13,
     "metadata": {},
     "output_type": "execute_result"
    }
   ],
   "source": [
    "type(spector_data)"
   ]
  },
  {
   "cell_type": "code",
   "execution_count": 14,
   "id": "58a909be-deee-4b85-b0eb-cf2f7757cfaf",
   "metadata": {},
   "outputs": [
    {
     "name": "stdout",
     "output_type": "stream",
     "text": [
      "    GPA  TUCE  PSI  const\n",
      "0  2.66  20.0  0.0    1.0\n",
      "1  2.89  22.0  0.0    1.0\n",
      "2  3.28  24.0  0.0    1.0\n",
      "3  2.92  12.0  0.0    1.0\n",
      "4  4.00  21.0  0.0    1.0\n"
     ]
    }
   ],
   "source": [
    "print(spector_data.exog.head())"
   ]
  },
  {
   "cell_type": "code",
   "execution_count": 15,
   "id": "3c89c825-34a6-4e11-8cea-c6729084fead",
   "metadata": {},
   "outputs": [
    {
     "name": "stdout",
     "output_type": "stream",
     "text": [
      "0    0.0\n",
      "1    0.0\n",
      "2    0.0\n",
      "3    0.0\n",
      "4    1.0\n",
      "Name: GRADE, dtype: float64\n"
     ]
    }
   ],
   "source": [
    "print(spector_data.endog.head())"
   ]
  },
  {
   "cell_type": "code",
   "execution_count": 16,
   "id": "3dbbee47-485e-4733-b894-41c9f055ce72",
   "metadata": {},
   "outputs": [],
   "source": [
    "X = pd.DataFrame(spector_data.exog)"
   ]
  },
  {
   "cell_type": "code",
   "execution_count": 17,
   "id": "52aa8fae-54dc-40be-b7b2-1b7d3c31eeef",
   "metadata": {},
   "outputs": [
    {
     "data": {
      "text/html": [
       "<div>\n",
       "<style scoped>\n",
       "    .dataframe tbody tr th:only-of-type {\n",
       "        vertical-align: middle;\n",
       "    }\n",
       "\n",
       "    .dataframe tbody tr th {\n",
       "        vertical-align: top;\n",
       "    }\n",
       "\n",
       "    .dataframe thead th {\n",
       "        text-align: right;\n",
       "    }\n",
       "</style>\n",
       "<table border=\"1\" class=\"dataframe\">\n",
       "  <thead>\n",
       "    <tr style=\"text-align: right;\">\n",
       "      <th></th>\n",
       "      <th>GRADE</th>\n",
       "    </tr>\n",
       "  </thead>\n",
       "  <tbody>\n",
       "    <tr>\n",
       "      <th>24</th>\n",
       "      <td>1.0</td>\n",
       "    </tr>\n",
       "    <tr>\n",
       "      <th>8</th>\n",
       "      <td>0.0</td>\n",
       "    </tr>\n",
       "    <tr>\n",
       "      <th>27</th>\n",
       "      <td>0.0</td>\n",
       "    </tr>\n",
       "    <tr>\n",
       "      <th>25</th>\n",
       "      <td>1.0</td>\n",
       "    </tr>\n",
       "    <tr>\n",
       "      <th>12</th>\n",
       "      <td>0.0</td>\n",
       "    </tr>\n",
       "    <tr>\n",
       "      <th>5</th>\n",
       "      <td>0.0</td>\n",
       "    </tr>\n",
       "    <tr>\n",
       "      <th>20</th>\n",
       "      <td>0.0</td>\n",
       "    </tr>\n",
       "    <tr>\n",
       "      <th>14</th>\n",
       "      <td>0.0</td>\n",
       "    </tr>\n",
       "    <tr>\n",
       "      <th>30</th>\n",
       "      <td>0.0</td>\n",
       "    </tr>\n",
       "    <tr>\n",
       "      <th>1</th>\n",
       "      <td>0.0</td>\n",
       "    </tr>\n",
       "  </tbody>\n",
       "</table>\n",
       "</div>"
      ],
      "text/plain": [
       "    GRADE\n",
       "24    1.0\n",
       "8     0.0\n",
       "27    0.0\n",
       "25    1.0\n",
       "12    0.0\n",
       "5     0.0\n",
       "20    0.0\n",
       "14    0.0\n",
       "30    0.0\n",
       "1     0.0"
      ]
     },
     "execution_count": 17,
     "metadata": {},
     "output_type": "execute_result"
    }
   ],
   "source": [
    "y = pd.DataFrame(spector_data.endog)\n",
    "y.sample(10)"
   ]
  },
  {
   "cell_type": "code",
   "execution_count": 18,
   "id": "bb22b9ea-31b7-44a5-9d74-2b6535fd0af0",
   "metadata": {},
   "outputs": [
    {
     "name": "stdout",
     "output_type": "stream",
     "text": [
      "Parameters:\n",
      " GPA       2.826113\n",
      "TUCE      0.095158\n",
      "PSI       2.378688\n",
      "const   -13.021347\n",
      "dtype: float64\n"
     ]
    }
   ],
   "source": [
    "logit_mod = sm.Logit(spector_data.endog, spector_data.exog)\n",
    "logit_res = logit_mod.fit(disp=0)\n",
    "print(\"Parameters:\\n\",logit_res.params)"
   ]
  },
  {
   "cell_type": "code",
   "execution_count": 19,
   "id": "b1f6af0d-65a6-4844-a6a5-31c523f4b574",
   "metadata": {},
   "outputs": [],
   "source": [
    "A = np.identity(len(logit_res.params))\n",
    "A = A[1:,:]"
   ]
  },
  {
   "cell_type": "code",
   "execution_count": 20,
   "id": "848427e1-a222-4c77-8708-0ce68ca6096e",
   "metadata": {},
   "outputs": [
    {
     "data": {
      "text/plain": [
       "<class 'statsmodels.stats.contrast.ContrastResults'>\n",
       "<F test: F=2.8850001268853, p=0.05331525256957257, df_denom=28, df_num=3>"
      ]
     },
     "execution_count": 20,
     "metadata": {},
     "output_type": "execute_result"
    }
   ],
   "source": [
    "logit_res.f_test(A)"
   ]
  },
  {
   "cell_type": "code",
   "execution_count": 21,
   "id": "26ce399f-ce81-40ab-97b2-817b2ae51a4c",
   "metadata": {},
   "outputs": [
    {
     "name": "stdout",
     "output_type": "stream",
     "text": [
      "        Logit Marginal Effects       \n",
      "=====================================\n",
      "Dep. Variable:                  GRADE\n",
      "Method:                          dydx\n",
      "At:                           overall\n",
      "==============================================================================\n",
      "                dy/dx    std err          z      P>|z|      [0.025      0.975]\n",
      "------------------------------------------------------------------------------\n",
      "GPA            0.3626      0.109      3.313      0.001       0.148       0.577\n",
      "TUCE           0.0122      0.018      0.686      0.493      -0.023       0.047\n",
      "PSI            0.3052      0.092      3.304      0.001       0.124       0.486\n",
      "==============================================================================\n"
     ]
    }
   ],
   "source": [
    "margeff = logit_res.get_margeff()\n",
    "print(margeff.summary())"
   ]
  },
  {
   "cell_type": "code",
   "execution_count": 22,
   "id": "b91b6780-28bb-42f3-86aa-f623f1342526",
   "metadata": {},
   "outputs": [
    {
     "name": "stdout",
     "output_type": "stream",
     "text": [
      "                           Logit Regression Results                           \n",
      "==============================================================================\n",
      "Dep. Variable:                  GRADE   No. Observations:                   32\n",
      "Model:                          Logit   Df Residuals:                       28\n",
      "Method:                           MLE   Df Model:                            3\n",
      "Date:                Tue, 06 Jun 2023   Pseudo R-squ.:                  0.3740\n",
      "Time:                        15:03:42   Log-Likelihood:                -12.890\n",
      "converged:                       True   LL-Null:                       -20.592\n",
      "Covariance Type:            nonrobust   LLR p-value:                  0.001502\n",
      "==============================================================================\n",
      "                 coef    std err          z      P>|z|      [0.025      0.975]\n",
      "------------------------------------------------------------------------------\n",
      "GPA            2.8261      1.263      2.238      0.025       0.351       5.301\n",
      "TUCE           0.0952      0.142      0.672      0.501      -0.182       0.373\n",
      "PSI            2.3787      1.065      2.234      0.025       0.292       4.465\n",
      "const        -13.0213      4.931     -2.641      0.008     -22.687      -3.356\n",
      "==============================================================================\n"
     ]
    }
   ],
   "source": [
    "print(logit_res.summary())"
   ]
  },
  {
   "cell_type": "markdown",
   "id": "1c41bcab-7981-4156-9b6b-6ac0475d0348",
   "metadata": {},
   "source": [
    "## Iris from scikit-learn"
   ]
  },
  {
   "cell_type": "code",
   "execution_count": 23,
   "id": "e58df0f0-42db-4a7a-b9bf-ab47cfa4d082",
   "metadata": {},
   "outputs": [],
   "source": [
    "X, y = load_iris(return_X_y=True)"
   ]
  },
  {
   "cell_type": "markdown",
   "id": "d214570f-b8b7-457c-9ce9-e9f78271e891",
   "metadata": {},
   "source": [
    "### Always holdout data for testing in real life.\n",
    "### in these lecture notes I performed no split of the datasets only to focus on other issues.   "
   ]
  },
  {
   "cell_type": "code",
   "execution_count": 24,
   "id": "6a7908c6-d477-4052-8a43-86aa7dda8b1d",
   "metadata": {},
   "outputs": [],
   "source": [
    "clf = LogisticRegression(random_state=0, max_iter=200).fit(X, y)"
   ]
  },
  {
   "cell_type": "code",
   "execution_count": 25,
   "id": "5a50f064-2e4d-4f1d-899b-4869b201bc77",
   "metadata": {},
   "outputs": [
    {
     "data": {
      "text/plain": [
       "array([0, 0, 0, 0, 0, 0, 0, 0, 0, 0, 0, 0, 0, 0, 0, 0, 0, 0, 0, 0, 0, 0,\n",
       "       0, 0, 0, 0, 0, 0, 0, 0, 0, 0, 0, 0, 0, 0, 0, 0, 0, 0, 0, 0, 0, 0,\n",
       "       0, 0, 0, 0, 0, 0, 1, 1, 1, 1, 1, 1, 1, 1, 1, 1, 1, 1, 1, 1, 1, 1,\n",
       "       1, 1, 1, 1, 2, 1, 1, 1, 1, 1, 1, 2, 1, 1, 1, 1, 1, 2, 1, 1, 1, 1,\n",
       "       1, 1, 1, 1, 1, 1, 1, 1, 1, 1, 1, 1, 2, 2, 2, 2, 2, 2, 1, 2, 2, 2,\n",
       "       2, 2, 2, 2, 2, 2, 2, 2, 2, 2, 2, 2, 2, 2, 2, 2, 2, 2, 2, 2, 2, 2,\n",
       "       2, 2, 2, 2, 2, 2, 2, 2, 2, 2, 2, 2, 2, 2, 2, 2, 2, 2])"
      ]
     },
     "execution_count": 25,
     "metadata": {},
     "output_type": "execute_result"
    }
   ],
   "source": [
    "clf.predict(X[:, :])"
   ]
  },
  {
   "cell_type": "code",
   "execution_count": 26,
   "id": "1f65777c-79b7-4071-9b55-7709fbd7e191",
   "metadata": {},
   "outputs": [],
   "source": [
    "np.set_printoptions(suppress=True)"
   ]
  },
  {
   "cell_type": "code",
   "execution_count": 28,
   "id": "c5e17a6c-6621-43ca-8882-5b029b0ddd1a",
   "metadata": {},
   "outputs": [
    {
     "data": {
      "text/plain": [
       "array([[0.9815835 , 0.01841648, 0.00000001],\n",
       "       [0.97133891, 0.02866106, 0.00000003],\n",
       "       [0.98527581, 0.01472418, 0.00000001],\n",
       "       [0.97606513, 0.02393483, 0.00000004],\n",
       "       [0.98523375, 0.01476624, 0.00000001],\n",
       "       [0.97022292, 0.02977701, 0.00000007],\n",
       "       [0.98677436, 0.01322562, 0.00000002],\n",
       "       [0.97614809, 0.02385188, 0.00000003],\n",
       "       [0.9796288 , 0.02037117, 0.00000003],\n",
       "       [0.96876492, 0.03123505, 0.00000003],\n",
       "       [0.97623076, 0.02376922, 0.00000002],\n",
       "       [0.97520955, 0.02479041, 0.00000004],\n",
       "       [0.97423015, 0.02576982, 0.00000002],\n",
       "       [0.99187311, 0.00812688, 0.        ],\n",
       "       [0.98801523, 0.01198477, 0.        ],\n",
       "       [0.98665199, 0.013348  , 0.00000001],\n",
       "       [0.98796767, 0.01203232, 0.00000001],\n",
       "       [0.9813369 , 0.01866308, 0.00000002],\n",
       "       [0.9561112 , 0.04388873, 0.00000007],\n",
       "       [0.98398175, 0.01601823, 0.00000002],\n",
       "       [0.94617027, 0.05382965, 0.00000009],\n",
       "       [0.98157531, 0.01842466, 0.00000003],\n",
       "       [0.99596144, 0.00403856, 0.        ],\n",
       "       [0.95186178, 0.04813798, 0.00000024],\n",
       "       [0.95161604, 0.04838375, 0.00000021],\n",
       "       [0.95097918, 0.04902074, 0.00000009],\n",
       "       [0.96933766, 0.03066225, 0.00000009],\n",
       "       [0.97464503, 0.02535494, 0.00000003],\n",
       "       [0.97705193, 0.02294806, 0.00000002],\n",
       "       [0.97097746, 0.02902248, 0.00000006],\n",
       "       [0.96393206, 0.03606787, 0.00000007],\n",
       "       [0.96448449, 0.03551545, 0.00000006],\n",
       "       [0.98829316, 0.01170684, 0.00000001],\n",
       "       [0.98895764, 0.01104235, 0.00000001],\n",
       "       [0.96835221, 0.03164774, 0.00000004],\n",
       "       [0.98443787, 0.01556212, 0.00000001],\n",
       "       [0.97862582, 0.02137417, 0.00000001],\n",
       "       [0.98674245, 0.01325754, 0.00000001],\n",
       "       [0.98569837, 0.01430161, 0.00000002],\n",
       "       [0.97381398, 0.02618599, 0.00000003],\n",
       "       [0.98646954, 0.01353045, 0.00000001],\n",
       "       [0.96164112, 0.03835881, 0.00000007],\n",
       "       [0.98891149, 0.0110885 , 0.00000001],\n",
       "       [0.97222175, 0.02777811, 0.00000014],\n",
       "       [0.9600769 , 0.03992287, 0.00000022],\n",
       "       [0.97354084, 0.02645912, 0.00000004],\n",
       "       [0.98016679, 0.01983318, 0.00000003],\n",
       "       [0.98317827, 0.01682171, 0.00000002],\n",
       "       [0.97835423, 0.02164575, 0.00000002],\n",
       "       [0.97841546, 0.02158452, 0.00000002],\n",
       "       [0.00212807, 0.87395335, 0.12391857],\n",
       "       [0.00582354, 0.85971996, 0.1344565 ],\n",
       "       [0.00106149, 0.72507208, 0.27386643],\n",
       "       [0.01541528, 0.93969731, 0.0448874 ],\n",
       "       [0.00237859, 0.81522397, 0.18239744],\n",
       "       [0.00698882, 0.86010558, 0.1329056 ],\n",
       "       [0.00377561, 0.716466  , 0.27975839],\n",
       "       [0.14775998, 0.84918642, 0.0030536 ],\n",
       "       [0.00277851, 0.89664749, 0.100574  ],\n",
       "       [0.04149361, 0.91189229, 0.0466141 ],\n",
       "       [0.05578308, 0.93775038, 0.00646653],\n",
       "       [0.01519007, 0.89882082, 0.08598911],\n",
       "       [0.00908739, 0.97658767, 0.01432494],\n",
       "       [0.00305183, 0.77924894, 0.21769923],\n",
       "       [0.07447556, 0.91507518, 0.01044926],\n",
       "       [0.00528593, 0.92635028, 0.06836379],\n",
       "       [0.00872345, 0.7746332 , 0.21664335],\n",
       "       [0.01644286, 0.96519358, 0.01836356],\n",
       "       [0.00181155, 0.80108054, 0.19710791],\n",
       "       [0.02395778, 0.95944831, 0.01659391],\n",
       "       [0.00230976, 0.44006377, 0.55762647],\n",
       "       [0.01682967, 0.95678422, 0.02638611],\n",
       "       [0.00071572, 0.59630953, 0.40297475],\n",
       "       [0.00304184, 0.85989255, 0.13706561],\n",
       "       [0.00707794, 0.94295873, 0.04996332],\n",
       "       [0.00507933, 0.9201044 , 0.07481627],\n",
       "       [0.00112046, 0.80154715, 0.19733239],\n",
       "       [0.00057926, 0.48112001, 0.51830073],\n",
       "       [0.00548805, 0.81307888, 0.18143306],\n",
       "       [0.06164409, 0.93497758, 0.00337833],\n",
       "       [0.0291358 , 0.95725587, 0.01360833],\n",
       "       [0.03713562, 0.95533448, 0.0075299 ],\n",
       "       [0.02517523, 0.95648997, 0.0183348 ],\n",
       "       [0.00044982, 0.34967525, 0.64987493],\n",
       "       [0.0102402 , 0.75083418, 0.23892562],\n",
       "       [0.01000208, 0.7886356 , 0.20136231],\n",
       "       [0.00226616, 0.80516163, 0.19257221],\n",
       "       [0.00276337, 0.91320193, 0.08403469],\n",
       "       [0.02707377, 0.92850108, 0.04442515],\n",
       "       [0.01991283, 0.93808868, 0.04199849],\n",
       "       [0.00872085, 0.8978917 , 0.09338745],\n",
       "       [0.00464894, 0.82823998, 0.16711108],\n",
       "       [0.01757528, 0.95702376, 0.02540096],\n",
       "       [0.12166251, 0.8752896 , 0.00304789],\n",
       "       [0.0144722 , 0.92046509, 0.06506271],\n",
       "       [0.01999662, 0.93808289, 0.04192049],\n",
       "       [0.0171082 , 0.92541658, 0.05747522],\n",
       "       [0.00850071, 0.93512296, 0.05637633],\n",
       "       [0.24353367, 0.75517563, 0.0012907 ],\n",
       "       [0.0191667 , 0.93603607, 0.04479722],\n",
       "       [0.00000091, 0.00391191, 0.99608719],\n",
       "       [0.00024313, 0.16253649, 0.83722039],\n",
       "       [0.00000248, 0.02556802, 0.9744295 ],\n",
       "       [0.00003126, 0.08166074, 0.91830799],\n",
       "       [0.00000374, 0.01743695, 0.98255931],\n",
       "       [0.00000006, 0.0046376 , 0.99536234],\n",
       "       [0.00577838, 0.51368545, 0.48053617],\n",
       "       [0.00000062, 0.02134007, 0.97865931],\n",
       "       [0.00000523, 0.05328102, 0.94671375],\n",
       "       [0.00000066, 0.00573939, 0.99425996],\n",
       "       [0.00030254, 0.21041185, 0.78928561],\n",
       "       [0.00007283, 0.13728785, 0.86263932],\n",
       "       [0.0000213 , 0.06524728, 0.93473143],\n",
       "       [0.00022964, 0.14522407, 0.85454629],\n",
       "       [0.00006916, 0.04349276, 0.95643809],\n",
       "       [0.00005169, 0.05401221, 0.94593609],\n",
       "       [0.00005567, 0.12287411, 0.87707022],\n",
       "       [0.00000008, 0.0035583 , 0.99644161],\n",
       "       [0.        , 0.00100017, 0.99899983],\n",
       "       [0.00038985, 0.45196834, 0.5476418 ],\n",
       "       [0.00000561, 0.02383909, 0.9761553 ],\n",
       "       [0.0006145 , 0.19040725, 0.80897825],\n",
       "       [0.00000003, 0.00465373, 0.99534624],\n",
       "       [0.0005861 , 0.39303439, 0.60637951],\n",
       "       [0.00001285, 0.03858765, 0.9613995 ],\n",
       "       [0.00000486, 0.05147215, 0.94852299],\n",
       "       [0.00107354, 0.45643323, 0.54249323],\n",
       "       [0.00102421, 0.38528729, 0.61368851],\n",
       "       [0.00001067, 0.03632918, 0.96366015],\n",
       "       [0.0000169 , 0.14195915, 0.85802394],\n",
       "       [0.00000106, 0.02919372, 0.97080522],\n",
       "       [0.0000007 , 0.01740914, 0.98259016],\n",
       "       [0.0000079 , 0.02725476, 0.97273734],\n",
       "       [0.00052922, 0.47553102, 0.52393976],\n",
       "       [0.00006271, 0.18857698, 0.81136031],\n",
       "       [0.00000039, 0.01174191, 0.98825769],\n",
       "       [0.00001164, 0.01731771, 0.98267065],\n",
       "       [0.00006775, 0.11944979, 0.88048247],\n",
       "       [0.0016229 , 0.44030326, 0.55807384],\n",
       "       [0.00003973, 0.09345689, 0.90650339],\n",
       "       [0.00000632, 0.02028149, 0.9797122 ],\n",
       "       [0.0000998 , 0.12060898, 0.87929122],\n",
       "       [0.00024313, 0.16253649, 0.83722039],\n",
       "       [0.00000205, 0.01258114, 0.98741681],\n",
       "       [0.00000382, 0.0120981 , 0.98789809],\n",
       "       [0.000056  , 0.0800877 , 0.9198563 ],\n",
       "       [0.0002273 , 0.25189813, 0.74787457],\n",
       "       [0.00013854, 0.15708766, 0.8427738 ],\n",
       "       [0.00004572, 0.03840781, 0.96154647],\n",
       "       [0.00047623, 0.23482368, 0.76470009]])"
      ]
     },
     "execution_count": 28,
     "metadata": {},
     "output_type": "execute_result"
    }
   ],
   "source": [
    "clf.predict_proba(X)"
   ]
  },
  {
   "cell_type": "code",
   "execution_count": 27,
   "id": "07333b23-3b11-4cac-b7e7-91c172bdbd44",
   "metadata": {},
   "outputs": [
    {
     "data": {
      "text/plain": [
       "0.9733333333333334"
      ]
     },
     "execution_count": 27,
     "metadata": {},
     "output_type": "execute_result"
    }
   ],
   "source": [
    "clf.score(X, y)"
   ]
  },
  {
   "cell_type": "code",
   "execution_count": 28,
   "id": "a5a7eddb-583b-4f26-a265-76afc73bc1cd",
   "metadata": {},
   "outputs": [
    {
     "data": {
      "text/plain": [
       "\u001b[1;31mType:\u001b[0m        int\n",
       "\u001b[1;31mString form:\u001b[0m 4\n",
       "\u001b[1;31mDocstring:\u001b[0m  \n",
       "int([x]) -> integer\n",
       "int(x, base=10) -> integer\n",
       "\n",
       "Convert a number or string to an integer, or return 0 if no arguments\n",
       "are given.  If x is a number, return x.__int__().  For floating point\n",
       "numbers, this truncates towards zero.\n",
       "\n",
       "If x is not a number or if base is given, then x must be a string,\n",
       "bytes, or bytearray instance representing an integer literal in the\n",
       "given base.  The literal can be preceded by '+' or '-' and be surrounded\n",
       "by whitespace.  The base defaults to 10.  Valid bases are 0 and 2-36.\n",
       "Base 0 means to interpret the base from the string as an integer literal.\n",
       ">>> int('0b100', base=0)\n",
       "4"
      ]
     },
     "metadata": {},
     "output_type": "display_data"
    }
   ],
   "source": [
    "clf.n_features_in_?"
   ]
  },
  {
   "cell_type": "code",
   "execution_count": 29,
   "id": "15aa7eed-74fe-4247-ba9f-83c8c953b277",
   "metadata": {},
   "outputs": [
    {
     "data": {
      "text/plain": [
       "\u001b[1;31mSignature:\u001b[0m \u001b[0mclf\u001b[0m\u001b[1;33m.\u001b[0m\u001b[0mscore\u001b[0m\u001b[1;33m(\u001b[0m\u001b[0mX\u001b[0m\u001b[1;33m,\u001b[0m \u001b[0my\u001b[0m\u001b[1;33m,\u001b[0m \u001b[0msample_weight\u001b[0m\u001b[1;33m=\u001b[0m\u001b[1;32mNone\u001b[0m\u001b[1;33m)\u001b[0m\u001b[1;33m\u001b[0m\u001b[1;33m\u001b[0m\u001b[0m\n",
       "\u001b[1;31mDocstring:\u001b[0m\n",
       "Return the mean accuracy on the given test data and labels.\n",
       "\n",
       "In multi-label classification, this is the subset accuracy\n",
       "which is a harsh metric since you require for each sample that\n",
       "each label set be correctly predicted.\n",
       "\n",
       "Parameters\n",
       "----------\n",
       "X : array-like of shape (n_samples, n_features)\n",
       "    Test samples.\n",
       "\n",
       "y : array-like of shape (n_samples,) or (n_samples, n_outputs)\n",
       "    True labels for `X`.\n",
       "\n",
       "sample_weight : array-like of shape (n_samples,), default=None\n",
       "    Sample weights.\n",
       "\n",
       "Returns\n",
       "-------\n",
       "score : float\n",
       "    Mean accuracy of ``self.predict(X)`` w.r.t. `y`.\n",
       "\u001b[1;31mFile:\u001b[0m      c:\\users\\tharg\\uoa_py_course\\course_venv\\lib\\site-packages\\sklearn\\base.py\n",
       "\u001b[1;31mType:\u001b[0m      method"
      ]
     },
     "metadata": {},
     "output_type": "display_data"
    }
   ],
   "source": [
    "clf.score?"
   ]
  },
  {
   "cell_type": "code",
   "execution_count": 30,
   "id": "c36fc396-4bf2-400e-8447-e618bc462b8d",
   "metadata": {},
   "outputs": [
    {
     "data": {
      "text/plain": [
       "array([0, 1, 2])"
      ]
     },
     "execution_count": 30,
     "metadata": {},
     "output_type": "execute_result"
    }
   ],
   "source": [
    "# link to liblinear libary, go to datasets, phising dataset\n",
    "# LogisticRegression?\n",
    "\n",
    "clf.classes_"
   ]
  },
  {
   "cell_type": "code",
   "execution_count": 31,
   "id": "34053a62-a5b0-43f9-b68c-416401b170c5",
   "metadata": {},
   "outputs": [
    {
     "data": {
      "text/plain": [
       "array([[-0.42319387,  0.96707765, -2.51718312, -1.07957563],\n",
       "       [ 0.53435852, -0.32151325, -0.20652326, -0.9440541 ],\n",
       "       [-0.11116466, -0.64556441,  2.72370638,  2.02362972]])"
      ]
     },
     "execution_count": 31,
     "metadata": {},
     "output_type": "execute_result"
    }
   ],
   "source": [
    "clf.coef_"
   ]
  },
  {
   "cell_type": "code",
   "execution_count": 32,
   "id": "2e8909f4-a1f0-4b64-83f3-0739dbc44835",
   "metadata": {},
   "outputs": [
    {
     "data": {
      "text/plain": [
       "array([  9.84913638,   2.23773829, -12.08687468])"
      ]
     },
     "execution_count": 32,
     "metadata": {},
     "output_type": "execute_result"
    }
   ],
   "source": [
    "clf.intercept_"
   ]
  },
  {
   "cell_type": "code",
   "execution_count": 33,
   "id": "4de311ae-d4c5-4252-b329-5ba3d54aef53",
   "metadata": {},
   "outputs": [
    {
     "data": {
      "text/plain": [
       "150"
      ]
     },
     "execution_count": 33,
     "metadata": {},
     "output_type": "execute_result"
    }
   ],
   "source": [
    "len(clf.predict_proba(X))"
   ]
  },
  {
   "cell_type": "code",
   "execution_count": 34,
   "id": "7ff922cf-f05f-4be0-985e-e8c9f38d5700",
   "metadata": {},
   "outputs": [
    {
     "data": {
      "text/plain": [
       "array([[0.9815835 , 0.01841648, 0.00000001],\n",
       "       [0.97133891, 0.02866106, 0.00000003],\n",
       "       [0.98527581, 0.01472418, 0.00000001],\n",
       "       [0.97606513, 0.02393483, 0.00000004],\n",
       "       [0.98523375, 0.01476624, 0.00000001],\n",
       "       [0.97022292, 0.02977701, 0.00000007],\n",
       "       [0.98677436, 0.01322562, 0.00000002],\n",
       "       [0.97614809, 0.02385188, 0.00000003],\n",
       "       [0.9796288 , 0.02037117, 0.00000003],\n",
       "       [0.96876492, 0.03123505, 0.00000003],\n",
       "       [0.97623076, 0.02376922, 0.00000002],\n",
       "       [0.97520955, 0.02479041, 0.00000004],\n",
       "       [0.97423015, 0.02576982, 0.00000002],\n",
       "       [0.99187311, 0.00812688, 0.        ],\n",
       "       [0.98801523, 0.01198477, 0.        ],\n",
       "       [0.98665199, 0.013348  , 0.00000001],\n",
       "       [0.98796767, 0.01203232, 0.00000001],\n",
       "       [0.9813369 , 0.01866308, 0.00000002],\n",
       "       [0.9561112 , 0.04388873, 0.00000007],\n",
       "       [0.98398175, 0.01601823, 0.00000002],\n",
       "       [0.94617027, 0.05382965, 0.00000009],\n",
       "       [0.98157531, 0.01842466, 0.00000003],\n",
       "       [0.99596144, 0.00403856, 0.        ],\n",
       "       [0.95186178, 0.04813798, 0.00000024],\n",
       "       [0.95161604, 0.04838375, 0.00000021],\n",
       "       [0.95097918, 0.04902074, 0.00000009],\n",
       "       [0.96933766, 0.03066225, 0.00000009],\n",
       "       [0.97464503, 0.02535494, 0.00000003],\n",
       "       [0.97705193, 0.02294806, 0.00000002],\n",
       "       [0.97097746, 0.02902248, 0.00000006],\n",
       "       [0.96393206, 0.03606787, 0.00000007],\n",
       "       [0.96448449, 0.03551545, 0.00000006],\n",
       "       [0.98829316, 0.01170684, 0.00000001],\n",
       "       [0.98895764, 0.01104235, 0.00000001],\n",
       "       [0.96835221, 0.03164774, 0.00000004],\n",
       "       [0.98443787, 0.01556212, 0.00000001],\n",
       "       [0.97862582, 0.02137417, 0.00000001],\n",
       "       [0.98674245, 0.01325754, 0.00000001],\n",
       "       [0.98569837, 0.01430161, 0.00000002],\n",
       "       [0.97381398, 0.02618599, 0.00000003],\n",
       "       [0.98646954, 0.01353045, 0.00000001],\n",
       "       [0.96164112, 0.03835881, 0.00000007],\n",
       "       [0.98891149, 0.0110885 , 0.00000001],\n",
       "       [0.97222175, 0.02777811, 0.00000014],\n",
       "       [0.9600769 , 0.03992287, 0.00000022],\n",
       "       [0.97354084, 0.02645912, 0.00000004],\n",
       "       [0.98016679, 0.01983318, 0.00000003],\n",
       "       [0.98317827, 0.01682171, 0.00000002],\n",
       "       [0.97835423, 0.02164575, 0.00000002],\n",
       "       [0.97841546, 0.02158452, 0.00000002],\n",
       "       [0.00212807, 0.87395335, 0.12391857],\n",
       "       [0.00582354, 0.85971996, 0.1344565 ],\n",
       "       [0.00106149, 0.72507208, 0.27386643],\n",
       "       [0.01541528, 0.93969731, 0.0448874 ],\n",
       "       [0.00237859, 0.81522397, 0.18239744],\n",
       "       [0.00698882, 0.86010558, 0.1329056 ],\n",
       "       [0.00377561, 0.716466  , 0.27975839],\n",
       "       [0.14775998, 0.84918642, 0.0030536 ],\n",
       "       [0.00277851, 0.89664749, 0.100574  ],\n",
       "       [0.04149361, 0.91189229, 0.0466141 ],\n",
       "       [0.05578308, 0.93775038, 0.00646653],\n",
       "       [0.01519007, 0.89882082, 0.08598911],\n",
       "       [0.00908739, 0.97658767, 0.01432494],\n",
       "       [0.00305183, 0.77924894, 0.21769923],\n",
       "       [0.07447556, 0.91507518, 0.01044926],\n",
       "       [0.00528593, 0.92635028, 0.06836379],\n",
       "       [0.00872345, 0.7746332 , 0.21664335],\n",
       "       [0.01644286, 0.96519358, 0.01836356],\n",
       "       [0.00181155, 0.80108054, 0.19710791],\n",
       "       [0.02395778, 0.95944831, 0.01659391],\n",
       "       [0.00230976, 0.44006377, 0.55762647],\n",
       "       [0.01682967, 0.95678422, 0.02638611],\n",
       "       [0.00071572, 0.59630953, 0.40297475],\n",
       "       [0.00304184, 0.85989255, 0.13706561],\n",
       "       [0.00707794, 0.94295873, 0.04996332],\n",
       "       [0.00507933, 0.9201044 , 0.07481627],\n",
       "       [0.00112046, 0.80154715, 0.19733239],\n",
       "       [0.00057926, 0.48112001, 0.51830073],\n",
       "       [0.00548805, 0.81307888, 0.18143306],\n",
       "       [0.06164409, 0.93497758, 0.00337833],\n",
       "       [0.0291358 , 0.95725587, 0.01360833],\n",
       "       [0.03713562, 0.95533448, 0.0075299 ],\n",
       "       [0.02517523, 0.95648997, 0.0183348 ],\n",
       "       [0.00044982, 0.34967525, 0.64987493],\n",
       "       [0.0102402 , 0.75083418, 0.23892562],\n",
       "       [0.01000208, 0.7886356 , 0.20136231],\n",
       "       [0.00226616, 0.80516163, 0.19257221],\n",
       "       [0.00276337, 0.91320193, 0.08403469],\n",
       "       [0.02707377, 0.92850108, 0.04442515],\n",
       "       [0.01991283, 0.93808868, 0.04199849],\n",
       "       [0.00872085, 0.8978917 , 0.09338745],\n",
       "       [0.00464894, 0.82823998, 0.16711108],\n",
       "       [0.01757528, 0.95702376, 0.02540096],\n",
       "       [0.12166251, 0.8752896 , 0.00304789],\n",
       "       [0.0144722 , 0.92046509, 0.06506271],\n",
       "       [0.01999662, 0.93808289, 0.04192049],\n",
       "       [0.0171082 , 0.92541658, 0.05747522],\n",
       "       [0.00850071, 0.93512296, 0.05637633],\n",
       "       [0.24353367, 0.75517563, 0.0012907 ],\n",
       "       [0.0191667 , 0.93603607, 0.04479722],\n",
       "       [0.00000091, 0.00391191, 0.99608719],\n",
       "       [0.00024313, 0.16253649, 0.83722039],\n",
       "       [0.00000248, 0.02556802, 0.9744295 ],\n",
       "       [0.00003126, 0.08166074, 0.91830799],\n",
       "       [0.00000374, 0.01743695, 0.98255931],\n",
       "       [0.00000006, 0.0046376 , 0.99536234],\n",
       "       [0.00577838, 0.51368545, 0.48053617],\n",
       "       [0.00000062, 0.02134007, 0.97865931],\n",
       "       [0.00000523, 0.05328102, 0.94671375],\n",
       "       [0.00000066, 0.00573939, 0.99425996],\n",
       "       [0.00030254, 0.21041185, 0.78928561],\n",
       "       [0.00007283, 0.13728785, 0.86263932],\n",
       "       [0.0000213 , 0.06524728, 0.93473143],\n",
       "       [0.00022964, 0.14522407, 0.85454629],\n",
       "       [0.00006916, 0.04349276, 0.95643809],\n",
       "       [0.00005169, 0.05401221, 0.94593609],\n",
       "       [0.00005567, 0.12287411, 0.87707022],\n",
       "       [0.00000008, 0.0035583 , 0.99644161],\n",
       "       [0.        , 0.00100017, 0.99899983],\n",
       "       [0.00038985, 0.45196834, 0.5476418 ],\n",
       "       [0.00000561, 0.02383909, 0.9761553 ],\n",
       "       [0.0006145 , 0.19040725, 0.80897825],\n",
       "       [0.00000003, 0.00465373, 0.99534624],\n",
       "       [0.0005861 , 0.39303439, 0.60637951],\n",
       "       [0.00001285, 0.03858765, 0.9613995 ],\n",
       "       [0.00000486, 0.05147215, 0.94852299],\n",
       "       [0.00107354, 0.45643323, 0.54249323],\n",
       "       [0.00102421, 0.38528729, 0.61368851],\n",
       "       [0.00001067, 0.03632918, 0.96366015],\n",
       "       [0.0000169 , 0.14195915, 0.85802394],\n",
       "       [0.00000106, 0.02919372, 0.97080522],\n",
       "       [0.0000007 , 0.01740914, 0.98259016],\n",
       "       [0.0000079 , 0.02725476, 0.97273734],\n",
       "       [0.00052922, 0.47553102, 0.52393976],\n",
       "       [0.00006271, 0.18857698, 0.81136031],\n",
       "       [0.00000039, 0.01174191, 0.98825769],\n",
       "       [0.00001164, 0.01731771, 0.98267065],\n",
       "       [0.00006775, 0.11944979, 0.88048247],\n",
       "       [0.0016229 , 0.44030326, 0.55807384],\n",
       "       [0.00003973, 0.09345689, 0.90650339],\n",
       "       [0.00000632, 0.02028149, 0.9797122 ],\n",
       "       [0.0000998 , 0.12060898, 0.87929122],\n",
       "       [0.00024313, 0.16253649, 0.83722039],\n",
       "       [0.00000205, 0.01258114, 0.98741681],\n",
       "       [0.00000382, 0.0120981 , 0.98789809],\n",
       "       [0.000056  , 0.0800877 , 0.9198563 ],\n",
       "       [0.0002273 , 0.25189813, 0.74787457],\n",
       "       [0.00013854, 0.15708766, 0.8427738 ],\n",
       "       [0.00004572, 0.03840781, 0.96154647],\n",
       "       [0.00047623, 0.23482368, 0.76470009]])"
      ]
     },
     "execution_count": 34,
     "metadata": {},
     "output_type": "execute_result"
    }
   ],
   "source": [
    "clf.predict_proba(X)"
   ]
  },
  {
   "cell_type": "code",
   "execution_count": 35,
   "id": "8c97486f-6e32-4ea0-a5d4-da2f4a2538e5",
   "metadata": {},
   "outputs": [
    {
     "data": {
      "text/plain": [
       "0.9733333333333334"
      ]
     },
     "execution_count": 35,
     "metadata": {},
     "output_type": "execute_result"
    }
   ],
   "source": [
    "clf.score(X, y)"
   ]
  },
  {
   "cell_type": "code",
   "execution_count": 36,
   "id": "39cb6f2a-fb0c-4066-bae1-ba1d511df5a9",
   "metadata": {},
   "outputs": [
    {
     "data": {
      "text/plain": [
       "array([0, 0, 0, 0, 0, 0, 0, 0, 0, 0, 0, 0, 0, 0, 0, 0, 0, 0, 0, 0, 0, 0,\n",
       "       0, 0, 0, 0, 0, 0, 0, 0, 0, 0, 0, 0, 0, 0, 0, 0, 0, 0, 0, 0, 0, 0,\n",
       "       0, 0, 0, 0, 0, 0, 1, 1, 1, 1, 1, 1, 1, 1, 1, 1, 1, 1, 1, 1, 1, 1,\n",
       "       1, 1, 1, 1, 2, 1, 1, 1, 1, 1, 1, 2, 1, 1, 1, 1, 1, 2, 1, 1, 1, 1,\n",
       "       1, 1, 1, 1, 1, 1, 1, 1, 1, 1, 1, 1, 2, 2, 2, 2, 2, 2, 1, 2, 2, 2,\n",
       "       2, 2, 2, 2, 2, 2, 2, 2, 2, 2, 2, 2, 2, 2, 2, 2, 2, 2, 2, 2, 2, 2,\n",
       "       2, 2, 2, 2, 2, 2, 2, 2, 2, 2, 2, 2, 2, 2, 2, 2, 2, 2])"
      ]
     },
     "execution_count": 36,
     "metadata": {},
     "output_type": "execute_result"
    }
   ],
   "source": [
    "y_pred_default = clf.predict(X)\n",
    "y_pred_default"
   ]
  },
  {
   "cell_type": "code",
   "execution_count": 37,
   "id": "eeb07a16-5c63-4339-bc97-e9e9d224285d",
   "metadata": {},
   "outputs": [
    {
     "data": {
      "text/plain": [
       "1.0"
      ]
     },
     "execution_count": 37,
     "metadata": {},
     "output_type": "execute_result"
    }
   ],
   "source": [
    "clf.score(X, y_pred_default)"
   ]
  },
  {
   "cell_type": "code",
   "execution_count": 38,
   "id": "e04cbb97-90e1-49c0-aeac-20988e2344c5",
   "metadata": {},
   "outputs": [
    {
     "data": {
      "text/plain": [
       "array([0, 0, 0, 0, 0, 0, 0, 0, 0, 0, 0, 0, 0, 0, 0, 0, 0, 0, 0, 0, 0, 0,\n",
       "       0, 0, 0, 0, 0, 0, 0, 0, 0, 0, 0, 0, 0, 0, 0, 0, 0, 0, 0, 0, 0, 0,\n",
       "       0, 0, 0, 0, 0, 0, 1, 1, 1, 1, 1, 1, 1, 1, 1, 1, 1, 1, 1, 1, 1, 1,\n",
       "       1, 1, 1, 1, 1, 1, 1, 1, 1, 1, 1, 1, 1, 1, 1, 1, 1, 1, 1, 1, 1, 1,\n",
       "       1, 1, 1, 1, 1, 1, 1, 1, 1, 1, 1, 1, 0, 0, 0, 0, 0, 0, 1, 0, 0, 0,\n",
       "       0, 0, 0, 0, 0, 0, 0, 0, 0, 1, 0, 0, 0, 1, 0, 0, 1, 1, 0, 0, 0, 0,\n",
       "       0, 1, 0, 0, 0, 0, 1, 0, 0, 0, 0, 0, 0, 0, 0, 0, 0, 0])"
      ]
     },
     "execution_count": 38,
     "metadata": {},
     "output_type": "execute_result"
    }
   ],
   "source": [
    "y_pred_tuned = (clf.predict_proba(X)[:,1] >= 0.3).astype(int)\n",
    "y_pred_tuned"
   ]
  },
  {
   "cell_type": "code",
   "execution_count": 39,
   "id": "3e4b3ac8-147e-4d00-8c94-83afcb5f8786",
   "metadata": {},
   "outputs": [
    {
     "data": {
      "text/plain": [
       "0.6533333333333333"
      ]
     },
     "execution_count": 39,
     "metadata": {},
     "output_type": "execute_result"
    }
   ],
   "source": [
    "clf.score(X, y_pred_tuned)"
   ]
  },
  {
   "cell_type": "code",
   "execution_count": 40,
   "id": "3bc364c3-f855-45f2-9ed7-b8173baac8b1",
   "metadata": {},
   "outputs": [
    {
     "data": {
      "text/plain": [
       "array([[  7.33564795,   3.35972702, -10.69537497],\n",
       "       [  6.9367479 ,   3.41361194, -10.35035984],\n",
       "       [  7.46652052,   3.26308991, -10.72961043],\n",
       "       [  6.90869551,   3.20050073, -10.10919625],\n",
       "       [  7.47467511,   3.27413984, -10.74881495],\n",
       "       [  6.62445079,   3.14066148,  -9.76511228],\n",
       "       [  7.34257956,   3.03029367, -10.37287323],\n",
       "       [  7.02954126,   3.31779017, -10.34733143],\n",
       "       [  7.05163707,   3.178584  , -10.23022107],\n",
       "       [  6.88969492,   3.4552137 , -10.34490862],\n",
       "       [  7.15038701,   3.4350796 , -10.58546662],\n",
       "       [  6.86246173,   3.19026614, -10.05272786],\n",
       "       [  7.08702485,   3.4545815 , -10.54160635],\n",
       "       [  8.05377672,   3.24935921, -11.30313593],\n",
       "       [  8.0263877 ,   3.61432601, -11.64071371],\n",
       "       [  7.48446808,   3.18151707, -10.66598515],\n",
       "       [  7.63132404,   3.22327079, -10.85459483],\n",
       "       [  7.22769039,   3.26532161, -10.493012  ],\n",
       "       [  6.50874243,   3.42752577,  -9.93626821],\n",
       "       [  7.26609538,   3.14821531, -10.41431069],\n",
       "       [  6.35682709,   3.49022893,  -9.84705602],\n",
       "       [  7.06143005,   3.08596123, -10.14739127],\n",
       "       [  8.6508259 ,   3.14300574, -11.79383164],\n",
       "       [  6.0632048 ,   3.07885646,  -9.14206126],\n",
       "       [  6.10730679,   3.12830916,  -9.23561595],\n",
       "       [  6.39099189,   3.42574314,  -9.81673503],\n",
       "       [  6.56190783,   3.10832702,  -9.67023485],\n",
       "       [  7.04161026,   3.39251055, -10.4341208 ],\n",
       "       [  7.1966208 ,   3.4453142 , -10.641935  ],\n",
       "       [  6.71136558,   3.20113293,  -9.91249852],\n",
       "       [  6.57233843,   3.28672011,  -9.85905854],\n",
       "       [  6.64434859,   3.34272276,  -9.98707135],\n",
       "       [  7.72981441,   3.29400801, -11.02382242],\n",
       "       [  7.84332476,   3.34841116, -11.19173592],\n",
       "       [  6.78173735,   3.36080829, -10.14254564],\n",
       "       [  7.59128067,   3.44404979, -11.03533046],\n",
       "       [  7.41808872,   3.59412276, -11.01221147],\n",
       "       [  7.62495206,   3.3151094 , -10.94006146],\n",
       "       [  7.40006315,   3.167085  , -10.56714815],\n",
       "       [  6.98722188,   3.37122602, -10.3584479 ],\n",
       "       [  7.52172809,   3.23253808, -10.75426617],\n",
       "       [  6.57283184,   3.35117472,  -9.92400656],\n",
       "       [  7.59347868,   3.10278235, -10.69626103],\n",
       "       [  6.44270047,   2.88736488,  -9.33006534],\n",
       "       [  6.15126456,   2.9712006 ,  -9.12246516],\n",
       "       [  6.87110972,   3.26577068, -10.1368804 ],\n",
       "       [  7.12233463,   3.2219684 , -10.34430302],\n",
       "       [  7.25712159,   3.18900173, -10.44612332],\n",
       "       [  7.1927064 ,   3.38164375, -10.57435015],\n",
       "       [  7.18455181,   3.37059382, -10.55514563],\n",
       "       [ -3.36073874,   2.65707053,   0.70366821],\n",
       "       [ -2.71134335,   2.28335466,   0.4279887 ],\n",
       "       [ -4.0265213 ,   2.50007594,   1.52644536],\n",
       "       [ -1.72633208,   2.38386635,  -0.65753428],\n",
       "       [ -3.39221211,   2.44474348,   0.94746863],\n",
       "       [ -2.58602358,   2.22671981,   0.35930378],\n",
       "       [ -3.18371039,   2.06205742,   1.12165297],\n",
       "       [  0.71019288,   2.45888242,  -3.1690753 ],\n",
       "       [ -3.12190861,   2.65483883,   0.46706978],\n",
       "       [ -1.06878211,   2.02120041,  -0.95241831],\n",
       "       [ -0.22239419,   2.59961892,  -2.37722473],\n",
       "       [ -1.93800702,   2.14243502,  -0.204428  ],\n",
       "       [ -1.71076409,   2.96641317,  -1.25564908],\n",
       "       [ -3.26998755,   2.27260183,   0.99738572],\n",
       "       [ -0.18153162,   2.32700356,  -2.14547194],\n",
       "       [ -2.57533341,   2.59087127,  -0.01553787],\n",
       "       [ -2.56620379,   1.92017049,   0.64603331],\n",
       "       [ -1.3943048 ,   2.67813252,  -1.28382772],\n",
       "       [ -3.59378223,   2.4979962 ,   1.09578604],\n",
       "       [ -1.1076025 ,   2.5824627 ,  -1.47486021],\n",
       "       [ -3.57877405,   1.67100219,   1.90777186],\n",
       "       [ -1.49670957,   2.54372484,  -1.04701527],\n",
       "       [ -4.35285157,   2.37236877,   1.9804828 ],\n",
       "       [ -3.15078019,   2.49356397,   0.65721622],\n",
       "       [ -2.2821149 ,   2.6099241 ,  -0.3278092 ],\n",
       "       [ -2.62972178,   2.56958674,   0.06013504],\n",
       "       [ -3.91464934,   2.6581518 ,   1.25649754],\n",
       "       [ -4.50622373,   2.21589241,   2.29033132],\n",
       "       [ -2.8321891 ,   2.16606522,   0.66612388],\n",
       "       [  0.06161669,   2.78076194,  -2.84237863],\n",
       "       [ -0.91027256,   2.5818305 ,  -1.67155794],\n",
       "       [ -0.55059669,   2.69688823,  -2.14629155],\n",
       "       [ -1.1067833 ,   2.53062635,  -1.42384305],\n",
       "       [ -4.64387207,   2.01204851,   2.63182356],\n",
       "       [ -2.48156502,   1.81329878,   0.66826624],\n",
       "       [ -2.45660784,   1.91090319,   0.54570465],\n",
       "       [ -3.4384459 ,   2.43450889,   1.00393702],\n",
       "       [ -3.07176042,   2.72874387,   0.34301655],\n",
       "       [ -1.34341542,   2.19159061,  -0.84817519],\n",
       "       [ -1.53291655,   2.3195637 ,  -0.78664716],\n",
       "       [ -2.33512447,   2.29920849,   0.03591598],\n",
       "       [ -2.92156147,   2.26110283,   0.66045864],\n",
       "       [ -1.45520938,   2.54212535,  -1.08691597],\n",
       "       [  0.57116573,   2.5444696 ,  -3.11563533],\n",
       "       [ -1.88525703,   2.26739226,  -0.38213523],\n",
       "       [ -1.52949555,   2.31877954,  -0.78928399],\n",
       "       [ -1.73416088,   2.25652546,  -0.52236458],\n",
       "       [ -2.19747613,   2.50305239,  -0.30557627],\n",
       "       [  1.36945925,   2.50115437,  -3.87061362],\n",
       "       [ -1.57915034,   2.30932911,  -0.73017877],\n",
       "       [ -7.42766651,   0.9439285 ,   6.48373801],\n",
       "       [ -4.88310598,   1.62196057,   3.26114541],\n",
       "       [ -7.37279634,   1.86614325,   5.50665308],\n",
       "       [ -6.05192138,   1.81598097,   4.23594042],\n",
       "       [ -6.97511927,   1.47177506,   5.50334421],\n",
       "       [ -9.34642145,   1.98875624,   7.35766522],\n",
       "       [ -2.96942204,   1.51806532,   1.45135671],\n",
       "       [ -8.23714343,   2.20577321,   6.03137022],\n",
       "       [ -7.11146662,   2.11702502,   4.99444159],\n",
       "       [ -7.77013601,   1.30774487,   6.46239114],\n",
       "       [ -4.80376043,   1.74084951,   3.06291092],\n",
       "       [ -5.64045893,   1.90127103,   3.73918789],\n",
       "       [ -6.23896493,   1.788445  ,   4.45051993],\n",
       "       [ -4.89044138,   1.55907428,   3.33136709],\n",
       "       [ -5.32618603,   1.1177822 ,   4.20840383],\n",
       "       [ -5.58875035,   1.36289277,   4.22585758],\n",
       "       [ -5.78813408,   1.91135367,   3.87678041],\n",
       "       [ -8.97475459,   1.66992376,   7.30483084],\n",
       "       [-10.74664196,   1.92002959,   8.82661237],\n",
       "       [ -4.76773502,   2.28786286,   2.47987216],\n",
       "       [ -6.80722053,   1.54746273,   5.2597578 ],\n",
       "       [ -4.30628038,   1.42983678,   2.8764436 ],\n",
       "       [ -9.72591712,   2.18024782,   7.5456693 ],\n",
       "       [ -4.48330873,   2.02484989,   2.45845884],\n",
       "       [ -6.40995887,   1.59725052,   4.81270835],\n",
       "       [ -7.14954582,   2.11784036,   5.03170546],\n",
       "       [ -4.09256327,   1.95991504,   2.13264822],\n",
       "       [ -4.10854666,   1.82152422,   2.28702245],\n",
       "       [ -6.51482122,   1.61835191,   4.89646931],\n",
       "       [ -6.6236096 ,   2.41225848,   4.21135112],\n",
       "       [ -7.98069153,   2.23825963,   5.7424319 ],\n",
       "       [ -8.0883233 ,   2.02756326,   6.06076005],\n",
       "       [ -6.62277879,   1.5239465 ,   5.09883228],\n",
       "       [ -4.5661649 ,   2.23461015,   2.33155475],\n",
       "       [ -5.82557566,   2.18318487,   3.64239078],\n",
       "       [ -8.34606441,   1.9566429 ,   6.38942151],\n",
       "       [ -6.21612793,   1.08879188,   5.12733605],\n",
       "       [ -5.64910693,   1.82576649,   3.82334043],\n",
       "       [ -3.81450896,   1.78874069,   2.02576827],\n",
       "       [ -5.93285824,   1.83038185,   4.10247638],\n",
       "       [ -6.67552878,   1.39898927,   5.27653951],\n",
       "       [ -5.39361843,   1.70352801,   3.69009042],\n",
       "       [ -4.88310598,   1.62196057,   3.26114541],\n",
       "       [ -7.26833777,   1.45272223,   5.81561554],\n",
       "       [ -6.84178912,   1.21962888,   5.62216024],\n",
       "       [ -5.65740573,   1.6081553 ,   4.04925043],\n",
       "       [ -5.03640014,   1.97409481,   3.06230533],\n",
       "       [ -5.24889427,   1.78449983,   3.46439444],\n",
       "       [ -5.56241436,   1.17106609,   4.39134827],\n",
       "       [ -4.52734451,   1.67334786,   2.85399665]])"
      ]
     },
     "execution_count": 40,
     "metadata": {},
     "output_type": "execute_result"
    }
   ],
   "source": [
    "# Predict confidence scores for samples.\n",
    "# where > 0 means this class would be predicted.\n",
    "clf.decision_function(X)"
   ]
  },
  {
   "cell_type": "code",
   "execution_count": 41,
   "id": "81125653-ff56-4622-aa1f-dda9e6e32369",
   "metadata": {},
   "outputs": [],
   "source": [
    "# clf?"
   ]
  },
  {
   "cell_type": "code",
   "execution_count": 42,
   "id": "d175845b-bab4-4be1-9027-0c0ba576ea6c",
   "metadata": {},
   "outputs": [
    {
     "data": {
      "text/plain": [
       "{'C': 1.0,\n",
       " 'class_weight': None,\n",
       " 'dual': False,\n",
       " 'fit_intercept': True,\n",
       " 'intercept_scaling': 1,\n",
       " 'l1_ratio': None,\n",
       " 'max_iter': 200,\n",
       " 'multi_class': 'auto',\n",
       " 'n_jobs': None,\n",
       " 'penalty': 'l2',\n",
       " 'random_state': 0,\n",
       " 'solver': 'lbfgs',\n",
       " 'tol': 0.0001,\n",
       " 'verbose': 0,\n",
       " 'warm_start': False}"
      ]
     },
     "execution_count": 42,
     "metadata": {},
     "output_type": "execute_result"
    }
   ],
   "source": [
    "clf.get_params([X])"
   ]
  },
  {
   "cell_type": "code",
   "execution_count": 43,
   "id": "60f537c2-1b35-4772-a035-f20f5e630c28",
   "metadata": {},
   "outputs": [
    {
     "data": {
      "text/plain": [
       "array([122])"
      ]
     },
     "execution_count": 43,
     "metadata": {},
     "output_type": "execute_result"
    }
   ],
   "source": [
    "clf.n_iter_"
   ]
  },
  {
   "cell_type": "code",
   "execution_count": 44,
   "id": "fa261307-d534-4457-8cbe-7ef69c118840",
   "metadata": {},
   "outputs": [],
   "source": [
    "# clf.predict_log_proba(X)"
   ]
  },
  {
   "cell_type": "code",
   "execution_count": 45,
   "id": "cddbe0c3-7931-4f26-880f-a72bafe5b276",
   "metadata": {},
   "outputs": [
    {
     "data": {
      "text/plain": [
       "\u001b[1;31mSignature:\u001b[0m \u001b[0mclf\u001b[0m\u001b[1;33m.\u001b[0m\u001b[0mpredict_proba\u001b[0m\u001b[1;33m(\u001b[0m\u001b[0mX\u001b[0m\u001b[1;33m)\u001b[0m\u001b[1;33m\u001b[0m\u001b[1;33m\u001b[0m\u001b[0m\n",
       "\u001b[1;31mDocstring:\u001b[0m\n",
       "Probability estimates.\n",
       "\n",
       "The returned estimates for all classes are ordered by the\n",
       "label of classes.\n",
       "\n",
       "For a multi_class problem, if multi_class is set to be \"multinomial\"\n",
       "the softmax function is used to find the predicted probability of\n",
       "each class.\n",
       "Else use a one-vs-rest approach, i.e calculate the probability\n",
       "of each class assuming it to be positive using the logistic function.\n",
       "and normalize these values across all the classes.\n",
       "\n",
       "Parameters\n",
       "----------\n",
       "X : array-like of shape (n_samples, n_features)\n",
       "    Vector to be scored, where `n_samples` is the number of samples and\n",
       "    `n_features` is the number of features.\n",
       "\n",
       "Returns\n",
       "-------\n",
       "T : array-like of shape (n_samples, n_classes)\n",
       "    Returns the probability of the sample for each class in the model,\n",
       "    where classes are ordered as they are in ``self.classes_``.\n",
       "\u001b[1;31mFile:\u001b[0m      c:\\users\\tharg\\uoa_py_course\\course_venv\\lib\\site-packages\\sklearn\\linear_model\\_logistic.py\n",
       "\u001b[1;31mType:\u001b[0m      method"
      ]
     },
     "metadata": {},
     "output_type": "display_data"
    }
   ],
   "source": [
    "clf.predict_proba?"
   ]
  },
  {
   "cell_type": "code",
   "execution_count": 46,
   "id": "d93f73c4-38e0-4312-883d-355324e11c84",
   "metadata": {},
   "outputs": [
    {
     "data": {
      "text/plain": [
       "array([[0.9815835 , 0.01841648, 0.00000001],\n",
       "       [0.97133891, 0.02866106, 0.00000003],\n",
       "       [0.98527581, 0.01472418, 0.00000001],\n",
       "       [0.97606513, 0.02393483, 0.00000004],\n",
       "       [0.98523375, 0.01476624, 0.00000001],\n",
       "       [0.97022292, 0.02977701, 0.00000007],\n",
       "       [0.98677436, 0.01322562, 0.00000002],\n",
       "       [0.97614809, 0.02385188, 0.00000003],\n",
       "       [0.9796288 , 0.02037117, 0.00000003],\n",
       "       [0.96876492, 0.03123505, 0.00000003],\n",
       "       [0.97623076, 0.02376922, 0.00000002],\n",
       "       [0.97520955, 0.02479041, 0.00000004],\n",
       "       [0.97423015, 0.02576982, 0.00000002],\n",
       "       [0.99187311, 0.00812688, 0.        ],\n",
       "       [0.98801523, 0.01198477, 0.        ],\n",
       "       [0.98665199, 0.013348  , 0.00000001],\n",
       "       [0.98796767, 0.01203232, 0.00000001],\n",
       "       [0.9813369 , 0.01866308, 0.00000002],\n",
       "       [0.9561112 , 0.04388873, 0.00000007],\n",
       "       [0.98398175, 0.01601823, 0.00000002],\n",
       "       [0.94617027, 0.05382965, 0.00000009],\n",
       "       [0.98157531, 0.01842466, 0.00000003],\n",
       "       [0.99596144, 0.00403856, 0.        ],\n",
       "       [0.95186178, 0.04813798, 0.00000024],\n",
       "       [0.95161604, 0.04838375, 0.00000021],\n",
       "       [0.95097918, 0.04902074, 0.00000009],\n",
       "       [0.96933766, 0.03066225, 0.00000009],\n",
       "       [0.97464503, 0.02535494, 0.00000003],\n",
       "       [0.97705193, 0.02294806, 0.00000002],\n",
       "       [0.97097746, 0.02902248, 0.00000006],\n",
       "       [0.96393206, 0.03606787, 0.00000007],\n",
       "       [0.96448449, 0.03551545, 0.00000006],\n",
       "       [0.98829316, 0.01170684, 0.00000001],\n",
       "       [0.98895764, 0.01104235, 0.00000001],\n",
       "       [0.96835221, 0.03164774, 0.00000004],\n",
       "       [0.98443787, 0.01556212, 0.00000001],\n",
       "       [0.97862582, 0.02137417, 0.00000001],\n",
       "       [0.98674245, 0.01325754, 0.00000001],\n",
       "       [0.98569837, 0.01430161, 0.00000002],\n",
       "       [0.97381398, 0.02618599, 0.00000003],\n",
       "       [0.98646954, 0.01353045, 0.00000001],\n",
       "       [0.96164112, 0.03835881, 0.00000007],\n",
       "       [0.98891149, 0.0110885 , 0.00000001],\n",
       "       [0.97222175, 0.02777811, 0.00000014],\n",
       "       [0.9600769 , 0.03992287, 0.00000022],\n",
       "       [0.97354084, 0.02645912, 0.00000004],\n",
       "       [0.98016679, 0.01983318, 0.00000003],\n",
       "       [0.98317827, 0.01682171, 0.00000002],\n",
       "       [0.97835423, 0.02164575, 0.00000002],\n",
       "       [0.97841546, 0.02158452, 0.00000002],\n",
       "       [0.00212807, 0.87395335, 0.12391857],\n",
       "       [0.00582354, 0.85971996, 0.1344565 ],\n",
       "       [0.00106149, 0.72507208, 0.27386643],\n",
       "       [0.01541528, 0.93969731, 0.0448874 ],\n",
       "       [0.00237859, 0.81522397, 0.18239744],\n",
       "       [0.00698882, 0.86010558, 0.1329056 ],\n",
       "       [0.00377561, 0.716466  , 0.27975839],\n",
       "       [0.14775998, 0.84918642, 0.0030536 ],\n",
       "       [0.00277851, 0.89664749, 0.100574  ],\n",
       "       [0.04149361, 0.91189229, 0.0466141 ],\n",
       "       [0.05578308, 0.93775038, 0.00646653],\n",
       "       [0.01519007, 0.89882082, 0.08598911],\n",
       "       [0.00908739, 0.97658767, 0.01432494],\n",
       "       [0.00305183, 0.77924894, 0.21769923],\n",
       "       [0.07447556, 0.91507518, 0.01044926],\n",
       "       [0.00528593, 0.92635028, 0.06836379],\n",
       "       [0.00872345, 0.7746332 , 0.21664335],\n",
       "       [0.01644286, 0.96519358, 0.01836356],\n",
       "       [0.00181155, 0.80108054, 0.19710791],\n",
       "       [0.02395778, 0.95944831, 0.01659391],\n",
       "       [0.00230976, 0.44006377, 0.55762647],\n",
       "       [0.01682967, 0.95678422, 0.02638611],\n",
       "       [0.00071572, 0.59630953, 0.40297475],\n",
       "       [0.00304184, 0.85989255, 0.13706561],\n",
       "       [0.00707794, 0.94295873, 0.04996332],\n",
       "       [0.00507933, 0.9201044 , 0.07481627],\n",
       "       [0.00112046, 0.80154715, 0.19733239],\n",
       "       [0.00057926, 0.48112001, 0.51830073],\n",
       "       [0.00548805, 0.81307888, 0.18143306],\n",
       "       [0.06164409, 0.93497758, 0.00337833],\n",
       "       [0.0291358 , 0.95725587, 0.01360833],\n",
       "       [0.03713562, 0.95533448, 0.0075299 ],\n",
       "       [0.02517523, 0.95648997, 0.0183348 ],\n",
       "       [0.00044982, 0.34967525, 0.64987493],\n",
       "       [0.0102402 , 0.75083418, 0.23892562],\n",
       "       [0.01000208, 0.7886356 , 0.20136231],\n",
       "       [0.00226616, 0.80516163, 0.19257221],\n",
       "       [0.00276337, 0.91320193, 0.08403469],\n",
       "       [0.02707377, 0.92850108, 0.04442515],\n",
       "       [0.01991283, 0.93808868, 0.04199849],\n",
       "       [0.00872085, 0.8978917 , 0.09338745],\n",
       "       [0.00464894, 0.82823998, 0.16711108],\n",
       "       [0.01757528, 0.95702376, 0.02540096],\n",
       "       [0.12166251, 0.8752896 , 0.00304789],\n",
       "       [0.0144722 , 0.92046509, 0.06506271],\n",
       "       [0.01999662, 0.93808289, 0.04192049],\n",
       "       [0.0171082 , 0.92541658, 0.05747522],\n",
       "       [0.00850071, 0.93512296, 0.05637633],\n",
       "       [0.24353367, 0.75517563, 0.0012907 ],\n",
       "       [0.0191667 , 0.93603607, 0.04479722],\n",
       "       [0.00000091, 0.00391191, 0.99608719],\n",
       "       [0.00024313, 0.16253649, 0.83722039],\n",
       "       [0.00000248, 0.02556802, 0.9744295 ],\n",
       "       [0.00003126, 0.08166074, 0.91830799],\n",
       "       [0.00000374, 0.01743695, 0.98255931],\n",
       "       [0.00000006, 0.0046376 , 0.99536234],\n",
       "       [0.00577838, 0.51368545, 0.48053617],\n",
       "       [0.00000062, 0.02134007, 0.97865931],\n",
       "       [0.00000523, 0.05328102, 0.94671375],\n",
       "       [0.00000066, 0.00573939, 0.99425996],\n",
       "       [0.00030254, 0.21041185, 0.78928561],\n",
       "       [0.00007283, 0.13728785, 0.86263932],\n",
       "       [0.0000213 , 0.06524728, 0.93473143],\n",
       "       [0.00022964, 0.14522407, 0.85454629],\n",
       "       [0.00006916, 0.04349276, 0.95643809],\n",
       "       [0.00005169, 0.05401221, 0.94593609],\n",
       "       [0.00005567, 0.12287411, 0.87707022],\n",
       "       [0.00000008, 0.0035583 , 0.99644161],\n",
       "       [0.        , 0.00100017, 0.99899983],\n",
       "       [0.00038985, 0.45196834, 0.5476418 ],\n",
       "       [0.00000561, 0.02383909, 0.9761553 ],\n",
       "       [0.0006145 , 0.19040725, 0.80897825],\n",
       "       [0.00000003, 0.00465373, 0.99534624],\n",
       "       [0.0005861 , 0.39303439, 0.60637951],\n",
       "       [0.00001285, 0.03858765, 0.9613995 ],\n",
       "       [0.00000486, 0.05147215, 0.94852299],\n",
       "       [0.00107354, 0.45643323, 0.54249323],\n",
       "       [0.00102421, 0.38528729, 0.61368851],\n",
       "       [0.00001067, 0.03632918, 0.96366015],\n",
       "       [0.0000169 , 0.14195915, 0.85802394],\n",
       "       [0.00000106, 0.02919372, 0.97080522],\n",
       "       [0.0000007 , 0.01740914, 0.98259016],\n",
       "       [0.0000079 , 0.02725476, 0.97273734],\n",
       "       [0.00052922, 0.47553102, 0.52393976],\n",
       "       [0.00006271, 0.18857698, 0.81136031],\n",
       "       [0.00000039, 0.01174191, 0.98825769],\n",
       "       [0.00001164, 0.01731771, 0.98267065],\n",
       "       [0.00006775, 0.11944979, 0.88048247],\n",
       "       [0.0016229 , 0.44030326, 0.55807384],\n",
       "       [0.00003973, 0.09345689, 0.90650339],\n",
       "       [0.00000632, 0.02028149, 0.9797122 ],\n",
       "       [0.0000998 , 0.12060898, 0.87929122],\n",
       "       [0.00024313, 0.16253649, 0.83722039],\n",
       "       [0.00000205, 0.01258114, 0.98741681],\n",
       "       [0.00000382, 0.0120981 , 0.98789809],\n",
       "       [0.000056  , 0.0800877 , 0.9198563 ],\n",
       "       [0.0002273 , 0.25189813, 0.74787457],\n",
       "       [0.00013854, 0.15708766, 0.8427738 ],\n",
       "       [0.00004572, 0.03840781, 0.96154647],\n",
       "       [0.00047623, 0.23482368, 0.76470009]])"
      ]
     },
     "execution_count": 46,
     "metadata": {},
     "output_type": "execute_result"
    }
   ],
   "source": [
    "# len(clf.predict_proba(X))\n",
    "clf.predict_proba(X)"
   ]
  },
  {
   "cell_type": "code",
   "execution_count": 47,
   "id": "d31ab561-95f9-4c45-98a1-3a14ab370bfd",
   "metadata": {},
   "outputs": [
    {
     "data": {
      "text/plain": [
       "array([0.01841648, 0.02866106, 0.01472418, 0.02393483, 0.01476624,\n",
       "       0.02977701, 0.01322562, 0.02385188, 0.02037117, 0.03123505,\n",
       "       0.02376922, 0.02479041, 0.02576982, 0.00812688, 0.01198477,\n",
       "       0.013348  , 0.01203232, 0.01866308, 0.04388873, 0.01601823,\n",
       "       0.05382965, 0.01842466, 0.00403856, 0.04813798, 0.04838375,\n",
       "       0.04902074, 0.03066225, 0.02535494, 0.02294806, 0.02902248,\n",
       "       0.03606787, 0.03551545, 0.01170684, 0.01104235, 0.03164774,\n",
       "       0.01556212, 0.02137417, 0.01325754, 0.01430161, 0.02618599,\n",
       "       0.01353045, 0.03835881, 0.0110885 , 0.02777811, 0.03992287,\n",
       "       0.02645912, 0.01983318, 0.01682171, 0.02164575, 0.02158452,\n",
       "       0.87395335, 0.85971996, 0.72507208, 0.93969731, 0.81522397,\n",
       "       0.86010558, 0.716466  , 0.84918642, 0.89664749, 0.91189229,\n",
       "       0.93775038, 0.89882082, 0.97658767, 0.77924894, 0.91507518,\n",
       "       0.92635028, 0.7746332 , 0.96519358, 0.80108054, 0.95944831,\n",
       "       0.44006377, 0.95678422, 0.59630953, 0.85989255, 0.94295873,\n",
       "       0.9201044 , 0.80154715, 0.48112001, 0.81307888, 0.93497758,\n",
       "       0.95725587, 0.95533448, 0.95648997, 0.34967525, 0.75083418,\n",
       "       0.7886356 , 0.80516163, 0.91320193, 0.92850108, 0.93808868,\n",
       "       0.8978917 , 0.82823998, 0.95702376, 0.8752896 , 0.92046509,\n",
       "       0.93808289, 0.92541658, 0.93512296, 0.75517563, 0.93603607,\n",
       "       0.00391191, 0.16253649, 0.02556802, 0.08166074, 0.01743695,\n",
       "       0.0046376 , 0.51368545, 0.02134007, 0.05328102, 0.00573939,\n",
       "       0.21041185, 0.13728785, 0.06524728, 0.14522407, 0.04349276,\n",
       "       0.05401221, 0.12287411, 0.0035583 , 0.00100017, 0.45196834,\n",
       "       0.02383909, 0.19040725, 0.00465373, 0.39303439, 0.03858765,\n",
       "       0.05147215, 0.45643323, 0.38528729, 0.03632918, 0.14195915,\n",
       "       0.02919372, 0.01740914, 0.02725476, 0.47553102, 0.18857698,\n",
       "       0.01174191, 0.01731771, 0.11944979, 0.44030326, 0.09345689,\n",
       "       0.02028149, 0.12060898, 0.16253649, 0.01258114, 0.0120981 ,\n",
       "       0.0800877 , 0.25189813, 0.15708766, 0.03840781, 0.23482368])"
      ]
     },
     "execution_count": 47,
     "metadata": {},
     "output_type": "execute_result"
    }
   ],
   "source": [
    "clf.predict_proba(X)[:,1]"
   ]
  },
  {
   "cell_type": "code",
   "execution_count": 48,
   "id": "0c7bfc78-50e6-4ddc-bc59-feb96d8c6361",
   "metadata": {},
   "outputs": [
    {
     "data": {
      "text/plain": [
       "array([0, 0, 0, 0, 0, 0, 0, 0, 0, 0, 0, 0, 0, 0, 0, 0, 0, 0, 0, 0, 0, 0,\n",
       "       0, 0, 0, 0, 0, 0, 0, 0, 0, 0, 0, 0, 0, 0, 0, 0, 0, 0, 0, 0, 0, 0,\n",
       "       0, 0, 0, 0, 0, 0, 1, 1, 1, 1, 1, 1, 1, 1, 1, 1, 1, 1, 1, 1, 1, 1,\n",
       "       1, 1, 1, 1, 1, 1, 1, 1, 1, 1, 1, 1, 1, 1, 1, 1, 1, 0, 1, 1, 1, 1,\n",
       "       1, 1, 1, 1, 1, 1, 1, 1, 1, 1, 1, 1, 0, 0, 0, 0, 0, 0, 1, 0, 0, 0,\n",
       "       0, 0, 0, 0, 0, 0, 0, 0, 0, 1, 0, 0, 0, 0, 0, 0, 1, 0, 0, 0, 0, 0,\n",
       "       0, 1, 0, 0, 0, 0, 1, 0, 0, 0, 0, 0, 0, 0, 0, 0, 0, 0])"
      ]
     },
     "execution_count": 48,
     "metadata": {},
     "output_type": "execute_result"
    }
   ],
   "source": [
    "y_pred_tuned = (clf.predict_proba(X)[:,1] >= 0.4).astype(int)\n",
    "y_pred_tuned"
   ]
  },
  {
   "cell_type": "code",
   "execution_count": 49,
   "id": "d9cd2357-176a-4080-8600-fb853fe5ad13",
   "metadata": {},
   "outputs": [
    {
     "data": {
      "text/plain": [
       "array([False, False, False, False, False, False, False, False, False,\n",
       "       False, False, False, False, False, False, False, False, False,\n",
       "       False, False, False, False, False, False, False, False, False,\n",
       "       False, False, False, False, False, False, False, False, False,\n",
       "       False, False, False, False, False, False, False, False, False,\n",
       "       False, False, False, False, False,  True,  True,  True,  True,\n",
       "        True,  True,  True,  True,  True,  True,  True,  True,  True,\n",
       "        True,  True,  True,  True,  True,  True,  True,  True,  True,\n",
       "        True,  True,  True,  True,  True,  True,  True,  True,  True,\n",
       "        True,  True, False,  True,  True,  True,  True,  True,  True,\n",
       "        True,  True,  True,  True,  True,  True,  True,  True,  True,\n",
       "        True, False, False, False, False, False, False,  True, False,\n",
       "       False, False, False, False, False, False, False, False, False,\n",
       "       False, False,  True, False, False, False, False, False, False,\n",
       "        True, False, False, False, False, False, False,  True, False,\n",
       "       False, False, False,  True, False, False, False, False, False,\n",
       "       False, False, False, False, False, False])"
      ]
     },
     "execution_count": 49,
     "metadata": {},
     "output_type": "execute_result"
    }
   ],
   "source": [
    "y_pred_tuned = (clf.predict_proba(X)[:,1] >= 0.4).astype(bool)\n",
    "y_pred_tuned"
   ]
  },
  {
   "cell_type": "code",
   "execution_count": 50,
   "id": "906060fd-91da-4e82-887e-4a6481b241ab",
   "metadata": {},
   "outputs": [],
   "source": [
    "preds = clf.predict_proba(X)"
   ]
  },
  {
   "cell_type": "code",
   "execution_count": 51,
   "id": "86dcd250-d815-4472-9abe-456621511245",
   "metadata": {},
   "outputs": [
    {
     "data": {
      "text/plain": [
       "array([[0.9815835 , 0.01841648, 0.00000001],\n",
       "       [0.97133891, 0.02866106, 0.00000003],\n",
       "       [0.98527581, 0.01472418, 0.00000001],\n",
       "       [0.97606513, 0.02393483, 0.00000004],\n",
       "       [0.98523375, 0.01476624, 0.00000001],\n",
       "       [0.97022292, 0.02977701, 0.00000007],\n",
       "       [0.98677436, 0.01322562, 0.00000002],\n",
       "       [0.97614809, 0.02385188, 0.00000003],\n",
       "       [0.9796288 , 0.02037117, 0.00000003],\n",
       "       [0.96876492, 0.03123505, 0.00000003],\n",
       "       [0.97623076, 0.02376922, 0.00000002],\n",
       "       [0.97520955, 0.02479041, 0.00000004],\n",
       "       [0.97423015, 0.02576982, 0.00000002],\n",
       "       [0.99187311, 0.00812688, 0.        ],\n",
       "       [0.98801523, 0.01198477, 0.        ],\n",
       "       [0.98665199, 0.013348  , 0.00000001],\n",
       "       [0.98796767, 0.01203232, 0.00000001],\n",
       "       [0.9813369 , 0.01866308, 0.00000002],\n",
       "       [0.9561112 , 0.04388873, 0.00000007],\n",
       "       [0.98398175, 0.01601823, 0.00000002],\n",
       "       [0.94617027, 0.05382965, 0.00000009],\n",
       "       [0.98157531, 0.01842466, 0.00000003],\n",
       "       [0.99596144, 0.00403856, 0.        ],\n",
       "       [0.95186178, 0.04813798, 0.00000024],\n",
       "       [0.95161604, 0.04838375, 0.00000021],\n",
       "       [0.95097918, 0.04902074, 0.00000009],\n",
       "       [0.96933766, 0.03066225, 0.00000009],\n",
       "       [0.97464503, 0.02535494, 0.00000003],\n",
       "       [0.97705193, 0.02294806, 0.00000002],\n",
       "       [0.97097746, 0.02902248, 0.00000006],\n",
       "       [0.96393206, 0.03606787, 0.00000007],\n",
       "       [0.96448449, 0.03551545, 0.00000006],\n",
       "       [0.98829316, 0.01170684, 0.00000001],\n",
       "       [0.98895764, 0.01104235, 0.00000001],\n",
       "       [0.96835221, 0.03164774, 0.00000004],\n",
       "       [0.98443787, 0.01556212, 0.00000001],\n",
       "       [0.97862582, 0.02137417, 0.00000001],\n",
       "       [0.98674245, 0.01325754, 0.00000001],\n",
       "       [0.98569837, 0.01430161, 0.00000002],\n",
       "       [0.97381398, 0.02618599, 0.00000003],\n",
       "       [0.98646954, 0.01353045, 0.00000001],\n",
       "       [0.96164112, 0.03835881, 0.00000007],\n",
       "       [0.98891149, 0.0110885 , 0.00000001],\n",
       "       [0.97222175, 0.02777811, 0.00000014],\n",
       "       [0.9600769 , 0.03992287, 0.00000022],\n",
       "       [0.97354084, 0.02645912, 0.00000004],\n",
       "       [0.98016679, 0.01983318, 0.00000003],\n",
       "       [0.98317827, 0.01682171, 0.00000002],\n",
       "       [0.97835423, 0.02164575, 0.00000002],\n",
       "       [0.97841546, 0.02158452, 0.00000002],\n",
       "       [0.00212807, 0.87395335, 0.12391857],\n",
       "       [0.00582354, 0.85971996, 0.1344565 ],\n",
       "       [0.00106149, 0.72507208, 0.27386643],\n",
       "       [0.01541528, 0.93969731, 0.0448874 ],\n",
       "       [0.00237859, 0.81522397, 0.18239744],\n",
       "       [0.00698882, 0.86010558, 0.1329056 ],\n",
       "       [0.00377561, 0.716466  , 0.27975839],\n",
       "       [0.14775998, 0.84918642, 0.0030536 ],\n",
       "       [0.00277851, 0.89664749, 0.100574  ],\n",
       "       [0.04149361, 0.91189229, 0.0466141 ],\n",
       "       [0.05578308, 0.93775038, 0.00646653],\n",
       "       [0.01519007, 0.89882082, 0.08598911],\n",
       "       [0.00908739, 0.97658767, 0.01432494],\n",
       "       [0.00305183, 0.77924894, 0.21769923],\n",
       "       [0.07447556, 0.91507518, 0.01044926],\n",
       "       [0.00528593, 0.92635028, 0.06836379],\n",
       "       [0.00872345, 0.7746332 , 0.21664335],\n",
       "       [0.01644286, 0.96519358, 0.01836356],\n",
       "       [0.00181155, 0.80108054, 0.19710791],\n",
       "       [0.02395778, 0.95944831, 0.01659391],\n",
       "       [0.00230976, 0.44006377, 0.55762647],\n",
       "       [0.01682967, 0.95678422, 0.02638611],\n",
       "       [0.00071572, 0.59630953, 0.40297475],\n",
       "       [0.00304184, 0.85989255, 0.13706561],\n",
       "       [0.00707794, 0.94295873, 0.04996332],\n",
       "       [0.00507933, 0.9201044 , 0.07481627],\n",
       "       [0.00112046, 0.80154715, 0.19733239],\n",
       "       [0.00057926, 0.48112001, 0.51830073],\n",
       "       [0.00548805, 0.81307888, 0.18143306],\n",
       "       [0.06164409, 0.93497758, 0.00337833],\n",
       "       [0.0291358 , 0.95725587, 0.01360833],\n",
       "       [0.03713562, 0.95533448, 0.0075299 ],\n",
       "       [0.02517523, 0.95648997, 0.0183348 ],\n",
       "       [0.00044982, 0.34967525, 0.64987493],\n",
       "       [0.0102402 , 0.75083418, 0.23892562],\n",
       "       [0.01000208, 0.7886356 , 0.20136231],\n",
       "       [0.00226616, 0.80516163, 0.19257221],\n",
       "       [0.00276337, 0.91320193, 0.08403469],\n",
       "       [0.02707377, 0.92850108, 0.04442515],\n",
       "       [0.01991283, 0.93808868, 0.04199849],\n",
       "       [0.00872085, 0.8978917 , 0.09338745],\n",
       "       [0.00464894, 0.82823998, 0.16711108],\n",
       "       [0.01757528, 0.95702376, 0.02540096],\n",
       "       [0.12166251, 0.8752896 , 0.00304789],\n",
       "       [0.0144722 , 0.92046509, 0.06506271],\n",
       "       [0.01999662, 0.93808289, 0.04192049],\n",
       "       [0.0171082 , 0.92541658, 0.05747522],\n",
       "       [0.00850071, 0.93512296, 0.05637633],\n",
       "       [0.24353367, 0.75517563, 0.0012907 ],\n",
       "       [0.0191667 , 0.93603607, 0.04479722],\n",
       "       [0.00000091, 0.00391191, 0.99608719],\n",
       "       [0.00024313, 0.16253649, 0.83722039],\n",
       "       [0.00000248, 0.02556802, 0.9744295 ],\n",
       "       [0.00003126, 0.08166074, 0.91830799],\n",
       "       [0.00000374, 0.01743695, 0.98255931],\n",
       "       [0.00000006, 0.0046376 , 0.99536234],\n",
       "       [0.00577838, 0.51368545, 0.48053617],\n",
       "       [0.00000062, 0.02134007, 0.97865931],\n",
       "       [0.00000523, 0.05328102, 0.94671375],\n",
       "       [0.00000066, 0.00573939, 0.99425996],\n",
       "       [0.00030254, 0.21041185, 0.78928561],\n",
       "       [0.00007283, 0.13728785, 0.86263932],\n",
       "       [0.0000213 , 0.06524728, 0.93473143],\n",
       "       [0.00022964, 0.14522407, 0.85454629],\n",
       "       [0.00006916, 0.04349276, 0.95643809],\n",
       "       [0.00005169, 0.05401221, 0.94593609],\n",
       "       [0.00005567, 0.12287411, 0.87707022],\n",
       "       [0.00000008, 0.0035583 , 0.99644161],\n",
       "       [0.        , 0.00100017, 0.99899983],\n",
       "       [0.00038985, 0.45196834, 0.5476418 ],\n",
       "       [0.00000561, 0.02383909, 0.9761553 ],\n",
       "       [0.0006145 , 0.19040725, 0.80897825],\n",
       "       [0.00000003, 0.00465373, 0.99534624],\n",
       "       [0.0005861 , 0.39303439, 0.60637951],\n",
       "       [0.00001285, 0.03858765, 0.9613995 ],\n",
       "       [0.00000486, 0.05147215, 0.94852299],\n",
       "       [0.00107354, 0.45643323, 0.54249323],\n",
       "       [0.00102421, 0.38528729, 0.61368851],\n",
       "       [0.00001067, 0.03632918, 0.96366015],\n",
       "       [0.0000169 , 0.14195915, 0.85802394],\n",
       "       [0.00000106, 0.02919372, 0.97080522],\n",
       "       [0.0000007 , 0.01740914, 0.98259016],\n",
       "       [0.0000079 , 0.02725476, 0.97273734],\n",
       "       [0.00052922, 0.47553102, 0.52393976],\n",
       "       [0.00006271, 0.18857698, 0.81136031],\n",
       "       [0.00000039, 0.01174191, 0.98825769],\n",
       "       [0.00001164, 0.01731771, 0.98267065],\n",
       "       [0.00006775, 0.11944979, 0.88048247],\n",
       "       [0.0016229 , 0.44030326, 0.55807384],\n",
       "       [0.00003973, 0.09345689, 0.90650339],\n",
       "       [0.00000632, 0.02028149, 0.9797122 ],\n",
       "       [0.0000998 , 0.12060898, 0.87929122],\n",
       "       [0.00024313, 0.16253649, 0.83722039],\n",
       "       [0.00000205, 0.01258114, 0.98741681],\n",
       "       [0.00000382, 0.0120981 , 0.98789809],\n",
       "       [0.000056  , 0.0800877 , 0.9198563 ],\n",
       "       [0.0002273 , 0.25189813, 0.74787457],\n",
       "       [0.00013854, 0.15708766, 0.8427738 ],\n",
       "       [0.00004572, 0.03840781, 0.96154647],\n",
       "       [0.00047623, 0.23482368, 0.76470009]])"
      ]
     },
     "execution_count": 51,
     "metadata": {},
     "output_type": "execute_result"
    }
   ],
   "source": [
    "preds"
   ]
  },
  {
   "cell_type": "markdown",
   "id": "dbccef1c-86d8-48b7-bc76-5787713e42a0",
   "metadata": {},
   "source": [
    "https://scikit-learn.org/stable/modules/generated/sklearn.model_selection.GridSearchCV.html?highlight=gridsearch#sklearn.model_selection.GridSearchCV"
   ]
  },
  {
   "cell_type": "code",
   "execution_count": 29,
   "id": "a85edca1-b616-4f7f-8038-4b1060ad3536",
   "metadata": {},
   "outputs": [
    {
     "name": "stdout",
     "output_type": "stream",
     "text": [
      "Fitting 5 folds for each of 40 candidates, totalling 200 fits\n"
     ]
    }
   ],
   "source": [
    "# https://scikit-learn.org/stable/auto_examples/miscellaneous/plot_pipeline_display.html?highlight=grid%20search#displaying-a-grid-search-over-a-pipeline-with-a-classifier\n",
    "\n",
    "from sklearn.pipeline import Pipeline\n",
    "from sklearn.model_selection import GridSearchCV\n",
    "\n",
    "pipe = Pipeline([('classifier' , LogisticRegression())])\n",
    "\n",
    "# Create param grid.\n",
    "\n",
    "param_grid = [\n",
    "    {'classifier' : [LogisticRegression()],\n",
    "     'classifier__penalty' : ['l1', 'l2'],\n",
    "    'classifier__C' : np.logspace(-4, 4, 20),\n",
    "    'classifier__solver' : ['liblinear']},\n",
    "]\n",
    "\n",
    "# Create grid search object\n",
    "\n",
    "clf = GridSearchCV(pipe, param_grid = param_grid, cv = 5, verbose=True, n_jobs=-1)\n",
    "\n",
    "# Fit on data\n",
    "\n",
    "grid_clf = clf.fit(X, y)"
   ]
  },
  {
   "cell_type": "code",
   "execution_count": 30,
   "id": "6f2ee785-e637-4fc1-85a9-a7ea8ec127cc",
   "metadata": {},
   "outputs": [
    {
     "data": {
      "text/plain": [
       "0.98"
      ]
     },
     "execution_count": 30,
     "metadata": {},
     "output_type": "execute_result"
    }
   ],
   "source": [
    "grid_clf.score(X, y)"
   ]
  },
  {
   "cell_type": "markdown",
   "id": "faa2a492-d125-4d85-8795-b7a055fb87f7",
   "metadata": {},
   "source": [
    "https://scikit-learn.org/stable/auto_examples/compose/plot_digits_pipe.html#sphx-glr-auto-examples-compose-plot-digits-pipe-py"
   ]
  },
  {
   "cell_type": "code",
   "execution_count": 54,
   "id": "517a0fd7-885b-4d84-b7d0-3975de032764",
   "metadata": {},
   "outputs": [
    {
     "data": {
      "text/plain": [
       "array([[  9.73793724,  -2.35789446, -38.46549444],\n",
       "       [  7.80928462,  -0.93392793, -35.51128332],\n",
       "       [  8.84085257,  -1.57248307, -36.47427361],\n",
       "       [  7.31275309,  -1.01546741, -34.38619375],\n",
       "       [  9.98318112,  -2.61236528, -38.61948564],\n",
       "       [  9.28189433,  -3.69000404, -37.12945843],\n",
       "       [  8.63250221,  -2.24919731, -35.35366842],\n",
       "       [  8.75091795,  -1.9304923 , -37.03242247],\n",
       "       [  6.96195511,  -0.5495036 , -33.48507345],\n",
       "       [  7.87190143,  -0.80471698, -36.40791923],\n",
       "       [ 10.18908282,  -2.84551719, -39.67865119],\n",
       "       [  8.00914255,  -1.75756096, -35.75334169],\n",
       "       [  7.96704254,  -0.63654182, -36.28486302],\n",
       "       [  9.08854512,  -0.91708773, -36.68970444],\n",
       "       [ 13.25048828,  -4.14938259, -44.28990356],\n",
       "       [ 12.39305495,  -5.39485649, -41.70572176],\n",
       "       [ 11.44621513,  -4.20845804, -39.74948996],\n",
       "       [  9.47983171,  -2.63362165, -37.3798783 ],\n",
       "       [  9.49545119,  -3.20312387, -38.68515626],\n",
       "       [  9.97552596,  -3.33239736, -38.12295335],\n",
       "       [  8.07014797,  -1.75790098, -36.97055248],\n",
       "       [  9.37182895,  -3.33199481, -36.57130956],\n",
       "       [ 11.7461115 ,  -3.0441836 , -39.9913714 ],\n",
       "       [  6.64919709,  -2.24397604, -32.31156707],\n",
       "       [  6.38590195,  -1.36872045, -33.78831804],\n",
       "       [  6.82747182,  -0.69635985, -34.513304  ],\n",
       "       [  7.6936267 ,  -2.35233317, -34.2061823 ],\n",
       "       [  9.29720465,  -2.24993988, -38.122523  ],\n",
       "       [  9.49269336,  -2.10342364, -38.31150324],\n",
       "       [  7.21761198,  -1.18364256, -34.50924995],\n",
       "       [  6.9723681 ,  -0.92917175, -34.35525875],\n",
       "       [  8.63609731,  -2.56858236, -36.10933596],\n",
       "       [ 11.62885907,  -3.63099111, -42.00430502],\n",
       "       [ 12.55846804,  -4.3774383 , -42.97583375],\n",
       "       [  7.6137959 ,  -1.08044417, -35.32230308],\n",
       "       [  9.68297559,  -1.76707333, -38.06539083],\n",
       "       [ 10.68040786,  -2.57414364, -40.36864811],\n",
       "       [ 10.14093904,  -2.31497917, -39.39306534],\n",
       "       [  7.8486268 ,  -0.95524683, -34.60610898],\n",
       "       [  8.85126556,  -1.95215122, -37.34445891],\n",
       "       [  9.92056431,  -2.74157623, -37.72284974],\n",
       "       [  5.27172849,   0.68027522, -30.57033576],\n",
       "       [  8.53980976,  -1.50750631, -35.53816427],\n",
       "       [  7.52300712,  -3.17991729, -32.50097765],\n",
       "       [  7.55309964,  -3.08967054, -34.41730567],\n",
       "       [  7.45083148,  -1.1879962 , -34.11363073],\n",
       "       [  9.69255129,  -2.92705667, -38.55356161],\n",
       "       [  8.19942477,  -1.42121065, -35.50722928],\n",
       "       [ 10.08873522,  -2.82385827, -39.36661474],\n",
       "       [  8.94640667,  -1.78397606, -37.22140271],\n",
       "       [-10.34514564,  -0.97250543,  -8.35345008],\n",
       "       [-10.1231764 ,  -1.37750611,  -6.70563103],\n",
       "       [-12.13135066,  -0.69121696,  -5.17975408],\n",
       "       [-10.91501613,   1.20597868,  -5.14932591],\n",
       "       [-11.94627492,  -0.16503258,  -4.49854901],\n",
       "       [-11.6917645 ,   0.43007966,  -4.82849761],\n",
       "       [-11.21819845,  -1.64847711,  -4.46399032],\n",
       "       [ -6.60963229,   0.97968951, -11.5850385 ],\n",
       "       [-10.98412478,   0.08863314,  -7.44784539],\n",
       "       [ -9.55071834,  -0.2389042 ,  -5.6467189 ],\n",
       "       [ -8.97381102,   2.32177654,  -8.72294859],\n",
       "       [ -9.69285679,  -1.10579254,  -6.17841716],\n",
       "       [ -9.984553  ,   2.20099538,  -9.50032893],\n",
       "       [-12.28504853,   0.05081406,  -4.14703913],\n",
       "       [ -6.57679883,  -0.99091267, -10.87755977],\n",
       "       [ -9.36853934,  -1.02023944,  -8.91633675],\n",
       "       [-11.6171402 ,  -0.65197527,  -3.27728417],\n",
       "       [ -8.998371  ,   0.99327803, -10.55138638],\n",
       "       [-13.77978644,   1.4271091 ,  -1.42128168],\n",
       "       [ -9.0661943 ,   1.05390116,  -9.21965782],\n",
       "       [-13.0224716 ,  -1.70755257,   0.07642328],\n",
       "       [ -8.58497309,  -0.30462353,  -9.35168282],\n",
       "       [-14.80698518,   1.09551498,  -0.51136953],\n",
       "       [-12.11442895,   0.87839817,  -5.85224377],\n",
       "       [ -9.56157939,  -0.25688952,  -8.78879615],\n",
       "       [ -9.81447843,  -0.72245079,  -8.13827266],\n",
       "       [-12.46928698,   0.30494486,  -5.21025872],\n",
       "       [-13.7349286 ,  -0.79361026,  -1.26341337],\n",
       "       [-11.56134126,  -0.46248122,  -4.05940231],\n",
       "       [ -6.19782889,   0.51338568, -13.70336959],\n",
       "       [ -8.97105319,   1.22207631,  -9.09660161],\n",
       "       [ -8.17186746,   1.36819   , -10.83722564],\n",
       "       [ -8.43242166,   0.18259665,  -9.69016986],\n",
       "       [-15.75711095,   0.59173208,   1.88831643],\n",
       "       [-11.81783541,  -0.60865743,  -2.65321128],\n",
       "       [-10.09148938,  -2.11885709,  -5.3039244 ],\n",
       "       [-11.24988547,  -0.90712613,  -5.86569696],\n",
       "       [-12.27655609,   1.55116132,  -5.02558594],\n",
       "       [ -8.93660834,  -0.6189749 ,  -8.06854799],\n",
       "       [-10.22383316,   0.6537192 ,  -6.0813812 ],\n",
       "       [-11.78445695,   1.17177066,  -5.01299346],\n",
       "       [-11.39837685,  -0.35492918,  -5.26807466],\n",
       "       [ -9.31909334,   0.58833989,  -8.56913433],\n",
       "       [ -6.85487617,   1.23416033, -11.4310473 ],\n",
       "       [-10.51446299,   0.33902781,  -6.01545717],\n",
       "       [ -9.11923541,  -0.23529313,  -8.8111927 ],\n",
       "       [ -9.72293242,  -0.23489058,  -7.25954891],\n",
       "       [ -9.7622746 ,  -0.21357168,  -8.16472326],\n",
       "       [ -4.69821053,  -0.00432576, -13.55454655],\n",
       "       [ -9.52744371,  -0.08837435,  -7.44852915],\n",
       "       [-20.57519079,  -2.44504629,  13.82165747],\n",
       "       [-16.73212275,  -0.19213165,   5.76923775],\n",
       "       [-19.23568209,  -0.81663318,   7.72597638],\n",
       "       [-17.98649723,   0.07110898,   5.46642351],\n",
       "       [-19.55479305,  -1.09202035,  10.02880331],\n",
       "       [-22.52150547,  -0.01763327,  10.75084934],\n",
       "       [-14.5637419 ,   0.32883147,   3.40834147],\n",
       "       [-20.77058258,   0.76181429,   6.93111424],\n",
       "       [-20.04963314,   1.34821925,   7.39240408],\n",
       "       [-19.17636811,  -3.33875227,  10.2702544 ],\n",
       "       [-14.55983763,  -2.00011996,   2.34046055],\n",
       "       [-17.21219752,  -0.06285816,   5.20703485],\n",
       "       [-17.37240411,  -1.27011043,   6.04205418],\n",
       "       [-17.24067865,  -0.02355394,   7.44393775],\n",
       "       [-17.67705891,  -1.84689733,  10.73129083],\n",
       "       [-16.51666222,  -2.5464156 ,   7.21936119],\n",
       "       [-16.89913034,  -0.3779521 ,   3.72131509],\n",
       "       [-20.45561173,  -2.39444377,   8.45121575],\n",
       "       [-25.94297545,   0.90261289,  16.43917941],\n",
       "       [-16.68588264,   2.11849445,   2.47783063],\n",
       "       [-18.179245  ,  -2.1362562 ,   8.2792105 ],\n",
       "       [-15.7631716 ,  -0.95989774,   5.70288337],\n",
       "       [-23.3953155 ,   0.91830797,  10.94025992],\n",
       "       [-14.8901188 ,  -0.28392606,   1.81342361],\n",
       "       [-17.51813766,  -1.81761372,   6.26602345],\n",
       "       [-18.21091514,  -0.43375651,   3.88004409],\n",
       "       [-14.10379472,  -0.66801038,   1.00442453],\n",
       "       [-14.05403956,  -1.06899743,   1.03941357],\n",
       "       [-19.00605769,  -0.50160177,   8.87726314],\n",
       "       [-17.30372665,   0.41073034,   1.33085133],\n",
       "       [-20.19177159,   0.48133091,   6.86070581],\n",
       "       [-18.11546486,  -2.27514774,   3.69088692],\n",
       "       [-19.26416322,  -0.77732896,   9.96287928],\n",
       "       [-14.85237113,   0.52635277,  -0.5994367 ],\n",
       "       [-18.19154477,   2.04572478,   3.14611476],\n",
       "       [-20.23196793,  -1.23881407,   9.33500576],\n",
       "       [-17.80717299,  -2.96390284,   9.64998214],\n",
       "       [-16.65388646,  -0.63242292,   3.56732389],\n",
       "       [-13.61330696,  -1.17695201,   0.69644213],\n",
       "       [-16.38538482,  -1.69751259,   4.6089822 ],\n",
       "       [-18.44255702,  -2.22214931,   9.79991929],\n",
       "       [-15.27835529,  -2.63780747,   4.81519084],\n",
       "       [-16.73212275,  -0.19213165,   5.76923775],\n",
       "       [-19.361753  ,  -1.85537027,   9.90126271],\n",
       "       [-18.55055978,  -2.92052247,  10.60848803],\n",
       "       [-16.36572218,  -2.18874639,   6.56029926],\n",
       "       [-16.38048749,   0.12221973,   4.48610293],\n",
       "       [-15.7921008 ,  -1.31824698,   3.92752372],\n",
       "       [-16.56725466,  -2.92574373,   7.56638667],\n",
       "       [-15.33689517,  -0.76645259,   2.97350223]])"
      ]
     },
     "execution_count": 54,
     "metadata": {},
     "output_type": "execute_result"
    }
   ],
   "source": [
    "grid_clf.decision_function(X)"
   ]
  },
  {
   "cell_type": "code",
   "execution_count": null,
   "id": "f6a53bb4-86c9-47b7-a989-84b1be16bb66",
   "metadata": {},
   "outputs": [],
   "source": []
  }
 ],
 "metadata": {
  "kernelspec": {
   "display_name": "Python 3 (ipykernel)",
   "language": "python",
   "name": "python3"
  },
  "language_info": {
   "codemirror_mode": {
    "name": "ipython",
    "version": 3
   },
   "file_extension": ".py",
   "mimetype": "text/x-python",
   "name": "python",
   "nbconvert_exporter": "python",
   "pygments_lexer": "ipython3",
   "version": "3.10.10"
  }
 },
 "nbformat": 4,
 "nbformat_minor": 5
}

{
 "cells": [
  {
   "cell_type": "markdown",
   "id": "9a146950-b957-4bbe-8572-9e760db71ab7",
   "metadata": {},
   "source": [
    "# Lecture 11a\n",
    ". Naive Bayes Classification\n",
    "\n",
    "Learn to find the implementation: [Scikit-learn,](https://scikit-learn.org/stable/#)\n",
    "[Naive Bayes](https://scikit-learn.org/stable/modules/naive_bayes.html)\n",
    "\n",
    "## Dataset: iris flowers,\n",
    "loaded from csv file on your disk, or from seaborn, or from scikit-learn   \n",
    "[Data Source: UCI](https://archive.ics.uci.edu/ml/datasets/iris)\n",
    "\n",
    "[Data Info](https://archive.ics.uci.edu/ml/datasets/iris)  \n",
    "\n",
    "\n",
    "**Summary about the algo:**    \n",
    "Naive Bayes is an \"supervised learning\" model.   \n",
    "We know the labels. We have a \"y\" target variable. \n",
    "\n",
    "Goal:  \n",
    "Classify observations in known categories.\n",
    "\n",
    "Important note:   \n",
    "Assumption of conditional independence between every pair of features.  "
   ]
  },
  {
   "cell_type": "code",
   "execution_count": 1,
   "id": "1f676bdd-49a5-400b-a95f-39988f3a7762",
   "metadata": {},
   "outputs": [],
   "source": [
    "# use pwd command to see in which folder we are working in.\n",
    "# pwd means present working directory\n",
    "# you may need !pwd in Mac OS"
   ]
  },
  {
   "cell_type": "code",
   "execution_count": 2,
   "id": "a260a08c-b3ca-4339-a232-b00c55f3bc64",
   "metadata": {},
   "outputs": [
    {
     "data": {
      "text/plain": [
       "'C:\\\\Users\\\\tharg\\\\uoa_py_course\\\\lectures\\\\ipynb_files\\\\lecture_11_nbc_logregc\\\\nbc'"
      ]
     },
     "execution_count": 2,
     "metadata": {},
     "output_type": "execute_result"
    }
   ],
   "source": [
    "pwd  "
   ]
  },
  {
   "cell_type": "markdown",
   "id": "bf1b6413-db3f-4add-86fe-ec4906024a28",
   "metadata": {},
   "source": [
    "# A. Import the necessary modules.   \n",
    "You may add libraries here as you go on with your work. But, all imports should be at the first code cell."
   ]
  },
  {
   "cell_type": "code",
   "execution_count": 3,
   "id": "883d265f-6382-4423-a500-ed6737120a43",
   "metadata": {},
   "outputs": [],
   "source": [
    "# data management libraries\n",
    "import pandas as pd\n",
    "import numpy as np\n",
    "\n",
    "# visualization libraries\n",
    "import matplotlib.pyplot as plt\n",
    "import seaborn as sns\n",
    "\n",
    "# interactive visualizarion libaries\n",
    "import plotly.express as px\n",
    "from plotly.subplots import make_subplots\n",
    "import plotly.graph_objects as go\n",
    "\n",
    "# scikit learn algo library (google it)\n",
    "from sklearn import datasets\n",
    "from sklearn.naive_bayes import GaussianNB\n",
    "# data preprocessing \n",
    "from sklearn.model_selection import train_test_split\n",
    "# algo metric\n",
    "from sklearn.metrics import silhouette_samples, silhouette_score, accuracy_score"
   ]
  },
  {
   "cell_type": "markdown",
   "id": "5ec850b0-263e-47bc-ac89-c259463884dd",
   "metadata": {},
   "source": [
    "# B. Load the data and understand its features.   \n",
    "See which are the variables, what is their type, what are the values that the variables take.  \n",
    "At this step, you should think about possible relations that you ought to examine.   \n",
    "Which do you think might be more important?"
   ]
  },
  {
   "cell_type": "code",
   "execution_count": 4,
   "id": "7c4b8c84-c36c-421d-a999-d1cb8de11699",
   "metadata": {
    "tags": []
   },
   "outputs": [],
   "source": [
    "# load iris from scikit-learn\n",
    "iris = datasets.load_iris(as_frame=True)"
   ]
  },
  {
   "cell_type": "code",
   "execution_count": 5,
   "id": "721a2d08-f89d-4c5a-bb98-e226cdf99d04",
   "metadata": {},
   "outputs": [],
   "source": [
    "# we name all data as \"df\" because we have no imagination?\n",
    "# if your notebook is in the same folder as the data file:\n",
    "# just use the files name.\n",
    "# df = pd.read_csv(\"iris.csv\")\n",
    "\n",
    "# or if you data is inside a folder called data, above your working folder:\n",
    "# you get extra points for that.\n",
    "#df = pd.read_csv(\"../data/iris.csv\")\n",
    "\n",
    "# or use an absolute path, that is too ugly, and shows you did not study paths:\n",
    "#df = pd.read_csv(\"C:\\\\Users\\\\tharg\\\\......\\\\.....\n"
   ]
  },
  {
   "cell_type": "code",
   "execution_count": 6,
   "id": "ef6a3d74-2047-4e67-9a28-60335b61ae38",
   "metadata": {
    "tags": []
   },
   "outputs": [],
   "source": [
    "df = pd.DataFrame(iris.frame)"
   ]
  },
  {
   "cell_type": "code",
   "execution_count": 7,
   "id": "a5060823-d367-4ac4-b5ea-713b497dceb2",
   "metadata": {
    "tags": []
   },
   "outputs": [
    {
     "data": {
      "text/html": [
       "<div>\n",
       "<style scoped>\n",
       "    .dataframe tbody tr th:only-of-type {\n",
       "        vertical-align: middle;\n",
       "    }\n",
       "\n",
       "    .dataframe tbody tr th {\n",
       "        vertical-align: top;\n",
       "    }\n",
       "\n",
       "    .dataframe thead th {\n",
       "        text-align: right;\n",
       "    }\n",
       "</style>\n",
       "<table border=\"1\" class=\"dataframe\">\n",
       "  <thead>\n",
       "    <tr style=\"text-align: right;\">\n",
       "      <th></th>\n",
       "      <th>sepal length (cm)</th>\n",
       "      <th>sepal width (cm)</th>\n",
       "      <th>petal length (cm)</th>\n",
       "      <th>petal width (cm)</th>\n",
       "      <th>target</th>\n",
       "    </tr>\n",
       "  </thead>\n",
       "  <tbody>\n",
       "    <tr>\n",
       "      <th>0</th>\n",
       "      <td>5.1</td>\n",
       "      <td>3.5</td>\n",
       "      <td>1.4</td>\n",
       "      <td>0.2</td>\n",
       "      <td>0</td>\n",
       "    </tr>\n",
       "    <tr>\n",
       "      <th>1</th>\n",
       "      <td>4.9</td>\n",
       "      <td>3.0</td>\n",
       "      <td>1.4</td>\n",
       "      <td>0.2</td>\n",
       "      <td>0</td>\n",
       "    </tr>\n",
       "    <tr>\n",
       "      <th>2</th>\n",
       "      <td>4.7</td>\n",
       "      <td>3.2</td>\n",
       "      <td>1.3</td>\n",
       "      <td>0.2</td>\n",
       "      <td>0</td>\n",
       "    </tr>\n",
       "    <tr>\n",
       "      <th>3</th>\n",
       "      <td>4.6</td>\n",
       "      <td>3.1</td>\n",
       "      <td>1.5</td>\n",
       "      <td>0.2</td>\n",
       "      <td>0</td>\n",
       "    </tr>\n",
       "    <tr>\n",
       "      <th>4</th>\n",
       "      <td>5.0</td>\n",
       "      <td>3.6</td>\n",
       "      <td>1.4</td>\n",
       "      <td>0.2</td>\n",
       "      <td>0</td>\n",
       "    </tr>\n",
       "  </tbody>\n",
       "</table>\n",
       "</div>"
      ],
      "text/plain": [
       "   sepal length (cm)  sepal width (cm)  petal length (cm)  petal width (cm)  \\\n",
       "0                5.1               3.5                1.4               0.2   \n",
       "1                4.9               3.0                1.4               0.2   \n",
       "2                4.7               3.2                1.3               0.2   \n",
       "3                4.6               3.1                1.5               0.2   \n",
       "4                5.0               3.6                1.4               0.2   \n",
       "\n",
       "   target  \n",
       "0       0  \n",
       "1       0  \n",
       "2       0  \n",
       "3       0  \n",
       "4       0  "
      ]
     },
     "execution_count": 7,
     "metadata": {},
     "output_type": "execute_result"
    }
   ],
   "source": [
    "df.head()"
   ]
  },
  {
   "cell_type": "code",
   "execution_count": 8,
   "id": "cfe582bc-3274-40cd-85ce-0660a262262c",
   "metadata": {},
   "outputs": [
    {
     "data": {
      "text/plain": [
       "Index(['sepal length (cm)', 'sepal width (cm)', 'petal length (cm)',\n",
       "       'petal width (cm)', 'target'],\n",
       "      dtype='object')"
      ]
     },
     "execution_count": 8,
     "metadata": {},
     "output_type": "execute_result"
    }
   ],
   "source": [
    "# show column names of dataset.\n",
    "# 5 columns with suboptimal names.\n",
    "df.columns"
   ]
  },
  {
   "cell_type": "code",
   "execution_count": 9,
   "id": "05ce45e9-69ef-44ed-9188-44bed4268e57",
   "metadata": {},
   "outputs": [
    {
     "data": {
      "text/plain": [
       "sepal length (cm)    float64\n",
       "sepal width (cm)     float64\n",
       "petal length (cm)    float64\n",
       "petal width (cm)     float64\n",
       "target                 int32\n",
       "dtype: object"
      ]
     },
     "execution_count": 9,
     "metadata": {},
     "output_type": "execute_result"
    }
   ],
   "source": [
    "# show data types of dataset.\n",
    "# four numeric, one categorical variable type.\n",
    "df.dtypes"
   ]
  },
  {
   "cell_type": "code",
   "execution_count": 10,
   "id": "36f4820c-e1c9-4326-a9d9-fc04866d3320",
   "metadata": {},
   "outputs": [
    {
     "name": "stdout",
     "output_type": "stream",
     "text": [
      "<class 'pandas.core.frame.DataFrame'>\n",
      "RangeIndex: 150 entries, 0 to 149\n",
      "Data columns (total 5 columns):\n",
      " #   Column             Non-Null Count  Dtype  \n",
      "---  ------             --------------  -----  \n",
      " 0   sepal length (cm)  150 non-null    float64\n",
      " 1   sepal width (cm)   150 non-null    float64\n",
      " 2   petal length (cm)  150 non-null    float64\n",
      " 3   petal width (cm)   150 non-null    float64\n",
      " 4   target             150 non-null    int32  \n",
      "dtypes: float64(4), int32(1)\n",
      "memory usage: 5.4 KB\n"
     ]
    }
   ],
   "source": [
    "# simple commnand to show column names and data types.\n",
    "df.info()"
   ]
  },
  {
   "cell_type": "markdown",
   "id": "941c0e29-5684-4a38-8e0b-db02afdabfb5",
   "metadata": {},
   "source": [
    "### Short summary notes about the variables.\n",
    "CustomerID is not important, unless you know who is who.  \n",
    "\n",
    "Spending score is what makes a huge difference. How could we group the customers, according to their spending score, gender, income, age?   \n",
    "\n",
    "The second most important variable, in this case, should be annual income.  \n",
    "\n",
    "Gender might, or might might not make a difference.  \n",
    "\n",
    "Age is a tricky variable. Depending in the issue in question, it might be in linear correlation with the other variables, or it might grow and then gradually fall in importance. e.g. The possibility of deseases and age should be correlated and should grow as age grows. On the other hand, income could grow as age grows but then, after retirement, as age grows income might fall. The same line of thought might apply to age and spending score.   \n",
    "\n",
    "Conclusion, we want to group customers in clusters. We examine the variables and their relationships. Finally, we separate the customes in clusters."
   ]
  },
  {
   "cell_type": "markdown",
   "id": "4ce59601-8e48-4e85-a6d3-373e392659d7",
   "metadata": {},
   "source": [
    "# C. Descriptive statistics (DStats) and Exploratory Data Analysis (EDA)\n",
    "\n",
    "## C.1. Descriptive Statistics (DStats)"
   ]
  },
  {
   "cell_type": "code",
   "execution_count": 11,
   "id": "67ee96f0-590b-488b-ac50-8ce1cc5dfbe0",
   "metadata": {},
   "outputs": [
    {
     "data": {
      "text/html": [
       "<div>\n",
       "<style scoped>\n",
       "    .dataframe tbody tr th:only-of-type {\n",
       "        vertical-align: middle;\n",
       "    }\n",
       "\n",
       "    .dataframe tbody tr th {\n",
       "        vertical-align: top;\n",
       "    }\n",
       "\n",
       "    .dataframe thead th {\n",
       "        text-align: right;\n",
       "    }\n",
       "</style>\n",
       "<table border=\"1\" class=\"dataframe\">\n",
       "  <thead>\n",
       "    <tr style=\"text-align: right;\">\n",
       "      <th></th>\n",
       "      <th>sepal length (cm)</th>\n",
       "      <th>sepal width (cm)</th>\n",
       "      <th>petal length (cm)</th>\n",
       "      <th>petal width (cm)</th>\n",
       "      <th>target</th>\n",
       "    </tr>\n",
       "  </thead>\n",
       "  <tbody>\n",
       "    <tr>\n",
       "      <th>count</th>\n",
       "      <td>150.000000</td>\n",
       "      <td>150.000000</td>\n",
       "      <td>150.000000</td>\n",
       "      <td>150.000000</td>\n",
       "      <td>150.000000</td>\n",
       "    </tr>\n",
       "    <tr>\n",
       "      <th>mean</th>\n",
       "      <td>5.843333</td>\n",
       "      <td>3.057333</td>\n",
       "      <td>3.758000</td>\n",
       "      <td>1.199333</td>\n",
       "      <td>1.000000</td>\n",
       "    </tr>\n",
       "    <tr>\n",
       "      <th>std</th>\n",
       "      <td>0.828066</td>\n",
       "      <td>0.435866</td>\n",
       "      <td>1.765298</td>\n",
       "      <td>0.762238</td>\n",
       "      <td>0.819232</td>\n",
       "    </tr>\n",
       "    <tr>\n",
       "      <th>min</th>\n",
       "      <td>4.300000</td>\n",
       "      <td>2.000000</td>\n",
       "      <td>1.000000</td>\n",
       "      <td>0.100000</td>\n",
       "      <td>0.000000</td>\n",
       "    </tr>\n",
       "    <tr>\n",
       "      <th>25%</th>\n",
       "      <td>5.100000</td>\n",
       "      <td>2.800000</td>\n",
       "      <td>1.600000</td>\n",
       "      <td>0.300000</td>\n",
       "      <td>0.000000</td>\n",
       "    </tr>\n",
       "    <tr>\n",
       "      <th>50%</th>\n",
       "      <td>5.800000</td>\n",
       "      <td>3.000000</td>\n",
       "      <td>4.350000</td>\n",
       "      <td>1.300000</td>\n",
       "      <td>1.000000</td>\n",
       "    </tr>\n",
       "    <tr>\n",
       "      <th>75%</th>\n",
       "      <td>6.400000</td>\n",
       "      <td>3.300000</td>\n",
       "      <td>5.100000</td>\n",
       "      <td>1.800000</td>\n",
       "      <td>2.000000</td>\n",
       "    </tr>\n",
       "    <tr>\n",
       "      <th>max</th>\n",
       "      <td>7.900000</td>\n",
       "      <td>4.400000</td>\n",
       "      <td>6.900000</td>\n",
       "      <td>2.500000</td>\n",
       "      <td>2.000000</td>\n",
       "    </tr>\n",
       "  </tbody>\n",
       "</table>\n",
       "</div>"
      ],
      "text/plain": [
       "       sepal length (cm)  sepal width (cm)  petal length (cm)  \\\n",
       "count         150.000000        150.000000         150.000000   \n",
       "mean            5.843333          3.057333           3.758000   \n",
       "std             0.828066          0.435866           1.765298   \n",
       "min             4.300000          2.000000           1.000000   \n",
       "25%             5.100000          2.800000           1.600000   \n",
       "50%             5.800000          3.000000           4.350000   \n",
       "75%             6.400000          3.300000           5.100000   \n",
       "max             7.900000          4.400000           6.900000   \n",
       "\n",
       "       petal width (cm)      target  \n",
       "count        150.000000  150.000000  \n",
       "mean           1.199333    1.000000  \n",
       "std            0.762238    0.819232  \n",
       "min            0.100000    0.000000  \n",
       "25%            0.300000    0.000000  \n",
       "50%            1.300000    1.000000  \n",
       "75%            1.800000    2.000000  \n",
       "max            2.500000    2.000000  "
      ]
     },
     "execution_count": 11,
     "metadata": {},
     "output_type": "execute_result"
    }
   ],
   "source": [
    "# very basic DStats\n",
    "df.describe()  # show only numeric variables"
   ]
  },
  {
   "cell_type": "code",
   "execution_count": 12,
   "id": "f2160341-5075-4ab6-ad5e-afe700f299b2",
   "metadata": {},
   "outputs": [
    {
     "data": {
      "text/html": [
       "<div>\n",
       "<style scoped>\n",
       "    .dataframe tbody tr th:only-of-type {\n",
       "        vertical-align: middle;\n",
       "    }\n",
       "\n",
       "    .dataframe tbody tr th {\n",
       "        vertical-align: top;\n",
       "    }\n",
       "\n",
       "    .dataframe thead th {\n",
       "        text-align: right;\n",
       "    }\n",
       "</style>\n",
       "<table border=\"1\" class=\"dataframe\">\n",
       "  <thead>\n",
       "    <tr style=\"text-align: right;\">\n",
       "      <th></th>\n",
       "      <th>target</th>\n",
       "      <th>0</th>\n",
       "      <th>1</th>\n",
       "      <th>2</th>\n",
       "    </tr>\n",
       "  </thead>\n",
       "  <tbody>\n",
       "    <tr>\n",
       "      <th rowspan=\"8\" valign=\"top\">sepal length (cm)</th>\n",
       "      <th>count</th>\n",
       "      <td>50.000000</td>\n",
       "      <td>50.000000</td>\n",
       "      <td>50.000000</td>\n",
       "    </tr>\n",
       "    <tr>\n",
       "      <th>mean</th>\n",
       "      <td>5.006000</td>\n",
       "      <td>5.936000</td>\n",
       "      <td>6.588000</td>\n",
       "    </tr>\n",
       "    <tr>\n",
       "      <th>std</th>\n",
       "      <td>0.352490</td>\n",
       "      <td>0.516171</td>\n",
       "      <td>0.635880</td>\n",
       "    </tr>\n",
       "    <tr>\n",
       "      <th>min</th>\n",
       "      <td>4.300000</td>\n",
       "      <td>4.900000</td>\n",
       "      <td>4.900000</td>\n",
       "    </tr>\n",
       "    <tr>\n",
       "      <th>25%</th>\n",
       "      <td>4.800000</td>\n",
       "      <td>5.600000</td>\n",
       "      <td>6.225000</td>\n",
       "    </tr>\n",
       "    <tr>\n",
       "      <th>50%</th>\n",
       "      <td>5.000000</td>\n",
       "      <td>5.900000</td>\n",
       "      <td>6.500000</td>\n",
       "    </tr>\n",
       "    <tr>\n",
       "      <th>75%</th>\n",
       "      <td>5.200000</td>\n",
       "      <td>6.300000</td>\n",
       "      <td>6.900000</td>\n",
       "    </tr>\n",
       "    <tr>\n",
       "      <th>max</th>\n",
       "      <td>5.800000</td>\n",
       "      <td>7.000000</td>\n",
       "      <td>7.900000</td>\n",
       "    </tr>\n",
       "    <tr>\n",
       "      <th rowspan=\"8\" valign=\"top\">sepal width (cm)</th>\n",
       "      <th>count</th>\n",
       "      <td>50.000000</td>\n",
       "      <td>50.000000</td>\n",
       "      <td>50.000000</td>\n",
       "    </tr>\n",
       "    <tr>\n",
       "      <th>mean</th>\n",
       "      <td>3.428000</td>\n",
       "      <td>2.770000</td>\n",
       "      <td>2.974000</td>\n",
       "    </tr>\n",
       "    <tr>\n",
       "      <th>std</th>\n",
       "      <td>0.379064</td>\n",
       "      <td>0.313798</td>\n",
       "      <td>0.322497</td>\n",
       "    </tr>\n",
       "    <tr>\n",
       "      <th>min</th>\n",
       "      <td>2.300000</td>\n",
       "      <td>2.000000</td>\n",
       "      <td>2.200000</td>\n",
       "    </tr>\n",
       "    <tr>\n",
       "      <th>25%</th>\n",
       "      <td>3.200000</td>\n",
       "      <td>2.525000</td>\n",
       "      <td>2.800000</td>\n",
       "    </tr>\n",
       "    <tr>\n",
       "      <th>50%</th>\n",
       "      <td>3.400000</td>\n",
       "      <td>2.800000</td>\n",
       "      <td>3.000000</td>\n",
       "    </tr>\n",
       "    <tr>\n",
       "      <th>75%</th>\n",
       "      <td>3.675000</td>\n",
       "      <td>3.000000</td>\n",
       "      <td>3.175000</td>\n",
       "    </tr>\n",
       "    <tr>\n",
       "      <th>max</th>\n",
       "      <td>4.400000</td>\n",
       "      <td>3.400000</td>\n",
       "      <td>3.800000</td>\n",
       "    </tr>\n",
       "    <tr>\n",
       "      <th rowspan=\"8\" valign=\"top\">petal length (cm)</th>\n",
       "      <th>count</th>\n",
       "      <td>50.000000</td>\n",
       "      <td>50.000000</td>\n",
       "      <td>50.000000</td>\n",
       "    </tr>\n",
       "    <tr>\n",
       "      <th>mean</th>\n",
       "      <td>1.462000</td>\n",
       "      <td>4.260000</td>\n",
       "      <td>5.552000</td>\n",
       "    </tr>\n",
       "    <tr>\n",
       "      <th>std</th>\n",
       "      <td>0.173664</td>\n",
       "      <td>0.469911</td>\n",
       "      <td>0.551895</td>\n",
       "    </tr>\n",
       "    <tr>\n",
       "      <th>min</th>\n",
       "      <td>1.000000</td>\n",
       "      <td>3.000000</td>\n",
       "      <td>4.500000</td>\n",
       "    </tr>\n",
       "    <tr>\n",
       "      <th>25%</th>\n",
       "      <td>1.400000</td>\n",
       "      <td>4.000000</td>\n",
       "      <td>5.100000</td>\n",
       "    </tr>\n",
       "    <tr>\n",
       "      <th>50%</th>\n",
       "      <td>1.500000</td>\n",
       "      <td>4.350000</td>\n",
       "      <td>5.550000</td>\n",
       "    </tr>\n",
       "    <tr>\n",
       "      <th>75%</th>\n",
       "      <td>1.575000</td>\n",
       "      <td>4.600000</td>\n",
       "      <td>5.875000</td>\n",
       "    </tr>\n",
       "    <tr>\n",
       "      <th>max</th>\n",
       "      <td>1.900000</td>\n",
       "      <td>5.100000</td>\n",
       "      <td>6.900000</td>\n",
       "    </tr>\n",
       "    <tr>\n",
       "      <th rowspan=\"8\" valign=\"top\">petal width (cm)</th>\n",
       "      <th>count</th>\n",
       "      <td>50.000000</td>\n",
       "      <td>50.000000</td>\n",
       "      <td>50.000000</td>\n",
       "    </tr>\n",
       "    <tr>\n",
       "      <th>mean</th>\n",
       "      <td>0.246000</td>\n",
       "      <td>1.326000</td>\n",
       "      <td>2.026000</td>\n",
       "    </tr>\n",
       "    <tr>\n",
       "      <th>std</th>\n",
       "      <td>0.105386</td>\n",
       "      <td>0.197753</td>\n",
       "      <td>0.274650</td>\n",
       "    </tr>\n",
       "    <tr>\n",
       "      <th>min</th>\n",
       "      <td>0.100000</td>\n",
       "      <td>1.000000</td>\n",
       "      <td>1.400000</td>\n",
       "    </tr>\n",
       "    <tr>\n",
       "      <th>25%</th>\n",
       "      <td>0.200000</td>\n",
       "      <td>1.200000</td>\n",
       "      <td>1.800000</td>\n",
       "    </tr>\n",
       "    <tr>\n",
       "      <th>50%</th>\n",
       "      <td>0.200000</td>\n",
       "      <td>1.300000</td>\n",
       "      <td>2.000000</td>\n",
       "    </tr>\n",
       "    <tr>\n",
       "      <th>75%</th>\n",
       "      <td>0.300000</td>\n",
       "      <td>1.500000</td>\n",
       "      <td>2.300000</td>\n",
       "    </tr>\n",
       "    <tr>\n",
       "      <th>max</th>\n",
       "      <td>0.600000</td>\n",
       "      <td>1.800000</td>\n",
       "      <td>2.500000</td>\n",
       "    </tr>\n",
       "  </tbody>\n",
       "</table>\n",
       "</div>"
      ],
      "text/plain": [
       "target                           0          1          2\n",
       "sepal length (cm) count  50.000000  50.000000  50.000000\n",
       "                  mean    5.006000   5.936000   6.588000\n",
       "                  std     0.352490   0.516171   0.635880\n",
       "                  min     4.300000   4.900000   4.900000\n",
       "                  25%     4.800000   5.600000   6.225000\n",
       "                  50%     5.000000   5.900000   6.500000\n",
       "                  75%     5.200000   6.300000   6.900000\n",
       "                  max     5.800000   7.000000   7.900000\n",
       "sepal width (cm)  count  50.000000  50.000000  50.000000\n",
       "                  mean    3.428000   2.770000   2.974000\n",
       "                  std     0.379064   0.313798   0.322497\n",
       "                  min     2.300000   2.000000   2.200000\n",
       "                  25%     3.200000   2.525000   2.800000\n",
       "                  50%     3.400000   2.800000   3.000000\n",
       "                  75%     3.675000   3.000000   3.175000\n",
       "                  max     4.400000   3.400000   3.800000\n",
       "petal length (cm) count  50.000000  50.000000  50.000000\n",
       "                  mean    1.462000   4.260000   5.552000\n",
       "                  std     0.173664   0.469911   0.551895\n",
       "                  min     1.000000   3.000000   4.500000\n",
       "                  25%     1.400000   4.000000   5.100000\n",
       "                  50%     1.500000   4.350000   5.550000\n",
       "                  75%     1.575000   4.600000   5.875000\n",
       "                  max     1.900000   5.100000   6.900000\n",
       "petal width (cm)  count  50.000000  50.000000  50.000000\n",
       "                  mean    0.246000   1.326000   2.026000\n",
       "                  std     0.105386   0.197753   0.274650\n",
       "                  min     0.100000   1.000000   1.400000\n",
       "                  25%     0.200000   1.200000   1.800000\n",
       "                  50%     0.200000   1.300000   2.000000\n",
       "                  75%     0.300000   1.500000   2.300000\n",
       "                  max     0.600000   1.800000   2.500000"
      ]
     },
     "execution_count": 12,
     "metadata": {},
     "output_type": "execute_result"
    }
   ],
   "source": [
    "# Show desc. Stats by class\n",
    "df.groupby(\"target\").describe().T"
   ]
  },
  {
   "cell_type": "markdown",
   "id": "ec1d1f37-271d-4746-9f78-6966607e59bc",
   "metadata": {},
   "source": [
    "# D. Apply Algo to the data\n",
    "## D.1. Define X and Y and Split set.\n",
    "\n",
    "Note: For simplicity reasons, I do not split the data in train and test set."
   ]
  },
  {
   "cell_type": "code",
   "execution_count": 15,
   "id": "71e29e57-ec56-4506-83b4-f04159289d14",
   "metadata": {},
   "outputs": [],
   "source": [
    "# create a matrix (πίνακας) of X features\n",
    "X = df.iloc[:,:-1]"
   ]
  },
  {
   "cell_type": "code",
   "execution_count": 16,
   "id": "4e49d510-586a-4bca-a53f-75ec4d4e517e",
   "metadata": {},
   "outputs": [
    {
     "data": {
      "text/html": [
       "<div>\n",
       "<style scoped>\n",
       "    .dataframe tbody tr th:only-of-type {\n",
       "        vertical-align: middle;\n",
       "    }\n",
       "\n",
       "    .dataframe tbody tr th {\n",
       "        vertical-align: top;\n",
       "    }\n",
       "\n",
       "    .dataframe thead th {\n",
       "        text-align: right;\n",
       "    }\n",
       "</style>\n",
       "<table border=\"1\" class=\"dataframe\">\n",
       "  <thead>\n",
       "    <tr style=\"text-align: right;\">\n",
       "      <th></th>\n",
       "      <th>sepal length (cm)</th>\n",
       "      <th>sepal width (cm)</th>\n",
       "      <th>petal length (cm)</th>\n",
       "      <th>petal width (cm)</th>\n",
       "    </tr>\n",
       "  </thead>\n",
       "  <tbody>\n",
       "    <tr>\n",
       "      <th>0</th>\n",
       "      <td>5.1</td>\n",
       "      <td>3.5</td>\n",
       "      <td>1.4</td>\n",
       "      <td>0.2</td>\n",
       "    </tr>\n",
       "    <tr>\n",
       "      <th>1</th>\n",
       "      <td>4.9</td>\n",
       "      <td>3.0</td>\n",
       "      <td>1.4</td>\n",
       "      <td>0.2</td>\n",
       "    </tr>\n",
       "    <tr>\n",
       "      <th>2</th>\n",
       "      <td>4.7</td>\n",
       "      <td>3.2</td>\n",
       "      <td>1.3</td>\n",
       "      <td>0.2</td>\n",
       "    </tr>\n",
       "  </tbody>\n",
       "</table>\n",
       "</div>"
      ],
      "text/plain": [
       "   sepal length (cm)  sepal width (cm)  petal length (cm)  petal width (cm)\n",
       "0                5.1               3.5                1.4               0.2\n",
       "1                4.9               3.0                1.4               0.2\n",
       "2                4.7               3.2                1.3               0.2"
      ]
     },
     "execution_count": 16,
     "metadata": {},
     "output_type": "execute_result"
    }
   ],
   "source": [
    "# show first 3 lines of data\n",
    "X.head(3)"
   ]
  },
  {
   "cell_type": "code",
   "execution_count": 17,
   "id": "fbe16c11-edc5-4164-a27d-645684ed31f8",
   "metadata": {},
   "outputs": [],
   "source": [
    "y =  df.iloc[:,-1]"
   ]
  },
  {
   "cell_type": "code",
   "execution_count": 18,
   "id": "7c97c13a-8f5b-48c7-803d-ce16b92106f3",
   "metadata": {},
   "outputs": [],
   "source": [
    "X_train, X_test, y_train, y_test = train_test_split(X, y, test_size=0.5, random_state=0)"
   ]
  },
  {
   "cell_type": "code",
   "execution_count": null,
   "id": "c0ebc13c-864b-40ae-9503-24d677b2a485",
   "metadata": {},
   "outputs": [],
   "source": [
    "# fit the 5 clusters customized algorithm to the data.\n",
    "fit_kmeans = init_kmeans.fit(X)"
   ]
  },
  {
   "cell_type": "code",
   "execution_count": null,
   "id": "6bfc07b5-720c-4b13-9dc8-94dc0377c38b",
   "metadata": {},
   "outputs": [],
   "source": [
    "# create predictions = assign each observation of X to a cluster\n",
    "predictions = fit_kmeans.predict(X)"
   ]
  },
  {
   "cell_type": "code",
   "execution_count": null,
   "id": "f1a32873-109e-4b17-bf42-215b986925e1",
   "metadata": {},
   "outputs": [],
   "source": [
    "# show the clusters in which each observation has been assigned to\n",
    "predictions"
   ]
  },
  {
   "cell_type": "code",
   "execution_count": null,
   "id": "8ff819fb-0927-4f8d-98f3-ff8422e2440a",
   "metadata": {},
   "outputs": [],
   "source": [
    "# create a new column, d it to the dataframe to show clustersof observations.\n",
    "df[\"cluster\"] = pd.DataFrame(\n",
    "    predictions, columns=[\"cluster\"])\n",
    "\n",
    "# set cluster column values as category data type\n",
    "df[\"cluster\"] = df[\"cluster\"].astype('category')\n",
    "\n",
    "#show first 6 rows of observations\n",
    "df.head(6)"
   ]
  },
  {
   "cell_type": "code",
   "execution_count": null,
   "id": "24b95f2a-d75d-4cd0-9dcc-0ff74a5a0aba",
   "metadata": {},
   "outputs": [],
   "source": [
    "# count number of observations in each cluster, sorted by number of observations\n",
    "df['cluster'].value_counts()"
   ]
  },
  {
   "cell_type": "code",
   "execution_count": null,
   "id": "06309dff-8650-4cd6-8b12-55d883abf13b",
   "metadata": {},
   "outputs": [],
   "source": [
    "# same as above, different syntax, output sorted by cluster number\n",
    "df.groupby('cluster').size()"
   ]
  },
  {
   "cell_type": "code",
   "execution_count": null,
   "id": "43f60b14-48e8-426c-b829-2a23f5050842",
   "metadata": {},
   "outputs": [],
   "source": [
    "# Show average of variables my cluster\n",
    "# This shows some basic descriptive stats about the clusters.\n",
    "# e.g. cluster 3 has the highest spending score (82) with average income=82k and age=32\n",
    "# e.g. cluster 0 has almost highest spending score (79) with average income only 26k and age=25\n",
    "# This IMPORTANT finding confirms the previous insight about the importance of age.\n",
    "df.groupby('cluster').mean()"
   ]
  },
  {
   "cell_type": "code",
   "execution_count": null,
   "id": "b56c528f-1d33-42e6-9508-49e9501f807f",
   "metadata": {},
   "outputs": [],
   "source": [
    "# plot the clusters with their centroids\n",
    "sns.scatterplot(x=\"Annual_Income_(k$)\", y=\"Spending_Score\", hue=\"cluster\",\n",
    "                data=df, palette=\"deep\");\n",
    "\n",
    "sns.scatterplot(x=fit_kmeans.cluster_centers_[:, 0],\n",
    "                y=fit_kmeans.cluster_centers_[:, 1],\n",
    "                s=300, c=sns.color_palette(\"deep\", 5),\n",
    "                label='Centroid', marker='*');\n",
    "\n",
    "# Put the legend outside of the figure\n",
    "plt.legend(bbox_to_anchor=(1.05, 1), loc=2, borderaxespad=0);"
   ]
  },
  {
   "cell_type": "code",
   "execution_count": null,
   "id": "867fc768-6c21-4a88-8928-ddee09da383d",
   "metadata": {},
   "outputs": [],
   "source": [
    "# plot the five clusters in 3D space\n",
    "three_dim_clusters = px.scatter_3d(\n",
    "    df, x=\"Annual_Income_(k$)\", y=\"Spending_Score\", z=\"Age\", color=\"cluster\",\n",
    "    height=600, width=600,\n",
    "    color_discrete_map={0: \"blue\", 1:\"purple\", 2:\"green\", 3:\"black\", 4:\"red\"}\n",
    ").update_layout(margin=dict(t=40, l=40, r=40, b=40))\n",
    "\n",
    "three_dim_clusters.show()\n",
    "\n",
    "# save to file, use everywhere with a browser\n",
    "#three_dim_clusters.write_html(\"three_dim_customers.html\")  "
   ]
  },
  {
   "cell_type": "markdown",
   "id": "09beefb0-d022-42c6-8576-7e15f570eac3",
   "metadata": {},
   "source": [
    "## D.2. Use the elbow method to get a \"suggestion\" about the number of clusters.  \n",
    "This should be done first, but for presentation, learning reasons I wanted to show how kmeans is applied in scikit learn. Use all features."
   ]
  },
  {
   "cell_type": "code",
   "execution_count": null,
   "id": "d9c8fb9f-0fd2-443c-b532-15186e921ffe",
   "metadata": {},
   "outputs": [],
   "source": [
    "df.columns"
   ]
  },
  {
   "cell_type": "code",
   "execution_count": null,
   "id": "a10b6937-89e3-4294-82a3-e1cf0126c017",
   "metadata": {},
   "outputs": [],
   "source": [
    "# create matrix of features to use in algorithm\n",
    "X = df[[\"Genre\", \"Age\", \"Annual_Income_(k$)\", \"Spending_Score\"]]\n",
    "# show first two rows.\n",
    "X.head(2)"
   ]
  },
  {
   "cell_type": "code",
   "execution_count": null,
   "id": "fda874b1-913b-4f89-aa22-d7a9c9d26140",
   "metadata": {},
   "outputs": [],
   "source": [
    "# encode Male and Female to zero and one, to use this feature in the Kmeans algo\n",
    "# create a new column named Gender and set Male = 1, Female=0\n",
    "X[\"Gender\"] = pd.get_dummies(X.Genre, drop_first=True, prefix=\"Genre\")\n",
    "X.head(3)"
   ]
  },
  {
   "cell_type": "code",
   "execution_count": null,
   "id": "ba6999e9-e22d-4c0b-aa58-5cc6696200d0",
   "metadata": {},
   "outputs": [],
   "source": [
    "# drop the Genre column from X.\n",
    "X = X.drop(\"Genre\", axis=1)\n",
    "# show first 3 rows\n",
    "X.head(3)"
   ]
  },
  {
   "cell_type": "markdown",
   "id": "6ed54973-d492-4820-bc26-23859b1e745d",
   "metadata": {},
   "source": [
    "### Apply Kmeans with four features and 1 to 10 clusters, to show the elbow method."
   ]
  },
  {
   "cell_type": "code",
   "execution_count": null,
   "id": "d9885ecd-e91d-40af-b932-80dfd4b8fe35",
   "metadata": {},
   "outputs": [],
   "source": [
    "# empty list to contain the score of each cluster.\n",
    "clustering_score = []\n",
    "\n",
    "# loop from 1 to 10 clusters:\n",
    "for clusters_number in range(1, 11):\n",
    "    # initiate and customize algo\n",
    "    kmeans_algo = KMeans(n_clusters=clusters_number, random_state=0)\n",
    "    # fit algo to the data\n",
    "    kmeans_algo.fit(X)\n",
    "    # inertia_ = Sum of squared distances of samples to their closest cluster center.\n",
    "    # this is the Within Clusters Sum of Squares metric, WCSS\n",
    "    clustering_score.append(kmeans_algo.inertia_)\n",
    "   "
   ]
  },
  {
   "cell_type": "code",
   "execution_count": null,
   "id": "51f77aa2-6f51-48ad-b81c-c002d478cb28",
   "metadata": {},
   "outputs": [],
   "source": [
    "# show the list with the clusters' score from 1 to 10\n",
    "clustering_score"
   ]
  },
  {
   "cell_type": "code",
   "execution_count": null,
   "id": "17b768b7-333d-4d92-94a9-0d5a03264439",
   "metadata": {},
   "outputs": [],
   "source": [
    "# WCSS score for 1 cluster\n",
    "clustering_score[0]  # first item in the list"
   ]
  },
  {
   "cell_type": "code",
   "execution_count": null,
   "id": "0ad3f86a-fb74-4f4a-aef1-2de8d0f557cb",
   "metadata": {},
   "outputs": [],
   "source": [
    "# WCSS score for 2 clusters\n",
    "clustering_score[1]  # second item in the list"
   ]
  },
  {
   "cell_type": "code",
   "execution_count": null,
   "id": "7cadc83f-63a0-4f0f-ba95-e6176c0deb0f",
   "metadata": {},
   "outputs": [],
   "source": [
    "# show the cluster score for the fifth element (5 clusters)\n",
    "clustering_score[4]"
   ]
  },
  {
   "cell_type": "code",
   "execution_count": null,
   "id": "6858610e-9fee-46f6-8801-bcd3c645c1a1",
   "metadata": {},
   "outputs": [],
   "source": [
    "# creata pandas dataframe from list of clustering WCSS score\n",
    "wcss_df = pd.DataFrame({'clusters_score':clustering_score})"
   ]
  },
  {
   "cell_type": "code",
   "execution_count": null,
   "id": "b2316ced-c41f-489b-af20-f2918ae689ee",
   "metadata": {},
   "outputs": [],
   "source": [
    "# creata new column of dataframe from range of clusters\n",
    "wcss_df[\"clusters_number\"] = pd.Series(range(1,11))"
   ]
  },
  {
   "cell_type": "code",
   "execution_count": null,
   "id": "ac318e3c-3ef1-481a-9bfa-d35c26f7a332",
   "metadata": {},
   "outputs": [],
   "source": [
    "#show clusters score for number of clusters\n",
    "wcss_df"
   ]
  },
  {
   "cell_type": "markdown",
   "id": "f3453f5c-be0f-414f-a910-bfed930c15a7",
   "metadata": {},
   "source": [
    "We see that from 4 to five clusters there is a large reduction in WCSS, but from 5 to 6 there is a reduction from 58348 to 51132, much smaller. The reduction in WCSS from 6 to 7 clusters is similar.\n",
    "There is a much smaller reduction from 7 to 8 clusters."
   ]
  },
  {
   "cell_type": "code",
   "execution_count": null,
   "id": "b9920591-dd0a-4e43-9898-b5705d79d7bd",
   "metadata": {},
   "outputs": [],
   "source": [
    "# plot WCSS\n",
    "# create a figure and set size\n",
    "plt.figure(figsize=(7,5))\n",
    "\n",
    "#plot the simple range from 1 to 10 on x and the clustering score on y.\n",
    "plt.plot(range(1, 11), clustering_score)\n",
    "\n",
    "#plot a red o on number 5 on x axis, and the WCSS score \n",
    "plt.scatter(5, clustering_score[4], s = 50, c = 'red', marker='o')\n",
    "\n",
    "# add title and labels\n",
    "plt.title('The Elbow Method')\n",
    "plt.xlabel('No. of Clusters')\n",
    "plt.ylabel('Clustering Score, WCSS');"
   ]
  },
  {
   "cell_type": "markdown",
   "id": "faf6123b-6883-4902-aa62-6a03e0e811da",
   "metadata": {},
   "source": [
    "We also see that the slope of the curve from 5 to 6 clusters is reduced but very slightly. This suggests five clusters are a good choice.\n",
    "But using four features instead of two suggest that 6 cluster might also be a good choice."
   ]
  },
  {
   "cell_type": "markdown",
   "id": "585aed92-f04f-4f56-aa6b-85628a2fccb7",
   "metadata": {},
   "source": [
    "## D.3. Apply silhouette method to get a suggestion for the number of clusters.  \n",
    "scikit-learn silhouette score [function and examples.](https://scikit-learn.org/stable/modules/generated/sklearn.metrics.silhouette_score.html)\n",
    "\n",
    "For a more advanced reading on silhouette score you may read this [tutorial.](https://scikit-learn.org/stable/auto_examples/cluster/plot_kmeans_silhouette_analysis.html#sphx-glr-auto-examples-cluster-plot-kmeans-silhouette-analysis-py)   \n",
    "\n",
    "For more advanced clustering performace evaluation methods, you may read this [guide.](https://scikit-learn.org/stable/modules/clustering.html#clustering-performance-evaluation)"
   ]
  },
  {
   "cell_type": "code",
   "execution_count": null,
   "id": "8e7233f1-b07c-4d01-8cf3-e16e147fecba",
   "metadata": {},
   "outputs": [],
   "source": [
    "#create empty list to store score\n",
    "silhouette_scores_list = []\n",
    "\n",
    "# loop from 2 to 10 clusters:\n",
    "for clusters_number in range(2, 11):\n",
    "    # initiate and customize algo\n",
    "    kmeans_algo = KMeans(n_clusters=clusters_number, random_state=0)\n",
    "    # fit algo to the data\n",
    "    clusters = kmeans_algo.fit_predict(X)\n",
    "    # calculate silhouette score for each number of clusters\n",
    "    silhouette_metric_score = silhouette_score(X, clusters)\n",
    "    # append each score to the list\n",
    "    silhouette_scores_list.append(silhouette_metric_score)\n",
    "    print(\n",
    "        f\"For clusters={clusters_number}, the average silhouette_score is: {silhouette_metric_score}\")"
   ]
  },
  {
   "cell_type": "markdown",
   "id": "4f26592e-63d1-45c1-98f3-acf59d77e0a5",
   "metadata": {},
   "source": [
    "We get a higher silhouette score for 5 clusters. But only by a tiny difference."
   ]
  },
  {
   "cell_type": "markdown",
   "id": "51d92fe3-9798-4ab3-a6cf-ca02ed4cc631",
   "metadata": {},
   "source": [
    "## D.4. Apply KMeans with four features and six clusters"
   ]
  },
  {
   "cell_type": "code",
   "execution_count": null,
   "id": "22517615-d706-4dc6-8467-bdc2a8f9dbf5",
   "metadata": {},
   "outputs": [],
   "source": [
    "# our data until now, grouped in 5 clusters\n",
    "df.head(3)"
   ]
  },
  {
   "cell_type": "code",
   "execution_count": null,
   "id": "69598bcc-b5a8-4d61-8950-a8eb19ea46fa",
   "metadata": {},
   "outputs": [],
   "source": [
    "#show the features matrix\n",
    "X.head(3)\n",
    "# remember we have encoded \"Genre\" as \"Gender\"."
   ]
  },
  {
   "cell_type": "code",
   "execution_count": null,
   "id": "2fac27ad-5887-4528-bdf7-eadb434fb96e",
   "metadata": {},
   "outputs": [],
   "source": [
    "kmeans_algo = KMeans(n_clusters=6, random_state=0)\n",
    "# fit algo to the data\n",
    "six_clusters_grouping = kmeans_algo.fit_predict(X)"
   ]
  },
  {
   "cell_type": "code",
   "execution_count": null,
   "id": "329223b6-169a-48ff-8cf9-97beb511e433",
   "metadata": {},
   "outputs": [],
   "source": [
    "# create a new column, add it to the dataframe to show cluster sof observations.\n",
    "df[\"six_clusters\"] = pd.DataFrame(\n",
    "    six_clusters_grouping, columns=[\"six_clusters\"])\n",
    "\n",
    "# set six clusters column values as category data type\n",
    "df[\"six_clusters\"] = df[\"six_clusters\"].astype('category')"
   ]
  },
  {
   "cell_type": "code",
   "execution_count": null,
   "id": "f2928119-53b5-45f5-a29a-7fba3cb2f814",
   "metadata": {},
   "outputs": [],
   "source": [
    "# show first 4 rows\n",
    "df.head(4)"
   ]
  },
  {
   "cell_type": "code",
   "execution_count": null,
   "id": "eebceeef-e52f-4216-a931-9d2efa4ec605",
   "metadata": {},
   "outputs": [],
   "source": [
    "# plot the six clusters in the 3D space\n",
    "three_dim_six_clusters = px.scatter_3d(\n",
    "    df, x=\"Annual_Income_(k$)\", y=\"Spending_Score\", z=\"Age\",\n",
    "    color=\"six_clusters\", height=600, width=600,\n",
    "    color_discrete_map={\n",
    "        0: \"blue\", 1:\"purple\", 2:\"green\", 3:\"black\", 4:\"red\", 5:\"brown\"}\n",
    ").update_layout(margin=dict(t=50, l=60, r=60, b=40))\n",
    "\n",
    "three_dim_six_clusters.show()\n",
    "\n",
    "# save to file, use everywhere with a browser\n",
    "#three_dim_clusters.write_html(\"three_dim_customers.html\")  "
   ]
  },
  {
   "cell_type": "markdown",
   "id": "f8084878-56ea-4b01-b25b-6c3750844712",
   "metadata": {},
   "source": [
    "Examining the data, we see that the customers with spending score 40 to 60 have been devided to two clusters, based on their age. The new cluster mainly contains customers above 40+ with high spending score. It is designated as cluster 1 in this case, and this the larger cluster.  \n",
    "**Important reminder**: in the end, the number of clusters is also a matter of policy decisions."
   ]
  },
  {
   "cell_type": "code",
   "execution_count": null,
   "id": "01df9d61-6669-4d19-85de-24a332930bc1",
   "metadata": {},
   "outputs": [],
   "source": [
    "# show clusters by size\n",
    "df.groupby('cluster').size()"
   ]
  },
  {
   "cell_type": "code",
   "execution_count": null,
   "id": "c25ae103-125b-48d7-9bb5-45b1001a4966",
   "metadata": {},
   "outputs": [],
   "source": [
    "# show first 5 rows of observations that belong to cluster 1.\n",
    "df[df[\"six_clusters\"] == 1].head()"
   ]
  },
  {
   "cell_type": "code",
   "execution_count": null,
   "id": "758f3dd9-2413-45bb-a7cd-a0b3f68ef2fb",
   "metadata": {},
   "outputs": [],
   "source": [
    "# show basic descriptive stats for cluster labeled as 1.\n",
    "df[df[\"six_clusters\"] == 1].describe()"
   ]
  },
  {
   "cell_type": "code",
   "execution_count": null,
   "id": "cca63009-4d0a-4390-af8c-a9a0cf957512",
   "metadata": {},
   "outputs": [],
   "source": [
    "# group cluster labeled as 1, by gender and show size\n",
    "df[df[\"six_clusters\"] == 1].groupby(\"Genre\").size()"
   ]
  },
  {
   "cell_type": "markdown",
   "id": "371a78f6-cef7-48c7-ab14-ebd2d54c4f6d",
   "metadata": {},
   "source": [
    "### \"Predict\" the cluster for one or more new observations."
   ]
  },
  {
   "cell_type": "code",
   "execution_count": null,
   "id": "c00a2623-27d1-40c7-92b4-c2fcfc3fb3ba",
   "metadata": {},
   "outputs": [],
   "source": [
    "## TODO"
   ]
  },
  {
   "cell_type": "markdown",
   "id": "183a3d07-1cf1-457a-abe0-aa6a1d4abb36",
   "metadata": {},
   "source": [
    "#### Extra reading about KMeans, silhouette and WCSS metrics.  \n",
    "“Give a man a fish and you feed him for a day. Teach him how to fish and you feed him for a lifetime”, quote from the Chinese philosopher Lao Tzu, founder of Taoism.  \n",
    "How to destroy a proverb, by Thanasis Argyriou:  \n",
    "“Give a student a coding script and you solve his problems for an exam. Teach him how to google and copy-paste and you ***might*** solve his problems for a couple of months.”"
   ]
  },
  {
   "cell_type": "code",
   "execution_count": null,
   "id": "423f360f-f20d-45f6-bf9b-8ba34ebd9127",
   "metadata": {},
   "outputs": [],
   "source": []
  }
 ],
 "metadata": {
  "kernelspec": {
   "display_name": "Python 3 (ipykernel)",
   "language": "python",
   "name": "python3"
  },
  "language_info": {
   "codemirror_mode": {
    "name": "ipython",
    "version": 3
   },
   "file_extension": ".py",
   "mimetype": "text/x-python",
   "name": "python",
   "nbconvert_exporter": "python",
   "pygments_lexer": "ipython3",
   "version": "3.10.10"
  }
 },
 "nbformat": 4,
 "nbformat_minor": 5
}

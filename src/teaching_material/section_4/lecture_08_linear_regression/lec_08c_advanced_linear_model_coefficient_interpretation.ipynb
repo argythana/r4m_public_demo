{
 "cells": [
  {
   "cell_type": "code",
   "execution_count": 1,
   "metadata": {
    "collapsed": false,
    "jupyter": {
     "outputs_hidden": false
    }
   },
   "outputs": [],
   "source": [
    "# %matplotlib inline"
   ]
  },
  {
   "cell_type": "markdown",
   "metadata": {},
   "source": [
    "### Tutorial Notebook downloaded from: [scikit, pitfalls of coefficients' interpretation.](https://scikit-learn.org/stable/auto_examples/inspection/plot_linear_model_coefficient_interpretation.html#sphx-glr-auto-examples-inspection-plot-linear-model-coefficient-interpretation-py) and currated by Thanasis Argyriou.\n",
    "### Mind that this tutorial is built on older versions of scikit-learn. Currently, there are better ways to do some things."
   ]
  },
  {
   "cell_type": "markdown",
   "metadata": {},
   "source": [
    "Preliminary Definitions:   \n",
    "[Fit a model](https://en.wikipedia.org/wiki/Goodness_of_fit)  \n",
    "[Overfitting VS Underfitting](https://en.wikipedia.org/wiki/Overfitting)  \n",
    "[Bias-Variance tradeoff (underfit VS overfit)](https://en.wikipedia.org/wiki/Bias%E2%80%93variance_tradeoff)   \n",
    "High Bias => Underfit.  \n",
    "High Variance = > Overfit"
   ]
  },
  {
   "cell_type": "markdown",
   "metadata": {},
   "source": [
    "# Common pitfalls in the interpretation of coefficients of linear models\n",
    "\n",
    "In linear models, the target value is modeled as\n",
    "a linear combination of the features (see the `linear_model` User Guide\n",
    "section for a description of a set of linear models available in\n",
    "scikit-learn).\n",
    "Coefficients in multiple linear models represent the relationship between the\n",
    "given feature, $X_i$ and the target, $y$, assuming that all the\n",
    "other features remain constant (`conditional dependence\n",
    "<https://en.wikipedia.org/wiki/Conditional_dependence>`_).\n",
    "This is different from plotting $X_i$ versus $y$ and fitting a\n",
    "linear relationship: in that case all possible values of the other features are\n",
    "taken into account in the estimation (marginal dependence).\n",
    "\n",
    "This example will provide some hints in interpreting coefficient in linear\n",
    "models, pointing at problems that arise when either the linear model is not\n",
    "appropriate to describe the dataset, or when features are correlated.\n",
    "\n",
    "We will use data from the `\"Current Population Survey\"\n",
    "<https://www.openml.org/d/534>`_ from 1985 to predict\n",
    "wage as a function of various features such as experience, age, or education."
   ]
  },
  {
   "cell_type": "code",
   "execution_count": 2,
   "metadata": {
    "collapsed": false,
    "jupyter": {
     "outputs_hidden": false
    }
   },
   "outputs": [],
   "source": [
    "import numpy as np\n",
    "import scipy as sp\n",
    "import pandas as pd\n",
    "import matplotlib.pyplot as plt\n",
    "import seaborn as sns"
   ]
  },
  {
   "cell_type": "markdown",
   "metadata": {},
   "source": [
    "## The dataset: wages\n",
    "\n",
    "We fetch the data from `OpenML <http://openml.org/>`_.\n",
    "Note that setting the parameter `as_frame` to True will retrieve the data\n",
    "as a pandas dataframe.\n",
    "\n"
   ]
  },
  {
   "cell_type": "code",
   "execution_count": 3,
   "metadata": {
    "tags": []
   },
   "outputs": [
    {
     "name": "stdout",
     "output_type": "stream",
     "text": [
      "Object `fetch_openml` not found.\n"
     ]
    }
   ],
   "source": [
    "fetch_openml?"
   ]
  },
  {
   "cell_type": "code",
   "execution_count": 4,
   "metadata": {
    "collapsed": false,
    "jupyter": {
     "outputs_hidden": false
    }
   },
   "outputs": [
    {
     "ename": "ModuleNotFoundError",
     "evalue": "No module named 'sklearn'",
     "output_type": "error",
     "traceback": [
      "\u001b[1;31m---------------------------------------------------------------------------\u001b[0m",
      "\u001b[1;31mModuleNotFoundError\u001b[0m                       Traceback (most recent call last)",
      "Cell \u001b[1;32mIn[4], line 1\u001b[0m\n\u001b[1;32m----> 1\u001b[0m \u001b[38;5;28;01mfrom\u001b[39;00m \u001b[38;5;21;01msklearn\u001b[39;00m\u001b[38;5;21;01m.\u001b[39;00m\u001b[38;5;21;01mdatasets\u001b[39;00m \u001b[38;5;28;01mimport\u001b[39;00m fetch_openml\n\u001b[0;32m      3\u001b[0m survey \u001b[38;5;241m=\u001b[39m fetch_openml(data_id\u001b[38;5;241m=\u001b[39m\u001b[38;5;241m534\u001b[39m, as_frame\u001b[38;5;241m=\u001b[39m\u001b[38;5;28;01mTrue\u001b[39;00m)\n",
      "\u001b[1;31mModuleNotFoundError\u001b[0m: No module named 'sklearn'"
     ]
    }
   ],
   "source": [
    "from sklearn.datasets import fetch_openml\n",
    "\n",
    "survey = fetch_openml(data_id=534, as_frame=True)"
   ]
  },
  {
   "cell_type": "code",
   "execution_count": null,
   "metadata": {},
   "outputs": [],
   "source": [
    "# survey.  # uncomment and use tab key to see available attributes"
   ]
  },
  {
   "cell_type": "code",
   "execution_count": null,
   "metadata": {},
   "outputs": [],
   "source": [
    "survey.data"
   ]
  },
  {
   "cell_type": "code",
   "execution_count": null,
   "metadata": {},
   "outputs": [],
   "source": [
    "type(survey.data)"
   ]
  },
  {
   "cell_type": "code",
   "execution_count": null,
   "metadata": {},
   "outputs": [],
   "source": [
    "survey.target"
   ]
  },
  {
   "cell_type": "code",
   "execution_count": null,
   "metadata": {},
   "outputs": [],
   "source": [
    "survey.target_names"
   ]
  },
  {
   "cell_type": "markdown",
   "metadata": {},
   "source": [
    "Then, we identify features `X` and targets `y`: the column WAGE is our\n",
    "target variable (i.e., the variable which we want to predict).\n",
    "\n",
    "\n"
   ]
  },
  {
   "cell_type": "code",
   "execution_count": null,
   "metadata": {
    "collapsed": false,
    "jupyter": {
     "outputs_hidden": false
    }
   },
   "outputs": [],
   "source": [
    "X = survey.data[survey.feature_names]"
   ]
  },
  {
   "cell_type": "code",
   "execution_count": null,
   "metadata": {},
   "outputs": [],
   "source": [
    "type(X)"
   ]
  },
  {
   "cell_type": "code",
   "execution_count": null,
   "metadata": {
    "collapsed": false,
    "jupyter": {
     "outputs_hidden": false
    }
   },
   "outputs": [],
   "source": [
    "X.describe(include=\"all\")"
   ]
  },
  {
   "cell_type": "markdown",
   "metadata": {},
   "source": [
    "Note that the dataset contains categorical and numerical variables.\n",
    "We will need to take this into account when preprocessing the dataset\n",
    "thereafter.\n",
    "\n"
   ]
  },
  {
   "cell_type": "code",
   "execution_count": null,
   "metadata": {
    "collapsed": false,
    "jupyter": {
     "outputs_hidden": false
    }
   },
   "outputs": [],
   "source": [
    "X.head()"
   ]
  },
  {
   "cell_type": "markdown",
   "metadata": {},
   "source": [
    "Our target for prediction: the wage.\n",
    "Wages are described as floating-point number in dollars per hour.\n",
    "\n"
   ]
  },
  {
   "cell_type": "code",
   "execution_count": null,
   "metadata": {
    "collapsed": false,
    "jupyter": {
     "outputs_hidden": false
    }
   },
   "outputs": [],
   "source": [
    "y = survey.target.values.ravel()\n",
    "survey.target.head()"
   ]
  },
  {
   "cell_type": "code",
   "execution_count": null,
   "metadata": {
    "tags": []
   },
   "outputs": [],
   "source": [
    "survey.target.values.ravel?"
   ]
  },
  {
   "cell_type": "markdown",
   "metadata": {},
   "source": [
    "We split the sample into a train and a test dataset.\n",
    "Only the train dataset will be used in the following exploratory analysis.\n",
    "This is a way to emulate a real situation where predictions are performed on\n",
    "an unknown target, and we don't want our analysis and decisions to be biased\n",
    "by our knowledge of the test data.\n",
    "\n"
   ]
  },
  {
   "cell_type": "code",
   "execution_count": null,
   "metadata": {
    "collapsed": false,
    "jupyter": {
     "outputs_hidden": false
    }
   },
   "outputs": [],
   "source": [
    "from sklearn.model_selection import train_test_split\n",
    "\n",
    "X_train, X_test, y_train, y_test = train_test_split(X, y, random_state=42)"
   ]
  },
  {
   "cell_type": "markdown",
   "metadata": {},
   "source": [
    "First, let's get some insights by looking at the variable distributions and\n",
    "at the pairwise relationships between them. Only numerical\n",
    "variables will be used. In the following plot, each dot represents a sample.\n",
    "\n",
    "\n"
   ]
  },
  {
   "cell_type": "code",
   "execution_count": null,
   "metadata": {
    "collapsed": false,
    "jupyter": {
     "outputs_hidden": false
    }
   },
   "outputs": [],
   "source": [
    "train_dataset = X_train.copy()\n",
    "train_dataset.insert(0, \"WAGE\", y_train)\n",
    "_ = sns.pairplot(train_dataset, kind=\"reg\", diag_kind=\"kde\")  # kernel density estimation (KDE)"
   ]
  },
  {
   "cell_type": "markdown",
   "metadata": {},
   "source": [
    "Looking closely at the WAGE distribution reveals that it has a\n",
    "long tail. For this reason, we should take its logarithm\n",
    "to turn it approximately into a normal distribution (linear models such\n",
    "as ridge or lasso work best for a normal distribution of error).\n",
    "\n",
    "The WAGE is increasing when EDUCATION is increasing.\n",
    "Note that the dependence between WAGE and EDUCATION\n",
    "represented here is a marginal dependence, i.e., it describes the behavior\n",
    "of a specific variable without keeping the others fixed.\n",
    "\n",
    "Also, the EXPERIENCE and AGE are strongly linearly correlated.\n",
    "\n",
    "\n",
    "## The machine-learning pipeline\n",
    "\n",
    "To design our machine-learning pipeline, we first manually\n",
    "check the type of data that we are dealing with:\n",
    "\n"
   ]
  },
  {
   "cell_type": "code",
   "execution_count": null,
   "metadata": {
    "collapsed": false,
    "jupyter": {
     "outputs_hidden": false
    }
   },
   "outputs": [],
   "source": [
    "survey.data.info()"
   ]
  },
  {
   "cell_type": "markdown",
   "metadata": {},
   "source": [
    "As seen previously, the dataset contains columns with different data types\n",
    "and we need to apply a specific preprocessing for each data types.\n",
    "In particular categorical variables cannot be included in linear model if not\n",
    "coded as integers first.   \n",
    "\n",
    "In addition, to avoid categorical features to be\n",
    "treated as ordered values, we need to one-hot-encode them.  \n",
    "Our pre-processor will:\n",
    "\n",
    "- one-hot encode (i.e., generate a column by category) the categorical\n",
    "  columns;  \n",
    "- as a first approach we keep numerical values as they are. We will see later how the normalisation of numerical\n",
    "  values will affect our discussion."
   ]
  },
  {
   "cell_type": "code",
   "execution_count": null,
   "metadata": {
    "collapsed": false,
    "jupyter": {
     "outputs_hidden": false
    }
   },
   "outputs": [],
   "source": [
    "# Here for educational purposes. In production code all imports should be at the top.\n",
    "\n",
    "from sklearn.compose import make_column_transformer\n",
    "from sklearn.preprocessing import OneHotEncoder\n",
    "\n",
    "categorical_columns = [\"RACE\", \"OCCUPATION\", \"SECTOR\", \"MARR\", \"UNION\", \"SEX\", \"SOUTH\"]\n",
    "numerical_columns = [\"EDUCATION\", \"EXPERIENCE\", \"AGE\"]\n",
    "\n",
    "preprocessor = make_column_transformer(\n",
    "    (OneHotEncoder(drop=\"if_binary\"), categorical_columns),\n",
    "    remainder=\"passthrough\",\n",
    "    verbose_feature_names_out=False,\n",
    ")"
   ]
  },
  {
   "cell_type": "markdown",
   "metadata": {},
   "source": [
    "To describe the dataset as a linear model we use a ridge regressor\n",
    "with a very small regularization and we will use the logarithm of the WAGE.  \n",
    "Ridge regressors: Prevent overfitting, higher bias with a lower variance.   \n",
    "Remember: high variance => overfitting.\n",
    "\n",
    "When to [use ridge regressors.](https://stats.stackexchange.com/questions/4272/when-to-use-regularization-methods-for-regression)  \n",
    "\n",
    "Choose the right estimator, [according to scikit](https://scikit-learn.org/stable/tutorial/machine_learning_map/index.html)"
   ]
  },
  {
   "cell_type": "code",
   "execution_count": null,
   "metadata": {},
   "outputs": [],
   "source": []
  },
  {
   "cell_type": "code",
   "execution_count": null,
   "metadata": {
    "collapsed": false,
    "jupyter": {
     "outputs_hidden": false
    }
   },
   "outputs": [],
   "source": [
    "# Here for educational purposes. In production code all imports should be at the top.\n",
    "from sklearn.pipeline import make_pipeline\n",
    "from sklearn.linear_model import Ridge\n",
    "from sklearn.compose import TransformedTargetRegressor"
   ]
  },
  {
   "cell_type": "code",
   "execution_count": null,
   "metadata": {
    "collapsed": false,
    "jupyter": {
     "outputs_hidden": false
    }
   },
   "outputs": [],
   "source": [
    "model = make_pipeline(\n",
    "    preprocessor,\n",
    "    TransformedTargetRegressor(\n",
    "        regressor=Ridge(alpha=1e-10), func=np.log10, inverse_func=sp.special.exp10\n",
    "    ),\n",
    ")"
   ]
  },
  {
   "cell_type": "code",
   "execution_count": null,
   "metadata": {},
   "outputs": [],
   "source": [
    "type(model)"
   ]
  },
  {
   "cell_type": "code",
   "execution_count": null,
   "metadata": {},
   "outputs": [],
   "source": [
    "# model?"
   ]
  },
  {
   "cell_type": "markdown",
   "metadata": {},
   "source": [
    "## Processing the dataset\n",
    "\n",
    "First, we fit the model.\n",
    "\n"
   ]
  },
  {
   "cell_type": "code",
   "execution_count": null,
   "metadata": {
    "collapsed": false,
    "jupyter": {
     "outputs_hidden": false
    }
   },
   "outputs": [],
   "source": [
    "_ = model.fit(X_train, y_train)"
   ]
  },
  {
   "cell_type": "markdown",
   "metadata": {},
   "source": [
    "Then we check the performance of the computed model plotting its predictions\n",
    "on the test set and computing,\n",
    "for example, the median absolute error of the model.\n",
    "\n"
   ]
  },
  {
   "cell_type": "code",
   "execution_count": null,
   "metadata": {},
   "outputs": [],
   "source": [
    "model.get_feature_names_out?"
   ]
  },
  {
   "cell_type": "code",
   "execution_count": null,
   "metadata": {
    "collapsed": false,
    "jupyter": {
     "outputs_hidden": false
    }
   },
   "outputs": [],
   "source": [
    "# Here for educational purposes. In production code all imports should be at the top.\n",
    "from sklearn.metrics import median_absolute_error\n",
    "\n",
    "y_pred = model.predict(X_train)\n",
    "\n",
    "mae = median_absolute_error(y_train, y_pred)\n",
    "string_score = f\"MAE on training set: {mae:.2f} $/hour\"\n",
    "y_pred = model.predict(X_test)\n",
    "mae = median_absolute_error(y_test, y_pred)\n",
    "string_score += f\"\\nMAE on testing set: {mae:.2f} $/hour\""
   ]
  },
  {
   "cell_type": "code",
   "execution_count": null,
   "metadata": {
    "collapsed": false,
    "jupyter": {
     "outputs_hidden": false
    }
   },
   "outputs": [],
   "source": [
    "fig, ax = plt.subplots(figsize=(5, 5))\n",
    "plt.scatter(y_test, y_pred)\n",
    "ax.plot([0, 1], [0, 1], transform=ax.transAxes, ls=\"--\", c=\"red\")\n",
    "plt.text(3, 20, string_score)\n",
    "plt.title(\"Ridge model, small regularization\")\n",
    "plt.ylabel(\"Model predictions\")\n",
    "plt.xlabel(\"Truths\")\n",
    "plt.xlim([0, 27])\n",
    "_ = plt.ylim([0, 27])"
   ]
  },
  {
   "cell_type": "markdown",
   "metadata": {},
   "source": [
    "The model learnt is far from being a good model making accurate predictions:\n",
    "this is obvious when looking at the plot above, where good predictions\n",
    "should lie on the red line.\n",
    "\n",
    "In the following section, we will interpret the coefficients of the model.\n",
    "While we do so, we should keep in mind that any conclusion we draw is\n",
    "about the model that we build, rather than about the true (real-world)\n",
    "generative process of the data.\n",
    "\n",
    "## Interpreting coefficients: scale matters\n",
    "\n",
    "First of all, we can take a look to the values of the coefficients of the\n",
    "regressor we have fitted.\n",
    "\n"
   ]
  },
  {
   "cell_type": "code",
   "execution_count": null,
   "metadata": {
    "collapsed": false,
    "jupyter": {
     "outputs_hidden": false
    }
   },
   "outputs": [],
   "source": [
    "feature_names = model[:-1].get_feature_names_out()\n",
    "\n",
    "coefs = pd.DataFrame(\n",
    "    model.named_steps[\"transformedtargetregressor\"].regressor_.coef_,\n",
    "    columns=[\"Coefficients\"],\n",
    "    index=feature_names,\n",
    ")\n",
    "\n",
    "coefs"
   ]
  },
  {
   "cell_type": "markdown",
   "metadata": {},
   "source": [
    "The AGE coefficient is expressed in \"dollars/hour per living years\". while the\n",
    "EDUCATION one is expressed in \"dollars/hour per years of education\".   \n",
    "This representation of the coefficients has the benefit of making clear the\n",
    "practical predictions of the model: an increase of $1$ year in AGE\n",
    "means a decrease of $0.030867$ dollars/hour, while an increase of\n",
    "$1$ year in EDUCATION means an increase of $0.054699$\n",
    "dollars/hour.   \n",
    "On the other hand, categorical variables (as UNION or SEX) are\n",
    "adimensional numbers taking either the value 0 or 1. Their coefficients\n",
    "are expressed in dollars/hour.   \n",
    "Then, we cannot compare the magnitude of\n",
    "different coefficients since the features have different natural scales, and\n",
    "hence value ranges, because of their different unit of measure. This is more\n",
    "visible if we plot the coefficients."
   ]
  },
  {
   "cell_type": "code",
   "execution_count": null,
   "metadata": {
    "collapsed": false,
    "jupyter": {
     "outputs_hidden": false
    }
   },
   "outputs": [],
   "source": [
    "coefs.plot(kind=\"barh\", figsize=(9, 7))\n",
    "plt.title(\"Ridge model, small regularization\")\n",
    "plt.axvline(x=0, color=\".5\")\n",
    "plt.subplots_adjust(left=0.3)"
   ]
  },
  {
   "cell_type": "markdown",
   "metadata": {},
   "source": [
    "Looking at the coefficient plot to gauge feature importance can be\n",
    "misleading as some of them vary on a small scale, while others, like AGE,\n",
    "varies a lot more, several decades.\n",
    "\n",
    "This is visible if we compare the standard deviations of different\n",
    "features.\n"
   ]
  },
  {
   "cell_type": "code",
   "execution_count": null,
   "metadata": {
    "collapsed": false,
    "jupyter": {
     "outputs_hidden": false
    }
   },
   "outputs": [],
   "source": [
    "X_train_preprocessed = pd.DataFrame(\n",
    "    model.named_steps[\"columntransformer\"].transform(X_train), columns=feature_names\n",
    ")\n",
    "\n",
    "X_train_preprocessed.std(axis=0).plot(kind=\"barh\", figsize=(9, 7))\n",
    "plt.title(\"Features std. dev.\")\n",
    "plt.subplots_adjust(left=0.3)"
   ]
  },
  {
   "cell_type": "markdown",
   "metadata": {},
   "source": [
    "Multiplying the coefficients by the standard deviation of the related\n",
    "feature would reduce all the coefficients to the same unit of measure.\n",
    "As we will see `after <scaling_num>` this is equivalent to normalize\n",
    "numerical variables to their standard deviation,\n",
    "as $y = \\sum{coef_i \\times X_i} =\n",
    "\\sum{(coef_i \\times std_i) \\times (X_i / std_i)}$.\n",
    "\n",
    "In that way, we emphasize that the\n",
    "greater the variance of a feature, the larger the weight of the corresponding\n",
    "coefficient on the output, all else being equal.\n",
    "\n"
   ]
  },
  {
   "cell_type": "code",
   "execution_count": null,
   "metadata": {
    "collapsed": false,
    "jupyter": {
     "outputs_hidden": false
    }
   },
   "outputs": [],
   "source": [
    "coefs = pd.DataFrame(\n",
    "    model.named_steps[\"transformedtargetregressor\"].regressor_.coef_\n",
    "    * X_train_preprocessed.std(axis=0),\n",
    "    columns=[\"Coefficient importance\"],\n",
    "    index=feature_names,\n",
    ")\n",
    "coefs.plot(kind=\"barh\", figsize=(9, 7))\n",
    "plt.title(\"Ridge model, small regularization\")\n",
    "plt.axvline(x=0, color=\".5\")\n",
    "plt.subplots_adjust(left=0.3)"
   ]
  },
  {
   "cell_type": "markdown",
   "metadata": {},
   "source": [
    "Now that the coefficients have been scaled, we can safely compare them.\n",
    "\n",
    "<div class=\"alert alert-danger\"><h4>Warning</h4><p>Why does the plot above suggest that an increase in age leads to a\n",
    "  decrease in wage? Why the `initial pairplot\n",
    "  <marginal_dependencies>` is telling the opposite?</p></div>\n",
    "\n",
    "The plot above tells us about dependencies between a specific feature and\n",
    "the target when all other features remain constant, i.e., **conditional\n",
    "dependencies**. An increase of the AGE will induce a decrease\n",
    "of the WAGE when all other features remain constant. On the contrary, an\n",
    "increase of the EXPERIENCE will induce an increase of the WAGE when all\n",
    "other features remain constant.\n",
    "Also, AGE, EXPERIENCE and EDUCATION are the three variables that most\n",
    "influence the model.\n",
    "\n",
    "## Checking the variability of the coefficients\n",
    "\n",
    "We can check the coefficient variability through cross-validation:\n",
    "it is a form of data perturbation (related to\n",
    "`resampling <https://en.wikipedia.org/wiki/Resampling_(statistics)>`_).\n",
    "\n",
    "If coefficients vary significantly when changing the input dataset\n",
    "their robustness is not guaranteed, and they should probably be interpreted\n",
    "with caution.\n",
    "\n"
   ]
  },
  {
   "cell_type": "code",
   "execution_count": null,
   "metadata": {
    "collapsed": false,
    "jupyter": {
     "outputs_hidden": false
    }
   },
   "outputs": [],
   "source": [
    "from sklearn.model_selection import cross_validate\n",
    "from sklearn.model_selection import RepeatedKFold\n",
    "\n",
    "cv_model = cross_validate(\n",
    "    model,\n",
    "    X,\n",
    "    y,\n",
    "    cv=RepeatedKFold(n_splits=5, n_repeats=5),\n",
    "    return_estimator=True,\n",
    "    n_jobs=2,\n",
    ")\n",
    "\n",
    "coefs = pd.DataFrame(\n",
    "    [\n",
    "        est.named_steps[\"transformedtargetregressor\"].regressor_.coef_\n",
    "        * X_train_preprocessed.std(axis=0)\n",
    "        for est in cv_model[\"estimator\"]\n",
    "    ],\n",
    "    columns=feature_names,\n",
    ")"
   ]
  },
  {
   "cell_type": "code",
   "execution_count": null,
   "metadata": {
    "collapsed": false,
    "jupyter": {
     "outputs_hidden": false
    }
   },
   "outputs": [],
   "source": [
    "plt.figure(figsize=(9, 7))\n",
    "sns.stripplot(data=coefs, orient=\"h\", color=\"k\", alpha=0.5)\n",
    "sns.boxplot(data=coefs, orient=\"h\", color=\"cyan\", saturation=0.5)\n",
    "plt.axvline(x=0, color=\".5\")\n",
    "plt.xlabel(\"Coefficient importance\")\n",
    "plt.title(\"Coefficient importance and its variability\")\n",
    "plt.subplots_adjust(left=0.3)"
   ]
  },
  {
   "cell_type": "markdown",
   "metadata": {},
   "source": [
    "## The problem of correlated variables\n",
    "\n",
    "The AGE and EXPERIENCE coefficients are affected by strong variability which\n",
    "might be due to the collinearity between the 2 features: as AGE and\n",
    "EXPERIENCE vary together in the data, their effect is difficult to tear\n",
    "apart.\n",
    "\n",
    "To verify this interpretation we plot the variability of the AGE and\n",
    "EXPERIENCE coefficient."
   ]
  },
  {
   "cell_type": "code",
   "execution_count": null,
   "metadata": {
    "collapsed": false,
    "jupyter": {
     "outputs_hidden": false
    }
   },
   "outputs": [],
   "source": [
    "plt.ylabel(\"Age coefficient\")\n",
    "plt.xlabel(\"Experience coefficient\")\n",
    "plt.grid(True)\n",
    "plt.xlim(-0.4, 0.5)\n",
    "plt.ylim(-0.4, 0.5)\n",
    "plt.scatter(coefs[\"AGE\"], coefs[\"EXPERIENCE\"])\n",
    "_ = plt.title(\"Co-variations of coefficients for AGE and EXPERIENCE across folds\")"
   ]
  },
  {
   "cell_type": "markdown",
   "metadata": {},
   "source": [
    "Two regions are populated: when the EXPERIENCE coefficient is\n",
    "positive the AGE one is negative and vice-versa.\n",
    "\n",
    "To go further we remove one of the 2 features and check what is the impact\n",
    "on the model stability.\n",
    "\n"
   ]
  },
  {
   "cell_type": "code",
   "execution_count": null,
   "metadata": {
    "collapsed": false,
    "jupyter": {
     "outputs_hidden": false
    }
   },
   "outputs": [],
   "source": [
    "column_to_drop = [\"AGE\"]\n",
    "\n",
    "cv_model = cross_validate(\n",
    "    model,\n",
    "    X.drop(columns=column_to_drop),\n",
    "    y,\n",
    "    cv=RepeatedKFold(n_splits=5, n_repeats=5),\n",
    "    return_estimator=True,\n",
    "    n_jobs=2,\n",
    ")\n",
    "\n",
    "coefs = pd.DataFrame(\n",
    "    [\n",
    "        est.named_steps[\"transformedtargetregressor\"].regressor_.coef_\n",
    "        * X_train_preprocessed.drop(columns=column_to_drop).std(axis=0)\n",
    "        for est in cv_model[\"estimator\"]\n",
    "    ],\n",
    "    columns=feature_names[:-1],\n",
    ")"
   ]
  },
  {
   "cell_type": "code",
   "execution_count": null,
   "metadata": {
    "collapsed": false,
    "jupyter": {
     "outputs_hidden": false
    }
   },
   "outputs": [],
   "source": [
    "plt.figure(figsize=(9, 7))\n",
    "sns.stripplot(data=coefs, orient=\"h\", color=\"k\", alpha=0.5)\n",
    "sns.boxplot(data=coefs, orient=\"h\", color=\"cyan\", saturation=0.5)\n",
    "plt.axvline(x=0, color=\".5\")\n",
    "plt.title(\"Coefficient importance and its variability\")\n",
    "plt.xlabel(\"Coefficient importance\")\n",
    "plt.subplots_adjust(left=0.3)"
   ]
  },
  {
   "cell_type": "markdown",
   "metadata": {},
   "source": [
    "The estimation of the EXPERIENCE coefficient is now less variable and\n",
    "remain important for all models trained during cross-validation.\n",
    "\n",
    "\n",
    "## Preprocessing numerical variables\n",
    "\n",
    "As said above (see \"`the-pipeline`\"), we could also choose to scale\n",
    "numerical values before training the model.\n",
    "This can be useful to apply a similar amount regularization to all of them\n",
    "in the Ridge.\n",
    "The preprocessor is redefined in order to subtract the mean and scale\n",
    "variables to unit variance.\n",
    "\n"
   ]
  },
  {
   "cell_type": "code",
   "execution_count": null,
   "metadata": {
    "collapsed": false,
    "jupyter": {
     "outputs_hidden": false
    }
   },
   "outputs": [],
   "source": [
    "from sklearn.preprocessing import StandardScaler\n",
    "\n",
    "preprocessor = make_column_transformer(\n",
    "    (OneHotEncoder(drop=\"if_binary\"), categorical_columns),\n",
    "    (StandardScaler(), numerical_columns),\n",
    "    remainder=\"passthrough\",\n",
    ")"
   ]
  },
  {
   "cell_type": "markdown",
   "metadata": {},
   "source": [
    "The model will stay unchanged.\n",
    "\n"
   ]
  },
  {
   "cell_type": "code",
   "execution_count": null,
   "metadata": {
    "collapsed": false,
    "jupyter": {
     "outputs_hidden": false
    }
   },
   "outputs": [],
   "source": [
    "model = make_pipeline(\n",
    "    preprocessor,\n",
    "    TransformedTargetRegressor(\n",
    "        regressor=Ridge(alpha=1e-10), func=np.log10, inverse_func=sp.special.exp10\n",
    "    ),\n",
    ")\n",
    "\n",
    "_ = model.fit(X_train, y_train)"
   ]
  },
  {
   "cell_type": "markdown",
   "metadata": {},
   "source": [
    "Again, we check the performance of the computed\n",
    "model using, for example, the median absolute error of the model and the R\n",
    "squared coefficient.\n",
    "\n"
   ]
  },
  {
   "cell_type": "code",
   "execution_count": null,
   "metadata": {
    "collapsed": false,
    "jupyter": {
     "outputs_hidden": false
    }
   },
   "outputs": [],
   "source": [
    "y_pred = model.predict(X_train)\n",
    "mae = median_absolute_error(y_train, y_pred)\n",
    "string_score = f\"MAE on training set: {mae:.2f} $/hour\"\n",
    "y_pred = model.predict(X_test)\n",
    "mae = median_absolute_error(y_test, y_pred)\n",
    "string_score += f\"\\nMAE on testing set: {mae:.2f} $/hour\"\n",
    "fig, ax = plt.subplots(figsize=(6, 6))\n",
    "plt.scatter(y_test, y_pred)\n",
    "ax.plot([0, 1], [0, 1], transform=ax.transAxes, ls=\"--\", c=\"red\")\n",
    "\n",
    "plt.text(3, 20, string_score)\n",
    "\n",
    "plt.title(\"Ridge model, small regularization, normalized variables\")\n",
    "plt.ylabel(\"Model predictions\")\n",
    "plt.xlabel(\"Truths\")\n",
    "plt.xlim([0, 27])\n",
    "_ = plt.ylim([0, 27])"
   ]
  },
  {
   "cell_type": "markdown",
   "metadata": {},
   "source": [
    "For the coefficient analysis, scaling is not needed this time.\n",
    "\n"
   ]
  },
  {
   "cell_type": "code",
   "execution_count": null,
   "metadata": {
    "collapsed": false,
    "jupyter": {
     "outputs_hidden": false
    }
   },
   "outputs": [],
   "source": [
    "coefs = pd.DataFrame(\n",
    "    model.named_steps[\"transformedtargetregressor\"].regressor_.coef_,\n",
    "    columns=[\"Coefficients\"],\n",
    "    index=feature_names,\n",
    ")\n",
    "coefs.plot(kind=\"barh\", figsize=(9, 7))\n",
    "plt.title(\"Ridge model, small regularization, normalized variables\")\n",
    "plt.axvline(x=0, color=\".5\")\n",
    "plt.subplots_adjust(left=0.3)"
   ]
  },
  {
   "cell_type": "markdown",
   "metadata": {},
   "source": [
    "We now inspect the coefficients across several cross-validation folds.\n",
    "\n"
   ]
  },
  {
   "cell_type": "code",
   "execution_count": null,
   "metadata": {
    "collapsed": false,
    "jupyter": {
     "outputs_hidden": false
    }
   },
   "outputs": [],
   "source": [
    "cv_model = cross_validate(\n",
    "    model,\n",
    "    X,\n",
    "    y,\n",
    "    cv=RepeatedKFold(n_splits=5, n_repeats=5),\n",
    "    return_estimator=True,\n",
    "    n_jobs=2,\n",
    ")\n",
    "coefs = pd.DataFrame(\n",
    "    [\n",
    "        est.named_steps[\"transformedtargetregressor\"].regressor_.coef_\n",
    "        for est in cv_model[\"estimator\"]\n",
    "    ],\n",
    "    columns=feature_names,\n",
    ")\n",
    "plt.figure(figsize=(9, 7))\n",
    "sns.stripplot(data=coefs, orient=\"h\", color=\"k\", alpha=0.5)\n",
    "sns.boxplot(data=coefs, orient=\"h\", color=\"cyan\", saturation=0.5)\n",
    "plt.axvline(x=0, color=\".5\")\n",
    "plt.title(\"Coefficient variability\")\n",
    "plt.subplots_adjust(left=0.3)"
   ]
  },
  {
   "cell_type": "markdown",
   "metadata": {},
   "source": [
    "The result is quite similar to the non-normalized case.\n",
    "\n",
    "## Linear models with regularization\n",
    "\n",
    "In machine-learning practice, Ridge Regression is more often used with\n",
    "non-negligible regularization.\n",
    "\n",
    "Above, we limited this regularization to a very little amount.\n",
    "Regularization improves the conditioning of the problem and reduces the\n",
    "variance of the estimates. RidgeCV applies cross validation in order to\n",
    "determine which value of the regularization parameter (`alpha`) is best\n",
    "suited for prediction.\n",
    "\n"
   ]
  },
  {
   "cell_type": "code",
   "execution_count": null,
   "metadata": {
    "collapsed": false,
    "jupyter": {
     "outputs_hidden": false
    }
   },
   "outputs": [],
   "source": [
    "from sklearn.linear_model import RidgeCV\n",
    "\n",
    "model = make_pipeline(\n",
    "    preprocessor,\n",
    "    TransformedTargetRegressor(\n",
    "        regressor=RidgeCV(alphas=np.logspace(-10, 10, 21)),\n",
    "        func=np.log10,\n",
    "        inverse_func=sp.special.exp10,\n",
    "    ),\n",
    ")\n",
    "\n",
    "_ = model.fit(X_train, y_train)"
   ]
  },
  {
   "cell_type": "markdown",
   "metadata": {},
   "source": [
    "First we check which value of $\\alpha$ has been selected.\n",
    "\n"
   ]
  },
  {
   "cell_type": "code",
   "execution_count": null,
   "metadata": {
    "collapsed": false,
    "jupyter": {
     "outputs_hidden": false
    }
   },
   "outputs": [],
   "source": [
    "model[-1].regressor_.alpha_"
   ]
  },
  {
   "cell_type": "markdown",
   "metadata": {},
   "source": [
    "Then we check the quality of the predictions.\n",
    "\n"
   ]
  },
  {
   "cell_type": "code",
   "execution_count": null,
   "metadata": {
    "collapsed": false,
    "jupyter": {
     "outputs_hidden": false
    }
   },
   "outputs": [],
   "source": [
    "y_pred = model.predict(X_train)\n",
    "mae = median_absolute_error(y_train, y_pred)\n",
    "string_score = f\"MAE on training set: {mae:.2f} $/hour\"\n",
    "y_pred = model.predict(X_test)\n",
    "mae = median_absolute_error(y_test, y_pred)\n",
    "string_score += f\"\\nMAE on testing set: {mae:.2f} $/hour\"\n",
    "\n",
    "fig, ax = plt.subplots(figsize=(6, 6))\n",
    "plt.scatter(y_test, y_pred)\n",
    "ax.plot([0, 1], [0, 1], transform=ax.transAxes, ls=\"--\", c=\"red\")\n",
    "\n",
    "plt.text(3, 20, string_score)\n",
    "\n",
    "plt.title(\"Ridge model, regularization, normalized variables\")\n",
    "plt.ylabel(\"Model predictions\")\n",
    "plt.xlabel(\"Truths\")\n",
    "plt.xlim([0, 27])\n",
    "_ = plt.ylim([0, 27])"
   ]
  },
  {
   "cell_type": "markdown",
   "metadata": {},
   "source": [
    "The ability to reproduce the data of the regularized model is similar to\n",
    "the one of the non-regularized model.\n",
    "\n"
   ]
  },
  {
   "cell_type": "code",
   "execution_count": null,
   "metadata": {
    "collapsed": false,
    "jupyter": {
     "outputs_hidden": false
    }
   },
   "outputs": [],
   "source": [
    "coefs = pd.DataFrame(\n",
    "    model.named_steps[\"transformedtargetregressor\"].regressor_.coef_,\n",
    "    columns=[\"Coefficients\"],\n",
    "    index=feature_names,\n",
    ")\n",
    "coefs.plot(kind=\"barh\", figsize=(9, 7))\n",
    "plt.title(\"Ridge model, regularization, normalized variables\")\n",
    "plt.axvline(x=0, color=\".5\")\n",
    "plt.subplots_adjust(left=0.3)"
   ]
  },
  {
   "cell_type": "markdown",
   "metadata": {},
   "source": [
    "The coefficients are significantly different.\n",
    "AGE and EXPERIENCE coefficients are both positive but they now have less\n",
    "influence on the prediction.\n",
    "\n",
    "The regularization reduces the influence of correlated\n",
    "variables on the model because the weight is shared between the two\n",
    "predictive variables, so neither alone would have strong weights.\n",
    "\n",
    "On the other hand, the weights obtained with regularization are more\n",
    "stable  (see the `ridge_regression` User Guide section). This\n",
    "increased stability is visible from the plot, obtained from data\n",
    "perturbations, in a cross validation. This plot can  be compared with\n",
    "the `previous one<covariation>`.\n",
    "\n"
   ]
  },
  {
   "cell_type": "code",
   "execution_count": null,
   "metadata": {
    "collapsed": false,
    "jupyter": {
     "outputs_hidden": false
    }
   },
   "outputs": [],
   "source": [
    "cv_model = cross_validate(\n",
    "    model,\n",
    "    X,\n",
    "    y,\n",
    "    cv=RepeatedKFold(n_splits=5, n_repeats=5),\n",
    "    return_estimator=True,\n",
    "    n_jobs=2,\n",
    ")\n",
    "coefs = pd.DataFrame(\n",
    "    [\n",
    "        est.named_steps[\"transformedtargetregressor\"].regressor_.coef_\n",
    "        * X_train_preprocessed.std(axis=0)\n",
    "        for est in cv_model[\"estimator\"]\n",
    "    ],\n",
    "    columns=feature_names,\n",
    ")\n",
    "\n",
    "plt.ylabel(\"Age coefficient\")\n",
    "plt.xlabel(\"Experience coefficient\")\n",
    "plt.grid(True)\n",
    "plt.xlim(-0.4, 0.5)\n",
    "plt.ylim(-0.4, 0.5)\n",
    "plt.scatter(coefs[\"AGE\"], coefs[\"EXPERIENCE\"])\n",
    "_ = plt.title(\"Co-variations of coefficients for AGE and EXPERIENCE across folds\")"
   ]
  },
  {
   "cell_type": "markdown",
   "metadata": {},
   "source": [
    "## Linear models with sparse coefficients\n",
    "\n",
    "Another possibility to take into account correlated variables in the dataset,\n",
    "is to estimate sparse coefficients. In some way we already did it manually\n",
    "when we dropped the AGE column in a previous Ridge estimation.\n",
    "\n",
    "Lasso models (see the `lasso` User Guide section) estimates sparse\n",
    "coefficients. LassoCV applies cross validation in order to\n",
    "determine which value of the regularization parameter (`alpha`) is best\n",
    "suited for the model estimation.\n",
    "\n"
   ]
  },
  {
   "cell_type": "code",
   "execution_count": null,
   "metadata": {
    "collapsed": false,
    "jupyter": {
     "outputs_hidden": false
    }
   },
   "outputs": [],
   "source": [
    "from sklearn.linear_model import LassoCV\n",
    "\n",
    "model = make_pipeline(\n",
    "    preprocessor,\n",
    "    TransformedTargetRegressor(\n",
    "        regressor=LassoCV(alphas=np.logspace(-10, 10, 21), max_iter=100000),\n",
    "        func=np.log10,\n",
    "        inverse_func=sp.special.exp10,\n",
    "    ),\n",
    ")\n",
    "\n",
    "_ = model.fit(X_train, y_train)"
   ]
  },
  {
   "cell_type": "markdown",
   "metadata": {},
   "source": [
    "First we verify which value of $\\alpha$ has been selected.\n",
    "\n"
   ]
  },
  {
   "cell_type": "code",
   "execution_count": null,
   "metadata": {
    "collapsed": false,
    "jupyter": {
     "outputs_hidden": false
    }
   },
   "outputs": [],
   "source": [
    "model[-1].regressor_.alpha_"
   ]
  },
  {
   "cell_type": "markdown",
   "metadata": {},
   "source": [
    "Then we check the quality of the predictions.\n",
    "\n"
   ]
  },
  {
   "cell_type": "code",
   "execution_count": null,
   "metadata": {
    "collapsed": false,
    "jupyter": {
     "outputs_hidden": false
    }
   },
   "outputs": [],
   "source": [
    "y_pred = model.predict(X_train)\n",
    "mae = median_absolute_error(y_train, y_pred)\n",
    "string_score = f\"MAE on training set: {mae:.2f} $/hour\"\n",
    "y_pred = model.predict(X_test)\n",
    "mae = median_absolute_error(y_test, y_pred)\n",
    "string_score += f\"\\nMAE on testing set: {mae:.2f} $/hour\"\n",
    "\n",
    "fig, ax = plt.subplots(figsize=(6, 6))\n",
    "plt.scatter(y_test, y_pred)\n",
    "ax.plot([0, 1], [0, 1], transform=ax.transAxes, ls=\"--\", c=\"red\")\n",
    "\n",
    "plt.text(3, 20, string_score)\n",
    "\n",
    "plt.title(\"Lasso model, regularization, normalized variables\")\n",
    "plt.ylabel(\"Model predictions\")\n",
    "plt.xlabel(\"Truths\")\n",
    "plt.xlim([0, 27])\n",
    "_ = plt.ylim([0, 27])"
   ]
  },
  {
   "cell_type": "markdown",
   "metadata": {},
   "source": [
    "For our dataset, again the model is not very predictive.\n",
    "\n"
   ]
  },
  {
   "cell_type": "code",
   "execution_count": null,
   "metadata": {
    "collapsed": false,
    "jupyter": {
     "outputs_hidden": false
    }
   },
   "outputs": [],
   "source": [
    "coefs = pd.DataFrame(\n",
    "    model.named_steps[\"transformedtargetregressor\"].regressor_.coef_,\n",
    "    columns=[\"Coefficients\"],\n",
    "    index=feature_names,\n",
    ")\n",
    "coefs.plot(kind=\"barh\", figsize=(9, 7))\n",
    "plt.title(\"Lasso model, regularization, normalized variables\")\n",
    "plt.axvline(x=0, color=\".5\")\n",
    "plt.subplots_adjust(left=0.3)"
   ]
  },
  {
   "cell_type": "markdown",
   "metadata": {},
   "source": [
    "A Lasso model identifies the correlation between\n",
    "AGE and EXPERIENCE and suppresses one of them for the sake of the prediction.\n",
    "\n",
    "It is important to keep in mind that the coefficients that have been\n",
    "dropped may still be related to the outcome by themselves: the model\n",
    "chose to suppress them because they bring little or no additional\n",
    "information on top of the other features.   \n",
    "Additionally, this selection\n",
    "is unstable for correlated features, and should be interpreted with\n",
    "caution.\n",
    "\n",
    "## Lessons learned\n",
    "\n",
    "* Coefficients must be scaled to the same unit of measure to retrieve\n",
    "  feature importance. Scaling them with the standard-deviation of the\n",
    "  feature is a useful proxy.\n",
    "* Coefficients in multivariate linear models represent the dependency\n",
    "  between a given feature and the target, **conditional** on the other\n",
    "  features.\n",
    "* Correlated features induce instabilities in the coefficients of linear\n",
    "  models and their effects cannot be well taken apart.\n",
    "* Different linear models respond differently to feature correlation and\n",
    "  coefficients could significantly vary from one another.\n",
    "* Inspecting coefficients across the folds of a cross-validation loop\n",
    "  gives an idea of their stability."
   ]
  }
 ],
 "metadata": {
  "kernelspec": {
   "display_name": "Python 3 (ipykernel)",
   "language": "python",
   "name": "python3"
  },
  "language_info": {
   "codemirror_mode": {
    "name": "ipython",
    "version": 3
   },
   "file_extension": ".py",
   "mimetype": "text/x-python",
   "name": "python",
   "nbconvert_exporter": "python",
   "pygments_lexer": "ipython3",
   "version": "3.10.10"
  }
 },
 "nbformat": 4,
 "nbformat_minor": 4
}

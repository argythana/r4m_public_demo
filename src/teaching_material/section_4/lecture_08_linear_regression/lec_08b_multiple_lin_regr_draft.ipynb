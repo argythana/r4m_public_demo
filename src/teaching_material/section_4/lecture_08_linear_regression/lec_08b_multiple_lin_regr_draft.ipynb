{
 "cells": [
  {
   "cell_type": "markdown",
   "id": "likely-falls",
   "metadata": {},
   "source": [
    "# Lecture G. Multiple Linear Regression using python."
   ]
  },
  {
   "cell_type": "markdown",
   "id": "391f5b0c-c045-4f22-9897-b481341cee7b",
   "metadata": {},
   "source": [
    "Preliminary Definitions:   \n",
    "[Fit a model](https://en.wikipedia.org/wiki/Goodness_of_fit)  \n",
    "[Overfitting VS Underfitting](https://en.wikipedia.org/wiki/Overfitting)  \n",
    "[Bias-Variance tradeoff (underfit VS overfit)](https://en.wikipedia.org/wiki/Bias%E2%80%93variance_tradeoff)   \n",
    "High Bias => Underfit.  \n",
    "High Variance = > Overfit\n"
   ]
  },
  {
   "cell_type": "markdown",
   "id": "78475533-4cbf-47ed-8315-428071b05903",
   "metadata": {
    "tags": []
   },
   "source": [
    "## Install necessary libraries with activated virtual env.\n",
    "* Install from Windows Command Line, not from here!\n",
    "\n",
    "* [Pingouin](https://pingouin-stats.org/) is new but funky and very helpful for beginners. Endless source of cuteness.  \n",
    "Must read: [Pingouin guidelines.](https://pingouin-stats.org/guidelines.html)   \n",
    "\n",
    "* [Statsmodels](https://www.statsmodels.org/stable/index.html) is more advanced, has more features. Has extensive [examples.](https://www.statsmodels.org/stable/examples/index.html)   \n",
    "\n",
    "Understand what version 0.x.x means!\n",
    "\n",
    "```\n",
    "pip install statsmodels\n",
    "pip install pingouin\n",
    "pip install scikit-learn\n",
    "```"
   ]
  },
  {
   "cell_type": "code",
   "execution_count": 1,
   "id": "charming-armstrong",
   "metadata": {},
   "outputs": [
    {
     "ename": "ModuleNotFoundError",
     "evalue": "No module named 'pingouin'",
     "output_type": "error",
     "traceback": [
      "\u001b[1;31m---------------------------------------------------------------------------\u001b[0m",
      "\u001b[1;31mModuleNotFoundError\u001b[0m                       Traceback (most recent call last)",
      "Cell \u001b[1;32mIn[1], line 8\u001b[0m\n\u001b[0;32m      5\u001b[0m \u001b[38;5;28;01mimport\u001b[39;00m \u001b[38;5;21;01mmatplotlib\u001b[39;00m\u001b[38;5;21;01m.\u001b[39;00m\u001b[38;5;21;01mpyplot\u001b[39;00m \u001b[38;5;28;01mas\u001b[39;00m \u001b[38;5;21;01mplt\u001b[39;00m\n\u001b[0;32m      7\u001b[0m \u001b[38;5;66;03m# from statsmodels.sandbox.regression.predstd import wls_prediction_std\u001b[39;00m\n\u001b[1;32m----> 8\u001b[0m \u001b[38;5;28;01mimport\u001b[39;00m \u001b[38;5;21;01mpingouin\u001b[39;00m \u001b[38;5;28;01mas\u001b[39;00m \u001b[38;5;21;01mpg\u001b[39;00m\n\u001b[0;32m      9\u001b[0m \u001b[38;5;28;01mimport\u001b[39;00m \u001b[38;5;21;01mstatsmodels\u001b[39;00m\u001b[38;5;21;01m.\u001b[39;00m\u001b[38;5;21;01mapi\u001b[39;00m \u001b[38;5;28;01mas\u001b[39;00m \u001b[38;5;21;01msm\u001b[39;00m\n",
      "\u001b[1;31mModuleNotFoundError\u001b[0m: No module named 'pingouin'"
     ]
    }
   ],
   "source": [
    "import numpy as np\n",
    "import pandas as pd\n",
    "\n",
    "import seaborn as sns\n",
    "import matplotlib.pyplot as plt\n",
    "\n",
    "# from statsmodels.sandbox.regression.predstd import wls_prediction_std\n",
    "import pingouin as pg\n",
    "import statsmodels.api as sm"
   ]
  },
  {
   "cell_type": "code",
   "execution_count": null,
   "id": "c9a5a200-4df7-4a93-aa3a-98747e4d81cc",
   "metadata": {},
   "outputs": [],
   "source": [
    "# pandas set display output options\n",
    "pd.set_option(\"display.precision\", 3)"
   ]
  },
  {
   "cell_type": "code",
   "execution_count": null,
   "id": "champion-helena",
   "metadata": {},
   "outputs": [],
   "source": [
    "# pandas set display output options\n",
    "# Uncomment line below to see the error.\n",
    "\n",
    "#pd.set_option(\"precision\", 3)  #  This was working fine last year, now it is not.\n",
    "\n",
    "# I found the correct syntax using:\n",
    "# pd.set_option?"
   ]
  },
  {
   "cell_type": "markdown",
   "id": "applicable-bouquet",
   "metadata": {},
   "source": [
    "## Read and prepare the data"
   ]
  },
  {
   "cell_type": "code",
   "execution_count": null,
   "id": "contained-multimedia",
   "metadata": {},
   "outputs": [],
   "source": [
    "# This is the path on my PC not yours!\n",
    "# Learn how to set the proper path, please, please!\n",
    "df = pd.read_excel(\"../data/calc_grades_determinants.xlsx\")\n",
    "# Notice that openpyxl is a dependency that pandas requires to read excel files.\n",
    "# Although we don't need to import it, we have to install it."
   ]
  },
  {
   "cell_type": "markdown",
   "id": "9790d540-6627-4bef-9d92-463154712cdd",
   "metadata": {},
   "source": [
    "    ModuleNotFoundError  \n",
    "    ImportError: Missing optional dependency 'openpyxl'.  Use pip or conda to install openpyxl.\n",
    "\n",
    "    So, with the virtual environment activated:  \n",
    "\n",
    "```\n",
    "pip install openpyxl  \n",
    "```"
   ]
  },
  {
   "cell_type": "code",
   "execution_count": null,
   "id": "retained-turkish",
   "metadata": {},
   "outputs": [],
   "source": [
    "df.head()"
   ]
  },
  {
   "cell_type": "code",
   "execution_count": null,
   "id": "timely-scotland",
   "metadata": {},
   "outputs": [],
   "source": [
    "len(df)"
   ]
  },
  {
   "cell_type": "code",
   "execution_count": null,
   "id": "ceefe1a1-13a5-4fa7-b51a-38ba03260ace",
   "metadata": {},
   "outputs": [],
   "source": [
    "df.columns"
   ]
  },
  {
   "cell_type": "code",
   "execution_count": null,
   "id": "macro-suspect",
   "metadata": {},
   "outputs": [],
   "source": [
    "# this step may be avoided, since we create X and y by numeric index\n",
    "df.columns = df.columns.str.replace(\" \", \"_\").str.lower()  # or str.replace(\" \", \"\") # to replace blank space with nothing\n",
    "df.columns"
   ]
  },
  {
   "cell_type": "code",
   "execution_count": null,
   "id": "durable-sigma",
   "metadata": {},
   "outputs": [],
   "source": [
    "# get column names and data type in each column\n",
    "df.dtypes"
   ]
  },
  {
   "cell_type": "code",
   "execution_count": null,
   "id": "little-necklace",
   "metadata": {},
   "outputs": [],
   "source": [
    "df.alg2_grade.unique()"
   ]
  },
  {
   "cell_type": "code",
   "execution_count": null,
   "id": "ahead-director",
   "metadata": {},
   "outputs": [],
   "source": [
    "df.alg2_grade.unique()"
   ]
  },
  {
   "cell_type": "code",
   "execution_count": null,
   "id": "proof-blair",
   "metadata": {},
   "outputs": [],
   "source": [
    "df.dtypes## Example of how to select some columns by HEADER name\n",
    "df[[\"calc_hs\", \"act_math\", \"alg_place\"]].head(2)"
   ]
  },
  {
   "cell_type": "markdown",
   "id": "useful-stationery",
   "metadata": {},
   "source": [
    "### Select the features columns X, not include gender and Y  \n",
    "Array data strucure = indexed collection of data elements.   \n",
    "This is an n-dimensional array, a matrix, conventionally denoted with capital letters.   \n",
    "The feature matrix is denoted with X (usually).  \n",
    "Sometimes, I prefer properly named subsets. E.g. we could call it ```all_X```"
   ]
  },
  {
   "cell_type": "code",
   "execution_count": null,
   "id": "alike-worse",
   "metadata": {},
   "outputs": [],
   "source": [
    "# exclude gender and calc\n",
    "# Can you try it using column labels?\n",
    "X = df.iloc[:, :-2]\n",
    "X.head(3)"
   ]
  },
  {
   "cell_type": "code",
   "execution_count": null,
   "id": "verified-cathedral",
   "metadata": {},
   "outputs": [],
   "source": [
    "# 80rows, 6 cols, index NOT INCLUDED\n",
    "X.shape"
   ]
  },
  {
   "cell_type": "markdown",
   "id": "round-relay",
   "metadata": {},
   "source": [
    "### Select dependent variable column (aka, target, predicted, ...)  \n",
    "The predicted variable is a one dimensional array (1d-vector) conventionally denoted with small letters.  \n",
    "Usually it is called as y, if more than one better use explicit naming.   \n",
    "Different algorithms ask for different input.   \n",
    "Be very careful with the data structure:\n",
    "* type\n",
    "* shape\n",
    "* dimensions"
   ]
  },
  {
   "cell_type": "code",
   "execution_count": null,
   "id": "signal-provincial",
   "metadata": {},
   "outputs": [],
   "source": [
    "# this notation returns a pandas Series\n",
    "y = df.iloc[:, -1]\n",
    "y.head(3)"
   ]
  },
  {
   "cell_type": "code",
   "execution_count": null,
   "id": "public-liverpool",
   "metadata": {},
   "outputs": [],
   "source": [
    "type(y)"
   ]
  },
  {
   "cell_type": "code",
   "execution_count": null,
   "id": "geological-aircraft",
   "metadata": {},
   "outputs": [],
   "source": [
    "y.shape"
   ]
  },
  {
   "cell_type": "code",
   "execution_count": null,
   "id": "accepting-singer",
   "metadata": {},
   "outputs": [],
   "source": [
    "np.ndim(y)"
   ]
  },
  {
   "cell_type": "code",
   "execution_count": null,
   "id": "contemporary-column",
   "metadata": {},
   "outputs": [],
   "source": [
    "# if you prefer this output\n",
    "# this notation returns a pandas dataframe\n",
    "# y = df.iloc[:, -1:]\n",
    "df.iloc[:, -1:].head(3)"
   ]
  },
  {
   "cell_type": "code",
   "execution_count": null,
   "id": "amino-running",
   "metadata": {},
   "outputs": [],
   "source": [
    "type(df.iloc[:, -1:])"
   ]
  },
  {
   "cell_type": "code",
   "execution_count": null,
   "id": "mexican-colonial",
   "metadata": {},
   "outputs": [],
   "source": [
    "# 80 rows, 1 column\n",
    "df.iloc[:, -1:].shape"
   ]
  },
  {
   "cell_type": "code",
   "execution_count": null,
   "id": "visible-paint",
   "metadata": {},
   "outputs": [],
   "source": [
    "# 2d array\n",
    "np.ndim(df.iloc[:, -1:])"
   ]
  },
  {
   "cell_type": "code",
   "execution_count": null,
   "id": "violent-respect",
   "metadata": {},
   "outputs": [],
   "source": [
    "# this is the last row as a dataframe, not the last column\n",
    "df_last_row = df.iloc[[-1]]\n",
    "df_last_row"
   ]
  },
  {
   "cell_type": "code",
   "execution_count": null,
   "id": "veterinary-animal",
   "metadata": {},
   "outputs": [],
   "source": [
    "type(df_last_row)"
   ]
  },
  {
   "cell_type": "code",
   "execution_count": null,
   "id": "opening-puppy",
   "metadata": {},
   "outputs": [],
   "source": [
    "# this returns the last row as \"pandas series type\".\n",
    "series_last_row = df.iloc[-1]\n",
    "series_last_row"
   ]
  },
  {
   "cell_type": "code",
   "execution_count": null,
   "id": "virgin-oakland",
   "metadata": {},
   "outputs": [],
   "source": [
    "type(series_last_row)"
   ]
  },
  {
   "cell_type": "markdown",
   "id": "biblical-cornell",
   "metadata": {},
   "source": [
    "### Categorical Variables Encoding"
   ]
  },
  {
   "cell_type": "code",
   "execution_count": null,
   "id": "challenging-fisher",
   "metadata": {},
   "outputs": [],
   "source": [
    "# create a new df for demonstration reason\n",
    "df_enc = df.copy()"
   ]
  },
  {
   "cell_type": "code",
   "execution_count": null,
   "id": "thick-sociology",
   "metadata": {},
   "outputs": [],
   "source": [
    "df_enc[\"gender_code\"] = df_enc[\"gender_code\"].astype(\"category\")\n",
    "\n",
    "df_enc.dtypes"
   ]
  },
  {
   "cell_type": "code",
   "execution_count": null,
   "id": "romantic-competition",
   "metadata": {},
   "outputs": [],
   "source": [
    "# hot encode gender. drop_first=True, not used so set columns of X one by one. \n",
    "df_enc = pd.get_dummies(df_enc, prefix=[\"gender\"], columns=[\"gender\"])"
   ]
  },
  {
   "cell_type": "code",
   "execution_count": null,
   "id": "aerial-sheffield",
   "metadata": {},
   "outputs": [],
   "source": [
    "df_enc.columns"
   ]
  },
  {
   "cell_type": "code",
   "execution_count": null,
   "id": "chief-weekly",
   "metadata": {},
   "outputs": [],
   "source": [
    "df_enc.gender_F.values"
   ]
  },
  {
   "cell_type": "markdown",
   "id": "generous-brush",
   "metadata": {},
   "source": [
    "## Examine the various variable correlation with each other."
   ]
  },
  {
   "cell_type": "markdown",
   "id": "annual-triple",
   "metadata": {},
   "source": [
    "### Correlation table"
   ]
  },
  {
   "cell_type": "code",
   "execution_count": null,
   "id": "acting-simpson",
   "metadata": {},
   "outputs": [],
   "source": [
    "df.corr(method='pearson')"
   ]
  },
  {
   "cell_type": "markdown",
   "id": "listed-bride",
   "metadata": {},
   "source": [
    "### Correlation plots"
   ]
  },
  {
   "cell_type": "code",
   "execution_count": null,
   "id": "determined-reform",
   "metadata": {},
   "outputs": [],
   "source": [
    "# set default size options, width, height\n",
    "plt.rcParams['figure.figsize'] = (10, 10)"
   ]
  },
  {
   "cell_type": "code",
   "execution_count": null,
   "id": "incorrect-proposition",
   "metadata": {},
   "outputs": [],
   "source": [
    "df_corr = df.corr()\n",
    "\n",
    "sns.heatmap(\n",
    "    df_corr, annot = True, cmap = 'Blues',\n",
    "    xticklabels = df_corr.columns.values,\n",
    "    yticklabels = df_corr.columns.values\n",
    ");\n",
    "\n",
    "plt.title('Calculus grades Heatmap', fontsize = 15);\n",
    "plt.xticks(fontsize = 12);\n",
    "plt.yticks(fontsize = 12);"
   ]
  },
  {
   "cell_type": "code",
   "execution_count": null,
   "id": "cordless-trail",
   "metadata": {},
   "outputs": [],
   "source": [
    "df.loc[(df.gender_code == 1), \"gender\"].unique()"
   ]
  },
  {
   "cell_type": "code",
   "execution_count": null,
   "id": "criminal-attention",
   "metadata": {},
   "outputs": [],
   "source": [
    "df[[\"gender_code\", \"gender\"]].values[:3]"
   ]
  },
  {
   "cell_type": "code",
   "execution_count": null,
   "id": "owned-purse",
   "metadata": {},
   "outputs": [],
   "source": [
    "# pairwise correlation comparison\n",
    "sns.pairplot(\n",
    "    data = df[[ \"act_math\", \"alg_place\", \"gender_code\", \"calc\"]],\n",
    "    hue = 'gender_code' , palette = ['Violet', 'Blue']);"
   ]
  },
  {
   "cell_type": "markdown",
   "id": "backed-detective",
   "metadata": {},
   "source": [
    "## Linear regression libraries"
   ]
  },
  {
   "cell_type": "markdown",
   "id": "sharp-atlas",
   "metadata": {},
   "source": [
    "### Linear regression using pingouin"
   ]
  },
  {
   "cell_type": "code",
   "execution_count": null,
   "id": "f57e3e8f-06de-4ac6-a48b-9b28b40b32d4",
   "metadata": {},
   "outputs": [],
   "source": [
    "# y was used as a Series\n",
    "# just in case we go up and down\n",
    "X = df.iloc[:, :-2]\n",
    "y = df.iloc[:, -1]"
   ]
  },
  {
   "cell_type": "code",
   "execution_count": null,
   "id": "0d40b158-e874-4965-a015-6a4ea0bd7679",
   "metadata": {},
   "outputs": [],
   "source": [
    "X.head()"
   ]
  },
  {
   "cell_type": "code",
   "execution_count": null,
   "id": "05727ef0-1280-44f7-a699-152f253b0137",
   "metadata": {},
   "outputs": [],
   "source": [
    "lm_df = pg.linear_regression(X, y, add_intercept=True)\n",
    "lm_df"
   ]
  },
  {
   "cell_type": "code",
   "execution_count": null,
   "id": "serious-headset",
   "metadata": {},
   "outputs": [],
   "source": [
    "type(lm_df)"
   ]
  },
  {
   "cell_type": "code",
   "execution_count": null,
   "id": "perfect-career",
   "metadata": {},
   "outputs": [],
   "source": [
    "# help(pg.linear_regression)"
   ]
  },
  {
   "cell_type": "code",
   "execution_count": null,
   "id": "roman-minimum",
   "metadata": {},
   "outputs": [],
   "source": [
    "lm_df[[\"names\", 'coef']]"
   ]
  },
  {
   "cell_type": "code",
   "execution_count": null,
   "id": "upper-filling",
   "metadata": {},
   "outputs": [],
   "source": [
    "lm_df.residuals_"
   ]
  },
  {
   "cell_type": "code",
   "execution_count": null,
   "id": "cathedral-playback",
   "metadata": {},
   "outputs": [],
   "source": [
    "pd.Series(lm_df.residuals_).describe().round(2)"
   ]
  },
  {
   "cell_type": "code",
   "execution_count": null,
   "id": "reflected-omega",
   "metadata": {},
   "outputs": [],
   "source": [
    "# regression get output not as df\n",
    "X = df.iloc[:, :-2]\n",
    "y = df.iloc[:, -1]\n",
    "\n",
    "lm_not_df = pg.linear_regression(X, y, add_intercept=True, as_dataframe=False)\n",
    "# lm_not_df"
   ]
  },
  {
   "cell_type": "code",
   "execution_count": null,
   "id": "standing-bouquet",
   "metadata": {},
   "outputs": [],
   "source": [
    "lm_not_df['pred']"
   ]
  },
  {
   "cell_type": "code",
   "execution_count": null,
   "id": "broadband-missouri",
   "metadata": {},
   "outputs": [],
   "source": [
    "pd.Series(lm_not_df[\"residuals\"]).describe().round(2)"
   ]
  },
  {
   "cell_type": "code",
   "execution_count": null,
   "id": "forward-harassment",
   "metadata": {},
   "outputs": [],
   "source": [
    "# # If y is input as a dataframe data type\n",
    "# # AssertionError: y must be one-dimensional.\n",
    "\n",
    "# y = df.iloc[:, -1:]\n",
    "\n",
    "# pg.linear_regression(X, y, add_intercept=True)"
   ]
  },
  {
   "cell_type": "code",
   "execution_count": null,
   "id": "essential-christopher",
   "metadata": {},
   "outputs": [],
   "source": [
    "# # regression using encoded column for gender\n",
    "# lm_enc = pg.linear_regression(\n",
    "#     df_enc[['calc_hs', 'act_math', 'alg_place', 'alg2_grade', 'hs_rank', 'gender_M']],\n",
    "#     y, add_intercept=True)\n",
    "# lm_enc"
   ]
  },
  {
   "cell_type": "markdown",
   "id": "agricultural-output",
   "metadata": {},
   "source": [
    "### Linear regression using statsmodels"
   ]
  },
  {
   "cell_type": "code",
   "execution_count": null,
   "id": "4a9133c2-30a1-45a4-b1df-291383e22fcb",
   "metadata": {},
   "outputs": [],
   "source": [
    "# add a constant intercept differently\n",
    "X = df.iloc[:, :-2]\n",
    "y = df.iloc[:, -1]"
   ]
  },
  {
   "cell_type": "code",
   "execution_count": null,
   "id": "52a68e42-6ed4-423f-8279-3993df55d213",
   "metadata": {},
   "outputs": [],
   "source": [
    "X.head()"
   ]
  },
  {
   "cell_type": "code",
   "execution_count": null,
   "id": "27b85818-72e0-4b84-a73d-4eb8238d6c67",
   "metadata": {},
   "outputs": [],
   "source": [
    "X = sm.add_constant(X)\n",
    "X.head(2)"
   ]
  },
  {
   "cell_type": "code",
   "execution_count": null,
   "id": "convertible-tunnel",
   "metadata": {},
   "outputs": [],
   "source": [
    "ols_results = sm.OLS(y, X).fit()\n",
    "print(ols_results.summary())"
   ]
  },
  {
   "cell_type": "code",
   "execution_count": null,
   "id": "running-frost",
   "metadata": {},
   "outputs": [],
   "source": [
    "type(ols_results)"
   ]
  },
  {
   "cell_type": "code",
   "execution_count": null,
   "id": "recent-vitamin",
   "metadata": {},
   "outputs": [],
   "source": [
    "print(ols_results.summary2())"
   ]
  },
  {
   "cell_type": "code",
   "execution_count": null,
   "id": "answering-opening",
   "metadata": {},
   "outputs": [],
   "source": [
    "# different output representation\n",
    "ols_results.summary()"
   ]
  },
  {
   "cell_type": "code",
   "execution_count": null,
   "id": "registered-supplement",
   "metadata": {},
   "outputs": [],
   "source": [
    "ols_results.diagn"
   ]
  },
  {
   "cell_type": "code",
   "execution_count": null,
   "id": "built-recovery",
   "metadata": {},
   "outputs": [],
   "source": [
    "ols_results.aic"
   ]
  },
  {
   "cell_type": "code",
   "execution_count": null,
   "id": "billion-inclusion",
   "metadata": {},
   "outputs": [],
   "source": [
    "ols_results.tvalues"
   ]
  },
  {
   "cell_type": "code",
   "execution_count": null,
   "id": "sealed-coffee",
   "metadata": {},
   "outputs": [],
   "source": [
    "# dir(ols_results)"
   ]
  },
  {
   "cell_type": "code",
   "execution_count": null,
   "id": "ongoing-desire",
   "metadata": {},
   "outputs": [],
   "source": [
    "ols_results.pvalues"
   ]
  },
  {
   "cell_type": "code",
   "execution_count": null,
   "id": "economic-reward",
   "metadata": {},
   "outputs": [],
   "source": [
    "ols_results.resid"
   ]
  },
  {
   "cell_type": "code",
   "execution_count": null,
   "id": "expressed-zambia",
   "metadata": {},
   "outputs": [],
   "source": [
    "pd.Series(ols_results.resid).describe().round(2)"
   ]
  },
  {
   "cell_type": "code",
   "execution_count": null,
   "id": "manual-dollar",
   "metadata": {},
   "outputs": [],
   "source": [
    "# sum of squared residuals or RSS residual sum of squares\n",
    "ols_results.ssr"
   ]
  },
  {
   "cell_type": "code",
   "execution_count": null,
   "id": "cheap-responsibility",
   "metadata": {},
   "outputs": [],
   "source": [
    "compare_pred_df = pd.DataFrame({'actual_y': y, 'y_hat':ols_results.fittedvalues})\n",
    "compare_pred_df.head(10)"
   ]
  },
  {
   "cell_type": "markdown",
   "id": "greek-camping",
   "metadata": {},
   "source": [
    "### Lineat Regression Plots"
   ]
  },
  {
   "cell_type": "code",
   "execution_count": null,
   "id": "interpreted-victor",
   "metadata": {},
   "outputs": [],
   "source": [
    "sns.scatterplot(x=\"actual_y\", y=\"y_hat\", color=\"b\", data=compare_pred_df);"
   ]
  },
  {
   "cell_type": "code",
   "execution_count": null,
   "id": "excess-certificate",
   "metadata": {},
   "outputs": [],
   "source": [
    "# takes arrays as arguments\n",
    "sns.scatterplot(x=y, y=ols_results.fittedvalues, color=\"b\");"
   ]
  },
  {
   "cell_type": "code",
   "execution_count": null,
   "id": "hired-accident",
   "metadata": {},
   "outputs": [],
   "source": [
    "g = sns.lmplot(x=\"actual_y\", y=\"y_hat\", data=compare_pred_df)"
   ]
  },
  {
   "cell_type": "code",
   "execution_count": null,
   "id": "equal-running",
   "metadata": {},
   "outputs": [],
   "source": [
    "sns.residplot(x=ols_results.fittedvalues, y=ols_results.resid, lowess=True, color=\"g\");"
   ]
  },
  {
   "cell_type": "code",
   "execution_count": null,
   "id": "weighted-friendly",
   "metadata": {},
   "outputs": [],
   "source": [
    "sm.qqplot(ols_results.resid);\n",
    "# plt.show()"
   ]
  },
  {
   "cell_type": "code",
   "execution_count": null,
   "id": "accessory-landscape",
   "metadata": {},
   "outputs": [],
   "source": [
    "from scipy import stats\n",
    "\n",
    "stats.probplot(ols_results.resid, plot=sns.mpl.pyplot);"
   ]
  },
  {
   "cell_type": "code",
   "execution_count": null,
   "id": "incident-backing",
   "metadata": {},
   "outputs": [],
   "source": [
    "sns.displot(x=ols_results.resid, kind=\"kde\");"
   ]
  },
  {
   "cell_type": "code",
   "execution_count": null,
   "id": "devoted-gallery",
   "metadata": {},
   "outputs": [],
   "source": [
    "sns.displot(x=ols_results.resid, kde=True);"
   ]
  },
  {
   "cell_type": "code",
   "execution_count": null,
   "id": "parental-sunset",
   "metadata": {},
   "outputs": [],
   "source": [
    "sns.displot(x=ols_results.resid, kind=\"ecdf\", rug=True);"
   ]
  },
  {
   "cell_type": "code",
   "execution_count": null,
   "id": "logical-reducing",
   "metadata": {},
   "outputs": [],
   "source": [
    "sns.displot(x=y, kind=\"ecdf\",  rug=True);"
   ]
  },
  {
   "cell_type": "code",
   "execution_count": null,
   "id": "celtic-donna",
   "metadata": {},
   "outputs": [],
   "source": [
    "sns.displot(x=y, kind=\"kde\");"
   ]
  },
  {
   "cell_type": "code",
   "execution_count": null,
   "id": "accepted-boulder",
   "metadata": {},
   "outputs": [],
   "source": [
    "# # documentation on the function\n",
    "# help(sm.OLS)"
   ]
  },
  {
   "cell_type": "code",
   "execution_count": null,
   "id": "patent-hardware",
   "metadata": {},
   "outputs": [],
   "source": [
    "# # documentation on the output\n",
    "# help(ols_results)"
   ]
  },
  {
   "cell_type": "markdown",
   "id": "humanitarian-duncan",
   "metadata": {},
   "source": [
    "### Remove non statistically significant factors"
   ]
  },
  {
   "cell_type": "code",
   "execution_count": null,
   "id": "macro-vehicle",
   "metadata": {},
   "outputs": [],
   "source": [
    "# four features, mind the F-statistic\n",
    "X = df[[\"calc_hs\", \"act_math\", \"alg2_grade\", \"alg_place\"]]\n",
    "X = sm.add_constant(X)\n",
    "\n",
    "ols_results = sm.OLS(y, X).fit()\n",
    "ols_results.summary()"
   ]
  },
  {
   "cell_type": "markdown",
   "id": "outer-aside",
   "metadata": {},
   "source": [
    "### Best model I managed  to find   \n",
    "\n",
    "* three features  \n",
    "* F-statistic\n",
    "* p-values "
   ]
  },
  {
   "cell_type": "code",
   "execution_count": null,
   "id": "selected-light",
   "metadata": {},
   "outputs": [],
   "source": [
    "# three features, mind the F-statistic, the \n",
    "\n",
    "X = df[[\"calc_hs\", \"act_math\", \"alg2_grade\"]]\n",
    "X = sm.add_constant(X)\n",
    "\n",
    "ols_results = sm.OLS(y, X).fit()\n",
    "ols_results.summary()"
   ]
  },
  {
   "cell_type": "code",
   "execution_count": null,
   "id": "elder-receptor",
   "metadata": {},
   "outputs": [],
   "source": [
    "X = df[[\"calc_hs\", \"act_math\", \"alg2_grade\"]]\n",
    "lm = pg.linear_regression(X, y, add_intercept=True)\n",
    "lm"
   ]
  },
  {
   "cell_type": "code",
   "execution_count": null,
   "id": "iraqi-heart",
   "metadata": {},
   "outputs": [],
   "source": [
    "# three features, mind the F-statistic\n",
    "# the p-value of act_math is not ok\n",
    "X = df[[\"calc_hs\", \"act_math\", \"alg_place\"]]\n",
    "X = sm.add_constant(X)\n",
    "\n",
    "ols_results = sm.OLS(y, X).fit()\n",
    "ols_results.summary()"
   ]
  },
  {
   "cell_type": "code",
   "execution_count": null,
   "id": "standing-alexandria",
   "metadata": {},
   "outputs": [],
   "source": [
    "# tho features, mind the F-statistic\n",
    "X = df[[\"calc_hs\", \"alg_place\"]]\n",
    "X = sm.add_constant(X)\n",
    "\n",
    "ols_results = sm.OLS(y, X).fit()\n",
    "ols_results.summary()"
   ]
  },
  {
   "cell_type": "code",
   "execution_count": null,
   "id": "statutory-allah",
   "metadata": {},
   "outputs": [],
   "source": [
    "# tho features, mind the F-statistic\n",
    "X = df[[\"calc_hs\", \"alg2_grade\"]]\n",
    "X = sm.add_constant(X)\n",
    "\n",
    "ols_results = sm.OLS(y, X).fit()\n",
    "ols_results.summary()"
   ]
  },
  {
   "cell_type": "code",
   "execution_count": null,
   "id": "quarterly-welding",
   "metadata": {},
   "outputs": [],
   "source": [
    "# tho features, mind the F-statistic\n",
    "X = df[[\"calc_hs\", \"act_math\"]]\n",
    "X = sm.add_constant(X)\n",
    "\n",
    "ols_results = sm.OLS(y, X).fit()\n",
    "ols_results.summary()"
   ]
  },
  {
   "cell_type": "code",
   "execution_count": null,
   "id": "measured-adams",
   "metadata": {},
   "outputs": [],
   "source": []
  }
 ],
 "metadata": {
  "kernelspec": {
   "display_name": "Python 3 (ipykernel)",
   "language": "python",
   "name": "python3"
  },
  "language_info": {
   "codemirror_mode": {
    "name": "ipython",
    "version": 3
   },
   "file_extension": ".py",
   "mimetype": "text/x-python",
   "name": "python",
   "nbconvert_exporter": "python",
   "pygments_lexer": "ipython3",
   "version": "3.10.10"
  },
  "toc-autonumbering": false,
  "toc-showmarkdowntxt": false
 },
 "nbformat": 4,
 "nbformat_minor": 5
}

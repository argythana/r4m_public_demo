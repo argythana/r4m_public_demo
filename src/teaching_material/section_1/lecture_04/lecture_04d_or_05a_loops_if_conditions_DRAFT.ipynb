{
 "cells": [
  {
   "cell_type": "markdown",
   "id": "accurate-distinction",
   "metadata": {},
   "source": [
    "# Lecture 4d_or_5a: Loops, if conditions.\n",
    "\n",
    "[while loop](https://docs.python.org/3/tutorial/introduction.html#first-steps-towards-programming)\n",
    "\n",
    "[if statements](https://docs.python.org/3/tutorial/controlflow.html#if-statements)\n",
    "\n",
    "[for loop](https://docs.python.org/3/tutorial/controlflow.html#for-statements)\n",
    "\n",
    "\n",
    "Flow control statements (control structures): while, if, for.  \n",
    "Decide, direct the order of execution.  \n",
    "Required notation:\n",
    "* indented blocks.\n",
    "* ```:``` sign.\n",
    "\n",
    "Conditions: If, elif, else, in , not  \n",
    "continue, break, pass\n",
    "nested loops, statements\n",
    "\n",
    "Extra reading:\n",
    "[break, continue, else](https://docs.python.org/3/tutorial/controlflow.html#break-and-continue-statements-and-else-clauses-on-loops)\n",
    "\n",
    "\n",
    "## While\n",
    "\n",
    "while: Repeat execution (loop) **as long as** an expression is true.  \n",
    "break: terminates enclosing loop, control value keeps current value.  \n",
    "continue: continue enclosing loop => go to start of loop.  \n",
    "pass: do nothing.   \n",
    "Stop with \"Interrupt kernel\" in notebook, or \"Ctrl + c\" in python.   \n",
    "   \n",
    "\n",
    "** Most common loop errors: control variable, condition, position of statement.**\n",
    "\n",
    "\n"
   ]
  },
  {
   "cell_type": "code",
   "execution_count": 1,
   "id": "entitled-prototype",
   "metadata": {
    "tags": []
   },
   "outputs": [
    {
     "name": "stdout",
     "output_type": "stream",
     "text": [
      "0 1\n",
      "1 2\n",
      "2 4\n",
      "4 8\n",
      "8 16\n",
      "16 32\n"
     ]
    }
   ],
   "source": [
    "# Fibonacci series:\n",
    "# the sum of two elements defines the next\n",
    "#a = 0\n",
    "b = 1\n",
    "a = 0\n",
    "\n",
    "while a < 20:\n",
    "    print(a, b)   # 0\n",
    "    a = b  # a becomes 1\n",
    "    b = a + b  # becomes 2 \n",
    "    #a, b = b, a + b\n",
    "    # break  # Uncomment to break the loop"
   ]
  },
  {
   "cell_type": "code",
   "execution_count": 2,
   "id": "played-directive",
   "metadata": {},
   "outputs": [
    {
     "data": {
      "text/plain": [
       "32"
      ]
     },
     "execution_count": 2,
     "metadata": {},
     "output_type": "execute_result"
    }
   ],
   "source": [
    "a"
   ]
  },
  {
   "cell_type": "code",
   "execution_count": 3,
   "id": "disabled-council",
   "metadata": {},
   "outputs": [
    {
     "name": "stdout",
     "output_type": "stream",
     "text": [
      "1 2\n",
      "2 4\n",
      "4 8\n",
      "8 16\n",
      "16 32\n",
      "32 64\n"
     ]
    }
   ],
   "source": [
    "b = 1\n",
    "a = 0\n",
    "\n",
    "while a < 20:\n",
    "    a = b  # a becomes 1\n",
    "    b = a + b  # becomes 2 \n",
    "    print(a, b)   # 0\n",
    "    #a, b = b, a + b\n",
    "    # break  # Uncomment to break the loop"
   ]
  },
  {
   "cell_type": "code",
   "execution_count": 4,
   "id": "similar-product",
   "metadata": {},
   "outputs": [
    {
     "name": "stdout",
     "output_type": "stream",
     "text": [
      "32 64\n"
     ]
    }
   ],
   "source": [
    "b = 1\n",
    "a = 0\n",
    "\n",
    "while a < 20:\n",
    "    a = b  # a becomes 1\n",
    "    b = a + b  # becomes 2 \n",
    "\n",
    "print(a, b)"
   ]
  },
  {
   "cell_type": "code",
   "execution_count": 5,
   "id": "certain-suffering",
   "metadata": {
    "tags": []
   },
   "outputs": [],
   "source": [
    "a = 1\n",
    "# stop with Kernel -> interrupt kernel\n",
    "# Stop with \"Ctrl + c\" in IDLE python, use Tab Menu: Kernel -> Interrupt in jupyter.\n",
    "# while a < 2:\n",
    "#     print(a)\n",
    "#     pass  # without pass you get syntax errors"
   ]
  },
  {
   "cell_type": "code",
   "execution_count": 8,
   "id": "possible-slovenia",
   "metadata": {},
   "outputs": [
    {
     "name": "stdout",
     "output_type": "stream",
     "text": [
      "in the loop\n",
      "1\n",
      "still in the loop\n",
      "2\n",
      "in the loop\n",
      "2\n",
      "still in the loop\n",
      "3\n",
      "\n",
      "this is out of the loop\n",
      "3\n"
     ]
    }
   ],
   "source": [
    "a = 1\n",
    "\n",
    "while a <= 2:\n",
    "    print(\"in the loop\")\n",
    "    print(a)\n",
    "    #break\n",
    "    \n",
    "    a = a+1   #a += 1\n",
    "    \n",
    "    print(\"still in the loop\")\n",
    "    print(a)\n",
    "    #break  # notation same as: a = a + 1\n",
    "print()\n",
    "print(\"this is out of the loop\")\n",
    "print(a)"
   ]
  },
  {
   "cell_type": "code",
   "execution_count": 7,
   "id": "respective-reporter",
   "metadata": {},
   "outputs": [
    {
     "name": "stdout",
     "output_type": "stream",
     "text": [
      "1\n",
      "2\n",
      "3\n",
      "4\n",
      "nested loop\n",
      "5\n",
      "out of loop 5\n"
     ]
    }
   ],
   "source": [
    "a = 1\n",
    "\n",
    "while a <= 4:\n",
    "    print(a)\n",
    "    a += 1 # notation same as: a = a + 1\n",
    "    # print(a) # Position returns different results !\n",
    "    while a == 5:\n",
    "        print(\"nested loop\")\n",
    "        print(a)\n",
    "        break # Comment to have infinite loop. Stop with \"Ctrl + c\"\n",
    "        \n",
    "\n",
    "print(f\"out of loop {a}\")"
   ]
  },
  {
   "cell_type": "code",
   "execution_count": 8,
   "id": "loose-artwork",
   "metadata": {},
   "outputs": [
    {
     "name": "stdout",
     "output_type": "stream",
     "text": [
      "1\n",
      "2\n",
      "3\n",
      "4\n",
      "nested loop\n",
      "10\n",
      "out of loop 10\n"
     ]
    }
   ],
   "source": [
    "a = 1\n",
    "\n",
    "while a <= 4:\n",
    "    print(a)\n",
    "    a += 1 # notation same as: a = a + 1\n",
    "    # print(a) # Position returns different results !\n",
    "    while a == 5:\n",
    "        print(\"nested loop\")\n",
    "        a = a * 2\n",
    "        print(a)\n",
    "        break # Comment to have infinite loop. Stop with \"Ctrl + c\"\n",
    "        \n",
    "\n",
    "print(f\"out of loop {a}\")"
   ]
  },
  {
   "cell_type": "code",
   "execution_count": 2,
   "id": "f5c620af-dc23-4d2a-b3ae-09e4ce9b6720",
   "metadata": {},
   "outputs": [
    {
     "name": "stdin",
     "output_type": "stream",
     "text": [
      "Enter password:  dadsf\n",
      "Enter correct password:  sfdgsdfg\n"
     ]
    },
    {
     "name": "stdout",
     "output_type": "stream",
     "text": [
      "Succesfully logged in.\n"
     ]
    },
    {
     "name": "stdin",
     "output_type": "stream",
     "text": [
      "Enter correct password:  fgs\n"
     ]
    },
    {
     "name": "stdout",
     "output_type": "stream",
     "text": [
      "Succesfully logged in.\n"
     ]
    },
    {
     "name": "stdin",
     "output_type": "stream",
     "text": [
      "Enter correct password:  sfdgsf\n"
     ]
    },
    {
     "name": "stdout",
     "output_type": "stream",
     "text": [
      "Succesfully logged in.\n"
     ]
    },
    {
     "name": "stdin",
     "output_type": "stream",
     "text": [
      "Enter correct password:  dfsgsf\n"
     ]
    },
    {
     "name": "stdout",
     "output_type": "stream",
     "text": [
      "Succesfully logged in.\n"
     ]
    },
    {
     "name": "stdin",
     "output_type": "stream",
     "text": [
      "Enter correct password:  date\n"
     ]
    },
    {
     "name": "stdout",
     "output_type": "stream",
     "text": [
      "Succesfully logged in.\n"
     ]
    }
   ],
   "source": [
    "pwd = \"date\"\n",
    "\n",
    "enter_pwd = input(\"Enter password: \")\n",
    "\n",
    "while pwd != enter_pwd:\n",
    "    enter_pwd = input(\"Enter correct password: \")\n",
    "\n",
    "print(\"Succesfully logged in.\")"
   ]
  },
  {
   "cell_type": "code",
   "execution_count": 10,
   "id": "6d7dcc36-33a2-4f2f-b597-77e53962402a",
   "metadata": {},
   "outputs": [],
   "source": [
    "## What is the value of this statement? Think then uncomment it and run it.\n",
    "# enter_pwd"
   ]
  },
  {
   "cell_type": "markdown",
   "id": "disturbed-tsunami",
   "metadata": {},
   "source": [
    "## If statements"
   ]
  },
  {
   "cell_type": "code",
   "execution_count": 9,
   "id": "lined-ranch",
   "metadata": {},
   "outputs": [
    {
     "data": {
      "text/plain": [
       "5"
      ]
     },
     "execution_count": 9,
     "metadata": {},
     "output_type": "execute_result"
    }
   ],
   "source": [
    "my_shopping_list = ['apples', 'coffee', 'pasta', 'juice', 'chocolate']\n",
    "num_of_items = len(my_shopping_list)\n",
    "num_of_items"
   ]
  },
  {
   "cell_type": "code",
   "execution_count": 11,
   "id": "closing-morning",
   "metadata": {},
   "outputs": [
    {
     "name": "stdout",
     "output_type": "stream",
     "text": [
      "Go to Minimarket for items = 2\n"
     ]
    }
   ],
   "source": [
    "num_of_items = 2\n",
    "\n",
    "# If, else syntax, multpiple statements\n",
    "if num_of_items > 3:\n",
    "    print(\"Go to Supermarket\")  # 1st statment\n",
    "    print(f\"It is worth the extra time for items = {num_of_items}\")  # 2nd statment\n",
    "else:\n",
    "    print(f\"Go to Minimarket for items = {num_of_items}\")  # 1st else statment"
   ]
  },
  {
   "cell_type": "code",
   "execution_count": 13,
   "id": "orange-puppy",
   "metadata": {},
   "outputs": [
    {
     "name": "stdin",
     "output_type": "stream",
     "text": [
      "Guess number:  8\n"
     ]
    },
    {
     "name": "stdout",
     "output_type": "stream",
     "text": [
      "missed by 5\n"
     ]
    }
   ],
   "source": [
    "# Multiple Conditions\n",
    "a = 10\n",
    "\n",
    "guess = int(input('Guess number: '))  # convert to int\n",
    "\n",
    "\n",
    "if guess == a:\n",
    "    print('got it')\n",
    "elif guess == a - 1 or guess == a + 1:\n",
    "    print('missed by 1')\n",
    "elif a - 5 <= guess <= a + 5:  # guess >= a - 5 and guess <= a + 5:\n",
    "    print('missed by 5')\n",
    "else:  # use else always in last statement\n",
    "    print('missed by more than 5')"
   ]
  },
  {
   "cell_type": "code",
   "execution_count": 15,
   "id": "responsible-roots",
   "metadata": {},
   "outputs": [
    {
     "data": {
      "text/plain": [
       "['apples', 'coffee', 'pasta', 'juice', 'bananas']"
      ]
     },
     "execution_count": 15,
     "metadata": {},
     "output_type": "execute_result"
    }
   ],
   "source": [
    "# Nested conditions execution\n",
    "my_shopping_list = ['apples', 'coffee', 'pasta', 'juice']\n",
    "\n",
    "my_shopping_list.append('bananas')\n",
    "\n",
    "my_shopping_list"
   ]
  },
  {
   "cell_type": "code",
   "execution_count": 16,
   "id": "heard-brick",
   "metadata": {},
   "outputs": [
    {
     "name": "stdout",
     "output_type": "stream",
     "text": [
      "Dont forget the bananas\n",
      "Dont forget the apples too\n"
     ]
    }
   ],
   "source": [
    "# if bananas not in list, will do nothing\n",
    "if 'bananas' in my_shopping_list:\n",
    "    print('Dont forget the bananas')\n",
    "    # nested condition evaluated only if outer condition is True\n",
    "    if 'apples' in my_shopping_list: \n",
    "        print('Dont forget the apples too')\n",
    "    else:\n",
    "        print('Buy whatever')"
   ]
  },
  {
   "cell_type": "code",
   "execution_count": 17,
   "id": "related-warner",
   "metadata": {},
   "outputs": [
    {
     "name": "stdout",
     "output_type": "stream",
     "text": [
      "Dont forget the bananas\n",
      "Buy whatever\n"
     ]
    }
   ],
   "source": [
    "my_shopping_list = ['coffee', 'pasta', 'juice']\n",
    "\n",
    "\n",
    "if 'bananas' in my_shopping_list:\n",
    "    print('Dont forget the bananas')\n",
    "elif \"bananas\" not in my_shopping_list:\n",
    "    my_shopping_list.append('bananas')\n",
    "    print('Dont forget the bananas')\n",
    "    # nested condition evaluated only if outer condition is True\n",
    "    if 'apples' in my_shopping_list: \n",
    "        print('Dont forget the apples too')\n",
    "    else:\n",
    "        print('Buy whatever')"
   ]
  },
  {
   "cell_type": "markdown",
   "id": "fc76517e-eec9-4d35-985d-d4bc818baf20",
   "metadata": {},
   "source": [
    "### A pwd script\n",
    "#### Pseudo coding: Best Practice\n",
    "\n",
    "Set a pwd value.  \n",
    "Ask user for pwd.  \n",
    "Count number of tries.  \n",
    "If pwd is not correct ask again for three times.  \n",
    "If number of wrong tries is 3 stop execution.  \n",
    "If correct pwd is entered, print a success message and show number of tries."
   ]
  },
  {
   "cell_type": "code",
   "execution_count": 18,
   "id": "d81f9eb1-e70c-4481-aa79-5d040c8e4f43",
   "metadata": {},
   "outputs": [
    {
     "name": "stdin",
     "output_type": "stream",
     "text": [
      "Enter password:  date\n"
     ]
    },
    {
     "name": "stdout",
     "output_type": "stream",
     "text": [
      "Succesfully logged in after 1 tries.\n"
     ]
    }
   ],
   "source": [
    "pwd = \"date\"\n",
    "enter_pwd = input(\"Enter password: \")\n",
    "number_of_tries = 1  # This is 1 and after the input() for good reasons.\n",
    "\n",
    "# loop 3 times only, as long as user does not enter the correct pwd.\n",
    "while pwd != enter_pwd:\n",
    "    enter_pwd = input(\"Enter correct password: \")\n",
    "    number_of_tries += 1\n",
    "    if number_of_tries == 3:\n",
    "        print(\"Your account is locked.\")\n",
    "        break\n",
    "        \n",
    "if pwd == enter_pwd:\n",
    "    print(f\"Succesfully logged in after {number_of_tries} tries.\")"
   ]
  },
  {
   "cell_type": "code",
   "execution_count": 20,
   "id": "a835a754-3bf2-4440-9e0a-a2c9df9e960e",
   "metadata": {},
   "outputs": [
    {
     "name": "stdin",
     "output_type": "stream",
     "text": [
      "Enter password:  d\n",
      "Enter correct password:  fg\n",
      "Enter correct password:  h\n",
      "Enter correct password:  s\n"
     ]
    },
    {
     "name": "stdout",
     "output_type": "stream",
     "text": [
      "You tried 4 times. Are you Ok? The pwd is written some lines above.\n"
     ]
    },
    {
     "name": "stdin",
     "output_type": "stream",
     "text": [
      "Enter correct password:  fdgs\n",
      "Enter correct password:  fgsf\n",
      "Enter correct password:  fgsd\n",
      "Enter correct password:  fgdf\n"
     ]
    },
    {
     "name": "stdout",
     "output_type": "stream",
     "text": [
      "You tried 8 times. Are you Ok? The pwd is written some lines above.\n"
     ]
    },
    {
     "name": "stdin",
     "output_type": "stream",
     "text": [
      "Enter correct password:  date\n"
     ]
    },
    {
     "name": "stdout",
     "output_type": "stream",
     "text": [
      "Succesfully logged in after 9 tries.\n"
     ]
    }
   ],
   "source": [
    "pwd = \"date\"\n",
    "enter_pwd = input(\"Enter password: \")\n",
    "number_of_tries = 1  # This is after the input() for a reason.\n",
    "number_of_warnings = 0  # Counters are helfpuf and bug-friendly!\n",
    "total_tries = 0\n",
    "\n",
    "# endless loop until correct pwd\n",
    "while pwd != enter_pwd:\n",
    "    enter_pwd = input(\"Enter correct password: \")\n",
    "    number_of_tries += 1\n",
    "    if number_of_tries > 3:\n",
    "        number_of_warnings += 1\n",
    "        total_tries = number_of_tries*number_of_warnings\n",
    "        print(f\"You tried {total_tries} times. Are you Ok? The pwd is written some lines above.\")\n",
    "        number_of_tries = 0    \n",
    "\n",
    "\n",
    "print(f\"Succesfully logged in after {total_tries+number_of_tries} tries.\")"
   ]
  },
  {
   "cell_type": "markdown",
   "id": "complicated-rabbit",
   "metadata": {},
   "source": [
    "## for loops\n",
    "\n",
    "Reminder:  \n",
    "range(start, stop, step)\n",
    "\n",
    "Be careful and use:  \n",
    "* ```range()``` to iterate N times.    \n",
    "* ```for``` to iterate over objects, items.  \n",
    "\n",
    "\n",
    "To iterate:  \n",
    ">  don't use reserved names,  \n",
    "> use intuitive, descriptive names"
   ]
  },
  {
   "cell_type": "code",
   "execution_count": 21,
   "id": "parliamentary-syria",
   "metadata": {},
   "outputs": [
    {
     "name": "stdin",
     "output_type": "stream",
     "text": [
      "Enter your name:  than\n"
     ]
    },
    {
     "name": "stdout",
     "output_type": "stream",
     "text": [
      "than\n",
      "than\n",
      "than\n",
      "than\n",
      "than\n",
      "than\n",
      "than\n",
      "than\n",
      "than\n",
      "than\n"
     ]
    }
   ],
   "source": [
    "user_name = input('Enter your name: ')\n",
    "\n",
    "# start from 0, stop at 4, default step=1\n",
    "for i in range(10):\n",
    "    print(f'{user_name}')"
   ]
  },
  {
   "cell_type": "code",
   "execution_count": 22,
   "id": "pleasant-scientist",
   "metadata": {},
   "outputs": [
    {
     "name": "stdout",
     "output_type": "stream",
     "text": [
      "than\n",
      "than\n",
      "than\n",
      "than\n",
      "than\n"
     ]
    }
   ],
   "source": [
    "for i in range(0, 10, 2):\n",
    "    print(user_name)"
   ]
  },
  {
   "cell_type": "code",
   "execution_count": 24,
   "id": "junior-transformation",
   "metadata": {},
   "outputs": [
    {
     "name": "stdin",
     "output_type": "stream",
     "text": [
      " enter diastima:  10\n"
     ]
    },
    {
     "name": "stdout",
     "output_type": "stream",
     "text": [
      "0\n",
      "1\n",
      "3\n",
      "6\n",
      "10\n",
      "15\n",
      "21\n",
      "28\n",
      "36\n",
      "45\n",
      "45\n"
     ]
    }
   ],
   "source": [
    "# Assign a value to a very creative name\n",
    "integers_sum = 0  \n",
    "\n",
    "diastima = input(' enter diastima: ')\n",
    "integer_diastima = int(diastima)\n",
    "\n",
    "\n",
    "# i is similar to what we use in math to denote the use of subscript i, eg. x(1), x(2), ,..., x(i)\n",
    "# so for each i that belongs to a set of nubmers.\n",
    "for i in range(integer_diastima):  # i here is a name. It can be what you want to call it.   \n",
    "    # just like \n",
    "    #print(i)\n",
    "    integers_sum = integers_sum + i  \n",
    "    #integers_sum += i  # better notation\n",
    "    print(integers_sum)  # in loop call\n",
    "\n",
    "    \n",
    "print(integers_sum)  # out of loop call"
   ]
  },
  {
   "cell_type": "code",
   "execution_count": 25,
   "id": "confirmed-joint",
   "metadata": {},
   "outputs": [
    {
     "name": "stdout",
     "output_type": "stream",
     "text": [
      "c\n",
      "a\n",
      "r\n",
      "e\n",
      "f\n",
      "u\n",
      "l\n",
      "l\n",
      " \n",
      "w\n",
      "i\n",
      "t\n",
      "h\n",
      " \n",
      "s\n",
      "p\n",
      "a\n",
      "c\n",
      "e\n",
      "s\n"
     ]
    }
   ],
   "source": [
    "example_string = 'carefull with spaces'\n",
    "\n",
    "for letter in example_string:  # use letter instead of i\n",
    "    print(letter)"
   ]
  },
  {
   "cell_type": "code",
   "execution_count": 26,
   "id": "closed-scenario",
   "metadata": {},
   "outputs": [
    {
     "name": "stdout",
     "output_type": "stream",
     "text": [
      "aa\n",
      "8\n",
      "johnjohn\n",
      "jilljill\n"
     ]
    }
   ],
   "source": [
    "example_list = ['a' , 4, 'john', 'jill']\n",
    "for item in example_list:\n",
    "    print(item * 2)"
   ]
  },
  {
   "cell_type": "code",
   "execution_count": 27,
   "id": "ambient-wages",
   "metadata": {},
   "outputs": [
    {
     "name": "stdout",
     "output_type": "stream",
     "text": [
      "Found an even number 2\n",
      "Found an odd number 3\n",
      "Found an even number 4\n",
      "Found an odd number 5\n",
      "Found an even number 6\n",
      "Found an odd number 7\n",
      "Found an even number 8\n",
      "Found an odd number 9\n"
     ]
    }
   ],
   "source": [
    "# Find even or odd numbers\n",
    "for num in range(2, 10):\n",
    "    if num % 2 == 0:\n",
    "        print(\"Found an even number\", num)\n",
    "    else:\n",
    "        print(\"Found an odd number\", num)"
   ]
  },
  {
   "cell_type": "markdown",
   "id": "thrown-ukraine",
   "metadata": {},
   "source": [
    "### Continue statement   \n",
    "[continue](https://docs.python.org/3/tutorial/controlflow.html#break-and-continue-statements-and-else-clauses-on-loops)\n",
    "\n",
    "Continue with the next cycle of the nearest enclosing loop."
   ]
  },
  {
   "cell_type": "code",
   "execution_count": 28,
   "id": "breathing-excess",
   "metadata": {},
   "outputs": [
    {
     "name": "stdout",
     "output_type": "stream",
     "text": [
      "Found an even number 2\n",
      "Found an odd number 3\n",
      "Found an even number 4\n",
      "Found an odd number 5\n",
      "Found an even number 6\n",
      "Found an odd number 7\n",
      "Found an even number 8\n",
      "Found an odd number 9\n"
     ]
    }
   ],
   "source": [
    "# Find even or odd numbers\n",
    "# THIS WORKS\n",
    "for num in range(2, 10):  # 2\n",
    "    if num % 2 == 0:   # True\n",
    "        print(\"Found an even number\", num)\n",
    "        # continue passes control to the beginning of the loop that it belongs to.\n",
    "        continue  # the nearest enclosing loop is the if:\n",
    "    print(\"Found an odd number\", num)"
   ]
  },
  {
   "cell_type": "code",
   "execution_count": 29,
   "id": "every-assessment",
   "metadata": {},
   "outputs": [
    {
     "name": "stdout",
     "output_type": "stream",
     "text": [
      "Found an even number 2\n",
      "Found an even number 4\n",
      "Found an even number 6\n",
      "Found an even number 8\n"
     ]
    }
   ],
   "source": [
    "# Find even or odd numbers\n",
    "# iF continue is in the wrong block:\n",
    "# a Mess\n",
    "\n",
    "for num in range(2, 10):  # 2\n",
    "    if num % 2 == 0:   # True\n",
    "        print(\"Found an even number\", num)\n",
    "        # continue passes control to the beginning of the loop that it belongs to.\n",
    "    continue  # the nearest enclosing loop is the for:\n",
    "    # when the flow ot the script comes to continue, it passes control to the for and iteration continues.\n",
    "    # the print and odd is never executed, and the loop finishes always ignoring it\n",
    "    print(\"Found an odd number\", num)"
   ]
  },
  {
   "cell_type": "code",
   "execution_count": 30,
   "id": "saved-debut",
   "metadata": {},
   "outputs": [
    {
     "name": "stdout",
     "output_type": "stream",
     "text": [
      "Found an even number 2\n",
      "Found an odd number 2\n",
      "Found an odd number 3\n",
      "Found an even number 4\n",
      "Found an odd number 4\n",
      "Found an odd number 5\n",
      "Found an even number 6\n",
      "Found an odd number 6\n",
      "Found an odd number 7\n",
      "Found an even number 8\n",
      "Found an odd number 8\n",
      "Found an odd number 9\n"
     ]
    }
   ],
   "source": [
    "# Find even or odd numbers. WRONG.\n",
    "# Without continue, the loop is a mess.\n",
    "for num in range(2, 10):\n",
    "    if num % 2 == 0:\n",
    "        print(\"Found an even number\", num)\n",
    "        # continue  # commented \"continue\" to see difference\n",
    "        # without continue the inner (nested) loop finishes,\n",
    "        # then goes to the next statement of the outer loop\n",
    "        # then executes the last print everytime.\n",
    "        # then goes to beggining to iterate over the next number.\n",
    "    print(\"Found an odd number\", num)"
   ]
  },
  {
   "cell_type": "markdown",
   "id": "5bf62fb2-2c9c-4f72-9dc0-5514a8a7c258",
   "metadata": {
    "tags": [],
    "toc-hr-collapsed": true
   },
   "source": [
    "## Assignment: make a guessing game. (Will be graded, 1 point.)\n",
    "### Goal: Teach pseudo coding and test learning so far.\n",
    "\n",
    "Python create a random integer number from 1 to 1000.  \n",
    "Ask user to guess the number.  \n",
    "If guess < number: inform user and ask user again.  \n",
    "If guess > number: inform user and ask user again.  \n",
    "If guess equal to number congratulate user and inform about number of tries."
   ]
  }
 ],
 "metadata": {
  "kernelspec": {
   "display_name": "Python 3 (ipykernel)",
   "language": "python",
   "name": "python3"
  },
  "language_info": {
   "codemirror_mode": {
    "name": "ipython",
    "version": 3
   },
   "file_extension": ".py",
   "mimetype": "text/x-python",
   "name": "python",
   "nbconvert_exporter": "python",
   "pygments_lexer": "ipython3",
   "version": "3.10.10"
  }
 },
 "nbformat": 4,
 "nbformat_minor": 5
}

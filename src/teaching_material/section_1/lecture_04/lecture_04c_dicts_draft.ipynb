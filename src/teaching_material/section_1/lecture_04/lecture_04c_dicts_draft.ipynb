{
 "cells": [
  {
   "cell_type": "markdown",
   "id": "colored-anthropology",
   "metadata": {},
   "source": [
    "# Lecture 4c: Dictionaries.\n",
    "\n",
    "\n",
    "Used for storing unordered key-value pairs. Mutable data container.   \n",
    "Used when a unique \"name\" (eg index or ID) has to be **associated** with constant, or changing \"values\".\n",
    "\n",
    "> [Dicts are a built-in \"Mapping\" data type.](https://docs.python.org/3/tutorial/datastructures.html#dictionaries)  \n",
    "> Create dictionary, dict() constructor and other syntax.    \n",
    "> [Dictionary methods](https://docs.python.org/3/library/stdtypes.html#typesmapping)  \n",
    "\n",
    "Denote with {}. This characters are called \"braces\".  \n",
    "Iterable, Mutable.  \n",
    "{key: value} pairs. Like a data table without numeric index.  \n",
    "Unordered does not mean random order.  \n",
    "> Keys and values are listed in an arbitrary order which is non-random, **varies across Python vesions**.   \n",
    "Order depends on the dictionary’s history of insertions and deletions.  \n",
    "\n",
    "Mind the data type of each. Keys require immutable data types.  \n",
    "Keys are unique, the same key cannot appear twice in a dict.\n",
    "\n",
    "## Create a dictionary. Various ways, flexibility for different available data."
   ]
  },
  {
   "cell_type": "code",
   "execution_count": 1,
   "id": "revised-damage",
   "metadata": {},
   "outputs": [],
   "source": [
    "# help(dict)"
   ]
  },
  {
   "cell_type": "code",
   "execution_count": 2,
   "id": "latest-prayer",
   "metadata": {},
   "outputs": [],
   "source": [
    "# dict?"
   ]
  },
  {
   "cell_type": "code",
   "execution_count": 3,
   "id": "compound-township",
   "metadata": {},
   "outputs": [
    {
     "data": {
      "text/plain": [
       "{}"
      ]
     },
     "execution_count": 3,
     "metadata": {},
     "output_type": "execute_result"
    }
   ],
   "source": [
    "empty_dict = {}\n",
    "\n",
    "empty_dict"
   ]
  },
  {
   "cell_type": "code",
   "execution_count": 4,
   "id": "political-duration",
   "metadata": {},
   "outputs": [
    {
     "data": {
      "text/plain": [
       "dict"
      ]
     },
     "execution_count": 4,
     "metadata": {},
     "output_type": "execute_result"
    }
   ],
   "source": [
    "type(empty_dict)"
   ]
  },
  {
   "cell_type": "code",
   "execution_count": 5,
   "id": "major-cliff",
   "metadata": {},
   "outputs": [
    {
     "data": {
      "text/plain": [
       "{'one': 1, 'two': 2, 'three': 3}"
      ]
     },
     "execution_count": 5,
     "metadata": {},
     "output_type": "execute_result"
    }
   ],
   "source": [
    "# keys are interpreted as strings. Can you understand why?\n",
    "dict_a = dict(one=1, two=2, three=3)  # dict() and assign key=value.\n",
    "dict_a"
   ]
  },
  {
   "cell_type": "code",
   "execution_count": 6,
   "id": "introductory-moral",
   "metadata": {},
   "outputs": [
    {
     "data": {
      "text/plain": [
       "{1: 1, 2: 2, 3: 3}"
      ]
     },
     "execution_count": 6,
     "metadata": {},
     "output_type": "execute_result"
    }
   ],
   "source": [
    "# numbers may be used as keys, altough\n",
    "dict_with_number_keys = {1: 1, 2: 2, 3: 3}\n",
    "dict_with_number_keys"
   ]
  },
  {
   "cell_type": "code",
   "execution_count": 7,
   "id": "modern-international",
   "metadata": {},
   "outputs": [],
   "source": [
    "\n",
    "# dict_a = dict('one'=1, 'two'=2, 'three'=3)  # Show this does not work.\n",
    "\n",
    "# The reason is: Cannot assign a \"value\" to be equal to another \"value\".\n",
    "# \"one\" is a string value and 1 is a integer value.\n",
    "# \"one\" = 1  "
   ]
  },
  {
   "cell_type": "code",
   "execution_count": 8,
   "id": "1f291d18-2a7a-4c62-8a93-1422a2c2844c",
   "metadata": {},
   "outputs": [],
   "source": [
    "# Show this does not work.\n",
    "# \"one\" = 1"
   ]
  },
  {
   "cell_type": "code",
   "execution_count": 9,
   "id": "economic-beauty",
   "metadata": {},
   "outputs": [],
   "source": [
    "# similarly, this does not work either, inside a dict.\n",
    "#dict_with_number_keys_using_assignment = {1 = 1, 2 = 2, 3 = 3}"
   ]
  },
  {
   "cell_type": "markdown",
   "id": "f5bc6d1c-efc1-4b33-8383-2b9c77f49859",
   "metadata": {},
   "source": [
    "### Syntax alternatives to create a dict."
   ]
  },
  {
   "cell_type": "code",
   "execution_count": 10,
   "id": "joint-valentine",
   "metadata": {},
   "outputs": [
    {
     "data": {
      "text/plain": [
       "True"
      ]
     },
     "execution_count": 10,
     "metadata": {},
     "output_type": "execute_result"
    }
   ],
   "source": [
    "dict_b = {'one': 1, 'two': 2, 'three': 3}  # dict literal notation.\n",
    "\n",
    "dict_c = dict(zip(['one', 'two', 'three'], [1, 2, 3]))  # dict(), zip() functions. Combine two lists. help(zip) for more.\n",
    "\n",
    "dict_d = dict([('two', 2), ('one', 1), ('three', 3)])  # dict() and list of pairs.\n",
    "\n",
    "dict_e = dict({'three': 3, 'one': 1, 'two': 2})  # dict() and pairs.\n",
    "\n",
    "dict_f = dict({'one': 1, 'three': 3}, two=2)  # combinations\n",
    "\n",
    "\n",
    "dict_a == dict_b == dict_c == dict_d == dict_e == dict_f"
   ]
  },
  {
   "cell_type": "markdown",
   "id": "37666a95-2461-48e0-a4bc-da955488d7f0",
   "metadata": {},
   "source": [
    "### Dict comprehension.\n",
    "Efficient method of creating a dict from an iterable,  \n",
    "or transforming one dictionary into another"
   ]
  },
  {
   "cell_type": "code",
   "execution_count": 11,
   "id": "accredited-smoke",
   "metadata": {},
   "outputs": [
    {
     "data": {
      "text/plain": [
       "{2: 4, 4: 6, 6: 8, 100: 102}"
      ]
     },
     "execution_count": 11,
     "metadata": {},
     "output_type": "execute_result"
    }
   ],
   "source": [
    "# function on all items of a tuple.\n",
    "squares_dict = {x: x+2 for x in (2, 4, 6, 100)}\n",
    "squares_dict"
   ]
  },
  {
   "cell_type": "code",
   "execution_count": 12,
   "id": "united-naples",
   "metadata": {},
   "outputs": [
    {
     "data": {
      "text/plain": [
       "{'jack': [4098, 4], 'jill': [4139, 8], 'jane': [1234, 3]}"
      ]
     },
     "execution_count": 12,
     "metadata": {},
     "output_type": "execute_result"
    }
   ],
   "source": [
    "# Values may be a lists.\n",
    "dict_with_lists = {'jack': [4098, 4], 'jill': [4139, 8], 'jane': [1234, 3]}\n",
    "dict_with_lists"
   ]
  },
  {
   "cell_type": "markdown",
   "id": "confused-projector",
   "metadata": {},
   "source": [
    "## Access, inspect dictionary: items, keys, values."
   ]
  },
  {
   "cell_type": "code",
   "execution_count": 13,
   "id": "subsequent-guest",
   "metadata": {},
   "outputs": [
    {
     "data": {
      "text/plain": [
       "{'jack': 4098, 'jill': 4139, 'jane': 1234}"
      ]
     },
     "execution_count": 13,
     "metadata": {},
     "output_type": "execute_result"
    }
   ],
   "source": [
    "# Create a dictionary with phone numbers.\n",
    "tel = {'jack': 4098, 'jill': 4139, 'jane': 1234}\n",
    "tel"
   ]
  },
  {
   "cell_type": "code",
   "execution_count": 14,
   "id": "smaller-opposition",
   "metadata": {},
   "outputs": [
    {
     "data": {
      "text/plain": [
       "dict_items([('jack', 4098), ('jill', 4139), ('jane', 1234)])"
      ]
     },
     "execution_count": 14,
     "metadata": {},
     "output_type": "execute_result"
    }
   ],
   "source": [
    "# Inspect {key:value} pairs, called items, use items() method.\n",
    "tel.items()"
   ]
  },
  {
   "cell_type": "code",
   "execution_count": 15,
   "id": "editorial-partner",
   "metadata": {},
   "outputs": [
    {
     "name": "stdout",
     "output_type": "stream",
     "text": [
      "Help on method_descriptor:\n",
      "\n",
      "items(...)\n",
      "    D.items() -> a set-like object providing a view on D's items\n",
      "\n"
     ]
    }
   ],
   "source": [
    "help(dict.items)"
   ]
  },
  {
   "cell_type": "code",
   "execution_count": 16,
   "id": "spiritual-hamburg",
   "metadata": {},
   "outputs": [
    {
     "data": {
      "text/plain": [
       "dict_keys(['jack', 'jill', 'jane'])"
      ]
     },
     "execution_count": 16,
     "metadata": {},
     "output_type": "execute_result"
    }
   ],
   "source": [
    "# keys() to inspect the keys\n",
    "tel.keys()"
   ]
  },
  {
   "cell_type": "code",
   "execution_count": 17,
   "id": "metropolitan-reggae",
   "metadata": {},
   "outputs": [
    {
     "data": {
      "text/plain": [
       "dict_values([4098, 4139, 1234])"
      ]
     },
     "execution_count": 17,
     "metadata": {},
     "output_type": "execute_result"
    }
   ],
   "source": [
    "tel.values()"
   ]
  },
  {
   "cell_type": "markdown",
   "id": "d00bf2ff-747b-451f-ac9f-9432be34cde3",
   "metadata": {},
   "source": [
    "## indexing"
   ]
  },
  {
   "cell_type": "code",
   "execution_count": 18,
   "id": "prostate-finnish",
   "metadata": {},
   "outputs": [
    {
     "data": {
      "text/plain": [
       "4098"
      ]
     },
     "execution_count": 18,
     "metadata": {},
     "output_type": "execute_result"
    }
   ],
   "source": [
    "# Return the value of key.\n",
    "tel.get('jack')"
   ]
  },
  {
   "cell_type": "code",
   "execution_count": 19,
   "id": "b527d2e1-8fbc-475b-95f8-fc75050c3505",
   "metadata": {},
   "outputs": [
    {
     "data": {
      "text/plain": [
       "4098"
      ]
     },
     "execution_count": 19,
     "metadata": {},
     "output_type": "execute_result"
    }
   ],
   "source": [
    "# Return the value of key. Different syntax, same result.\n",
    "tel['jack']"
   ]
  },
  {
   "cell_type": "code",
   "execution_count": 20,
   "id": "unauthorized-praise",
   "metadata": {},
   "outputs": [
    {
     "data": {
      "text/plain": [
       "True"
      ]
     },
     "execution_count": 20,
     "metadata": {},
     "output_type": "execute_result"
    }
   ],
   "source": [
    "# Same result.\n",
    "tel.get('jack') == tel['jack']"
   ]
  },
  {
   "cell_type": "code",
   "execution_count": 21,
   "id": "incomplete-reliance",
   "metadata": {},
   "outputs": [],
   "source": [
    "# tel['james']  # key error"
   ]
  },
  {
   "cell_type": "markdown",
   "id": "19356857-d913-43e4-a9aa-6a4025fde809",
   "metadata": {},
   "source": [
    "### Get key from a value. Note: values may not be unique.\n",
    "Notice that in this [question](https://stackoverflow.com/questions/8023306/get-key-by-value-in-dictionary), the reply with the most votes is WRONG and the accepted answer (second in votes) is incomplete)."
   ]
  },
  {
   "cell_type": "code",
   "execution_count": 22,
   "id": "85886165-1fe4-48eb-9aad-9bfb7b6c30e0",
   "metadata": {},
   "outputs": [],
   "source": [
    "mydict = {'george': 16, 'amber': 19, 'jim': 16}"
   ]
  },
  {
   "cell_type": "code",
   "execution_count": 23,
   "id": "e7573c5d-7f32-4849-a30a-4c287fe514a7",
   "metadata": {},
   "outputs": [
    {
     "name": "stdout",
     "output_type": "stream",
     "text": [
      "george\n"
     ]
    }
   ],
   "source": [
    "# Returns only first instance.\n",
    "print(list(mydict.keys())[list(mydict.values()).index(16)])"
   ]
  },
  {
   "cell_type": "code",
   "execution_count": 24,
   "id": "cd6ee9a2-2f33-438f-95fc-a524c01ae973",
   "metadata": {},
   "outputs": [
    {
     "name": "stdout",
     "output_type": "stream",
     "text": [
      "george\n",
      "jim\n"
     ]
    }
   ],
   "source": [
    "# Return all instances.\n",
    "search_age = 16\n",
    "\n",
    "for name, age in mydict.items():\n",
    "    if age == search_age:\n",
    "        print(name)"
   ]
  },
  {
   "cell_type": "code",
   "execution_count": 25,
   "id": "d4ae8ad8-802c-4e4f-8f5d-b674b12ab55a",
   "metadata": {},
   "outputs": [
    {
     "data": {
      "text/plain": [
       "['george', 'jim']"
      ]
     },
     "execution_count": 25,
     "metadata": {},
     "output_type": "execute_result"
    }
   ],
   "source": [
    "# My recommended way to return all instances in a list.\n",
    "[name for name, age in mydict.items() if age == search_age]"
   ]
  },
  {
   "cell_type": "code",
   "execution_count": 26,
   "id": "c164f9ce-b61a-4e47-9865-28c2a4170d72",
   "metadata": {},
   "outputs": [
    {
     "data": {
      "text/plain": [
       "['george', 'jim']"
      ]
     },
     "execution_count": 26,
     "metadata": {},
     "output_type": "execute_result"
    }
   ],
   "source": [
    "# This is the same as above but with different names.\n",
    "# This works ok, python 3+. Called list comprehension.\n",
    "[k for k, v in mydict.items() if v == search_age]  # k is for key and v for value"
   ]
  },
  {
   "cell_type": "code",
   "execution_count": 27,
   "id": "3471a57d-dd01-4ba6-96b2-278b4bff6fd7",
   "metadata": {},
   "outputs": [
    {
     "data": {
      "text/plain": [
       "{16: 'jim', 19: 'amber'}"
      ]
     },
     "execution_count": 27,
     "metadata": {},
     "output_type": "execute_result"
    }
   ],
   "source": [
    "# Reverses the dictionaty key value pairs. Keys become values.\n",
    "# If values are not unique, this loses the 2d time a value appears because keys should be unique.\n",
    "reversed_mydict = dict((v,k) for k,v in mydict.items())\n",
    "reversed_mydict"
   ]
  },
  {
   "cell_type": "code",
   "execution_count": 28,
   "id": "becc261d-b23f-4614-bcf8-c6343ec88ad7",
   "metadata": {},
   "outputs": [
    {
     "data": {
      "text/plain": [
       "'jim'"
      ]
     },
     "execution_count": 28,
     "metadata": {},
     "output_type": "execute_result"
    }
   ],
   "source": [
    "reversed_mydict[16]"
   ]
  },
  {
   "cell_type": "code",
   "execution_count": 29,
   "id": "9976d0ba-fc83-4597-92cf-de7b792b2e89",
   "metadata": {},
   "outputs": [
    {
     "data": {
      "text/plain": [
       "['george', 'jim']"
      ]
     },
     "execution_count": 29,
     "metadata": {},
     "output_type": "execute_result"
    }
   ],
   "source": [
    "# Alternative, more explicit (verbose) syntax of list comprehension.\n",
    "search_age = 16\n",
    "name = [k for k in mydict.keys() if mydict[k] == search_age]; name"
   ]
  },
  {
   "cell_type": "markdown",
   "id": "standing-election",
   "metadata": {},
   "source": [
    "### Modify a dictionary. clear, add, remove, update.   \n",
    "[Extensive recommended answer.](https://stackoverflow.com/a/8381589)"
   ]
  },
  {
   "cell_type": "code",
   "execution_count": 30,
   "id": "regulation-reggae",
   "metadata": {},
   "outputs": [
    {
     "data": {
      "text/plain": [
       "{}"
      ]
     },
     "execution_count": 30,
     "metadata": {},
     "output_type": "execute_result"
    }
   ],
   "source": [
    "# Remove all items.\n",
    "tel.clear()\n",
    "tel"
   ]
  },
  {
   "cell_type": "code",
   "execution_count": 31,
   "id": "greatest-merit",
   "metadata": {},
   "outputs": [],
   "source": [
    "tel = {'jack': 4098, 'jill': 4139, 'jane': 1234}"
   ]
  },
  {
   "cell_type": "code",
   "execution_count": 32,
   "id": "sized-bulgaria",
   "metadata": {},
   "outputs": [
    {
     "data": {
      "text/plain": [
       "{'jack': 4098, 'jill': 4139, 'jane': 1234, 'guido': 4127}"
      ]
     },
     "execution_count": 32,
     "metadata": {},
     "output_type": "execute_result"
    }
   ],
   "source": [
    "# add a new item at the end. Works \"in place\" => without new assigment.\n",
    "tel['guido'] = 4127\n",
    "tel"
   ]
  },
  {
   "cell_type": "code",
   "execution_count": 33,
   "id": "clean-detection",
   "metadata": {},
   "outputs": [
    {
     "data": {
      "text/plain": [
       "{'jack': 4098, 'jane': 1234, 'guido': 4127}"
      ]
     },
     "execution_count": 33,
     "metadata": {},
     "output_type": "execute_result"
    }
   ],
   "source": [
    "# remove an item. Works \"in place\" => without new assigment\n",
    "del tel['jill']\n",
    "tel"
   ]
  },
  {
   "cell_type": "code",
   "execution_count": 34,
   "id": "welsh-respondent",
   "metadata": {},
   "outputs": [
    {
     "data": {
      "text/plain": [
       "4127"
      ]
     },
     "execution_count": 34,
     "metadata": {},
     "output_type": "execute_result"
    }
   ],
   "source": [
    "# Remove key and return its value.\n",
    "guido_tel_number = tel.pop('guido')\n",
    "guido_tel_number"
   ]
  },
  {
   "cell_type": "code",
   "execution_count": 35,
   "id": "07a4f54b-cba3-4aca-a40a-d336e337e0d8",
   "metadata": {},
   "outputs": [],
   "source": [
    "jack_tel_number = tel.pop('jack')"
   ]
  },
  {
   "cell_type": "code",
   "execution_count": 36,
   "id": "91236324-fe74-45a8-ac42-2531b9ea64b3",
   "metadata": {},
   "outputs": [
    {
     "data": {
      "text/plain": [
       "4098"
      ]
     },
     "execution_count": 36,
     "metadata": {},
     "output_type": "execute_result"
    }
   ],
   "source": [
    "jack_tel_number"
   ]
  },
  {
   "cell_type": "code",
   "execution_count": 37,
   "id": "b1420b43-17ea-47ce-ba36-111a0a192174",
   "metadata": {},
   "outputs": [
    {
     "data": {
      "text/plain": [
       "{'jane': 1234}"
      ]
     },
     "execution_count": 37,
     "metadata": {},
     "output_type": "execute_result"
    }
   ],
   "source": [
    "tel"
   ]
  },
  {
   "cell_type": "code",
   "execution_count": 38,
   "id": "centered-classification",
   "metadata": {},
   "outputs": [],
   "source": [
    "tel['toni'] = guido_tel_number"
   ]
  },
  {
   "cell_type": "code",
   "execution_count": 39,
   "id": "august-driver",
   "metadata": {},
   "outputs": [
    {
     "data": {
      "text/plain": [
       "{'jane': 1234, 'toni': 4127}"
      ]
     },
     "execution_count": 39,
     "metadata": {},
     "output_type": "execute_result"
    }
   ],
   "source": [
    "tel"
   ]
  },
  {
   "cell_type": "code",
   "execution_count": 40,
   "id": "imported-arthur",
   "metadata": {},
   "outputs": [
    {
     "data": {
      "text/plain": [
       "{'jane': 1000, 'toni': 4127}"
      ]
     },
     "execution_count": 40,
     "metadata": {},
     "output_type": "execute_result"
    }
   ],
   "source": [
    "# modify a value\n",
    "tel['jane'] = 1000\n",
    "tel"
   ]
  },
  {
   "cell_type": "code",
   "execution_count": 41,
   "id": "sized-witness",
   "metadata": {},
   "outputs": [
    {
     "data": {
      "text/plain": [
       "{'jane': 1000, 'toni': 4127, 'jim': 2000, 'ann': 3001}"
      ]
     },
     "execution_count": 41,
     "metadata": {},
     "output_type": "execute_result"
    }
   ],
   "source": [
    "# Add new items at once\n",
    "tel.update(jim=2000, ann=3001)\n",
    "tel"
   ]
  },
  {
   "cell_type": "code",
   "execution_count": 42,
   "id": "hybrid-value",
   "metadata": {},
   "outputs": [
    {
     "data": {
      "text/plain": [
       "{'jane': 1000, 'toni': 4127, 'jim': 2000, 'ann': 3009, 'jack': 4000}"
      ]
     },
     "execution_count": 42,
     "metadata": {},
     "output_type": "execute_result"
    }
   ],
   "source": [
    "# Modify items' values\n",
    "tel.update(jack=4000, ann=3009)\n",
    "tel"
   ]
  },
  {
   "cell_type": "code",
   "execution_count": 43,
   "id": "electrical-burton",
   "metadata": {},
   "outputs": [
    {
     "data": {
      "text/plain": [
       "{'jane': 1000,\n",
       " 'toni': 4127,\n",
       " 'jim': 2000,\n",
       " 'ann': 3009,\n",
       " 'jack': 4000,\n",
       " 'jameson': None}"
      ]
     },
     "execution_count": 43,
     "metadata": {},
     "output_type": "execute_result"
    }
   ],
   "source": [
    "# insert new key without default value.\n",
    "tel.setdefault(\"jameson\")\n",
    "tel"
   ]
  },
  {
   "cell_type": "code",
   "execution_count": 44,
   "id": "amino-finder",
   "metadata": {},
   "outputs": [
    {
     "data": {
      "text/plain": [
       "{'jane': 1000,\n",
       " 'toni': 4127,\n",
       " 'jim': 2000,\n",
       " 'ann': 3009,\n",
       " 'jack': 4000,\n",
       " 'jameson': None,\n",
       " 'dan': 1111}"
      ]
     },
     "execution_count": 44,
     "metadata": {},
     "output_type": "execute_result"
    }
   ],
   "source": [
    "# insert new key with default value, if no value exised\n",
    "tel.setdefault(\"dan\", 1111) \n",
    "tel"
   ]
  },
  {
   "cell_type": "code",
   "execution_count": 45,
   "id": "divine-flash",
   "metadata": {},
   "outputs": [
    {
     "data": {
      "text/plain": [
       "{'jane': 1000,\n",
       " 'toni': 4127,\n",
       " 'jim': 2000,\n",
       " 'ann': 3009,\n",
       " 'jack': 4000,\n",
       " 'jameson': None,\n",
       " 'dan': 1111}"
      ]
     },
     "execution_count": 45,
     "metadata": {},
     "output_type": "execute_result"
    }
   ],
   "source": [
    "# if value exists this is not the way to change it.\n",
    "tel.setdefault(\"dan\", 3333) \n",
    "tel"
   ]
  },
  {
   "cell_type": "markdown",
   "id": "neither-dependence",
   "metadata": {},
   "source": [
    "### Miscelanous functions"
   ]
  },
  {
   "cell_type": "code",
   "execution_count": 46,
   "id": "brazilian-violin",
   "metadata": {},
   "outputs": [
    {
     "data": {
      "text/plain": [
       "7"
      ]
     },
     "execution_count": 46,
     "metadata": {},
     "output_type": "execute_result"
    }
   ],
   "source": [
    "len(tel)  # N of items (N of pairs)"
   ]
  },
  {
   "cell_type": "code",
   "execution_count": 47,
   "id": "ceramic-sydney",
   "metadata": {},
   "outputs": [
    {
     "data": {
      "text/plain": [
       "['jane', 'toni', 'jim', 'ann', 'jack', 'jameson', 'dan']"
      ]
     },
     "execution_count": 47,
     "metadata": {},
     "output_type": "execute_result"
    }
   ],
   "source": [
    "list(tel)  # convert keys to list"
   ]
  },
  {
   "cell_type": "code",
   "execution_count": 48,
   "id": "mathematical-haiti",
   "metadata": {},
   "outputs": [
    {
     "data": {
      "text/plain": [
       "['ann', 'dan', 'jack', 'jameson', 'jane', 'jim', 'toni']"
      ]
     },
     "execution_count": 48,
     "metadata": {},
     "output_type": "execute_result"
    }
   ],
   "source": [
    "sorted(tel)  # convert keys to sorted list"
   ]
  },
  {
   "cell_type": "code",
   "execution_count": 49,
   "id": "existing-usage",
   "metadata": {},
   "outputs": [
    {
     "data": {
      "text/plain": [
       "False"
      ]
     },
     "execution_count": 49,
     "metadata": {},
     "output_type": "execute_result"
    }
   ],
   "source": [
    "'thanasis' in tel"
   ]
  },
  {
   "cell_type": "code",
   "execution_count": 50,
   "id": "considered-faculty",
   "metadata": {},
   "outputs": [
    {
     "data": {
      "text/plain": [
       "True"
      ]
     },
     "execution_count": 50,
     "metadata": {},
     "output_type": "execute_result"
    }
   ],
   "source": [
    "\"ann\" in tel"
   ]
  },
  {
   "cell_type": "code",
   "execution_count": 51,
   "id": "golden-truck",
   "metadata": {},
   "outputs": [
    {
     "data": {
      "text/plain": [
       "False"
      ]
     },
     "execution_count": 51,
     "metadata": {},
     "output_type": "execute_result"
    }
   ],
   "source": [
    "'jack' not in tel"
   ]
  },
  {
   "cell_type": "markdown",
   "id": "improving-ending",
   "metadata": {},
   "source": [
    "### Iterate"
   ]
  },
  {
   "cell_type": "code",
   "execution_count": 52,
   "id": "accredited-practice",
   "metadata": {},
   "outputs": [
    {
     "name": "stdout",
     "output_type": "stream",
     "text": [
      "jane\n",
      "toni\n",
      "jim\n",
      "ann\n",
      "jack\n",
      "jameson\n",
      "dan\n"
     ]
    }
   ],
   "source": [
    "for employee in tel:\n",
    "    print(employee)"
   ]
  },
  {
   "cell_type": "code",
   "execution_count": 53,
   "id": "psychological-chess",
   "metadata": {},
   "outputs": [
    {
     "name": "stdout",
     "output_type": "stream",
     "text": [
      "jane\n",
      "toni\n",
      "jim\n",
      "ann\n",
      "jack\n",
      "jameson\n",
      "dan\n"
     ]
    }
   ],
   "source": [
    "for name in tel.keys():\n",
    "    print(name)"
   ]
  },
  {
   "cell_type": "code",
   "execution_count": 54,
   "id": "northern-chart",
   "metadata": {},
   "outputs": [
    {
     "name": "stdout",
     "output_type": "stream",
     "text": [
      "1000\n",
      "4127\n",
      "2000\n",
      "3009\n",
      "4000\n",
      "None\n",
      "1111\n"
     ]
    }
   ],
   "source": [
    "for i in tel.values():\n",
    "    print(i)"
   ]
  },
  {
   "cell_type": "code",
   "execution_count": 55,
   "id": "occupational-letters",
   "metadata": {},
   "outputs": [
    {
     "name": "stdout",
     "output_type": "stream",
     "text": [
      "jane 1000\n",
      "toni 4127\n",
      "jim 2000\n",
      "ann 3009\n",
      "jack 4000\n",
      "jameson None\n",
      "dan 1111\n"
     ]
    }
   ],
   "source": [
    "for key, value in tel.items():\n",
    "    print(key, value)  #, sep=\" tel. number \")"
   ]
  },
  {
   "cell_type": "code",
   "execution_count": 56,
   "id": "sunrise-subdivision",
   "metadata": {},
   "outputs": [
    {
     "name": "stdout",
     "output_type": "stream",
     "text": [
      "ann 3009\n",
      "dan 1111\n",
      "jack 4000\n",
      "jameson None\n",
      "jane 1000\n",
      "jim 2000\n",
      "toni 4127\n"
     ]
    }
   ],
   "source": [
    "for key, value in sorted(tel.items()):\n",
    "    print(key, value)"
   ]
  },
  {
   "cell_type": "code",
   "execution_count": 57,
   "id": "front-conclusion",
   "metadata": {},
   "outputs": [
    {
     "data": {
      "text/plain": [
       "{'jack': [4098, 4097], 'jill': [4139, 4138], 'jane': [1234, 1233]}"
      ]
     },
     "execution_count": 57,
     "metadata": {},
     "output_type": "execute_result"
    }
   ],
   "source": [
    "dict_with_lists = tel = {'jack': [4098, 4097], 'jill': [4139, 4138], 'jane': [1234, 1233]}\n",
    "dict_with_lists"
   ]
  },
  {
   "cell_type": "code",
   "execution_count": 58,
   "id": "preceding-england",
   "metadata": {},
   "outputs": [
    {
     "name": "stdout",
     "output_type": "stream",
     "text": [
      "jack 4098\n",
      "jill 4139\n",
      "jane 1234\n"
     ]
    }
   ],
   "source": [
    "for key, value in dict_with_lists.items():\n",
    "    print(key, value[0])"
   ]
  },
  {
   "cell_type": "code",
   "execution_count": 59,
   "id": "moral-canada",
   "metadata": {},
   "outputs": [
    {
     "name": "stdout",
     "output_type": "stream",
     "text": [
      "jack 4097\n",
      "jill 4138\n",
      "jane 1233\n"
     ]
    }
   ],
   "source": [
    "for key, value in dict_with_lists.items():\n",
    "    print(key, value[1])"
   ]
  },
  {
   "cell_type": "markdown",
   "id": "nasty-being",
   "metadata": {},
   "source": [
    "#### Dict Extra:  \n",
    "[subclasses](https://docs.python.org/3/library/collections.html)\n",
    "\n",
    "Subclasses in Python are defined in a way that inherit properties of the parent classes but have some modified attributes.  \n",
    "[OrderedDict](https://docs.python.org/3/library/collections.html#collections.OrderedDict) is an example of Dictionary that also has an index. It returns an instance of a dict subclass that has methods specialized for rearranging dictionary order."
   ]
  },
  {
   "cell_type": "code",
   "execution_count": 60,
   "id": "incorporated-penguin",
   "metadata": {},
   "outputs": [],
   "source": [
    "from collections import OrderedDict"
   ]
  },
  {
   "cell_type": "markdown",
   "id": "heated-announcement",
   "metadata": {},
   "source": [
    "#### Example of iterating over a dict and getting and index for items  \n",
    "using the built-in [enumerate() function: ](https://docs.python.org/3/library/functions.html#enumerate)\n",
    "This creates a new object called enumerate which works liked an explicitly indexed list."
   ]
  },
  {
   "cell_type": "code",
   "execution_count": 61,
   "id": "martial-response",
   "metadata": {},
   "outputs": [
    {
     "name": "stdout",
     "output_type": "stream",
     "text": [
      "0 a 1\n",
      "1 b 2\n",
      "2 c 3\n",
      "3 d 4\n"
     ]
    }
   ],
   "source": [
    "classic_dict_without_index = {\"a\": 1, \"b\": 2, \"c\": 3, \"d\": 4}\n",
    "\n",
    "for index,  (key, value) in enumerate(classic_dict_without_index.items()):\n",
    "    print(index, key, value)"
   ]
  },
  {
   "cell_type": "code",
   "execution_count": 62,
   "id": "foster-championship",
   "metadata": {},
   "outputs": [
    {
     "data": {
      "text/plain": [
       "enumerate"
      ]
     },
     "execution_count": 62,
     "metadata": {},
     "output_type": "execute_result"
    }
   ],
   "source": [
    "type(enumerate(classic_dict_without_index))"
   ]
  },
  {
   "cell_type": "code",
   "execution_count": 63,
   "id": "norman-citation",
   "metadata": {},
   "outputs": [
    {
     "data": {
      "text/plain": [
       "\u001b[1;31mInit signature:\u001b[0m \u001b[0menumerate\u001b[0m\u001b[1;33m(\u001b[0m\u001b[0miterable\u001b[0m\u001b[1;33m,\u001b[0m \u001b[0mstart\u001b[0m\u001b[1;33m=\u001b[0m\u001b[1;36m0\u001b[0m\u001b[1;33m)\u001b[0m\u001b[1;33m\u001b[0m\u001b[1;33m\u001b[0m\u001b[0m\n",
       "\u001b[1;31mDocstring:\u001b[0m     \n",
       "Return an enumerate object.\n",
       "\n",
       "  iterable\n",
       "    an object supporting iteration\n",
       "\n",
       "The enumerate object yields pairs containing a count (from start, which\n",
       "defaults to zero) and a value yielded by the iterable argument.\n",
       "\n",
       "enumerate is useful for obtaining an indexed list:\n",
       "    (0, seq[0]), (1, seq[1]), (2, seq[2]), ...\n",
       "\u001b[1;31mType:\u001b[0m           type\n",
       "\u001b[1;31mSubclasses:\u001b[0m     "
      ]
     },
     "metadata": {},
     "output_type": "display_data"
    }
   ],
   "source": [
    "enumerate?"
   ]
  },
  {
   "cell_type": "code",
   "execution_count": 64,
   "id": "tutorial-porter",
   "metadata": {},
   "outputs": [],
   "source": [
    "# show that slicing a dictionary does not work\n",
    "#classic_dict_without_index.values()[:2]"
   ]
  },
  {
   "cell_type": "code",
   "execution_count": 65,
   "id": "liquid-warrior",
   "metadata": {},
   "outputs": [
    {
     "data": {
      "text/plain": [
       "['b', 'c']"
      ]
     },
     "execution_count": 65,
     "metadata": {},
     "output_type": "execute_result"
    }
   ],
   "source": [
    "# convert to a list to get a slice of the values or keys\n",
    "list(classic_dict_without_index.keys())[1:3]"
   ]
  },
  {
   "cell_type": "code",
   "execution_count": 66,
   "id": "arranged-sequence",
   "metadata": {},
   "outputs": [
    {
     "data": {
      "text/plain": [
       "[2, 3]"
      ]
     },
     "execution_count": 66,
     "metadata": {},
     "output_type": "execute_result"
    }
   ],
   "source": [
    "list(classic_dict_without_index.values())[1:3]"
   ]
  },
  {
   "cell_type": "code",
   "execution_count": 67,
   "id": "capable-capability",
   "metadata": {},
   "outputs": [
    {
     "data": {
      "text/plain": [
       "[('b', 2), ('c', 3)]"
      ]
     },
     "execution_count": 67,
     "metadata": {},
     "output_type": "execute_result"
    }
   ],
   "source": [
    "list(classic_dict_without_index.items())[1:3]"
   ]
  },
  {
   "cell_type": "markdown",
   "id": "inappropriate-collar",
   "metadata": {},
   "source": [
    "#### Example of slicing an OrderedDict\n",
    "using the [built-in itertools module](https://docs.python.org/3/library/itertools.html)"
   ]
  },
  {
   "cell_type": "code",
   "execution_count": 68,
   "id": "incoming-bankruptcy",
   "metadata": {},
   "outputs": [],
   "source": [
    "from itertools import islice"
   ]
  },
  {
   "cell_type": "code",
   "execution_count": 69,
   "id": "skilled-devon",
   "metadata": {},
   "outputs": [
    {
     "data": {
      "text/plain": [
       "OrderedDict([('a', 1), ('b', 2), ('c', 3), ('d', 4)])"
      ]
     },
     "execution_count": 69,
     "metadata": {},
     "output_type": "execute_result"
    }
   ],
   "source": [
    "# mind the parentheses. A function is used along the dict notation to create an OrderedDict.\n",
    "ordered_dict = OrderedDict({\"a\": 1, \"b\": 2, \"c\": 3, \"d\": 4})\n",
    "ordered_dict\n",
    "# and the output looks like a list doesn;t it?"
   ]
  },
  {
   "cell_type": "code",
   "execution_count": 70,
   "id": "professional-diary",
   "metadata": {},
   "outputs": [
    {
     "data": {
      "text/plain": [
       "OrderedDict([('b', 2), ('c', 3)])"
      ]
     },
     "execution_count": 70,
     "metadata": {},
     "output_type": "execute_result"
    }
   ],
   "source": [
    "sliced_part = islice(ordered_dict.items(), 1, 3)\n",
    "\n",
    "OrderedDict(sliced_part)"
   ]
  },
  {
   "cell_type": "code",
   "execution_count": 71,
   "id": "bizarre-communications",
   "metadata": {
    "tags": []
   },
   "outputs": [
    {
     "data": {
      "text/plain": [
       "[('b', 2), ('c', 3)]"
      ]
     },
     "execution_count": 71,
     "metadata": {},
     "output_type": "execute_result"
    }
   ],
   "source": [
    "# Of course, converting to a list is simpler.\n",
    "list(ordered_dict.items())[1:3]"
   ]
  }
 ],
 "metadata": {
  "kernelspec": {
   "display_name": "Python 3 (ipykernel)",
   "language": "python",
   "name": "python3"
  },
  "language_info": {
   "codemirror_mode": {
    "name": "ipython",
    "version": 3
   },
   "file_extension": ".py",
   "mimetype": "text/x-python",
   "name": "python",
   "nbconvert_exporter": "python",
   "pygments_lexer": "ipython3",
   "version": "3.10.10"
  }
 },
 "nbformat": 4,
 "nbformat_minor": 5
}

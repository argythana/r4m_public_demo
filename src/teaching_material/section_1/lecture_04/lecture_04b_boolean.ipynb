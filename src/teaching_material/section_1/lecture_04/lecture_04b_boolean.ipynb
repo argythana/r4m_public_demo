{
 "cells": [
  {
   "cell_type": "markdown",
   "id": "missing-preference",
   "metadata": {},
   "source": [
    "# Lecture 4a: Boolean operations, value comparisons.\n",
    "\n",
    "Truth Testing Expressions, value comparisons:  \n",
    "return boolean values (boolean means: binary, \"δυαδικές\"): True or False.\n",
    "\n",
    "In python, **True** is the default state of things. Exceptions at the end of lecture (parental advisory content).\n",
    "\n",
    "[Built-in data type](https://docs.python.org/3/library/stdtypes.html)  \n",
    "\n",
    "[Boolean Operations](https://docs.python.org/3/library/stdtypes.html#boolean-operations-and-or-not)   \n",
    "\n",
    "[Basic Comparisons](https://docs.python.org/3/library/stdtypes.html#comparisons)\n",
    "\n",
    "[Comparisons in general](https://docs.python.org/3/reference/expressions.html?#comparisons)  \n",
    "\n",
    "[Identity Comparisons](https://docs.python.org/3/reference/expressions.html?#is-not)\n",
    "\n",
    "[Value Comparisons](https://docs.python.org/3/reference/expressions.html?#value-comparisons)\n",
    "\n",
    "[Membership test](https://docs.python.org/3/reference/expressions.html?#membership-test-operations)\n",
    "\n",
    "[bool() function](https://docs.python.org/3/library/functions.html#bool)"
   ]
  },
  {
   "cell_type": "code",
   "execution_count": 1,
   "id": "expired-genesis",
   "metadata": {},
   "outputs": [],
   "source": [
    "# Just some names and their values.\n",
    "x = 9\n",
    "w = 4\n",
    "y = 2\n",
    "antonis = 9\n",
    "z = \"last but not least\""
   ]
  },
  {
   "cell_type": "markdown",
   "id": "entire-neutral",
   "metadata": {},
   "source": [
    "## Numeric **Value** Comparison operators: <, ,> <=, >=, ==, !=, \"is\", \"is not\""
   ]
  },
  {
   "cell_type": "code",
   "execution_count": 2,
   "id": "olive-dance",
   "metadata": {},
   "outputs": [
    {
     "data": {
      "text/plain": [
       "9"
      ]
     },
     "execution_count": 2,
     "metadata": {},
     "output_type": "execute_result"
    }
   ],
   "source": [
    "x"
   ]
  },
  {
   "cell_type": "code",
   "execution_count": 3,
   "id": "casual-elizabeth",
   "metadata": {},
   "outputs": [
    {
     "data": {
      "text/plain": [
       "False"
      ]
     },
     "execution_count": 3,
     "metadata": {},
     "output_type": "execute_result"
    }
   ],
   "source": [
    "not x  # True is the default state of things."
   ]
  },
  {
   "cell_type": "code",
   "execution_count": 4,
   "id": "valued-conservation",
   "metadata": {},
   "outputs": [
    {
     "data": {
      "text/plain": [
       "True"
      ]
     },
     "execution_count": 4,
     "metadata": {},
     "output_type": "execute_result"
    }
   ],
   "source": [
    "# bool is the function that works behind the scenes to test the truth.\n",
    "bool(x)"
   ]
  },
  {
   "cell_type": "code",
   "execution_count": 5,
   "id": "b2beb685-6ca4-4236-b823-b135aab44566",
   "metadata": {},
   "outputs": [
    {
     "data": {
      "text/plain": [
       "False"
      ]
     },
     "execution_count": 5,
     "metadata": {},
     "output_type": "execute_result"
    }
   ],
   "source": [
    "not x"
   ]
  },
  {
   "cell_type": "code",
   "execution_count": 6,
   "id": "4732f7a0-fe37-43a2-9bdc-a096aeffe8da",
   "metadata": {},
   "outputs": [
    {
     "data": {
      "text/plain": [
       "False"
      ]
     },
     "execution_count": 6,
     "metadata": {},
     "output_type": "execute_result"
    }
   ],
   "source": [
    "bool(not x)"
   ]
  },
  {
   "cell_type": "code",
   "execution_count": 7,
   "id": "average-inclusion",
   "metadata": {},
   "outputs": [
    {
     "data": {
      "text/plain": [
       "True"
      ]
     },
     "execution_count": 7,
     "metadata": {},
     "output_type": "execute_result"
    }
   ],
   "source": [
    "9 > 2"
   ]
  },
  {
   "cell_type": "code",
   "execution_count": 8,
   "id": "joined-vector",
   "metadata": {},
   "outputs": [
    {
     "data": {
      "text/plain": [
       "True"
      ]
     },
     "execution_count": 8,
     "metadata": {},
     "output_type": "execute_result"
    }
   ],
   "source": [
    "x >= y  # True"
   ]
  },
  {
   "cell_type": "code",
   "execution_count": 9,
   "id": "operational-rolling",
   "metadata": {},
   "outputs": [
    {
     "data": {
      "text/plain": [
       "True"
      ]
     },
     "execution_count": 9,
     "metadata": {},
     "output_type": "execute_result"
    }
   ],
   "source": [
    "x != y  # True"
   ]
  },
  {
   "cell_type": "code",
   "execution_count": 10,
   "id": "greek-print",
   "metadata": {},
   "outputs": [
    {
     "data": {
      "text/plain": [
       "True"
      ]
     },
     "execution_count": 10,
     "metadata": {},
     "output_type": "execute_result"
    }
   ],
   "source": [
    "x is not y  # True"
   ]
  },
  {
   "cell_type": "code",
   "execution_count": 11,
   "id": "korean-actress",
   "metadata": {},
   "outputs": [],
   "source": [
    "x = antonis"
   ]
  },
  {
   "cell_type": "code",
   "execution_count": 12,
   "id": "6ced0cab-e1b3-46e8-8a69-e67d848e1e4d",
   "metadata": {},
   "outputs": [
    {
     "data": {
      "text/plain": [
       "True"
      ]
     },
     "execution_count": 12,
     "metadata": {},
     "output_type": "execute_result"
    }
   ],
   "source": [
    "x == antonis"
   ]
  },
  {
   "cell_type": "code",
   "execution_count": 13,
   "id": "b13a334d-be71-43e4-8109-8c1665e203f0",
   "metadata": {},
   "outputs": [
    {
     "data": {
      "text/plain": [
       "True"
      ]
     },
     "execution_count": 13,
     "metadata": {},
     "output_type": "execute_result"
    }
   ],
   "source": [
    "x is antonis"
   ]
  },
  {
   "cell_type": "code",
   "execution_count": 14,
   "id": "0795a8fe-9173-48ce-a5cb-51c2f4a392bf",
   "metadata": {},
   "outputs": [
    {
     "name": "stderr",
     "output_type": "stream",
     "text": [
      "<>:1: SyntaxWarning: \"is\" with a literal. Did you mean \"==\"?\n",
      "<>:1: SyntaxWarning: \"is\" with a literal. Did you mean \"==\"?\n",
      "C:\\Users\\tharg\\AppData\\Local\\Temp\\ipykernel_10128\\1614583894.py:1: SyntaxWarning: \"is\" with a literal. Did you mean \"==\"?\n",
      "  y is 2\n"
     ]
    },
    {
     "data": {
      "text/plain": [
       "True"
      ]
     },
     "execution_count": 14,
     "metadata": {},
     "output_type": "execute_result"
    }
   ],
   "source": [
    "y is 2"
   ]
  },
  {
   "cell_type": "code",
   "execution_count": 15,
   "id": "540b0dbb-c2f9-4190-a742-2346a3a04826",
   "metadata": {},
   "outputs": [
    {
     "data": {
      "text/plain": [
       "True"
      ]
     },
     "execution_count": 15,
     "metadata": {},
     "output_type": "execute_result"
    }
   ],
   "source": [
    "y == 2"
   ]
  },
  {
   "cell_type": "code",
   "execution_count": 16,
   "id": "protecting-updating",
   "metadata": {},
   "outputs": [
    {
     "data": {
      "text/plain": [
       "False"
      ]
     },
     "execution_count": 16,
     "metadata": {},
     "output_type": "execute_result"
    }
   ],
   "source": [
    "x == y  # False"
   ]
  },
  {
   "cell_type": "markdown",
   "id": "stuffed-simple",
   "metadata": {},
   "source": [
    "## Identity comparisons: \"is not\", \"is\", \"not\""
   ]
  },
  {
   "cell_type": "code",
   "execution_count": 17,
   "id": "accepting-chuck",
   "metadata": {},
   "outputs": [
    {
     "data": {
      "text/plain": [
       "False"
      ]
     },
     "execution_count": 17,
     "metadata": {},
     "output_type": "execute_result"
    }
   ],
   "source": [
    "x is y  #False"
   ]
  },
  {
   "cell_type": "markdown",
   "id": "through-cedar",
   "metadata": {},
   "source": [
    "not has a lower priority than non-Boolean operators, so not a == b is interpreted as not (a == b), "
   ]
  },
  {
   "cell_type": "code",
   "execution_count": 18,
   "id": "passing-reference",
   "metadata": {},
   "outputs": [
    {
     "data": {
      "text/plain": [
       "True"
      ]
     },
     "execution_count": 18,
     "metadata": {},
     "output_type": "execute_result"
    }
   ],
   "source": [
    "bool(x)"
   ]
  },
  {
   "cell_type": "code",
   "execution_count": 19,
   "id": "bulgarian-ready",
   "metadata": {},
   "outputs": [
    {
     "data": {
      "text/plain": [
       "False"
      ]
     },
     "execution_count": 19,
     "metadata": {},
     "output_type": "execute_result"
    }
   ],
   "source": [
    "not x"
   ]
  },
  {
   "cell_type": "code",
   "execution_count": 20,
   "id": "eleven-value",
   "metadata": {},
   "outputs": [
    {
     "data": {
      "text/plain": [
       "True"
      ]
     },
     "execution_count": 20,
     "metadata": {},
     "output_type": "execute_result"
    }
   ],
   "source": [
    "not (x == y)  # True"
   ]
  },
  {
   "cell_type": "code",
   "execution_count": 21,
   "id": "anticipated-oxygen",
   "metadata": {},
   "outputs": [
    {
     "data": {
      "text/plain": [
       "True"
      ]
     },
     "execution_count": 21,
     "metadata": {},
     "output_type": "execute_result"
    }
   ],
   "source": [
    "not x is y  # True because if means: not(x is y)"
   ]
  },
  {
   "cell_type": "code",
   "execution_count": 22,
   "id": "organized-campbell",
   "metadata": {},
   "outputs": [
    {
     "data": {
      "text/plain": [
       "True"
      ]
     },
     "execution_count": 22,
     "metadata": {},
     "output_type": "execute_result"
    }
   ],
   "source": [
    "not(x is y)  # same as above"
   ]
  },
  {
   "cell_type": "code",
   "execution_count": 23,
   "id": "applicable-prior",
   "metadata": {},
   "outputs": [
    {
     "data": {
      "text/plain": [
       "True"
      ]
     },
     "execution_count": 23,
     "metadata": {},
     "output_type": "execute_result"
    }
   ],
   "source": [
    "2 < 4 < 9 < 15"
   ]
  },
  {
   "cell_type": "code",
   "execution_count": 24,
   "id": "wrong-constitution",
   "metadata": {},
   "outputs": [
    {
     "data": {
      "text/plain": [
       "True"
      ]
     },
     "execution_count": 24,
     "metadata": {},
     "output_type": "execute_result"
    }
   ],
   "source": [
    "y < w < x  #True. Chained comparison (y < w and w < x)"
   ]
  },
  {
   "cell_type": "markdown",
   "id": "prescription-principal",
   "metadata": {},
   "source": [
    "## Compare Apples with oranges! Yes you can, but ...  \n",
    "Value Comparisons for other types. \n"
   ]
  },
  {
   "cell_type": "code",
   "execution_count": 25,
   "id": "central-passion",
   "metadata": {},
   "outputs": [
    {
     "data": {
      "text/plain": [
       "True"
      ]
     },
     "execution_count": 25,
     "metadata": {},
     "output_type": "execute_result"
    }
   ],
   "source": [
    "'helloooooooo' > 'hello' > 'hell' # True"
   ]
  },
  {
   "cell_type": "code",
   "execution_count": 26,
   "id": "quantitative-nashville",
   "metadata": {},
   "outputs": [
    {
     "data": {
      "text/plain": [
       "True"
      ]
     },
     "execution_count": 26,
     "metadata": {},
     "output_type": "execute_result"
    }
   ],
   "source": [
    "[1, 2] < [1, 2, 3, 4] # True"
   ]
  },
  {
   "cell_type": "code",
   "execution_count": 27,
   "id": "honey-lying",
   "metadata": {},
   "outputs": [
    {
     "name": "stderr",
     "output_type": "stream",
     "text": [
      "<>:3: SyntaxWarning: \"is\" with a literal. Did you mean \"==\"?\n",
      "<>:3: SyntaxWarning: \"is\" with a literal. Did you mean \"==\"?\n",
      "C:\\Users\\tharg\\AppData\\Local\\Temp\\ipykernel_10128\\2044842251.py:3: SyntaxWarning: \"is\" with a literal. Did you mean \"==\"?\n",
      "  apple is \"orange\"\n"
     ]
    },
    {
     "data": {
      "text/plain": [
       "False"
      ]
     },
     "execution_count": 27,
     "metadata": {},
     "output_type": "execute_result"
    }
   ],
   "source": [
    "apple = \"apple\"\n",
    "ora = \"orange\"\n",
    "apple is \"orange\""
   ]
  },
  {
   "cell_type": "code",
   "execution_count": 28,
   "id": "moral-victory",
   "metadata": {},
   "outputs": [
    {
     "data": {
      "text/plain": [
       "False"
      ]
     },
     "execution_count": 28,
     "metadata": {},
     "output_type": "execute_result"
    }
   ],
   "source": [
    "apple == \"orange\""
   ]
  },
  {
   "cell_type": "code",
   "execution_count": 29,
   "id": "functioning-emerald",
   "metadata": {},
   "outputs": [
    {
     "data": {
      "text/plain": [
       "True"
      ]
     },
     "execution_count": 29,
     "metadata": {},
     "output_type": "execute_result"
    }
   ],
   "source": [
    "# I told you we can compare apples with oranges!\n",
    "apple < ora"
   ]
  },
  {
   "cell_type": "code",
   "execution_count": 30,
   "id": "logical-faith",
   "metadata": {},
   "outputs": [
    {
     "data": {
      "text/plain": [
       "True"
      ]
     },
     "execution_count": 30,
     "metadata": {},
     "output_type": "execute_result"
    }
   ],
   "source": [
    "apple < 'orange'  # TypeError."
   ]
  },
  {
   "cell_type": "code",
   "execution_count": 31,
   "id": "planned-payroll",
   "metadata": {},
   "outputs": [],
   "source": [
    "# Show a comparison TypeError\n",
    "# 'hello' > 2  # TypeError"
   ]
  },
  {
   "cell_type": "markdown",
   "id": "corporate-african",
   "metadata": {},
   "source": [
    "### Membership test operations: \"in\", \"not in\""
   ]
  },
  {
   "cell_type": "code",
   "execution_count": 32,
   "id": "separated-croatia",
   "metadata": {},
   "outputs": [
    {
     "data": {
      "text/plain": [
       "['John', 1, 2, 3]"
      ]
     },
     "execution_count": 32,
     "metadata": {},
     "output_type": "execute_result"
    }
   ],
   "source": [
    "# dont use list for different types!\n",
    "my_list = [\"John\", 1, 2, 3]  # dont use list for different types!\n",
    "my_list  # dont use list for different types!"
   ]
  },
  {
   "cell_type": "code",
   "execution_count": 33,
   "id": "scientific-freedom",
   "metadata": {},
   "outputs": [
    {
     "data": {
      "text/plain": [
       "True"
      ]
     },
     "execution_count": 33,
     "metadata": {},
     "output_type": "execute_result"
    }
   ],
   "source": [
    "\"John\" in my_list  # True"
   ]
  },
  {
   "cell_type": "code",
   "execution_count": 34,
   "id": "bearing-range",
   "metadata": {},
   "outputs": [
    {
     "data": {
      "text/plain": [
       "True"
      ]
     },
     "execution_count": 34,
     "metadata": {},
     "output_type": "execute_result"
    }
   ],
   "source": [
    "1 in my_list  # True"
   ]
  },
  {
   "cell_type": "code",
   "execution_count": 35,
   "id": "classified-madagascar",
   "metadata": {},
   "outputs": [
    {
     "data": {
      "text/plain": [
       "False"
      ]
     },
     "execution_count": 35,
     "metadata": {},
     "output_type": "execute_result"
    }
   ],
   "source": [
    "4 in my_list  # False"
   ]
  },
  {
   "cell_type": "code",
   "execution_count": 36,
   "id": "dress-gibraltar",
   "metadata": {},
   "outputs": [
    {
     "data": {
      "text/plain": [
       "True"
      ]
     },
     "execution_count": 36,
     "metadata": {},
     "output_type": "execute_result"
    }
   ],
   "source": [
    "4 not in my_list  # True"
   ]
  },
  {
   "cell_type": "code",
   "execution_count": 37,
   "id": "color-overall",
   "metadata": {},
   "outputs": [
    {
     "data": {
      "text/plain": [
       "True"
      ]
     },
     "execution_count": 37,
     "metadata": {},
     "output_type": "execute_result"
    }
   ],
   "source": [
    "not (4 in my_list) # True."
   ]
  },
  {
   "cell_type": "code",
   "execution_count": 38,
   "id": "excellent-kingston",
   "metadata": {},
   "outputs": [
    {
     "data": {
      "text/plain": [
       "True"
      ]
     },
     "execution_count": 38,
     "metadata": {},
     "output_type": "execute_result"
    }
   ],
   "source": [
    "(4 not in my_list) == (not (4 in my_list))"
   ]
  },
  {
   "cell_type": "markdown",
   "id": "filled-romance",
   "metadata": {},
   "source": [
    "### Boolean Logical Operations: Logical \"or\", \"and\", \"not\"\n",
    "\n",
    "In Boolean operations and control flow statements, the following are interpreted as \n",
    "FALSE:  \n",
    "* False, None, numeric zero of all types,\n",
    "* empty strings and containers (tuples, lists, dictionaries, sets).\n",
    "\n",
    "All other values are interpreted as True.  \n",
    "\n",
    "### My favorite error: Using \"and\" when I should be using \"or\"."
   ]
  },
  {
   "cell_type": "code",
   "execution_count": 39,
   "id": "hungry-robinson",
   "metadata": {},
   "outputs": [
    {
     "data": {
      "text/plain": [
       "False"
      ]
     },
     "execution_count": 39,
     "metadata": {},
     "output_type": "execute_result"
    }
   ],
   "source": [
    "#bool() function, test true or False\n",
    "bool(0.0)  # False"
   ]
  },
  {
   "cell_type": "code",
   "execution_count": 40,
   "id": "drawn-procurement",
   "metadata": {},
   "outputs": [
    {
     "data": {
      "text/plain": [
       "False"
      ]
     },
     "execution_count": 40,
     "metadata": {},
     "output_type": "execute_result"
    }
   ],
   "source": [
    "bool(\"\")  # False"
   ]
  },
  {
   "cell_type": "code",
   "execution_count": 41,
   "id": "choice-alberta",
   "metadata": {},
   "outputs": [
    {
     "data": {
      "text/plain": [
       "False"
      ]
     },
     "execution_count": 41,
     "metadata": {},
     "output_type": "execute_result"
    }
   ],
   "source": [
    "bool({})  # False"
   ]
  },
  {
   "cell_type": "code",
   "execution_count": 42,
   "id": "imported-relaxation",
   "metadata": {},
   "outputs": [
    {
     "data": {
      "text/plain": [
       "True"
      ]
     },
     "execution_count": 42,
     "metadata": {},
     "output_type": "execute_result"
    }
   ],
   "source": [
    "bool(x)  # True"
   ]
  },
  {
   "cell_type": "code",
   "execution_count": 43,
   "id": "purple-absorption",
   "metadata": {},
   "outputs": [
    {
     "data": {
      "text/plain": [
       "False"
      ]
     },
     "execution_count": 43,
     "metadata": {},
     "output_type": "execute_result"
    }
   ],
   "source": [
    "bool(False)"
   ]
  },
  {
   "cell_type": "code",
   "execution_count": 44,
   "id": "eleven-beverage",
   "metadata": {},
   "outputs": [
    {
     "data": {
      "text/plain": [
       "False"
      ]
     },
     "execution_count": 44,
     "metadata": {},
     "output_type": "execute_result"
    }
   ],
   "source": [
    "True and False  # False, because both can not be True => False"
   ]
  },
  {
   "cell_type": "code",
   "execution_count": 45,
   "id": "interim-support",
   "metadata": {},
   "outputs": [
    {
     "data": {
      "text/plain": [
       "True"
      ]
     },
     "execution_count": 45,
     "metadata": {},
     "output_type": "execute_result"
    }
   ],
   "source": [
    "True or False  # True"
   ]
  },
  {
   "cell_type": "markdown",
   "id": "quarterly-material",
   "metadata": {},
   "source": [
    "## Extra reading, if you want to get brain damage and become a zombie.\n",
    "\n",
    "Boolean operations, [Short-circuit evaluations](https://docs.python.org/3/library/stdtypes.html?highlight=short%20circuit%20evaluation#boolean-operations-and-or-not).  \n",
    "**Evaluation stops if False**.  \n",
    "So, in logical add tests, if True => last evaluated value is returned."
   ]
  },
  {
   "cell_type": "code",
   "execution_count": 46,
   "id": "8710be62-c78d-48bc-b065-223757d49287",
   "metadata": {},
   "outputs": [],
   "source": [
    "x = 9\n",
    "y = 2\n",
    "z = \"last but not least\""
   ]
  },
  {
   "cell_type": "code",
   "execution_count": 47,
   "id": "a1aa3fb6-7978-4336-bb28-c25fb67b9099",
   "metadata": {},
   "outputs": [
    {
     "data": {
      "text/plain": [
       "9"
      ]
     },
     "execution_count": 47,
     "metadata": {},
     "output_type": "execute_result"
    }
   ],
   "source": [
    "x"
   ]
  },
  {
   "cell_type": "code",
   "execution_count": 48,
   "id": "yellow-contribution",
   "metadata": {},
   "outputs": [
    {
     "data": {
      "text/plain": [
       "9"
      ]
     },
     "execution_count": 48,
     "metadata": {},
     "output_type": "execute_result"
    }
   ],
   "source": [
    "x or y # x is True, return value of x. The first value."
   ]
  },
  {
   "cell_type": "code",
   "execution_count": 49,
   "id": "35fc0a1d-69a4-4422-9266-dcbdf7129ebb",
   "metadata": {
    "tags": []
   },
   "outputs": [
    {
     "data": {
      "text/plain": [
       "2"
      ]
     },
     "execution_count": 49,
     "metadata": {},
     "output_type": "execute_result"
    }
   ],
   "source": [
    "y or x"
   ]
  },
  {
   "cell_type": "code",
   "execution_count": 50,
   "id": "b8ecfa72-c2dd-409a-be1f-f5f768d9283f",
   "metadata": {},
   "outputs": [
    {
     "data": {
      "text/plain": [
       "2"
      ]
     },
     "execution_count": 50,
     "metadata": {},
     "output_type": "execute_result"
    }
   ],
   "source": [
    "y"
   ]
  },
  {
   "cell_type": "code",
   "execution_count": 51,
   "id": "separated-vacuum",
   "metadata": {},
   "outputs": [
    {
     "data": {
      "text/plain": [
       "2"
      ]
     },
     "execution_count": 51,
     "metadata": {},
     "output_type": "execute_result"
    }
   ],
   "source": [
    "0 or y # 0 is False, return value of y. The second value."
   ]
  },
  {
   "cell_type": "code",
   "execution_count": 52,
   "id": "radio-jacksonville",
   "metadata": {},
   "outputs": [
    {
     "data": {
      "text/plain": [
       "0"
      ]
     },
     "execution_count": 52,
     "metadata": {},
     "output_type": "execute_result"
    }
   ],
   "source": [
    "0 and y # because zero is False and the union is False, return 0. y is not evaluated."
   ]
  },
  {
   "cell_type": "code",
   "execution_count": 53,
   "id": "fa381108-fa99-456d-b44c-bb87a7a5ef63",
   "metadata": {},
   "outputs": [
    {
     "data": {
      "text/plain": [
       "'last but not least'"
      ]
     },
     "execution_count": 53,
     "metadata": {},
     "output_type": "execute_result"
    }
   ],
   "source": [
    "z"
   ]
  },
  {
   "cell_type": "code",
   "execution_count": 54,
   "id": "f7e7932f-9db0-43ec-9ab4-5d76e3b11d08",
   "metadata": {},
   "outputs": [
    {
     "data": {
      "text/plain": [
       "2"
      ]
     },
     "execution_count": 54,
     "metadata": {},
     "output_type": "execute_result"
    }
   ],
   "source": [
    "x and y  #  if True => last evaluated value is returned."
   ]
  },
  {
   "cell_type": "code",
   "execution_count": 55,
   "id": "solved-delaware",
   "metadata": {},
   "outputs": [
    {
     "data": {
      "text/plain": [
       "'last but not least'"
      ]
     },
     "execution_count": 55,
     "metadata": {},
     "output_type": "execute_result"
    }
   ],
   "source": [
    "x and y and z # if True => last evaluated value is returned."
   ]
  },
  {
   "cell_type": "code",
   "execution_count": 56,
   "id": "e1a8340a-8866-41a7-8583-5eb12df5e97a",
   "metadata": {},
   "outputs": [
    {
     "data": {
      "text/plain": [
       "False"
      ]
     },
     "execution_count": 56,
     "metadata": {},
     "output_type": "execute_result"
    }
   ],
   "source": [
    "(False and x)"
   ]
  },
  {
   "cell_type": "code",
   "execution_count": 57,
   "id": "aerial-prescription",
   "metadata": {},
   "outputs": [
    {
     "data": {
      "text/plain": [
       "2"
      ]
     },
     "execution_count": 57,
     "metadata": {},
     "output_type": "execute_result"
    }
   ],
   "source": [
    "(False and x) or y #? remember parentheses, left to right "
   ]
  },
  {
   "cell_type": "code",
   "execution_count": 58,
   "id": "tight-wheel",
   "metadata": {},
   "outputs": [
    {
     "data": {
      "text/plain": [
       "False"
      ]
     },
     "execution_count": 58,
     "metadata": {},
     "output_type": "execute_result"
    }
   ],
   "source": [
    "False and (x or y) #? remember parentheses,left to right"
   ]
  },
  {
   "cell_type": "code",
   "execution_count": null,
   "id": "011a40f9-e4c6-4eca-a73e-c8e005a5b64f",
   "metadata": {},
   "outputs": [],
   "source": []
  }
 ],
 "metadata": {
  "kernelspec": {
   "display_name": "Python 3 (ipykernel)",
   "language": "python",
   "name": "python3"
  },
  "language_info": {
   "codemirror_mode": {
    "name": "ipython",
    "version": 3
   },
   "file_extension": ".py",
   "mimetype": "text/x-python",
   "name": "python",
   "nbconvert_exporter": "python",
   "pygments_lexer": "ipython3",
   "version": "3.10.10"
  }
 },
 "nbformat": 4,
 "nbformat_minor": 5
}

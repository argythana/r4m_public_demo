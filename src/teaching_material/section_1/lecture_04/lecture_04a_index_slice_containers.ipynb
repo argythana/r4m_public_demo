{
 "cells": [
  {
   "cell_type": "markdown",
   "metadata": {},
   "source": [
    "# Lecture 4a: Indexing, Slicing, Data containers.\n",
    "\n",
    "### Slicing and Indexing works on **iterable** objects.\n",
    "\n",
    "1. Strings.\n",
    "[Iterable](https://docs.python.org/3/glossary.html#term-iterable), [**Immutable**](https://docs.python.org/3/glossary.html#term-immutable) Ordered sequences.  \n",
    "\n",
    "> [srt: a **text sequence** type](https://docs.python.org/3/library/stdtypes.html#textseq)  \n",
    "\n",
    "> [String Methods](https://docs.python.org/3/library/stdtypes.html#string-methods)  \n",
    "\n",
    "> [string constants module](https://docs.python.org/3/library/string.html#module-string)\n",
    "\n",
    "> Indexing  \n",
    "> Slicing.  \n",
    "> Basic functions on strings, len(), replace.  \n",
    "> Basic string methods examples.  \n",
    "> Extra.\n",
    "\n",
    "\n",
    "2. Lists. Data container.   \n",
    "Iterable **Mutable** sequences, typically used to store collections of **homogeneous** items  \n",
    "New word: Built-in Data containers.  \n",
    "\n",
    "> [built-in data type](https://docs.python.org/3/library/stdtypes.html#typesseq-list)   \n",
    ">  [sequence data-type](https://docs.python.org/3/library/stdtypes.html#typesseq)  \n",
    "> list(): [Built-in function](https://docs.python.org/3/library/functions.html#func-list)  \n",
    "\n",
    " \n",
    "> operations: [common for all sequence types](https://docs.python.org/3/library/stdtypes.html#typesseq-common) and [for mutable sequence types](https://docs.python.org/3/library/stdtypes.html#mutable-sequence-types).  \n",
    "> Indexing.  \n",
    "> Slicing.  \n",
    "> Basic functions on lists: len(), [sorted()](https://docs.python.org/3/howto/sorting.html#sortinghowto).  \n",
    "> [List methods](https://docs.python.org/3/tutorial/datastructures.html) examples.  \n",
    "  \n",
    "\n",
    "3. Tuples. Data container.   \n",
    "**Immutable** sequences, typically used to store collections of **heterogeneous** data.\n",
    "\n",
    ">[built-in data type](https://docs.python.org/3/library/stdtypes.html#tuple)  \n",
    "> tuple() [built-in function](https://docs.python.org/3/library/functions.html#func-tuple)  \n",
    "> Indexing.  \n",
    "> Slicing.  \n",
    "> Basic functions on Tuples [common for all sequence types](https://docs.python.org/3/library/stdtypes.html#typesseq-common).  \n",
    "\n",
    "\n",
    "4. Sets. Data container.   \n",
    ">[built-in data type](https://docs.python.org/3/library/stdtypes.html#set-types-set-frozenset)  \n",
    "----\n"
   ]
  },
  {
   "cell_type": "markdown",
   "metadata": {
    "id": "l8PyhRMJ4tlG"
   },
   "source": [
    "## 1. Strings.\n",
    "\n",
    "Denoted with quotes: \" \".  \n",
    "Immutable: can't be changed directly \"in place\".  \n",
    "Iterable, Ordered sequences, can be indexed.\n",
    "\n",
    "> [srt: text sequence type](https://docs.python.org/3/library/stdtypes.html#textseq)  \n",
    "\n",
    "> [String Methods](https://docs.python.org/3/library/stdtypes.html#string-methods)  \n",
    "\n",
    "> [string constants module](https://docs.python.org/3/library/string.html#module-string)\n",
    "\n",
    "\n"
   ]
  },
  {
   "cell_type": "markdown",
   "metadata": {
    "id": "bYRGILLcPCVH"
   },
   "source": [
    "### Indexing."
   ]
  },
  {
   "cell_type": "code",
   "execution_count": 1,
   "metadata": {
    "colab": {
     "base_uri": "https://localhost:8080/"
    },
    "id": "3d5x_P87Hk-e",
    "outputId": "99906156-230b-492c-f300-8f61c5e4d1b7"
   },
   "outputs": [],
   "source": [
    "# Count characters with len() function\n",
    "onoma = \"nikos\""
   ]
  },
  {
   "cell_type": "code",
   "execution_count": 2,
   "metadata": {
    "colab": {
     "base_uri": "https://localhost:8080/"
    },
    "id": "3d5x_P87Hk-e",
    "outputId": "99906156-230b-492c-f300-8f61c5e4d1b7"
   },
   "outputs": [],
   "source": [
    "onoma_length = len(onoma)"
   ]
  },
  {
   "cell_type": "code",
   "execution_count": 3,
   "metadata": {},
   "outputs": [
    {
     "data": {
      "text/plain": [
       "5"
      ]
     },
     "execution_count": 3,
     "metadata": {},
     "output_type": "execute_result"
    }
   ],
   "source": [
    "onoma_length"
   ]
  },
  {
   "cell_type": "code",
   "execution_count": 4,
   "metadata": {
    "colab": {
     "base_uri": "https://localhost:8080/"
    },
    "id": "7gJGAFq7ipgT",
    "outputId": "71e0d30c-0e56-44e1-80ba-0112b593a021"
   },
   "outputs": [
    {
     "data": {
      "text/plain": [
       "'n'"
      ]
     },
     "execution_count": 4,
     "metadata": {},
     "output_type": "execute_result"
    }
   ],
   "source": [
    "# indexing: use the index of ordered characters\n",
    "first_letter = onoma[0] #count from 0\n",
    "first_letter"
   ]
  },
  {
   "cell_type": "code",
   "execution_count": 5,
   "metadata": {},
   "outputs": [
    {
     "data": {
      "text/plain": [
       "'k'"
      ]
     },
     "execution_count": 5,
     "metadata": {},
     "output_type": "execute_result"
    }
   ],
   "source": [
    "# indexing: use the index of ordered characters\n",
    "third_letter = onoma[2] #count from 0\n",
    "third_letter"
   ]
  },
  {
   "cell_type": "code",
   "execution_count": 6,
   "metadata": {
    "colab": {
     "base_uri": "https://localhost:8080/"
    },
    "id": "6WoSqGuWi0Sy",
    "outputId": "d7d7e166-85a9-4aed-cb1f-41fb2def587a"
   },
   "outputs": [
    {
     "data": {
      "text/plain": [
       "'k'"
      ]
     },
     "execution_count": 6,
     "metadata": {},
     "output_type": "execute_result"
    }
   ],
   "source": [
    "# indexing counts backwards too\n",
    "third_from_end = onoma[-3]\n",
    "third_from_end "
   ]
  },
  {
   "cell_type": "code",
   "execution_count": 7,
   "metadata": {
    "colab": {
     "base_uri": "https://localhost:8080/"
    },
    "id": "6WoSqGuWi0Sy",
    "outputId": "d7d7e166-85a9-4aed-cb1f-41fb2def587a"
   },
   "outputs": [
    {
     "data": {
      "text/plain": [
       "'s'"
      ]
     },
     "execution_count": 7,
     "metadata": {},
     "output_type": "execute_result"
    }
   ],
   "source": [
    "last_letter = onoma[-1] #reverse count from -1\n",
    "\n",
    "last_letter"
   ]
  },
  {
   "cell_type": "markdown",
   "metadata": {
    "id": "-Lz4Z6jrHhw_"
   },
   "source": [
    "  \n",
    "### Slicing.  "
   ]
  },
  {
   "cell_type": "code",
   "execution_count": 8,
   "metadata": {
    "colab": {
     "base_uri": "https://localhost:8080/"
    },
    "id": "ivjc1J8jI2En",
    "outputId": "ef48c4a2-d8cf-4681-ac20-1cb30b6785c8"
   },
   "outputs": [
    {
     "data": {
      "text/plain": [
       "'nik'"
      ]
     },
     "execution_count": 8,
     "metadata": {},
     "output_type": "execute_result"
    }
   ],
   "source": [
    "onoma = 'nikos'\n",
    "\n",
    "# Slicing parts of strings\n",
    "# start index can be omitted if start from 0\n",
    "\n",
    "first_three = onoma[0:3]  # first_three = onoma[:3] works to\n",
    "first_three\n"
   ]
  },
  {
   "cell_type": "code",
   "execution_count": 9,
   "metadata": {},
   "outputs": [
    {
     "data": {
      "text/plain": [
       "'nik'"
      ]
     },
     "execution_count": 9,
     "metadata": {},
     "output_type": "execute_result"
    }
   ],
   "source": [
    "first_three = onoma[:3]\n",
    "first_three"
   ]
  },
  {
   "cell_type": "markdown",
   "metadata": {
    "colab": {
     "base_uri": "https://localhost:8080/"
    },
    "id": "MB42tfg1i5zL",
    "outputId": "fea8f9de-dbb6-4fae-9c81-58fa1ce2498f"
   },
   "source": [
    "#### Slicing is NOT inclusive of the end range"
   ]
  },
  {
   "cell_type": "code",
   "execution_count": 10,
   "metadata": {
    "colab": {
     "base_uri": "https://localhost:8080/"
    },
    "id": "MB42tfg1i5zL",
    "outputId": "fea8f9de-dbb6-4fae-9c81-58fa1ce2498f"
   },
   "outputs": [
    {
     "data": {
      "text/plain": [
       "'ik'"
      ]
     },
     "execution_count": 10,
     "metadata": {},
     "output_type": "execute_result"
    }
   ],
   "source": [
    "\n",
    "onoma_2nd_and_3rd = onoma[1:3] #letters index 0, 1, 2\n",
    "# onoma_2nd_and_3rd = onoma[-7:-5] #same as above\n",
    "\n",
    "onoma_2nd_and_3rd\n",
    "\n",
    "#print('type of a slice = string:')\n",
    "#print(type(onoma_2nd_and_3rd), '\\n')"
   ]
  },
  {
   "cell_type": "code",
   "execution_count": 11,
   "metadata": {
    "colab": {
     "base_uri": "https://localhost:8080/"
    },
    "id": "WklOYb2Fi_G6",
    "outputId": "6705f5c3-8798-426e-9601-774d34ea130b"
   },
   "outputs": [
    {
     "data": {
      "text/plain": [
       "'os'"
      ]
     },
     "execution_count": 11,
     "metadata": {},
     "output_type": "execute_result"
    }
   ],
   "source": [
    "# slice -2 to the end\n",
    "last_two = onoma[-2:] # or onoma[-2:len(onoma)]\n",
    "\n",
    "last_two"
   ]
  },
  {
   "cell_type": "code",
   "execution_count": 12,
   "metadata": {
    "colab": {
     "base_uri": "https://localhost:8080/"
    },
    "id": "ZMl69pHxnPdJ",
    "outputId": "9e8991ba-1cb0-4b66-d53e-c94ab55bf672"
   },
   "outputs": [
    {
     "data": {
      "text/plain": [
       "'nor'"
      ]
     },
     "execution_count": 12,
     "metadata": {},
     "output_type": "execute_result"
    }
   ],
   "source": [
    "# slice with steps by 2\n",
    "onoma = 'nikolaras'\n",
    "\n",
    "odd_letters = onoma[: :3]\n",
    "\n",
    "odd_letters"
   ]
  },
  {
   "cell_type": "code",
   "execution_count": 13,
   "metadata": {},
   "outputs": [],
   "source": [
    "# onoma[9]"
   ]
  },
  {
   "cell_type": "code",
   "execution_count": 14,
   "metadata": {},
   "outputs": [
    {
     "data": {
      "text/plain": [
       "9"
      ]
     },
     "execution_count": 14,
     "metadata": {},
     "output_type": "execute_result"
    }
   ],
   "source": [
    "len(onoma)"
   ]
  },
  {
   "cell_type": "code",
   "execution_count": 15,
   "metadata": {
    "id": "4ZNvjQKQkaIy"
   },
   "outputs": [],
   "source": [
    "# IndexError: string index out of range\n",
    "#onoma[9]\n",
    "#onoma[-9]\n",
    "# Indexing always < len(string)"
   ]
  },
  {
   "cell_type": "code",
   "execution_count": 16,
   "metadata": {
    "colab": {
     "base_uri": "https://localhost:8080/"
    },
    "id": "zwxLlAQbkvx6",
    "outputId": "4d800e71-18f1-4fb4-cd91-48bec0012d39"
   },
   "outputs": [
    {
     "data": {
      "text/plain": [
       "'il'"
      ]
     },
     "execution_count": 16,
     "metadata": {},
     "output_type": "execute_result"
    }
   ],
   "source": [
    "# using indices to concatenate --> new string\n",
    "second_and_fifth = onoma[1] + onoma[4]  # Note the index\n",
    "\n",
    "second_and_fifth"
   ]
  },
  {
   "cell_type": "code",
   "execution_count": 17,
   "metadata": {
    "colab": {
     "base_uri": "https://localhost:8080/"
    },
    "id": "R8L1QAvzkywi",
    "outputId": "0973af49-93e9-4a13-8127-4b2d28fdb87f"
   },
   "outputs": [
    {
     "name": "stdout",
     "output_type": "stream",
     "text": [
      "To get digits convert numbers to strings. 3rd digit of 4194 is 9\n"
     ]
    }
   ],
   "source": [
    "# Integers or floats cannot be sliced, first convert to strings\n",
    "int_number = 4194\n",
    "int_number_3rd_digit = str(int_number)[2]\n",
    "\n",
    "print(f'To get digits convert numbers to strings. \\\n",
    "3rd digit of {int_number} is {int_number_3rd_digit}')"
   ]
  },
  {
   "cell_type": "code",
   "execution_count": 18,
   "metadata": {
    "colab": {
     "base_uri": "https://localhost:8080/"
    },
    "id": "6x2E88IFk1rh",
    "outputId": "9c1b66b0-32ce-4253-89f9-b58e803f685a"
   },
   "outputs": [
    {
     "name": "stdout",
     "output_type": "stream",
     "text": [
      "Try running 4194[2] to see the \"TypeError\" message\n"
     ]
    }
   ],
   "source": [
    "print('Try running 4194[2] to see the \"TypeError\" message')\n",
    "#type_error_example\n",
    "#integer_example[2]"
   ]
  },
  {
   "cell_type": "markdown",
   "metadata": {
    "id": "bzeK9b51Izce"
   },
   "source": [
    "### Functions and methods. Operations on objects are a lot more than math.\n",
    "> Functions on strings: len(), int(\"4\").   \n",
    "> Basic string [methods](https://docs.python.org/3/library/stdtypes.html#string-methods).  \n",
    "> String Methods syntax uses string name and dot.    \n",
    "\n",
    "replace('x', 'y') # replace x with y.  \n",
    "count('x') # count occurences of x in string.   \n",
    "find('x') # find position index of the 1st occurence of x.  \n",
    "partition() # split once.   \n",
    "rpartition() # split once from end.  \n",
    "split() # split using defined delimiter.  \n",
    "rsplit() # split from end.  \n",
    "strip() # Strip characters from left & right end of string.  \n",
    "capitalize() # 1st character to uppercase, all others to lowercase.  \n",
    "lower() # all to lowercase.  \n",
    "upper() # all to uppercase.  \n",
    "title() # capitalise the first letter of each word.  \n",
    "swapcase() # Guess what it does. Please do try this here or at home.   \n",
    "\n",
    "### Today, at this point we write a suprise test to evaluate how boring I have been so far.   \n",
    "Don't worry, it is not graded for you. It is an evaluation of me."
   ]
  },
  {
   "cell_type": "code",
   "execution_count": 19,
   "metadata": {
    "id": "tg5CziTj7hne"
   },
   "outputs": [],
   "source": [
    "what_students_want = \"test please\""
   ]
  },
  {
   "cell_type": "code",
   "execution_count": 20,
   "metadata": {
    "tags": []
   },
   "outputs": [
    {
     "data": {
      "text/plain": [
       "'test please'"
      ]
     },
     "execution_count": 20,
     "metadata": {},
     "output_type": "execute_result"
    }
   ],
   "source": [
    "what_students_want"
   ]
  },
  {
   "cell_type": "code",
   "execution_count": 21,
   "metadata": {},
   "outputs": [],
   "source": [
    "# str.replace?"
   ]
  },
  {
   "cell_type": "code",
   "execution_count": 22,
   "metadata": {
    "colab": {
     "base_uri": "https://localhost:8080/",
     "height": 36
    },
    "id": "26i7L07wKOgW",
    "outputId": "a0f4dba3-afa1-42e5-b6cc-c979820a8495"
   },
   "outputs": [
    {
     "data": {
      "text/plain": [
       "'No tesNo t please'"
      ]
     },
     "execution_count": 22,
     "metadata": {},
     "output_type": "execute_result"
    }
   ],
   "source": [
    "# replace all occurences by default, as many times some text exists.\n",
    "what_students_want.replace(\"t\", \"No t\")"
   ]
  },
  {
   "cell_type": "code",
   "execution_count": 23,
   "metadata": {
    "colab": {
     "base_uri": "https://localhost:8080/",
     "height": 36
    },
    "id": "KucqHOUEKMdW",
    "outputId": "be05785f-96fc-4b45-e45c-a84d1ddb86bc"
   },
   "outputs": [
    {
     "data": {
      "text/plain": [
       "'No test please'"
      ]
     },
     "execution_count": 23,
     "metadata": {},
     "output_type": "execute_result"
    }
   ],
   "source": [
    "# use string as arguments\n",
    "what_students_want.replace(\"t\", \"No t\", 1)  # does not work inplace"
   ]
  },
  {
   "cell_type": "markdown",
   "metadata": {},
   "source": [
    "### replace: to inplace or not to inplace? Basic but very frequent error!"
   ]
  },
  {
   "cell_type": "code",
   "execution_count": 24,
   "metadata": {
    "colab": {
     "base_uri": "https://localhost:8080/",
     "height": 36
    },
    "id": "VH3Xub4IKRj-",
    "outputId": "480bb1e5-a208-4b29-fa85-c5e7aa6cf9f0"
   },
   "outputs": [
    {
     "data": {
      "text/plain": [
       "'test please'"
      ]
     },
     "execution_count": 24,
     "metadata": {},
     "output_type": "execute_result"
    }
   ],
   "source": [
    "what_students_want"
   ]
  },
  {
   "cell_type": "code",
   "execution_count": 25,
   "metadata": {},
   "outputs": [
    {
     "data": {
      "text/plain": [
       "11"
      ]
     },
     "execution_count": 25,
     "metadata": {},
     "output_type": "execute_result"
    }
   ],
   "source": [
    "len(what_students_want)"
   ]
  },
  {
   "cell_type": "code",
   "execution_count": 26,
   "metadata": {
    "colab": {
     "base_uri": "https://localhost:8080/",
     "height": 36
    },
    "id": "XyR-TuoEKsvO",
    "outputId": "0cf5938f-7b3a-453b-ccc5-6d6492baedf0"
   },
   "outputs": [],
   "source": [
    "# this is an assignment\n",
    "what_students_want = what_students_want.replace(\"t\", \"No t\", 1)"
   ]
  },
  {
   "cell_type": "code",
   "execution_count": 27,
   "metadata": {
    "colab": {
     "base_uri": "https://localhost:8080/",
     "height": 36
    },
    "id": "XyR-TuoEKsvO",
    "outputId": "0cf5938f-7b3a-453b-ccc5-6d6492baedf0"
   },
   "outputs": [
    {
     "data": {
      "text/plain": [
       "'No test please'"
      ]
     },
     "execution_count": 27,
     "metadata": {},
     "output_type": "execute_result"
    }
   ],
   "source": [
    "what_students_want"
   ]
  },
  {
   "cell_type": "code",
   "execution_count": 28,
   "metadata": {
    "tags": []
   },
   "outputs": [
    {
     "data": {
      "text/plain": [
       "'No test please'"
      ]
     },
     "execution_count": 28,
     "metadata": {},
     "output_type": "execute_result"
    }
   ],
   "source": [
    "#this is a view of the object value\n",
    "what_students_want"
   ]
  },
  {
   "cell_type": "code",
   "execution_count": 29,
   "metadata": {
    "tags": []
   },
   "outputs": [
    {
     "data": {
      "text/plain": [
       "'No test please'"
      ]
     },
     "execution_count": 29,
     "metadata": {},
     "output_type": "execute_result"
    }
   ],
   "source": [
    "what_students_want"
   ]
  },
  {
   "cell_type": "code",
   "execution_count": 30,
   "metadata": {},
   "outputs": [
    {
     "data": {
      "text/plain": [
       "14"
      ]
     },
     "execution_count": 30,
     "metadata": {},
     "output_type": "execute_result"
    }
   ],
   "source": [
    "len(what_students_want)"
   ]
  },
  {
   "cell_type": "code",
   "execution_count": 31,
   "metadata": {
    "tags": []
   },
   "outputs": [
    {
     "data": {
      "text/plain": [
       "'No resr please'"
      ]
     },
     "execution_count": 31,
     "metadata": {},
     "output_type": "execute_result"
    }
   ],
   "source": [
    "# replace all occurences by default, as many times some text exists.\n",
    "what_students_want.replace(\"t\", \"r\")"
   ]
  },
  {
   "cell_type": "markdown",
   "metadata": {
    "id": "gkGtYDQW5ENN"
   },
   "source": [
    "## 2. Lists.  \n",
    "Denoted with square brackets: [ ]  \n",
    "Iterable **Mutable** sequences, typically used to store collections of **homogeneous** items.\n",
    "\n",
    "List **items** are separated by commas.  \n",
    "May containt mixed data types (integes, strings, lists, objects, ...).  \n",
    "Not recommended for mixed data types.  \n",
    "Ordered and indexex => allow for duplicates and item access.  \n",
    "Mutable.  \n",
    "Lists can be multiplied, added. The result is a list.\n",
    " \n",
    "> [built-in data types](https://docs.python.org/3/library/stdtypes.html#typesseq-list)   \n",
    ">  [sequence data-type](https://docs.python.org/3/library/stdtypes.html#typesseq)  \n",
    "> list(): [Built-in function](https://docs.python.org/3/library/functions.html#func-list)  \n",
    "\n",
    " \n",
    "> operations: [common for all sequence types](https://docs.python.org/3/library/stdtypes.html#typesseq-common) and [for mutable sequence types](https://docs.python.org/3/library/stdtypes.html#mutable-sequence-types).  \n"
   ]
  },
  {
   "cell_type": "markdown",
   "metadata": {
    "id": "1BAGW2qLIDsl"
   },
   "source": [
    "### Indexing.  "
   ]
  },
  {
   "cell_type": "code",
   "execution_count": 32,
   "metadata": {},
   "outputs": [],
   "source": [
    "a = []"
   ]
  },
  {
   "cell_type": "code",
   "execution_count": 33,
   "metadata": {},
   "outputs": [
    {
     "data": {
      "text/plain": [
       "list"
      ]
     },
     "execution_count": 33,
     "metadata": {},
     "output_type": "execute_result"
    }
   ],
   "source": [
    "type(a)"
   ]
  },
  {
   "cell_type": "code",
   "execution_count": 34,
   "metadata": {
    "colab": {
     "base_uri": "https://localhost:8080/"
    },
    "id": "jcbUkoqmIJM-",
    "outputId": "63ace6f5-0f4d-4e12-b266-332b755f7dbc"
   },
   "outputs": [],
   "source": [
    "## Notated with square brackets, items separated by comma\n",
    "strings_list = ['nikos', 'has a', 'lovely', 'cat']"
   ]
  },
  {
   "cell_type": "code",
   "execution_count": 35,
   "metadata": {},
   "outputs": [
    {
     "data": {
      "text/plain": [
       "list"
      ]
     },
     "execution_count": 35,
     "metadata": {},
     "output_type": "execute_result"
    }
   ],
   "source": [
    "type(strings_list)"
   ]
  },
  {
   "cell_type": "code",
   "execution_count": 36,
   "metadata": {
    "colab": {
     "base_uri": "https://localhost:8080/"
    },
    "id": "jcbUkoqmIJM-",
    "outputId": "63ace6f5-0f4d-4e12-b266-332b755f7dbc"
   },
   "outputs": [
    {
     "data": {
      "text/plain": [
       "['nikos', 'has a', 'lovely', 'cat']"
      ]
     },
     "execution_count": 36,
     "metadata": {},
     "output_type": "execute_result"
    }
   ],
   "source": [
    "strings_list"
   ]
  },
  {
   "cell_type": "code",
   "execution_count": 37,
   "metadata": {
    "colab": {
     "base_uri": "https://localhost:8080/"
    },
    "id": "jcbUkoqmIJM-",
    "outputId": "63ace6f5-0f4d-4e12-b266-332b755f7dbc"
   },
   "outputs": [
    {
     "name": "stdout",
     "output_type": "stream",
     "text": [
      "<class 'list'> \n",
      "\n"
     ]
    }
   ],
   "source": [
    "print(type(strings_list), '\\n') #type = list"
   ]
  },
  {
   "cell_type": "code",
   "execution_count": 38,
   "metadata": {
    "colab": {
     "base_uri": "https://localhost:8080/"
    },
    "id": "kAnFyZ7alnI6",
    "outputId": "bc02197a-96c1-441a-9b7e-41d0dd31cc1f"
   },
   "outputs": [
    {
     "name": "stdout",
     "output_type": "stream",
     "text": [
      "['nikos has', 3, 'cats but Schrödinger has', 0.5] \n",
      "\n",
      "Lists are not recommended for Mixed data types!\n"
     ]
    }
   ],
   "source": [
    "## May contain mixed data types. NOT RECOMMENDED !\n",
    "mixed_list = ['nikos has', 3, 'cats but Schrödinger has', 0.5]\n",
    "\n",
    "print(mixed_list, '\\n')\n",
    "\n",
    "print(\"Lists are not recommended for Mixed data types!\")"
   ]
  },
  {
   "cell_type": "code",
   "execution_count": 39,
   "metadata": {
    "colab": {
     "base_uri": "https://localhost:8080/"
    },
    "id": "o8qQh0wzmNyS",
    "outputId": "f55deb29-c940-46ed-cb99-8c6f8020965d"
   },
   "outputs": [
    {
     "data": {
      "text/plain": [
       "['nikos', 'has', 3, 'cats', ['nikos', 'has a', 'lovely', 'cat']]"
      ]
     },
     "execution_count": 39,
     "metadata": {},
     "output_type": "execute_result"
    }
   ],
   "source": [
    "## Contain other lists as an item\n",
    "list_with_list = ['nikos', 'has', 3, 'cats', strings_list]\n",
    "\n",
    "list_with_list"
   ]
  },
  {
   "cell_type": "code",
   "execution_count": 40,
   "metadata": {
    "colab": {
     "base_uri": "https://localhost:8080/"
    },
    "id": "2ZKgLpR-mSN6",
    "outputId": "2b5561bd-cc87-46db-abe6-d26865428b7c"
   },
   "outputs": [
    {
     "name": "stdout",
     "output_type": "stream",
     "text": [
      "length = 5 \n",
      "\n"
     ]
    }
   ],
   "source": [
    "# len(list) to get the number of items\n",
    "lenght_list_of_list = len(list_with_list)\n",
    "\n",
    "print('length =', lenght_list_of_list, '\\n')"
   ]
  },
  {
   "cell_type": "code",
   "execution_count": 41,
   "metadata": {},
   "outputs": [
    {
     "data": {
      "text/plain": [
       "['nikos', 'has a', 'lovely', 'cat']"
      ]
     },
     "execution_count": 41,
     "metadata": {},
     "output_type": "execute_result"
    }
   ],
   "source": [
    "strings_list"
   ]
  },
  {
   "cell_type": "code",
   "execution_count": 42,
   "metadata": {
    "colab": {
     "base_uri": "https://localhost:8080/"
    },
    "id": "Mx-JHe42mUEh",
    "outputId": "8d2fb506-6905-431f-d588-d56cd03280f2"
   },
   "outputs": [
    {
     "data": {
      "text/plain": [
       "'nikos'"
      ]
     },
     "execution_count": 42,
     "metadata": {},
     "output_type": "execute_result"
    }
   ],
   "source": [
    "# List items are ordered, indexed, retain their  type\n",
    "first_item = strings_list[0]  #! index from zero\n",
    "first_item\n"
   ]
  },
  {
   "cell_type": "code",
   "execution_count": 43,
   "metadata": {},
   "outputs": [
    {
     "data": {
      "text/plain": [
       "'k'"
      ]
     },
     "execution_count": 43,
     "metadata": {},
     "output_type": "execute_result"
    }
   ],
   "source": [
    "strings_list[0][2]"
   ]
  },
  {
   "cell_type": "code",
   "execution_count": 44,
   "metadata": {
    "colab": {
     "base_uri": "https://localhost:8080/"
    },
    "id": "bGq9wslkmZyZ",
    "outputId": "7d2d0d98-2168-4204-f8d8-3b0e7982b213"
   },
   "outputs": [
    {
     "name": "stdout",
     "output_type": "stream",
     "text": [
      "3rd letter of 1st item: k \n",
      "\n"
     ]
    }
   ],
   "source": [
    "## Since strings are ordered sequences as well:\n",
    "third_letter_first_item = strings_list[0][2]\n",
    "\n",
    "print(f'3rd letter of 1st item: {third_letter_first_item} \\n')"
   ]
  },
  {
   "cell_type": "code",
   "execution_count": 45,
   "metadata": {
    "colab": {
     "base_uri": "https://localhost:8080/"
    },
    "id": "Q2LVawtXmebK",
    "outputId": "61455307-5da8-4073-bf53-54df01881beb"
   },
   "outputs": [
    {
     "data": {
      "text/plain": [
       "['nikos',\n",
       " 'has a',\n",
       " 'lovely',\n",
       " 'cat',\n",
       " 'nikos',\n",
       " 'has a',\n",
       " 'lovely',\n",
       " 'cat',\n",
       " 'nikos',\n",
       " 'has a',\n",
       " 'lovely',\n",
       " 'cat']"
      ]
     },
     "execution_count": 45,
     "metadata": {},
     "output_type": "execute_result"
    }
   ],
   "source": [
    "# Lists can be multiplied, added, result is a new list\n",
    "strings_list*3"
   ]
  },
  {
   "cell_type": "code",
   "execution_count": 46,
   "metadata": {
    "colab": {
     "base_uri": "https://localhost:8080/"
    },
    "id": "mbteuT7kmhGB",
    "outputId": "ce709dcb-8554-4220-ee62-99fe778ce77c"
   },
   "outputs": [
    {
     "name": "stdout",
     "output_type": "stream",
     "text": [
      "['nikos', 'has a', 'lovely', 'cat', 'and wants', 2, 'dogs']\n"
     ]
    }
   ],
   "source": [
    "# When adding lists, items from both lists are ordered\n",
    "added_list = strings_list + ['and wants', 2, 'dogs']\n",
    "\n",
    "print(added_list)"
   ]
  },
  {
   "cell_type": "markdown",
   "metadata": {
    "id": "OkZ5sE5QIGP2"
   },
   "source": [
    "\n",
    "### Slicing.  "
   ]
  },
  {
   "cell_type": "code",
   "execution_count": 47,
   "metadata": {},
   "outputs": [
    {
     "data": {
      "text/plain": [
       "['nikos', 'has a', 'lovely', 'cat']"
      ]
     },
     "execution_count": 47,
     "metadata": {},
     "output_type": "execute_result"
    }
   ],
   "source": [
    "strings_list"
   ]
  },
  {
   "cell_type": "code",
   "execution_count": 48,
   "metadata": {
    "colab": {
     "base_uri": "https://localhost:8080/"
    },
    "id": "NUNRfM-jLL5f",
    "outputId": "852b2741-bf30-4b68-c0f8-e3d8bdf93877"
   },
   "outputs": [
    {
     "name": "stdout",
     "output_type": "stream",
     "text": [
      "New value of 1st item):\n",
      " ['john', 'has a', 'lovely', 'cat']\n",
      "\n"
     ]
    }
   ],
   "source": [
    "# Lists are mutable\n",
    "# Make a copy to mutate it if you need to keep the  original list\n",
    "to_mutate_list = strings_list.copy()\n",
    "\n",
    "to_mutate_list[0] = 'john'  # assing new value to first item\n",
    "\n",
    "print(f'New value of 1st item):\\n {to_mutate_list}\\n')"
   ]
  },
  {
   "cell_type": "code",
   "execution_count": 49,
   "metadata": {
    "colab": {
     "base_uri": "https://localhost:8080/"
    },
    "id": "UuRsQmX0mkTS",
    "outputId": "b3fda196-1ec6-4106-80a0-5227ca546ec0"
   },
   "outputs": [
    {
     "name": "stdout",
     "output_type": "stream",
     "text": [
      "All items can change:\n",
      " ['v', 'i', 'r', 'u', 's', 'lovely', 'cat']\n",
      "\n"
     ]
    }
   ],
   "source": [
    "#Mutate list using slicing\n",
    "to_mutate_list[0:2] = 'virus' # assing a letter to each item place, ! letters > items\n",
    "\n",
    "print(f'All items can change:\\n {to_mutate_list}\\n')"
   ]
  },
  {
   "cell_type": "code",
   "execution_count": 50,
   "metadata": {},
   "outputs": [
    {
     "data": {
      "text/plain": [
       "['nikos', 'has a', 'lovely', 'cat', 'and wants', 2, 'dogs', 'help']"
      ]
     },
     "execution_count": 50,
     "metadata": {},
     "output_type": "execute_result"
    }
   ],
   "source": [
    "added_list + [\"help\"]  # not in place, just another representation"
   ]
  },
  {
   "cell_type": "code",
   "execution_count": 51,
   "metadata": {},
   "outputs": [
    {
     "data": {
      "text/plain": [
       "['nikos', 'has a', 'lovely', 'cat', 'and wants', 2, 'dogs']"
      ]
     },
     "execution_count": 51,
     "metadata": {},
     "output_type": "execute_result"
    }
   ],
   "source": [
    "added_list"
   ]
  },
  {
   "cell_type": "code",
   "execution_count": 52,
   "metadata": {},
   "outputs": [],
   "source": [
    "## TypeError: can only concatenate list (not \"str\") to list\n",
    "\n",
    "## CONCATENATE is a wors you should know in programming\n",
    "\n",
    "# added_list + \"help\""
   ]
  },
  {
   "cell_type": "markdown",
   "metadata": {
    "id": "ySZ1s3MkLLFu"
   },
   "source": [
    "### Functions and methods.\n",
    "> Basic functions on lists: len(), [sorted()](https://docs.python.org/3/howto/sorting.html#sortinghowto).  \n",
    "> [List methods](https://docs.python.org/3/tutorial/datastructures.html) examples.   \n",
    "> Mind the different syntax of object methods.  "
   ]
  },
  {
   "cell_type": "code",
   "execution_count": 53,
   "metadata": {},
   "outputs": [],
   "source": [
    "strings_list = ['nikos', 'has a', 'lovely', 'cat']"
   ]
  },
  {
   "cell_type": "code",
   "execution_count": 54,
   "metadata": {
    "colab": {
     "base_uri": "https://localhost:8080/"
    },
    "id": "XPjQ4MSfLekd",
    "outputId": "ea35d55b-d348-4be9-a78b-c4b31e47239d"
   },
   "outputs": [],
   "source": [
    "## List method append, to add new item at the end\n",
    "## append works in place! NOTE!\n",
    "strings_list.append('new item')"
   ]
  },
  {
   "cell_type": "code",
   "execution_count": 55,
   "metadata": {
    "colab": {
     "base_uri": "https://localhost:8080/"
    },
    "id": "XPjQ4MSfLekd",
    "outputId": "ea35d55b-d348-4be9-a78b-c4b31e47239d"
   },
   "outputs": [
    {
     "data": {
      "text/plain": [
       "['nikos', 'has a', 'lovely', 'cat', 'new item']"
      ]
     },
     "execution_count": 55,
     "metadata": {},
     "output_type": "execute_result"
    }
   ],
   "source": [
    "strings_list"
   ]
  },
  {
   "cell_type": "code",
   "execution_count": 56,
   "metadata": {},
   "outputs": [
    {
     "data": {
      "text/plain": [
       "['nikos', 'has a', 'lovely', 'cat', 'new item']"
      ]
     },
     "execution_count": 56,
     "metadata": {},
     "output_type": "execute_result"
    }
   ],
   "source": [
    "strings_list"
   ]
  },
  {
   "cell_type": "code",
   "execution_count": 57,
   "metadata": {
    "colab": {
     "base_uri": "https://localhost:8080/"
    },
    "id": "KxsK0TZGmuYB",
    "outputId": "51f095af-8910-45f9-f9f5-8ccc31d1dd94"
   },
   "outputs": [
    {
     "data": {
      "text/plain": [
       "['nikos', 'has a', 'lovely', 'cat', 'new item', ['nikos', 'hi']]"
      ]
     },
     "execution_count": 57,
     "metadata": {},
     "output_type": "execute_result"
    }
   ],
   "source": [
    "#add new item at the end even if item is a list\n",
    "second_list = ['nikos', 'hi'] # example of list to append\n",
    "\n",
    "strings_list.append(second_list)\n",
    "\n",
    "strings_list"
   ]
  },
  {
   "cell_type": "code",
   "execution_count": 58,
   "metadata": {
    "colab": {
     "base_uri": "https://localhost:8080/"
    },
    "id": "JaJXu9H8mv6T",
    "outputId": "2308e4b0-431a-4e6b-cda5-518579134019"
   },
   "outputs": [
    {
     "data": {
      "text/plain": [
       "['nikos', 'has a', 'lovely', 'cat', 'new item']"
      ]
     },
     "execution_count": 58,
     "metadata": {},
     "output_type": "execute_result"
    }
   ],
   "source": [
    "# List method remove. Remove also works \"in place\"!\n",
    "strings_list.remove(second_list)\n",
    "\n",
    "strings_list"
   ]
  },
  {
   "cell_type": "code",
   "execution_count": 59,
   "metadata": {},
   "outputs": [
    {
     "data": {
      "text/plain": [
       "['nikos', 'has a', 'lovely', 'cat', 'new item']"
      ]
     },
     "execution_count": 59,
     "metadata": {},
     "output_type": "execute_result"
    }
   ],
   "source": [
    "strings_list"
   ]
  },
  {
   "cell_type": "code",
   "execution_count": 60,
   "metadata": {},
   "outputs": [],
   "source": [
    "strings_list.remove('new item')"
   ]
  },
  {
   "cell_type": "code",
   "execution_count": 61,
   "metadata": {},
   "outputs": [],
   "source": [
    "## ValueError: list.remove(x): x not in list\n",
    "#strings_list.remove('new item')"
   ]
  },
  {
   "cell_type": "code",
   "execution_count": 62,
   "metadata": {
    "colab": {
     "base_uri": "https://localhost:8080/"
    },
    "id": "tasfA6kEm0Cy",
    "outputId": "06e9798c-cb1b-4fae-dc01-511012b06f8d"
   },
   "outputs": [
    {
     "data": {
      "text/plain": [
       "['T',\n",
       " 'h',\n",
       " 'i',\n",
       " 's',\n",
       " ' ',\n",
       " 'i',\n",
       " 's',\n",
       " ' ',\n",
       " 'p',\n",
       " 'y',\n",
       " 't',\n",
       " 'h',\n",
       " 'o',\n",
       " 'n',\n",
       " 'i',\n",
       " 'c']"
      ]
     },
     "execution_count": 62,
     "metadata": {},
     "output_type": "execute_result"
    }
   ],
   "source": [
    "# Convert characters of string to list\n",
    "string_example = \"This is pythonic\"\n",
    "list_of_characters = list(string_example) # converts every charachter to list item\n",
    "list_of_characters"
   ]
  },
  {
   "cell_type": "code",
   "execution_count": 63,
   "metadata": {
    "colab": {
     "base_uri": "https://localhost:8080/"
    },
    "id": "DsmmOjRL6iiY",
    "outputId": "720b192f-f655-4328-fb65-b27934f432c0"
   },
   "outputs": [
    {
     "name": "stdout",
     "output_type": "stream",
     "text": [
      "Convert characters to list:\n",
      "  This is pythonic\n",
      "  ['T', 'h', 'i', 's', ' ', 'i', 's', ' ', 'p', 'y', 't', 'h', 'o', 'n', 'i', 'c']\n"
     ]
    }
   ],
   "source": [
    "print('Convert characters to list:')\n",
    "print(' ', string_example)\n",
    "print(' ', list_of_characters)"
   ]
  },
  {
   "cell_type": "code",
   "execution_count": 64,
   "metadata": {
    "colab": {
     "base_uri": "https://localhost:8080/"
    },
    "id": "Gjq_FHNi6UTn",
    "outputId": "8f1691f2-7b15-4262-b609-0109608e9a34"
   },
   "outputs": [
    {
     "name": "stdout",
     "output_type": "stream",
     "text": [
      "\n",
      "Join items of list:\n"
     ]
    }
   ],
   "source": [
    "# Join items of a list\n",
    "print('\\nJoin items of list:')\n",
    "\n",
    "joined_items_list = ' '.join(list_of_characters) #join and use blank space as separator\n",
    "\n",
    "#joined_items_list = '?'.join(list_of_characters) #join and use blank space as separator\n",
    "#print(' ', joined_items_list)"
   ]
  },
  {
   "cell_type": "code",
   "execution_count": 65,
   "metadata": {
    "id": "I_euO8jO6SPA"
   },
   "outputs": [],
   "source": [
    "# List methods overview\n",
    "# print('\\nTo get help for method:\\n help(function.method)\\n')\n",
    "# help(list)\n",
    "# help(list.append)"
   ]
  },
  {
   "cell_type": "markdown",
   "metadata": {
    "id": "UX5Xs-yV5JjV"
   },
   "source": [
    "## 3. Tuples (basic).  \n",
    "Denoted with ( )  \n",
    "Iterable **Immutable** sequences, *typically* used to store collections of **heterogeneous** [data](https://docs.python.org/3/tutorial/datastructures.html#tuples-and-sequences).\n",
    "\n",
    ">[built-in data types](https://docs.python.org/3/library/stdtypes.html#tuple)  \n",
    "> tuple() [built-in function](https://docs.python.org/3/library/functions.html#func-tuple)  \n",
    "> Indexing.  \n",
    "> Slicing.  \n",
    "> Basic functions on Tuples [common for all sequence types](https://docs.python.org/3/library/stdtypes.html#typesseq-common).   \n",
    "\n",
    "\n"
   ]
  },
  {
   "cell_type": "code",
   "execution_count": 66,
   "metadata": {
    "id": "os7SQ4OO62Qj"
   },
   "outputs": [],
   "source": [
    "a_boring_tuple = (\"hi\", 3, [\"a list\"])"
   ]
  },
  {
   "cell_type": "code",
   "execution_count": 67,
   "metadata": {},
   "outputs": [
    {
     "data": {
      "text/plain": [
       "tuple"
      ]
     },
     "execution_count": 67,
     "metadata": {},
     "output_type": "execute_result"
    }
   ],
   "source": [
    "type(a_boring_tuple)"
   ]
  },
  {
   "cell_type": "code",
   "execution_count": 68,
   "metadata": {
    "tags": []
   },
   "outputs": [
    {
     "data": {
      "text/plain": [
       "('hi', 3, ['a list'])"
      ]
     },
     "execution_count": 68,
     "metadata": {},
     "output_type": "execute_result"
    }
   ],
   "source": [
    "a_boring_tuple"
   ]
  },
  {
   "cell_type": "code",
   "execution_count": 69,
   "metadata": {},
   "outputs": [],
   "source": [
    "both_results = divmod(9, 6)"
   ]
  },
  {
   "cell_type": "code",
   "execution_count": 70,
   "metadata": {
    "tags": []
   },
   "outputs": [
    {
     "data": {
      "text/plain": [
       "(1, 3)"
      ]
     },
     "execution_count": 70,
     "metadata": {},
     "output_type": "execute_result"
    }
   ],
   "source": [
    "both_results"
   ]
  },
  {
   "cell_type": "code",
   "execution_count": 71,
   "metadata": {
    "tags": []
   },
   "outputs": [
    {
     "data": {
      "text/plain": [
       "tuple"
      ]
     },
     "execution_count": 71,
     "metadata": {},
     "output_type": "execute_result"
    }
   ],
   "source": [
    "type(both_results)"
   ]
  },
  {
   "cell_type": "markdown",
   "metadata": {},
   "source": [
    "## 4. Sets (for those that want extra reading).  \n",
    "\n",
    ">[built-in data type](https://docs.python.org/3/library/stdtypes.html#set-types-set-frozenset)   \n",
    "Unordered collection of distinct hashable objects. Common uses include membership testing, removing duplicates from a sequence, and computing mathematical operations such as intersection, union, difference, and symmetric difference."
   ]
  },
  {
   "cell_type": "code",
   "execution_count": null,
   "metadata": {},
   "outputs": [],
   "source": []
  }
 ],
 "metadata": {
  "colab": {
   "collapsed_sections": [],
   "name": "lecture_c.ipynb",
   "provenance": []
  },
  "kernelspec": {
   "display_name": "Python 3 (ipykernel)",
   "language": "python",
   "name": "python3"
  },
  "language_info": {
   "codemirror_mode": {
    "name": "ipython",
    "version": 3
   },
   "file_extension": ".py",
   "mimetype": "text/x-python",
   "name": "python",
   "nbconvert_exporter": "python",
   "pygments_lexer": "ipython3",
   "version": "3.10.10"
  }
 },
 "nbformat": 4,
 "nbformat_minor": 4
}

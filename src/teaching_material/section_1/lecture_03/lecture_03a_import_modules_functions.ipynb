{
 "cells": [
  {
   "cell_type": "markdown",
   "metadata": {
    "id": "SU4E9IPXq_3T",
    "tags": []
   },
   "source": [
    "# Lecture 3a: Built-in Modules and dot notation. \n",
    "\n",
    "> **Built-in** vs **installed** vs **user-defined** modules.  \n",
    "> Import module, from module.\n",
    "> Use aliases.   \n",
    "> math, random, statistics.  \n",
    "> Function and method dot notation.  \n",
    "> Methods are functions too.  \n",
    "\n",
    "[Numeric and Mathematical Modules in python](https://docs.python.org/3/library/numeric.html)\n"
   ]
  },
  {
   "cell_type": "markdown",
   "metadata": {
    "id": "afd021ZOc-yg"
   },
   "source": [
    "### 1. [\"math\" module methods](https://docs.python.org/3/library/math.html)"
   ]
  },
  {
   "cell_type": "code",
   "execution_count": 2,
   "metadata": {
    "id": "C4coivXx_Eim"
   },
   "outputs": [],
   "source": [
    "import math"
   ]
  },
  {
   "cell_type": "code",
   "execution_count": 3,
   "metadata": {},
   "outputs": [],
   "source": [
    "#Uncomment the line below to read help on math module.\n",
    "# help(math)"
   ]
  },
  {
   "cell_type": "code",
   "execution_count": 4,
   "metadata": {
    "id": "xjcEJGsZ8eDe"
   },
   "outputs": [],
   "source": [
    "# uncomment and try autocomplete and suggested methods.\n",
    "# math."
   ]
  },
  {
   "cell_type": "code",
   "execution_count": 5,
   "metadata": {
    "id": "YA_oEwYYMA-T"
   },
   "outputs": [
    {
     "data": {
      "text/plain": [
       "0.5403023058681398"
      ]
     },
     "execution_count": 5,
     "metadata": {},
     "output_type": "execute_result"
    }
   ],
   "source": [
    "#method dot notation\n",
    "math.cos(1)"
   ]
  },
  {
   "cell_type": "code",
   "execution_count": 4,
   "metadata": {},
   "outputs": [
    {
     "data": {
      "text/plain": [
       "\u001b[1;31mType:\u001b[0m        module\n",
       "\u001b[1;31mString form:\u001b[0m <module 'math' (built-in)>\n",
       "\u001b[1;31mDocstring:\u001b[0m  \n",
       "This module provides access to the mathematical functions\n",
       "defined by the C standard.\n"
      ]
     },
     "metadata": {},
     "output_type": "display_data"
    }
   ],
   "source": [
    "# this syntax works in jupyterlab notebooks.\n",
    "math?"
   ]
  },
  {
   "cell_type": "code",
   "execution_count": 6,
   "metadata": {
    "id": "zmkKQajV8yff"
   },
   "outputs": [
    {
     "name": "stdout",
     "output_type": "stream",
     "text": [
      "Help on built-in function exp in module math:\n",
      "\n",
      "exp(x, /)\n",
      "    Return e raised to the power of x.\n",
      "\n"
     ]
    }
   ],
   "source": [
    "help(math.exp)"
   ]
  },
  {
   "cell_type": "code",
   "execution_count": 7,
   "metadata": {},
   "outputs": [
    {
     "data": {
      "text/plain": [
       "\u001b[1;31mSignature:\u001b[0m \u001b[0mmath\u001b[0m\u001b[1;33m.\u001b[0m\u001b[0mexp\u001b[0m\u001b[1;33m(\u001b[0m\u001b[0mx\u001b[0m\u001b[1;33m,\u001b[0m \u001b[1;33m/\u001b[0m\u001b[1;33m)\u001b[0m\u001b[1;33m\u001b[0m\u001b[1;33m\u001b[0m\u001b[0m\n",
       "\u001b[1;31mDocstring:\u001b[0m Return e raised to the power of x.\n",
       "\u001b[1;31mType:\u001b[0m      builtin_function_or_method\n"
      ]
     },
     "metadata": {},
     "output_type": "display_data"
    }
   ],
   "source": [
    "math.exp?"
   ]
  },
  {
   "cell_type": "code",
   "execution_count": 8,
   "metadata": {
    "id": "OjS5eW1wL-hb"
   },
   "outputs": [
    {
     "data": {
      "text/plain": [
       "54.598150033144236"
      ]
     },
     "execution_count": 8,
     "metadata": {},
     "output_type": "execute_result"
    }
   ],
   "source": [
    "math.exp(4)"
   ]
  },
  {
   "cell_type": "code",
   "execution_count": 153,
   "metadata": {
    "id": "6cn40t2k9MO_"
   },
   "outputs": [],
   "source": [
    "# Τhe code breaks here. No reference to module.\n",
    "# Ποιός ε΄ίναι; Τίνος είσαι; Δεν τον ξέρω τον κύριο!\n",
    "# Uncomment the line below to try the error.\n",
    "# cos(1)  # Explicitly refence the module that contains the method."
   ]
  },
  {
   "cell_type": "code",
   "execution_count": 154,
   "metadata": {
    "id": "YYc1w3Ke8vwu"
   },
   "outputs": [
    {
     "data": {
      "text/plain": [
       "54.59815003314423"
      ]
     },
     "execution_count": 154,
     "metadata": {},
     "output_type": "execute_result"
    }
   ],
   "source": [
    "math.e ** 4"
   ]
  },
  {
   "cell_type": "code",
   "execution_count": 155,
   "metadata": {
    "id": "3FDGWfzPLj8j"
   },
   "outputs": [
    {
     "name": "stdout",
     "output_type": "stream",
     "text": [
      "3.1622776601683795\n"
     ]
    }
   ],
   "source": [
    "number = 10\n",
    "\n",
    "print(math.sqrt(number)) "
   ]
  },
  {
   "cell_type": "code",
   "execution_count": 156,
   "metadata": {
    "id": "VSwkzdqL-ICN"
   },
   "outputs": [],
   "source": [
    "from math import cos, sqrt"
   ]
  },
  {
   "cell_type": "code",
   "execution_count": 157,
   "metadata": {
    "id": "x1X7DQSA-Pxg"
   },
   "outputs": [
    {
     "data": {
      "text/plain": [
       "0.5403023058681398"
      ]
     },
     "execution_count": 157,
     "metadata": {},
     "output_type": "execute_result"
    }
   ],
   "source": [
    "cos(1) # this works now. Do you understand why?"
   ]
  },
  {
   "cell_type": "code",
   "execution_count": 158,
   "metadata": {
    "id": "sGV1YJYeboFX"
   },
   "outputs": [],
   "source": [
    "from math import sqrt as square_root  # alias = ψευδώνυμο"
   ]
  },
  {
   "cell_type": "code",
   "execution_count": 159,
   "metadata": {
    "id": "4XcWsrL3bvQ3"
   },
   "outputs": [
    {
     "data": {
      "text/plain": [
       "4.0"
      ]
     },
     "execution_count": 159,
     "metadata": {},
     "output_type": "execute_result"
    }
   ],
   "source": [
    "square_root(16)"
   ]
  },
  {
   "cell_type": "code",
   "execution_count": 160,
   "metadata": {
    "id": "4oi0ANsJ9klc"
   },
   "outputs": [],
   "source": [
    "# Not recommended practice.\n",
    "from math import *  # import everything from math module."
   ]
  },
  {
   "cell_type": "code",
   "execution_count": 161,
   "metadata": {
    "id": "qm40CBxq9zwf"
   },
   "outputs": [
    {
     "data": {
      "text/plain": [
       "0.5403023058681398"
      ]
     },
     "execution_count": 161,
     "metadata": {},
     "output_type": "execute_result"
    }
   ],
   "source": [
    "cos(1)  # this works now. But is a very bad practice."
   ]
  },
  {
   "cell_type": "code",
   "execution_count": 162,
   "metadata": {
    "id": "_9xvsS1o-cV9"
   },
   "outputs": [],
   "source": [
    "# import this"
   ]
  },
  {
   "cell_type": "markdown",
   "metadata": {
    "id": "n58wsORMLu87"
   },
   "source": [
    "### 2. [\"statistics\" module methods](https://docs.python.org/3/library/statistics.html)"
   ]
  },
  {
   "cell_type": "code",
   "execution_count": 163,
   "metadata": {
    "id": "9TMmmsv_LuKE"
   },
   "outputs": [],
   "source": [
    "## it is recommended to use aliases!\n",
    "import statistics as stcs"
   ]
  },
  {
   "cell_type": "code",
   "execution_count": 164,
   "metadata": {
    "id": "hIY2YbjFFcLJ"
   },
   "outputs": [],
   "source": [
    "list_of_x = [1, 2, 3, 4, 4 , 10, 4]"
   ]
  },
  {
   "cell_type": "code",
   "execution_count": 165,
   "metadata": {
    "id": "I53uWmZSF4J1"
   },
   "outputs": [
    {
     "name": "stdout",
     "output_type": "stream",
     "text": [
      "4\n"
     ]
    }
   ],
   "source": [
    "print(stcs.mean(list_of_x))"
   ]
  },
  {
   "cell_type": "code",
   "execution_count": 166,
   "metadata": {
    "id": "Tj2syesEL6l7"
   },
   "outputs": [
    {
     "data": {
      "text/plain": [
       "2.886751345948129"
      ]
     },
     "execution_count": 166,
     "metadata": {},
     "output_type": "execute_result"
    }
   ],
   "source": [
    "stcs.stdev(list_of_x)"
   ]
  },
  {
   "cell_type": "markdown",
   "metadata": {
    "id": "fw76rvGUqMwp"
   },
   "source": [
    "### 3. [\"random\" module methods](https://docs.python.org/3/library/random.html)"
   ]
  },
  {
   "cell_type": "code",
   "execution_count": 167,
   "metadata": {
    "id": "Eo45Cb8qLi-c"
   },
   "outputs": [],
   "source": [
    "import random as rm"
   ]
  },
  {
   "cell_type": "code",
   "execution_count": 168,
   "metadata": {
    "id": "6StXp1PyGZTf"
   },
   "outputs": [
    {
     "data": {
      "text/plain": [
       "3"
      ]
     },
     "execution_count": 168,
     "metadata": {},
     "output_type": "execute_result"
    }
   ],
   "source": [
    "rm.randint(1, 100)"
   ]
  },
  {
   "cell_type": "code",
   "execution_count": 169,
   "metadata": {
    "id": "xR0i1PjxduAN"
   },
   "outputs": [],
   "source": [
    "# This does not work now. Why? Uncomment the line below and try to understand the problem.\n",
    "# random.randint(1, 100)"
   ]
  },
  {
   "cell_type": "code",
   "execution_count": 170,
   "metadata": {
    "id": "Xkuj4V7Bdo--"
   },
   "outputs": [
    {
     "data": {
      "text/plain": [
       "25.563202762287087"
      ]
     },
     "execution_count": 170,
     "metadata": {},
     "output_type": "execute_result"
    }
   ],
   "source": [
    "rm.gauss(30, 10)"
   ]
  },
  {
   "cell_type": "code",
   "execution_count": 171,
   "metadata": {
    "id": "ZnWPm8jAdtQi"
   },
   "outputs": [],
   "source": [
    "# Uncomment the lines below one by one. Try to see what works when.\n",
    "#help(rm.gauss)\n",
    "#help(random.gauss)"
   ]
  }
 ],
 "metadata": {
  "colab": {
   "collapsed_sections": [],
   "name": "lecture_b.ipynb",
   "provenance": [],
   "toc_visible": true
  },
  "kernelspec": {
   "display_name": "Python 3 (ipykernel)",
   "language": "python",
   "name": "python3"
  },
  "language_info": {
   "codemirror_mode": {
    "name": "ipython",
    "version": 3
   },
   "file_extension": ".py",
   "mimetype": "text/x-python",
   "name": "python",
   "nbconvert_exporter": "python",
   "pygments_lexer": "ipython3",
   "version": "3.9.10"
  }
 },
 "nbformat": 4,
 "nbformat_minor": 4
}
